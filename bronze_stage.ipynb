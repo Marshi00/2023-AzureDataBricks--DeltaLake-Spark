{
 "cells": [
  {
   "cell_type": "markdown",
   "source": [
    "# Bronze Stage , Saving Files in Delta"
   ],
   "metadata": {
    "collapsed": false,
    "pycharm": {
     "name": "#%% md\n"
    }
   }
  },
  {
   "cell_type": "markdown",
   "source": [
    "## Payments CSV"
   ],
   "metadata": {
    "collapsed": false,
    "pycharm": {
     "name": "#%% md\n"
    }
   }
  },
  {
   "cell_type": "code",
   "execution_count": null,
   "outputs": [],
   "source": [
    "df = spark.read.format(\"csv\")\n",
    "    .option(\"inferSchema\", \"false\")\n",
    "    .option(\"header\", \"true\")\n",
    "    .option(\"sep\", \",\")\n",
    "    .load(\"/csv_data/payments.csv\")\n",
    "\n",
    "df.write.format(\"delta\").mode(\"overwrite\")\n",
    "    .save(\"delta/bronze_payments\")"
   ],
   "metadata": {
    "collapsed": false,
    "pycharm": {
     "name": "#%%\n"
    }
   }
  },
  {
   "cell_type": "markdown",
   "source": [],
   "metadata": {
    "collapsed": false,
    "pycharm": {
     "name": "#%% md\n"
    }
   }
  },
  {
   "cell_type": "markdown",
   "source": [
    "## Trips CSV"
   ],
   "metadata": {
    "collapsed": false,
    "pycharm": {
     "name": "#%% md\n"
    }
   }
  },
  {
   "cell_type": "code",
   "execution_count": null,
   "outputs": [],
   "source": [
    "df = spark.read.format(\"csv\")\n",
    ".option(\"inferSchema\", \"false\")\n",
    ".option(\"header\", \"true\")\n",
    ".option(\"sep\", \",\")\n",
    ".load(\"/csv_data/trips.csv\")\n",
    "\n",
    "df.write.format(\"delta\").mode(\"overwrite\")\n",
    ".save(\"delta/bronze_trips\")"
   ],
   "metadata": {
    "collapsed": false,
    "pycharm": {
     "name": "#%%\n"
    }
   }
  },
  {
   "cell_type": "markdown",
   "source": [
    "## Stations CSV"
   ],
   "metadata": {
    "collapsed": false,
    "pycharm": {
     "name": "#%% md\n"
    }
   }
  },
  {
   "cell_type": "code",
   "execution_count": null,
   "outputs": [],
   "source": [
    "df = spark.read.format(\"csv\")\n",
    ".option(\"inferSchema\", \"false\")\n",
    ".option(\"header\", \"true\")\n",
    ".option(\"sep\", \",\")\n",
    ".load(\"/csv_data/stations.csv\")\n",
    "\n",
    "df.write.format(\"delta\").mode(\"overwrite\")\n",
    ".save(\"delta/bronze_trips\")"
   ],
   "metadata": {
    "collapsed": false,
    "pycharm": {
     "name": "#%%\n"
    }
   }
  },
  {
   "cell_type": "markdown",
   "source": [
    "## Riders CSV"
   ],
   "metadata": {
    "collapsed": false,
    "pycharm": {
     "name": "#%% md\n"
    }
   }
  },
  {
   "cell_type": "code",
   "execution_count": null,
   "outputs": [],
   "source": [
    "df = spark.read.format(\"csv\")\n",
    ".option(\"inferSchema\", \"false\")\n",
    ".option(\"header\", \"true\")\n",
    ".option(\"sep\", \",\")\n",
    ".load(\"/csv_data/riders.csv\")\n",
    "\n",
    "df.write.format(\"delta\").mode(\"overwrite\")\n",
    ".save(\"delta/bronze_riders\")"
   ],
   "metadata": {
    "collapsed": false,
    "pycharm": {
     "name": "#%%\n"
    }
   }
  }
 ],
 "metadata": {
  "kernelspec": {
   "display_name": "Python 3",
   "language": "python",
   "name": "python3"
  },
  "language_info": {
   "codemirror_mode": {
    "name": "ipython",
    "version": 2
   },
   "file_extension": ".py",
   "mimetype": "text/x-python",
   "name": "python",
   "nbconvert_exporter": "python",
   "pygments_lexer": "ipython2",
   "version": "2.7.6"
  }
 },
 "nbformat": 4,
 "nbformat_minor": 0
}