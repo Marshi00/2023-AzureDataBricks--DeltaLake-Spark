{
 "cells": [
  {
   "cell_type": "markdown",
   "source": [
    "# Gold Stage ! Star Schema & optimized"
   ],
   "metadata": {
    "collapsed": false,
    "pycharm": {
     "name": "#%% md\n"
    }
   }
  },
  {
   "cell_type": "markdown",
   "source": [
    "# fact Trip\n",
    "## Merge the trip, dimDate (twice), and dimRiders data frames based on the required columns. Here is an example:"
   ],
   "metadata": {
    "collapsed": false,
    "pycharm": {
     "name": "#%% md\n"
    }
   }
  },
  {
   "cell_type": "code",
   "execution_count": null,
   "outputs": [],
   "source": [
    "merged_df = pd.merge(trip_df[['trip_id', 'rideable_type', 'start_at', 'ended_at', 'start_station_id', 'end_station_id', 'rider_id']],\n",
    "                     dim_date_df[['DateTime']],\n",
    "                     left_on='start_at', right_on='DateTime', how='inner')\n",
    "merged_df = pd.merge(merged_df, dim_date_df[['DateTime']],\n",
    "                     left_on='ended_at', right_on='DateTime', how='inner')\n",
    "merged_df = pd.merge(merged_df, dim_riders_df[['rider_key', 'birthday']],\n",
    "                     left_on='rider_id', right_on='rider_key', how='inner')"
   ],
   "metadata": {
    "collapsed": false,
    "pycharm": {
     "name": "#%%\n"
    }
   }
  },
  {
   "cell_type": "markdown",
   "source": [
    "## Convert the 'start_at' and 'ended_at' columns to datetime objects, and create a new column for age:"
   ],
   "metadata": {
    "collapsed": false,
    "pycharm": {
     "name": "#%% md\n"
    }
   }
  },
  {
   "cell_type": "code",
   "execution_count": null,
   "outputs": [],
   "source": [
    "merged_df['start_at'] = pd.to_datetime(merged_df['start_at'])\n",
    "merged_df['ended_at'] = pd.to_datetime(merged_df['ended_at'])\n",
    "merged_df['age'] = (merged_df['start_at'] - pd.to_datetime(merged_df['birthday'])).astype('<m8[Y]')\n"
   ],
   "metadata": {
    "collapsed": false,
    "pycharm": {
     "name": "#%%\n"
    }
   }
  },
  {
   "cell_type": "code",
   "execution_count": null,
   "outputs": [],
   "source": [
    "ffrom pyspark.sql.functions import udf\n",
    "from pyspark.sql.types import IntegerType\n",
    "from datetime import datetime\n",
    "\n",
    "# Define a UDF to calculate age from birth year\n",
    "def calculate_age(dob, started_at):\n",
    "    anniversary_date = datetime(started_at.year, dob.month, dob.day)\n",
    "    age = started_at.year - dob.year - ((started_at < anniversary_date))\n",
    "    return age\n",
    "\n",
    "# Register the UDF\n",
    "calculate_age_udf = udf(lambda dob, started_at: calculate_age(dob, started_at), IntegerType())\n",
    "\n",
    "# Apply the UDF to the dob column and store the result in a new column called age\n",
    "df = df.withColumn('age', calculate_age_udf(df.dob, df.started_at))\n",
    "\n"
   ],
   "metadata": {
    "collapsed": false,
    "pycharm": {
     "name": "#%%\n"
    }
   }
  },
  {
   "cell_type": "markdown",
   "source": [
    "# Create a new column for trip duration:"
   ],
   "metadata": {
    "collapsed": false,
    "pycharm": {
     "name": "#%% md\n"
    }
   }
  },
  {
   "cell_type": "code",
   "execution_count": null,
   "outputs": [],
   "source": [
    "merged_df['trip_duration'] = merged_df['ended_at'] - merged_df['start_at']\n"
   ],
   "metadata": {
    "collapsed": false,
    "pycharm": {
     "name": "#%%\n"
    }
   }
  },
  {
   "cell_type": "markdown",
   "source": [
    "# Rename the 'DateTime' columns to 'start_date_id' and 'ended_date_id', and select the required columns:\n"
   ],
   "metadata": {
    "collapsed": false,
    "pycharm": {
     "name": "#%% md\n"
    }
   }
  },
  {
   "cell_type": "code",
   "execution_count": null,
   "outputs": [],
   "source": [
    "merged_df = merged_df.rename(columns={'DateTime_x': 'start_date_id', 'DateTime_y': 'ended_date_id'})\n",
    "fact_trip_df = merged_df[['trip_id', 'rideable_type', 'start_date_id', 'ended_date_id', 'start_station_id', 'end_station_id', 'rider_id', 'age', 'trip_duration']]\n"
   ],
   "metadata": {
    "collapsed": false,
    "pycharm": {
     "name": "#%%\n"
    }
   }
  },
  {
   "cell_type": "markdown",
   "source": [
    "# Set 'trip_id' as the index of the new data frame:"
   ],
   "metadata": {
    "collapsed": false,
    "pycharm": {
     "name": "#%% md\n"
    }
   }
  },
  {
   "cell_type": "code",
   "execution_count": null,
   "outputs": [],
   "source": [
    "fact_trip_df.set_index('trip_id', inplace=True)\n"
   ],
   "metadata": {
    "collapsed": false,
    "pycharm": {
     "name": "#%%\n"
    }
   }
  },
  {
   "cell_type": "markdown",
   "source": [
    "# Riders DF create"
   ],
   "metadata": {
    "collapsed": false,
    "pycharm": {
     "name": "#%% md\n"
    }
   }
  },
  {
   "cell_type": "code",
   "execution_count": null,
   "outputs": [],
   "source": [
    "data = {\n",
    "    'rider_key': [],\n",
    "    'first_name': [],\n",
    "    'last_name': [],\n",
    "    'address': [],\n",
    "    'birthday': [],\n",
    "    'account_start_date': [],\n",
    "    'account_end_date': [],\n",
    "    'is_member': []\n",
    "}\n",
    "\n",
    "df = pd.DataFrame(data)\n",
    "df['rider_key'] = df['rider_key'].astype('int32')\n",
    "df['first_name'] = df['first_name'].astype('str')\n",
    "df['last_name'] = df['last_name'].astype('str')\n",
    "df['address'] = df['address'].astype('str')\n",
    "df['birthday'] = pd.to_datetime(df['birthday'])\n",
    "df['account_start_date'] = pd.to_datetime(df['account_start_date'])\n",
    "df['account_end_date'] = pd.to_datetime(df['account_end_date'])\n",
    "df['is_member'] = df['is_member'].astype('bool')\n",
    "df.set_index('rider_key', inplace=True)\n"
   ],
   "metadata": {
    "collapsed": false,
    "pycharm": {
     "name": "#%%\n"
    }
   }
  }
 ],
 "metadata": {
  "kernelspec": {
   "display_name": "Python 3",
   "language": "python",
   "name": "python3"
  },
  "language_info": {
   "codemirror_mode": {
    "name": "ipython",
    "version": 2
   },
   "file_extension": ".py",
   "mimetype": "text/x-python",
   "name": "python",
   "nbconvert_exporter": "python",
   "pygments_lexer": "ipython2",
   "version": "2.7.6"
  }
 },
 "nbformat": 4,
 "nbformat_minor": 0
}