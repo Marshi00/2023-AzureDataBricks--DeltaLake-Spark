{
 "cells": [
  {
   "cell_type": "markdown",
   "metadata": {
    "application/vnd.databricks.v1+cell": {
     "cellMetadata": {
      "byteLimit": 2048000,
      "rowLimit": 10000
     },
     "inputWidgets": {},
     "nuid": "344cca71-7cb4-4da9-ba42-44445954bca1",
     "showTitle": false,
     "title": ""
    },
    "collapsed": false,
    "pycharm": {
     "name": "#%% md\n"
    }
   },
   "source": [
    "# Gold Stage ! Ster Schema  + Calendar Table Range"
   ]
  },
  {
   "cell_type": "code",
   "execution_count": 0,
   "metadata": {
    "application/vnd.databricks.v1+cell": {
     "cellMetadata": {
      "byteLimit": 2048000,
      "rowLimit": 10000
     },
     "inputWidgets": {},
     "nuid": "1975f64d-885b-4614-a1e2-32524594434b",
     "showTitle": false,
     "title": ""
    },
    "collapsed": false,
    "pycharm": {
     "name": "#%%\n"
    }
   },
   "outputs": [],
   "source": [
    "from pyspark.sql.functions import min, max, col\n",
    "from pyspark.sql.functions import *\n",
    "from pyspark.sql.types import StructType, StructField, IntegerType, StringType, BooleanType, DateType, TimestampType, FloatType\n",
    "from pyspark.sql.functions import udf\n",
    "import pandas as pd\n",
    "import numpy as np"
   ]
  },
  {
   "cell_type": "markdown",
   "metadata": {
    "application/vnd.databricks.v1+cell": {
     "cellMetadata": {
      "byteLimit": 2048000,
      "rowLimit": 10000
     },
     "inputWidgets": {},
     "nuid": "404f8a4e-816a-4fbe-ae6e-fe7e5726c65b",
     "showTitle": false,
     "title": ""
    },
    "pycharm": {
     "name": "#%% md\n"
    }
   },
   "source": [
    "## LOAD Silver Data"
   ]
  },
  {
   "cell_type": "code",
   "execution_count": 0,
   "metadata": {
    "application/vnd.databricks.v1+cell": {
     "cellMetadata": {
      "byteLimit": 2048000,
      "rowLimit": 10000
     },
     "inputWidgets": {},
     "nuid": "fb2025e6-9819-4e7c-b9ca-ef8d58c313b8",
     "showTitle": false,
     "title": ""
    },
    "pycharm": {
     "name": "#%%\n"
    }
   },
   "outputs": [],
   "source": [
    "df_silver_rider = spark.table(\"default.silver_riders\")"
   ]
  },
  {
   "cell_type": "code",
   "execution_count": 0,
   "metadata": {
    "application/vnd.databricks.v1+cell": {
     "cellMetadata": {
      "byteLimit": 2048000,
      "rowLimit": 10000
     },
     "inputWidgets": {},
     "nuid": "3dc112f4-cd6e-4f31-8a1d-49f37ac29c44",
     "showTitle": false,
     "title": ""
    },
    "pycharm": {
     "name": "#%%\n"
    }
   },
   "outputs": [],
   "source": [
    "df_silver_station = spark.table(\"default.silver_stations\")"
   ]
  },
  {
   "cell_type": "code",
   "execution_count": 0,
   "metadata": {
    "application/vnd.databricks.v1+cell": {
     "cellMetadata": {
      "byteLimit": 2048000,
      "rowLimit": 10000
     },
     "inputWidgets": {},
     "nuid": "1929862f-976e-44dc-a84d-42584878c650",
     "showTitle": false,
     "title": ""
    },
    "pycharm": {
     "name": "#%%\n"
    }
   },
   "outputs": [],
   "source": [
    "df_silver_trip = spark.table(\"default.silver_trips\")"
   ]
  },
  {
   "cell_type": "code",
   "execution_count": 0,
   "metadata": {
    "application/vnd.databricks.v1+cell": {
     "cellMetadata": {
      "byteLimit": 2048000,
      "rowLimit": 10000
     },
     "inputWidgets": {},
     "nuid": "f70e2018-cf00-428b-9345-0aaa224d17b8",
     "showTitle": false,
     "title": ""
    },
    "pycharm": {
     "name": "#%%\n"
    }
   },
   "outputs": [],
   "source": [
    "df_silver_payments = spark.table(\"default.silver_payments\")"
   ]
  },
  {
   "cell_type": "markdown",
   "metadata": {
    "application/vnd.databricks.v1+cell": {
     "cellMetadata": {
      "byteLimit": 2048000,
      "rowLimit": 10000
     },
     "inputWidgets": {},
     "nuid": "6c68e867-41fd-4c38-9386-c0010cbc1ee3",
     "showTitle": false,
     "title": ""
    },
    "pycharm": {
     "name": "#%% md\n"
    }
   },
   "source": [
    "# Calendar Table DIM DF"
   ]
  },
  {
   "cell_type": "markdown",
   "metadata": {
    "application/vnd.databricks.v1+cell": {
     "cellMetadata": {
      "byteLimit": 2048000,
      "rowLimit": 10000
     },
     "inputWidgets": {},
     "nuid": "04c820c4-0799-4c75-aa8b-d402510bd95e",
     "showTitle": false,
     "title": ""
    },
    "pycharm": {
     "name": "#%% md\n"
    }
   },
   "source": [
    "## Range of Calendar Table"
   ]
  },
  {
   "cell_type": "code",
   "execution_count": 0,
   "metadata": {
    "application/vnd.databricks.v1+cell": {
     "cellMetadata": {
      "byteLimit": 2048000,
      "rowLimit": 10000
     },
     "inputWidgets": {},
     "nuid": "9e4d9386-eb6e-42e1-bb6f-e6434aa03c2d",
     "showTitle": false,
     "title": ""
    },
    "pycharm": {
     "name": "#%%\n"
    }
   },
   "outputs": [
    {
     "output_type": "stream",
     "name": "stdout",
     "text": [
      "[Row(min(date)=datetime.date(2013, 2, 1), max(date)=datetime.date(2022, 2, 1))]\n[Row(min(started_at)=datetime.datetime(2022, 1, 1, 0, 0), max(ended_at)=datetime.datetime(2022, 12, 31, 23, 0, 0, 58000))]\n"
     ]
    }
   ],
   "source": [
    "spark.conf.set(\"spark.sql.legacy.timeParserPolicy\", \"LEGACY\")\n",
    "# Get min and max for our Calendar Table\n",
    "\n",
    "\n",
    "# Print the minimum and maximum values of the \"date\" column in the \"df_silver_payments\" DataFrame\n",
    "print(df_silver_payments.select(min(\"date\"), max(\"date\")).collect())\n",
    "\n",
    "# Print the minimum value of the \"start_at\" column and the maximum value of the \"ended_at\" column in the \"df_silver_trip\" DataFrame\n",
    "print(df_silver_trip.select(min(\"started_at\"), max(\"ended_at\")).collect())\n",
    "\n"
   ]
  },
  {
   "cell_type": "code",
   "execution_count": 0,
   "metadata": {
    "application/vnd.databricks.v1+cell": {
     "cellMetadata": {
      "byteLimit": 2048000,
      "rowLimit": 10000
     },
     "inputWidgets": {},
     "nuid": "b39dd45e-cdec-45ea-acaf-1e18566cd087",
     "showTitle": false,
     "title": ""
    },
    "pycharm": {
     "name": "#%%\n"
    }
   },
   "outputs": [],
   "source": [
    "#function to Produce the Dimension Calendar Table\n",
    "def dimension_datetime_frame(start='2013-01-01', end='2013-12-31'):\n",
    "    \"\"\" Return a ready  Dimension Calendar Table frame with precision of seconds\"\"\"\n",
    "    df = pd.DataFrame({\"DateTime\": pd.date_range(start=start, end=end, freq=\"S\")})\n",
    "    df[\"second\"] = df.DateTime.dt.second\n",
    "    df[\"minute\"] = df.DateTime.dt.minute\n",
    "    df[\"hour\"] = df.DateTime.dt.hour\n",
    "    df[\"day\"] = df.DateTime.dt.day\n",
    "    df[\"dayofweek\"] = df.DateTime.dt.dayofweek\n",
    "    df[\"is_weekend\"]= df.DateTime.dt.dayofweek > 4\n",
    "    df[\"month\"] = df.DateTime.dt.month\n",
    "    df[\"Quarter\"] = df.DateTime.dt.quarter\n",
    "    df[\"Year\"] = df.DateTime.dt.year\n",
    "    return df"
   ]
  },
  {
   "cell_type": "code",
   "execution_count": 0,
   "metadata": {
    "application/vnd.databricks.v1+cell": {
     "cellMetadata": {
      "byteLimit": 2048000,
      "rowLimit": 10000
     },
     "inputWidgets": {},
     "nuid": "1f6638d8-193c-4970-944d-1adb590bd2f9",
     "showTitle": false,
     "title": ""
    },
    "pycharm": {
     "name": "#%%\n"
    }
   },
   "outputs": [],
   "source": [
    "calendar_df = dimension_datetime_frame()"
   ]
  },
  {
   "cell_type": "code",
   "execution_count": 0,
   "metadata": {
    "application/vnd.databricks.v1+cell": {
     "cellMetadata": {
      "byteLimit": 2048000,
      "rowLimit": 10000
     },
     "inputWidgets": {},
     "nuid": "71f6f425-cc3b-4580-b0c3-58c84c6afa4b",
     "showTitle": false,
     "title": ""
    },
    "pycharm": {
     "name": "#%%\n"
    }
   },
   "outputs": [
    {
     "output_type": "stream",
     "name": "stdout",
     "text": [
      "<class 'pandas.core.frame.DataFrame'>\nRangeIndex: 31449601 entries, 0 to 31449600\nData columns (total 10 columns):\n #   Column      Dtype         \n---  ------      -----         \n 0   DateTime    datetime64[ns]\n 1   second      int64         \n 2   minute      int64         \n 3   hour        int64         \n 4   day         int64         \n 5   dayofweek   int64         \n 6   is_weekend  bool          \n 7   month       int64         \n 8   Quarter     int64         \n 9   Year        int64         \ndtypes: bool(1), datetime64[ns](1), int64(8)\nmemory usage: 2.1 GB\n"
     ]
    }
   ],
   "source": [
    "calendar_df.info()"
   ]
  },
  {
   "cell_type": "code",
   "execution_count": 0,
   "metadata": {
    "application/vnd.databricks.v1+cell": {
     "cellMetadata": {
      "byteLimit": 2048000,
      "rowLimit": 10000
     },
     "inputWidgets": {},
     "nuid": "2ef6c6c9-8f61-4441-a0ee-9d5e40ee0cb3",
     "showTitle": false,
     "title": ""
    },
    "pycharm": {
     "name": "#%%\n"
    }
   },
   "outputs": [],
   "source": [
    "calendar_df = spark.createDataFrame(calendar_df)"
   ]
  },
  {
   "cell_type": "code",
   "execution_count": 0,
   "metadata": {
    "application/vnd.databricks.v1+cell": {
     "cellMetadata": {
      "byteLimit": 2048000,
      "rowLimit": 10000
     },
     "inputWidgets": {},
     "nuid": "3ba2f9ea-558d-4c81-a1a7-5b804e58b360",
     "showTitle": false,
     "title": ""
    },
    "pycharm": {
     "name": "#%%\n"
    }
   },
   "outputs": [
    {
     "output_type": "stream",
     "name": "stdout",
     "text": [
      "root\n |-- DateTime: timestamp (nullable = true)\n |-- second: long (nullable = true)\n |-- minute: long (nullable = true)\n |-- hour: long (nullable = true)\n |-- day: long (nullable = true)\n |-- dayofweek: long (nullable = true)\n |-- is_weekend: boolean (nullable = true)\n |-- month: long (nullable = true)\n |-- Quarter: long (nullable = true)\n |-- Year: long (nullable = true)\n\n"
     ]
    }
   ],
   "source": [
    "calendar_df.printSchema()"
   ]
  },
  {
   "cell_type": "markdown",
   "metadata": {
    "application/vnd.databricks.v1+cell": {
     "cellMetadata": {
      "byteLimit": 2048000,
      "rowLimit": 10000
     },
     "inputWidgets": {},
     "nuid": "ec24e98b-9503-4e05-b7c0-4ffa2de9933d",
     "showTitle": false,
     "title": ""
    },
    "pycharm": {
     "name": "#%% md\n"
    }
   },
   "source": [
    "### Write to Tables"
   ]
  },
  {
   "cell_type": "code",
   "execution_count": 0,
   "metadata": {
    "application/vnd.databricks.v1+cell": {
     "cellMetadata": {
      "byteLimit": 2048000,
      "rowLimit": 10000
     },
     "inputWidgets": {},
     "nuid": "da03a92e-bd47-48b8-b3f3-4633186bd235",
     "showTitle": false,
     "title": ""
    },
    "pycharm": {
     "name": "#%%\n"
    }
   },
   "outputs": [
    {
     "output_type": "display_data",
     "data": {
      "text/html": [
       "<style scoped>\n  .ansiout {\n    display: block;\n    unicode-bidi: embed;\n    white-space: pre-wrap;\n    word-wrap: break-word;\n    word-break: break-all;\n    font-family: \"Source Code Pro\", \"Menlo\", monospace;;\n    font-size: 13px;\n    color: #555;\n    margin-left: 4px;\n    line-height: 19px;\n  }\n</style>"
      ]
     },
     "metadata": {
      "application/vnd.databricks.v1+output": {
       "arguments": {},
       "data": "",
       "errorSummary": "Command skipped",
       "errorTraceType": "html",
       "metadata": {},
       "type": "ipynbError"
      }
     }
    }
   ],
   "source": [
    "calendar_df.write.format(\"delta\") \\\n",
    "    .mode(\"overwrite\") \\\n",
    "    .saveAsTable(\"gold_dimDate\")"
   ]
  },
  {
   "cell_type": "markdown",
   "metadata": {
    "application/vnd.databricks.v1+cell": {
     "cellMetadata": {
      "byteLimit": 2048000,
      "rowLimit": 10000
     },
     "inputWidgets": {},
     "nuid": "f92d2015-5b7f-432f-a577-05e8867d0924",
     "showTitle": false,
     "title": ""
    },
    "collapsed": false,
    "pycharm": {
     "name": "#%% md\n"
    }
   },
   "source": [
    "## Riders dim DF"
   ]
  },
  {
   "cell_type": "code",
   "execution_count": 0,
   "metadata": {
    "application/vnd.databricks.v1+cell": {
     "cellMetadata": {
      "byteLimit": 2048000,
      "rowLimit": 10000
     },
     "inputWidgets": {},
     "nuid": "0a4e1ecc-4cfe-4cf3-80fd-a707e5e8ee9e",
     "showTitle": false,
     "title": ""
    },
    "collapsed": false,
    "pycharm": {
     "name": "#%%\n"
    }
   },
   "outputs": [],
   "source": [
    "# Define the schema for the riders dimension table\n",
    "schema = StructType([\n",
    "    StructField(\"rider_key\", IntegerType(), True),\n",
    "    StructField(\"first_name\", StringType(), True),\n",
    "    StructField(\"last_name\", StringType(), True),\n",
    "    StructField(\"address\", StringType(), True),\n",
    "    StructField(\"birthday\", DateType(), True),\n",
    "    StructField(\"account_start_date\", TimestampType(), True),\n",
    "    StructField(\"account_end_date\", TimestampType(), True),\n",
    "    StructField(\"is_member\", BooleanType(), True)\n",
    "])\n",
    "\n",
    "# Create an empty DataFrame with the defined schema\n",
    "df_dim_riders = spark.createDataFrame([], schema)\n",
    "\n"
   ]
  },
  {
   "cell_type": "markdown",
   "metadata": {
    "application/vnd.databricks.v1+cell": {
     "cellMetadata": {
      "byteLimit": 2048000,
      "rowLimit": 10000
     },
     "inputWidgets": {},
     "nuid": "5aabc77f-10f2-4d7a-b273-88e585ad7c9e",
     "showTitle": false,
     "title": ""
    },
    "collapsed": false,
    "pycharm": {
     "name": "#%% md\n"
    }
   },
   "source": [
    "### Concat"
   ]
  },
  {
   "cell_type": "code",
   "execution_count": 0,
   "metadata": {
    "application/vnd.databricks.v1+cell": {
     "cellMetadata": {
      "byteLimit": 2048000,
      "rowLimit": 10000
     },
     "inputWidgets": {},
     "nuid": "3110ce01-3acc-4748-a342-1fb950b80530",
     "showTitle": false,
     "title": ""
    },
    "collapsed": false,
    "pycharm": {
     "name": "#%%\n"
    }
   },
   "outputs": [],
   "source": [
    "df_dim_riders = df_dim_riders.union(df_silver_rider.select(\n",
    "    col('rider_id').alias('rider_key'), \n",
    "    col('first').alias('first_name'), \n",
    "    col('last').alias('last_name'), \n",
    "    col('address'), \n",
    "    col('birthday'), \n",
    "    col('account_start_date').alias('account_start_date'), \n",
    "    col('account_end_date').alias('account_end_date'), \n",
    "    col('is_member')\n",
    "))\n"
   ]
  },
  {
   "cell_type": "code",
   "execution_count": 0,
   "metadata": {
    "application/vnd.databricks.v1+cell": {
     "cellMetadata": {
      "byteLimit": 2048000,
      "rowLimit": 10000
     },
     "inputWidgets": {},
     "nuid": "c1dcb500-30d7-4322-8ced-c3a3bd27afe7",
     "showTitle": false,
     "title": ""
    },
    "collapsed": false,
    "pycharm": {
     "name": "#%%\n"
    }
   },
   "outputs": [
    {
     "output_type": "display_data",
     "data": {
      "text/html": [
       "<style scoped>\n  .table-result-container {\n    max-height: 300px;\n    overflow: auto;\n  }\n  table, th, td {\n    border: 1px solid black;\n    border-collapse: collapse;\n  }\n  th, td {\n    padding: 5px;\n  }\n  th {\n    text-align: left;\n  }\n</style><div class='table-result-container'><table class='table-result'><thead style='background-color: white'><tr><th>rider_key</th><th>first_name</th><th>last_name</th><th>address</th><th>birthday</th><th>account_start_date</th><th>account_end_date</th><th>is_member</th></tr></thead><tbody><tr><td>1000</td><td>Kimberly</td><td>Williams</td><td>1200 Alyssa Squares</td><td>1988-03-28</td><td>2019-04-23T00:00:00.000+0000</td><td>null</td><td>true</td></tr><tr><td>1001</td><td>Anthony</td><td>Erickson</td><td>397 Diana Ferry</td><td>1976-12-04</td><td>2019-11-01T00:00:00.000+0000</td><td>2020-09-01T00:00:00.000+0000</td><td>true</td></tr><tr><td>1002</td><td>Jessica</td><td>Roach</td><td>644 Brittany Row Apt. 097</td><td>1998-03-28</td><td>2022-02-04T00:00:00.000+0000</td><td>null</td><td>true</td></tr><tr><td>1003</td><td>Andrew</td><td>Ryan</td><td>996 Dickerson Turnpike</td><td>1999-03-05</td><td>2019-08-26T00:00:00.000+0000</td><td>null</td><td>false</td></tr><tr><td>1004</td><td>Ian</td><td>Peters</td><td>7009 Nathan Expressway</td><td>1969-06-25</td><td>2019-09-14T00:00:00.000+0000</td><td>null</td><td>true</td></tr><tr><td>1005</td><td>Michael</td><td>Gillespie</td><td>224 Washington Mills Apt. 467</td><td>1974-09-28</td><td>2020-03-24T00:00:00.000+0000</td><td>null</td><td>false</td></tr><tr><td>1006</td><td>Ryan</td><td>Peters</td><td>1137 Angela Locks</td><td>2003-07-10</td><td>2020-11-27T00:00:00.000+0000</td><td>2021-06-01T00:00:00.000+0000</td><td>true</td></tr><tr><td>1007</td><td>Crystal</td><td>Sanchez</td><td>979 Phillips Ways</td><td>1987-10-15</td><td>2016-12-11T00:00:00.000+0000</td><td>null</td><td>false</td></tr><tr><td>1008</td><td>David</td><td>Hicks</td><td>7691 Evans Court</td><td>1986-07-12</td><td>2021-03-28T00:00:00.000+0000</td><td>2021-04-01T00:00:00.000+0000</td><td>true</td></tr><tr><td>1009</td><td>Daniel</td><td>Hicks</td><td>9922 Jim Crest Apt. 319</td><td>1981-02-14</td><td>2020-06-12T00:00:00.000+0000</td><td>2021-02-01T00:00:00.000+0000</td><td>true</td></tr><tr><td>1010</td><td>Ashley</td><td>Webster</td><td>92973 Mary Ville</td><td>1996-10-31</td><td>2019-12-27T00:00:00.000+0000</td><td>null</td><td>true</td></tr><tr><td>1011</td><td>Rachel</td><td>Mills</td><td>950 Grimes Burg Apt. 679</td><td>1984-08-09</td><td>2017-05-20T00:00:00.000+0000</td><td>null</td><td>true</td></tr><tr><td>1012</td><td>Mark</td><td>Day</td><td>65532 Davis Springs Apt. 363</td><td>1980-05-06</td><td>2021-10-16T00:00:00.000+0000</td><td>null</td><td>true</td></tr><tr><td>1013</td><td>Corey</td><td>Stafford</td><td>7757 Johnston Roads</td><td>1986-01-29</td><td>2020-12-28T00:00:00.000+0000</td><td>2021-08-01T00:00:00.000+0000</td><td>true</td></tr><tr><td>1014</td><td>Debra</td><td>Wilson</td><td>501 Arellano Land</td><td>1989-09-14</td><td>2017-11-24T00:00:00.000+0000</td><td>null</td><td>true</td></tr><tr><td>1015</td><td>Kristin</td><td>Hunt</td><td>3710 Rodriguez Glen Apt. 324</td><td>2001-08-23</td><td>2017-07-10T00:00:00.000+0000</td><td>null</td><td>true</td></tr><tr><td>1016</td><td>Misty</td><td>Scott</td><td>72226 Casey Square</td><td>1991-10-30</td><td>2022-02-02T00:00:00.000+0000</td><td>null</td><td>true</td></tr><tr><td>1017</td><td>Jason</td><td>Mcpherson</td><td>40395 Terrell Parks</td><td>1982-01-29</td><td>2019-03-11T00:00:00.000+0000</td><td>null</td><td>true</td></tr><tr><td>1018</td><td>Brandon</td><td>Hall</td><td>3514 Leslie Vista</td><td>1986-12-15</td><td>2021-07-25T00:00:00.000+0000</td><td>null</td><td>false</td></tr><tr><td>1019</td><td>David</td><td>Thompson</td><td>00348 Brandi Parks Suite 405</td><td>1997-07-01</td><td>2021-07-10T00:00:00.000+0000</td><td>2021-08-01T00:00:00.000+0000</td><td>false</td></tr><tr><td>1020</td><td>Ana</td><td>Williamson</td><td>3718 Raymond Meadows Suite 513</td><td>1984-08-14</td><td>2020-01-16T00:00:00.000+0000</td><td>null</td><td>true</td></tr><tr><td>1021</td><td>Amanda</td><td>Klein</td><td>461 Stewart Square</td><td>1978-08-02</td><td>2019-09-23T00:00:00.000+0000</td><td>2021-07-01T00:00:00.000+0000</td><td>false</td></tr><tr><td>1022</td><td>Amber</td><td>Acosta</td><td>94757 Parrish Flats Apt. 339</td><td>1974-10-29</td><td>2018-10-06T00:00:00.000+0000</td><td>null</td><td>true</td></tr><tr><td>1023</td><td>Madison</td><td>Flores</td><td>07681 Christine Neck</td><td>1993-09-02</td><td>2018-12-25T00:00:00.000+0000</td><td>null</td><td>true</td></tr><tr><td>1024</td><td>Christopher</td><td>Hale</td><td>546 Smith Roads Apt. 088</td><td>2000-12-03</td><td>2021-03-24T00:00:00.000+0000</td><td>null</td><td>true</td></tr><tr><td>1025</td><td>Christopher</td><td>Sanders</td><td>5182 Michelle Place Apt. 142</td><td>2004-08-23</td><td>2020-05-01T00:00:00.000+0000</td><td>null</td><td>false</td></tr><tr><td>1026</td><td>Steven</td><td>Cervantes</td><td>57571 Bowman Fall</td><td>1989-01-22</td><td>2021-11-25T00:00:00.000+0000</td><td>null</td><td>true</td></tr><tr><td>1027</td><td>Carrie</td><td>Jones</td><td>31995 Pham Fork Apt. 606</td><td>1986-08-05</td><td>2021-11-12T00:00:00.000+0000</td><td>null</td><td>false</td></tr><tr><td>1028</td><td>Alice</td><td>Hernandez</td><td>36050 Khan Drive Suite 543</td><td>1987-10-21</td><td>2019-09-03T00:00:00.000+0000</td><td>null</td><td>false</td></tr><tr><td>1029</td><td>Mario</td><td>Griffith</td><td>5555 Melissa Freeway Apt. 083</td><td>2002-06-20</td><td>2020-10-12T00:00:00.000+0000</td><td>2021-10-01T00:00:00.000+0000</td><td>false</td></tr><tr><td>1030</td><td>Deborah</td><td>Adams</td><td>2722 Kaitlin Street Suite 253</td><td>2000-07-21</td><td>2021-02-09T00:00:00.000+0000</td><td>null</td><td>true</td></tr><tr><td>1031</td><td>Warren</td><td>Lynn</td><td>47822 Darrell Green</td><td>1986-11-23</td><td>2018-08-16T00:00:00.000+0000</td><td>null</td><td>true</td></tr><tr><td>1032</td><td>Michelle</td><td>Choi</td><td>364 Shane Vista Apt. 727</td><td>1986-01-02</td><td>2017-01-21T00:00:00.000+0000</td><td>null</td><td>true</td></tr><tr><td>1033</td><td>Patricia</td><td>Prince</td><td>414 Flores Bypass Apt. 047</td><td>1983-01-12</td><td>2021-07-28T00:00:00.000+0000</td><td>null</td><td>true</td></tr><tr><td>1034</td><td>David</td><td>Hall</td><td>9001 Carrie Alley</td><td>1988-07-14</td><td>2020-03-08T00:00:00.000+0000</td><td>null</td><td>false</td></tr><tr><td>1035</td><td>David</td><td>Richardson</td><td>4488 Martinez Shores Suite 012</td><td>2002-04-22</td><td>2020-08-07T00:00:00.000+0000</td><td>null</td><td>true</td></tr><tr><td>1036</td><td>Mark</td><td>Little</td><td>4724 Wyatt Trail</td><td>1993-05-19</td><td>2021-11-04T00:00:00.000+0000</td><td>2022-01-01T00:00:00.000+0000</td><td>true</td></tr><tr><td>1037</td><td>Shelly</td><td>Wolfe</td><td>532 Perry Land</td><td>1978-12-22</td><td>2017-01-28T00:00:00.000+0000</td><td>null</td><td>true</td></tr><tr><td>1038</td><td>Catherine</td><td>Anderson</td><td>52363 Shannon Glen</td><td>1984-12-06</td><td>2018-01-01T00:00:00.000+0000</td><td>null</td><td>true</td></tr><tr><td>1039</td><td>Trevor</td><td>Griffin</td><td>97840 Carla Loaf</td><td>1985-12-12</td><td>2021-12-14T00:00:00.000+0000</td><td>null</td><td>true</td></tr><tr><td>1040</td><td>Charles</td><td>Anderson</td><td>323 Matthew Flats</td><td>1996-06-08</td><td>2014-11-26T00:00:00.000+0000</td><td>null</td><td>true</td></tr><tr><td>1041</td><td>Tammy</td><td>Johnson</td><td>8022 Derrick Squares Apt. 303</td><td>1969-11-30</td><td>2015-12-13T00:00:00.000+0000</td><td>null</td><td>true</td></tr><tr><td>1042</td><td>Micheal</td><td>Washington</td><td>6803 Carter Court Apt. 453</td><td>1972-09-05</td><td>2017-10-11T00:00:00.000+0000</td><td>null</td><td>true</td></tr><tr><td>1043</td><td>Justin</td><td>Lewis</td><td>2657 Mccall Lane Apt. 502</td><td>1988-02-19</td><td>2014-12-20T00:00:00.000+0000</td><td>null</td><td>true</td></tr><tr><td>1044</td><td>Garrett</td><td>Rivers</td><td>92906 Jenkins Harbors Suite 482</td><td>1996-05-05</td><td>2021-07-16T00:00:00.000+0000</td><td>null</td><td>true</td></tr><tr><td>1045</td><td>Alexandra</td><td>Morgan</td><td>518 Travis Gateway</td><td>2005-01-09</td><td>2020-03-05T00:00:00.000+0000</td><td>null</td><td>true</td></tr><tr><td>1046</td><td>Patrick</td><td>Carrillo</td><td>351 Bill Curve</td><td>2005-03-05</td><td>2020-07-08T00:00:00.000+0000</td><td>null</td><td>true</td></tr><tr><td>1047</td><td>Julian</td><td>Castro</td><td>2639 Ronald Summit Apt. 385</td><td>1988-11-04</td><td>2021-02-23T00:00:00.000+0000</td><td>2021-09-01T00:00:00.000+0000</td><td>true</td></tr><tr><td>1048</td><td>John</td><td>Duncan</td><td>1028 Frederick Courts</td><td>1988-01-25</td><td>2017-03-26T00:00:00.000+0000</td><td>2018-07-01T00:00:00.000+0000</td><td>true</td></tr><tr><td>1049</td><td>Matthew</td><td>Evans</td><td>0840 Harper Extension</td><td>1994-06-03</td><td>2020-03-05T00:00:00.000+0000</td><td>null</td><td>true</td></tr></tbody></table></div>"
      ]
     },
     "metadata": {
      "application/vnd.databricks.v1+output": {
       "addedWidgets": {},
       "aggData": [],
       "aggError": "",
       "aggOverflow": false,
       "aggSchema": [],
       "aggSeriesLimitReached": false,
       "aggType": "",
       "arguments": {},
       "columnCustomDisplayInfos": {},
       "data": [
        [
         1000,
         "Kimberly",
         "Williams",
         "1200 Alyssa Squares",
         "1988-03-28",
         "2019-04-23T00:00:00.000+0000",
         null,
         true
        ],
        [
         1001,
         "Anthony",
         "Erickson",
         "397 Diana Ferry",
         "1976-12-04",
         "2019-11-01T00:00:00.000+0000",
         "2020-09-01T00:00:00.000+0000",
         true
        ],
        [
         1002,
         "Jessica",
         "Roach",
         "644 Brittany Row Apt. 097",
         "1998-03-28",
         "2022-02-04T00:00:00.000+0000",
         null,
         true
        ],
        [
         1003,
         "Andrew",
         "Ryan",
         "996 Dickerson Turnpike",
         "1999-03-05",
         "2019-08-26T00:00:00.000+0000",
         null,
         false
        ],
        [
         1004,
         "Ian",
         "Peters",
         "7009 Nathan Expressway",
         "1969-06-25",
         "2019-09-14T00:00:00.000+0000",
         null,
         true
        ],
        [
         1005,
         "Michael",
         "Gillespie",
         "224 Washington Mills Apt. 467",
         "1974-09-28",
         "2020-03-24T00:00:00.000+0000",
         null,
         false
        ],
        [
         1006,
         "Ryan",
         "Peters",
         "1137 Angela Locks",
         "2003-07-10",
         "2020-11-27T00:00:00.000+0000",
         "2021-06-01T00:00:00.000+0000",
         true
        ],
        [
         1007,
         "Crystal",
         "Sanchez",
         "979 Phillips Ways",
         "1987-10-15",
         "2016-12-11T00:00:00.000+0000",
         null,
         false
        ],
        [
         1008,
         "David",
         "Hicks",
         "7691 Evans Court",
         "1986-07-12",
         "2021-03-28T00:00:00.000+0000",
         "2021-04-01T00:00:00.000+0000",
         true
        ],
        [
         1009,
         "Daniel",
         "Hicks",
         "9922 Jim Crest Apt. 319",
         "1981-02-14",
         "2020-06-12T00:00:00.000+0000",
         "2021-02-01T00:00:00.000+0000",
         true
        ],
        [
         1010,
         "Ashley",
         "Webster",
         "92973 Mary Ville",
         "1996-10-31",
         "2019-12-27T00:00:00.000+0000",
         null,
         true
        ],
        [
         1011,
         "Rachel",
         "Mills",
         "950 Grimes Burg Apt. 679",
         "1984-08-09",
         "2017-05-20T00:00:00.000+0000",
         null,
         true
        ],
        [
         1012,
         "Mark",
         "Day",
         "65532 Davis Springs Apt. 363",
         "1980-05-06",
         "2021-10-16T00:00:00.000+0000",
         null,
         true
        ],
        [
         1013,
         "Corey",
         "Stafford",
         "7757 Johnston Roads",
         "1986-01-29",
         "2020-12-28T00:00:00.000+0000",
         "2021-08-01T00:00:00.000+0000",
         true
        ],
        [
         1014,
         "Debra",
         "Wilson",
         "501 Arellano Land",
         "1989-09-14",
         "2017-11-24T00:00:00.000+0000",
         null,
         true
        ],
        [
         1015,
         "Kristin",
         "Hunt",
         "3710 Rodriguez Glen Apt. 324",
         "2001-08-23",
         "2017-07-10T00:00:00.000+0000",
         null,
         true
        ],
        [
         1016,
         "Misty",
         "Scott",
         "72226 Casey Square",
         "1991-10-30",
         "2022-02-02T00:00:00.000+0000",
         null,
         true
        ],
        [
         1017,
         "Jason",
         "Mcpherson",
         "40395 Terrell Parks",
         "1982-01-29",
         "2019-03-11T00:00:00.000+0000",
         null,
         true
        ],
        [
         1018,
         "Brandon",
         "Hall",
         "3514 Leslie Vista",
         "1986-12-15",
         "2021-07-25T00:00:00.000+0000",
         null,
         false
        ],
        [
         1019,
         "David",
         "Thompson",
         "00348 Brandi Parks Suite 405",
         "1997-07-01",
         "2021-07-10T00:00:00.000+0000",
         "2021-08-01T00:00:00.000+0000",
         false
        ],
        [
         1020,
         "Ana",
         "Williamson",
         "3718 Raymond Meadows Suite 513",
         "1984-08-14",
         "2020-01-16T00:00:00.000+0000",
         null,
         true
        ],
        [
         1021,
         "Amanda",
         "Klein",
         "461 Stewart Square",
         "1978-08-02",
         "2019-09-23T00:00:00.000+0000",
         "2021-07-01T00:00:00.000+0000",
         false
        ],
        [
         1022,
         "Amber",
         "Acosta",
         "94757 Parrish Flats Apt. 339",
         "1974-10-29",
         "2018-10-06T00:00:00.000+0000",
         null,
         true
        ],
        [
         1023,
         "Madison",
         "Flores",
         "07681 Christine Neck",
         "1993-09-02",
         "2018-12-25T00:00:00.000+0000",
         null,
         true
        ],
        [
         1024,
         "Christopher",
         "Hale",
         "546 Smith Roads Apt. 088",
         "2000-12-03",
         "2021-03-24T00:00:00.000+0000",
         null,
         true
        ],
        [
         1025,
         "Christopher",
         "Sanders",
         "5182 Michelle Place Apt. 142",
         "2004-08-23",
         "2020-05-01T00:00:00.000+0000",
         null,
         false
        ],
        [
         1026,
         "Steven",
         "Cervantes",
         "57571 Bowman Fall",
         "1989-01-22",
         "2021-11-25T00:00:00.000+0000",
         null,
         true
        ],
        [
         1027,
         "Carrie",
         "Jones",
         "31995 Pham Fork Apt. 606",
         "1986-08-05",
         "2021-11-12T00:00:00.000+0000",
         null,
         false
        ],
        [
         1028,
         "Alice",
         "Hernandez",
         "36050 Khan Drive Suite 543",
         "1987-10-21",
         "2019-09-03T00:00:00.000+0000",
         null,
         false
        ],
        [
         1029,
         "Mario",
         "Griffith",
         "5555 Melissa Freeway Apt. 083",
         "2002-06-20",
         "2020-10-12T00:00:00.000+0000",
         "2021-10-01T00:00:00.000+0000",
         false
        ],
        [
         1030,
         "Deborah",
         "Adams",
         "2722 Kaitlin Street Suite 253",
         "2000-07-21",
         "2021-02-09T00:00:00.000+0000",
         null,
         true
        ],
        [
         1031,
         "Warren",
         "Lynn",
         "47822 Darrell Green",
         "1986-11-23",
         "2018-08-16T00:00:00.000+0000",
         null,
         true
        ],
        [
         1032,
         "Michelle",
         "Choi",
         "364 Shane Vista Apt. 727",
         "1986-01-02",
         "2017-01-21T00:00:00.000+0000",
         null,
         true
        ],
        [
         1033,
         "Patricia",
         "Prince",
         "414 Flores Bypass Apt. 047",
         "1983-01-12",
         "2021-07-28T00:00:00.000+0000",
         null,
         true
        ],
        [
         1034,
         "David",
         "Hall",
         "9001 Carrie Alley",
         "1988-07-14",
         "2020-03-08T00:00:00.000+0000",
         null,
         false
        ],
        [
         1035,
         "David",
         "Richardson",
         "4488 Martinez Shores Suite 012",
         "2002-04-22",
         "2020-08-07T00:00:00.000+0000",
         null,
         true
        ],
        [
         1036,
         "Mark",
         "Little",
         "4724 Wyatt Trail",
         "1993-05-19",
         "2021-11-04T00:00:00.000+0000",
         "2022-01-01T00:00:00.000+0000",
         true
        ],
        [
         1037,
         "Shelly",
         "Wolfe",
         "532 Perry Land",
         "1978-12-22",
         "2017-01-28T00:00:00.000+0000",
         null,
         true
        ],
        [
         1038,
         "Catherine",
         "Anderson",
         "52363 Shannon Glen",
         "1984-12-06",
         "2018-01-01T00:00:00.000+0000",
         null,
         true
        ],
        [
         1039,
         "Trevor",
         "Griffin",
         "97840 Carla Loaf",
         "1985-12-12",
         "2021-12-14T00:00:00.000+0000",
         null,
         true
        ],
        [
         1040,
         "Charles",
         "Anderson",
         "323 Matthew Flats",
         "1996-06-08",
         "2014-11-26T00:00:00.000+0000",
         null,
         true
        ],
        [
         1041,
         "Tammy",
         "Johnson",
         "8022 Derrick Squares Apt. 303",
         "1969-11-30",
         "2015-12-13T00:00:00.000+0000",
         null,
         true
        ],
        [
         1042,
         "Micheal",
         "Washington",
         "6803 Carter Court Apt. 453",
         "1972-09-05",
         "2017-10-11T00:00:00.000+0000",
         null,
         true
        ],
        [
         1043,
         "Justin",
         "Lewis",
         "2657 Mccall Lane Apt. 502",
         "1988-02-19",
         "2014-12-20T00:00:00.000+0000",
         null,
         true
        ],
        [
         1044,
         "Garrett",
         "Rivers",
         "92906 Jenkins Harbors Suite 482",
         "1996-05-05",
         "2021-07-16T00:00:00.000+0000",
         null,
         true
        ],
        [
         1045,
         "Alexandra",
         "Morgan",
         "518 Travis Gateway",
         "2005-01-09",
         "2020-03-05T00:00:00.000+0000",
         null,
         true
        ],
        [
         1046,
         "Patrick",
         "Carrillo",
         "351 Bill Curve",
         "2005-03-05",
         "2020-07-08T00:00:00.000+0000",
         null,
         true
        ],
        [
         1047,
         "Julian",
         "Castro",
         "2639 Ronald Summit Apt. 385",
         "1988-11-04",
         "2021-02-23T00:00:00.000+0000",
         "2021-09-01T00:00:00.000+0000",
         true
        ],
        [
         1048,
         "John",
         "Duncan",
         "1028 Frederick Courts",
         "1988-01-25",
         "2017-03-26T00:00:00.000+0000",
         "2018-07-01T00:00:00.000+0000",
         true
        ],
        [
         1049,
         "Matthew",
         "Evans",
         "0840 Harper Extension",
         "1994-06-03",
         "2020-03-05T00:00:00.000+0000",
         null,
         true
        ]
       ],
       "datasetInfos": [],
       "dbfsResultPath": null,
       "isJsonSchema": true,
       "metadata": {},
       "overflow": false,
       "plotOptions": {
        "customPlotOptions": {},
        "displayType": "table",
        "pivotAggregation": null,
        "pivotColumns": null,
        "xColumns": null,
        "yColumns": null
       },
       "removedWidgets": [],
       "schema": [
        {
         "metadata": "{}",
         "name": "rider_key",
         "type": "\"integer\""
        },
        {
         "metadata": "{}",
         "name": "first_name",
         "type": "\"string\""
        },
        {
         "metadata": "{}",
         "name": "last_name",
         "type": "\"string\""
        },
        {
         "metadata": "{}",
         "name": "address",
         "type": "\"string\""
        },
        {
         "metadata": "{}",
         "name": "birthday",
         "type": "\"date\""
        },
        {
         "metadata": "{}",
         "name": "account_start_date",
         "type": "\"timestamp\""
        },
        {
         "metadata": "{}",
         "name": "account_end_date",
         "type": "\"timestamp\""
        },
        {
         "metadata": "{}",
         "name": "is_member",
         "type": "\"boolean\""
        }
       ],
       "type": "table"
      }
     }
    },
    {
     "output_type": "stream",
     "name": "stdout",
     "text": [
      "root\n |-- rider_key: integer (nullable = true)\n |-- first_name: string (nullable = true)\n |-- last_name: string (nullable = true)\n |-- address: string (nullable = true)\n |-- birthday: date (nullable = true)\n |-- account_start_date: timestamp (nullable = true)\n |-- account_end_date: timestamp (nullable = true)\n |-- is_member: boolean (nullable = true)\n\n"
     ]
    }
   ],
   "source": [
    "df_dim_riders.display()\n",
    "df_dim_riders.printSchema()"
   ]
  },
  {
   "cell_type": "code",
   "execution_count": 0,
   "metadata": {
    "application/vnd.databricks.v1+cell": {
     "cellMetadata": {
      "byteLimit": 2048000,
      "rowLimit": 10000
     },
     "inputWidgets": {},
     "nuid": "faa84f5e-bf74-4eb4-8c96-e117ccefb076",
     "showTitle": false,
     "title": ""
    },
    "pycharm": {
     "name": "#%%\n"
    }
   },
   "outputs": [],
   "source": [
    "# Set the rider_key column as the DataFrame index\n",
    "df_dim_riders = df_dim_riders.withColumn(\"rider_key\", df_dim_riders[\"rider_key\"].cast(IntegerType()))\n",
    "df_dim_riders = df_dim_riders.orderBy('rider_key')\n",
    "df_dim_riders = df_dim_riders.dropDuplicates(['rider_key'])\n",
    "df_dim_riders = df_dim_riders.repartition('rider_key')"
   ]
  },
  {
   "cell_type": "code",
   "execution_count": 0,
   "metadata": {
    "application/vnd.databricks.v1+cell": {
     "cellMetadata": {
      "byteLimit": 2048000,
      "rowLimit": 10000
     },
     "inputWidgets": {},
     "nuid": "a9c0ef92-b4cd-4d01-9221-35c7fc9cba45",
     "showTitle": false,
     "title": ""
    },
    "pycharm": {
     "name": "#%%\n"
    }
   },
   "outputs": [
    {
     "output_type": "display_data",
     "data": {
      "text/html": [
       "<style scoped>\n  .table-result-container {\n    max-height: 300px;\n    overflow: auto;\n  }\n  table, th, td {\n    border: 1px solid black;\n    border-collapse: collapse;\n  }\n  th, td {\n    padding: 5px;\n  }\n  th {\n    text-align: left;\n  }\n</style><div class='table-result-container'><table class='table-result'><thead style='background-color: white'><tr><th>rider_key</th><th>first_name</th><th>last_name</th><th>address</th><th>birthday</th><th>account_start_date</th><th>account_end_date</th><th>is_member</th></tr></thead><tbody><tr><td>1025</td><td>Christopher</td><td>Sanders</td><td>5182 Michelle Place Apt. 142</td><td>2004-08-23</td><td>2020-05-01T00:00:00.000+0000</td><td>null</td><td>false</td></tr><tr><td>1005</td><td>Michael</td><td>Gillespie</td><td>224 Washington Mills Apt. 467</td><td>1974-09-28</td><td>2020-03-24T00:00:00.000+0000</td><td>null</td><td>false</td></tr><tr><td>1016</td><td>Misty</td><td>Scott</td><td>72226 Casey Square</td><td>1991-10-30</td><td>2022-02-02T00:00:00.000+0000</td><td>null</td><td>true</td></tr><tr><td>1031</td><td>Warren</td><td>Lynn</td><td>47822 Darrell Green</td><td>1986-11-23</td><td>2018-08-16T00:00:00.000+0000</td><td>null</td><td>true</td></tr><tr><td>1030</td><td>Deborah</td><td>Adams</td><td>2722 Kaitlin Street Suite 253</td><td>2000-07-21</td><td>2021-02-09T00:00:00.000+0000</td><td>null</td><td>true</td></tr><tr><td>1034</td><td>David</td><td>Hall</td><td>9001 Carrie Alley</td><td>1988-07-14</td><td>2020-03-08T00:00:00.000+0000</td><td>null</td><td>false</td></tr><tr><td>1019</td><td>David</td><td>Thompson</td><td>00348 Brandi Parks Suite 405</td><td>1997-07-01</td><td>2021-07-10T00:00:00.000+0000</td><td>2021-08-01T00:00:00.000+0000</td><td>false</td></tr><tr><td>1046</td><td>Patrick</td><td>Carrillo</td><td>351 Bill Curve</td><td>2005-03-05</td><td>2020-07-08T00:00:00.000+0000</td><td>null</td><td>true</td></tr><tr><td>1008</td><td>David</td><td>Hicks</td><td>7691 Evans Court</td><td>1986-07-12</td><td>2021-03-28T00:00:00.000+0000</td><td>2021-04-01T00:00:00.000+0000</td><td>true</td></tr><tr><td>1047</td><td>Julian</td><td>Castro</td><td>2639 Ronald Summit Apt. 385</td><td>1988-11-04</td><td>2021-02-23T00:00:00.000+0000</td><td>2021-09-01T00:00:00.000+0000</td><td>true</td></tr><tr><td>1021</td><td>Amanda</td><td>Klein</td><td>461 Stewart Square</td><td>1978-08-02</td><td>2019-09-23T00:00:00.000+0000</td><td>2021-07-01T00:00:00.000+0000</td><td>false</td></tr><tr><td>1026</td><td>Steven</td><td>Cervantes</td><td>57571 Bowman Fall</td><td>1989-01-22</td><td>2021-11-25T00:00:00.000+0000</td><td>null</td><td>true</td></tr><tr><td>1028</td><td>Alice</td><td>Hernandez</td><td>36050 Khan Drive Suite 543</td><td>1987-10-21</td><td>2019-09-03T00:00:00.000+0000</td><td>null</td><td>false</td></tr><tr><td>1029</td><td>Mario</td><td>Griffith</td><td>5555 Melissa Freeway Apt. 083</td><td>2002-06-20</td><td>2020-10-12T00:00:00.000+0000</td><td>2021-10-01T00:00:00.000+0000</td><td>false</td></tr><tr><td>1032</td><td>Michelle</td><td>Choi</td><td>364 Shane Vista Apt. 727</td><td>1986-01-02</td><td>2017-01-21T00:00:00.000+0000</td><td>null</td><td>true</td></tr><tr><td>1010</td><td>Ashley</td><td>Webster</td><td>92973 Mary Ville</td><td>1996-10-31</td><td>2019-12-27T00:00:00.000+0000</td><td>null</td><td>true</td></tr><tr><td>1002</td><td>Jessica</td><td>Roach</td><td>644 Brittany Row Apt. 097</td><td>1998-03-28</td><td>2022-02-04T00:00:00.000+0000</td><td>null</td><td>true</td></tr><tr><td>1048</td><td>John</td><td>Duncan</td><td>1028 Frederick Courts</td><td>1988-01-25</td><td>2017-03-26T00:00:00.000+0000</td><td>2018-07-01T00:00:00.000+0000</td><td>true</td></tr><tr><td>1035</td><td>David</td><td>Richardson</td><td>4488 Martinez Shores Suite 012</td><td>2002-04-22</td><td>2020-08-07T00:00:00.000+0000</td><td>null</td><td>true</td></tr><tr><td>1045</td><td>Alexandra</td><td>Morgan</td><td>518 Travis Gateway</td><td>2005-01-09</td><td>2020-03-05T00:00:00.000+0000</td><td>null</td><td>true</td></tr><tr><td>1017</td><td>Jason</td><td>Mcpherson</td><td>40395 Terrell Parks</td><td>1982-01-29</td><td>2019-03-11T00:00:00.000+0000</td><td>null</td><td>true</td></tr><tr><td>1037</td><td>Shelly</td><td>Wolfe</td><td>532 Perry Land</td><td>1978-12-22</td><td>2017-01-28T00:00:00.000+0000</td><td>null</td><td>true</td></tr><tr><td>1036</td><td>Mark</td><td>Little</td><td>4724 Wyatt Trail</td><td>1993-05-19</td><td>2021-11-04T00:00:00.000+0000</td><td>2022-01-01T00:00:00.000+0000</td><td>true</td></tr><tr><td>1015</td><td>Kristin</td><td>Hunt</td><td>3710 Rodriguez Glen Apt. 324</td><td>2001-08-23</td><td>2017-07-10T00:00:00.000+0000</td><td>null</td><td>true</td></tr><tr><td>1022</td><td>Amber</td><td>Acosta</td><td>94757 Parrish Flats Apt. 339</td><td>1974-10-29</td><td>2018-10-06T00:00:00.000+0000</td><td>null</td><td>true</td></tr><tr><td>1041</td><td>Tammy</td><td>Johnson</td><td>8022 Derrick Squares Apt. 303</td><td>1969-11-30</td><td>2015-12-13T00:00:00.000+0000</td><td>null</td><td>true</td></tr><tr><td>1000</td><td>Kimberly</td><td>Williams</td><td>1200 Alyssa Squares</td><td>1988-03-28</td><td>2019-04-23T00:00:00.000+0000</td><td>null</td><td>true</td></tr><tr><td>1001</td><td>Anthony</td><td>Erickson</td><td>397 Diana Ferry</td><td>1976-12-04</td><td>2019-11-01T00:00:00.000+0000</td><td>2020-09-01T00:00:00.000+0000</td><td>true</td></tr><tr><td>1020</td><td>Ana</td><td>Williamson</td><td>3718 Raymond Meadows Suite 513</td><td>1984-08-14</td><td>2020-01-16T00:00:00.000+0000</td><td>null</td><td>true</td></tr><tr><td>1006</td><td>Ryan</td><td>Peters</td><td>1137 Angela Locks</td><td>2003-07-10</td><td>2020-11-27T00:00:00.000+0000</td><td>2021-06-01T00:00:00.000+0000</td><td>true</td></tr><tr><td>1007</td><td>Crystal</td><td>Sanchez</td><td>979 Phillips Ways</td><td>1987-10-15</td><td>2016-12-11T00:00:00.000+0000</td><td>null</td><td>false</td></tr><tr><td>1039</td><td>Trevor</td><td>Griffin</td><td>97840 Carla Loaf</td><td>1985-12-12</td><td>2021-12-14T00:00:00.000+0000</td><td>null</td><td>true</td></tr><tr><td>1049</td><td>Matthew</td><td>Evans</td><td>0840 Harper Extension</td><td>1994-06-03</td><td>2020-03-05T00:00:00.000+0000</td><td>null</td><td>true</td></tr><tr><td>1003</td><td>Andrew</td><td>Ryan</td><td>996 Dickerson Turnpike</td><td>1999-03-05</td><td>2019-08-26T00:00:00.000+0000</td><td>null</td><td>false</td></tr><tr><td>1038</td><td>Catherine</td><td>Anderson</td><td>52363 Shannon Glen</td><td>1984-12-06</td><td>2018-01-01T00:00:00.000+0000</td><td>null</td><td>true</td></tr><tr><td>1042</td><td>Micheal</td><td>Washington</td><td>6803 Carter Court Apt. 453</td><td>1972-09-05</td><td>2017-10-11T00:00:00.000+0000</td><td>null</td><td>true</td></tr><tr><td>1014</td><td>Debra</td><td>Wilson</td><td>501 Arellano Land</td><td>1989-09-14</td><td>2017-11-24T00:00:00.000+0000</td><td>null</td><td>true</td></tr><tr><td>1027</td><td>Carrie</td><td>Jones</td><td>31995 Pham Fork Apt. 606</td><td>1986-08-05</td><td>2021-11-12T00:00:00.000+0000</td><td>null</td><td>false</td></tr><tr><td>1023</td><td>Madison</td><td>Flores</td><td>07681 Christine Neck</td><td>1993-09-02</td><td>2018-12-25T00:00:00.000+0000</td><td>null</td><td>true</td></tr><tr><td>1043</td><td>Justin</td><td>Lewis</td><td>2657 Mccall Lane Apt. 502</td><td>1988-02-19</td><td>2014-12-20T00:00:00.000+0000</td><td>null</td><td>true</td></tr><tr><td>1040</td><td>Charles</td><td>Anderson</td><td>323 Matthew Flats</td><td>1996-06-08</td><td>2014-11-26T00:00:00.000+0000</td><td>null</td><td>true</td></tr><tr><td>1024</td><td>Christopher</td><td>Hale</td><td>546 Smith Roads Apt. 088</td><td>2000-12-03</td><td>2021-03-24T00:00:00.000+0000</td><td>null</td><td>true</td></tr><tr><td>1033</td><td>Patricia</td><td>Prince</td><td>414 Flores Bypass Apt. 047</td><td>1983-01-12</td><td>2021-07-28T00:00:00.000+0000</td><td>null</td><td>true</td></tr><tr><td>1018</td><td>Brandon</td><td>Hall</td><td>3514 Leslie Vista</td><td>1986-12-15</td><td>2021-07-25T00:00:00.000+0000</td><td>null</td><td>false</td></tr><tr><td>1004</td><td>Ian</td><td>Peters</td><td>7009 Nathan Expressway</td><td>1969-06-25</td><td>2019-09-14T00:00:00.000+0000</td><td>null</td><td>true</td></tr><tr><td>1011</td><td>Rachel</td><td>Mills</td><td>950 Grimes Burg Apt. 679</td><td>1984-08-09</td><td>2017-05-20T00:00:00.000+0000</td><td>null</td><td>true</td></tr><tr><td>1012</td><td>Mark</td><td>Day</td><td>65532 Davis Springs Apt. 363</td><td>1980-05-06</td><td>2021-10-16T00:00:00.000+0000</td><td>null</td><td>true</td></tr><tr><td>1013</td><td>Corey</td><td>Stafford</td><td>7757 Johnston Roads</td><td>1986-01-29</td><td>2020-12-28T00:00:00.000+0000</td><td>2021-08-01T00:00:00.000+0000</td><td>true</td></tr><tr><td>1044</td><td>Garrett</td><td>Rivers</td><td>92906 Jenkins Harbors Suite 482</td><td>1996-05-05</td><td>2021-07-16T00:00:00.000+0000</td><td>null</td><td>true</td></tr><tr><td>1009</td><td>Daniel</td><td>Hicks</td><td>9922 Jim Crest Apt. 319</td><td>1981-02-14</td><td>2020-06-12T00:00:00.000+0000</td><td>2021-02-01T00:00:00.000+0000</td><td>true</td></tr></tbody></table></div>"
      ]
     },
     "metadata": {
      "application/vnd.databricks.v1+output": {
       "addedWidgets": {},
       "aggData": [],
       "aggError": "",
       "aggOverflow": false,
       "aggSchema": [],
       "aggSeriesLimitReached": false,
       "aggType": "",
       "arguments": {},
       "columnCustomDisplayInfos": {},
       "data": [
        [
         1025,
         "Christopher",
         "Sanders",
         "5182 Michelle Place Apt. 142",
         "2004-08-23",
         "2020-05-01T00:00:00.000+0000",
         null,
         false
        ],
        [
         1005,
         "Michael",
         "Gillespie",
         "224 Washington Mills Apt. 467",
         "1974-09-28",
         "2020-03-24T00:00:00.000+0000",
         null,
         false
        ],
        [
         1016,
         "Misty",
         "Scott",
         "72226 Casey Square",
         "1991-10-30",
         "2022-02-02T00:00:00.000+0000",
         null,
         true
        ],
        [
         1031,
         "Warren",
         "Lynn",
         "47822 Darrell Green",
         "1986-11-23",
         "2018-08-16T00:00:00.000+0000",
         null,
         true
        ],
        [
         1030,
         "Deborah",
         "Adams",
         "2722 Kaitlin Street Suite 253",
         "2000-07-21",
         "2021-02-09T00:00:00.000+0000",
         null,
         true
        ],
        [
         1034,
         "David",
         "Hall",
         "9001 Carrie Alley",
         "1988-07-14",
         "2020-03-08T00:00:00.000+0000",
         null,
         false
        ],
        [
         1019,
         "David",
         "Thompson",
         "00348 Brandi Parks Suite 405",
         "1997-07-01",
         "2021-07-10T00:00:00.000+0000",
         "2021-08-01T00:00:00.000+0000",
         false
        ],
        [
         1046,
         "Patrick",
         "Carrillo",
         "351 Bill Curve",
         "2005-03-05",
         "2020-07-08T00:00:00.000+0000",
         null,
         true
        ],
        [
         1008,
         "David",
         "Hicks",
         "7691 Evans Court",
         "1986-07-12",
         "2021-03-28T00:00:00.000+0000",
         "2021-04-01T00:00:00.000+0000",
         true
        ],
        [
         1047,
         "Julian",
         "Castro",
         "2639 Ronald Summit Apt. 385",
         "1988-11-04",
         "2021-02-23T00:00:00.000+0000",
         "2021-09-01T00:00:00.000+0000",
         true
        ],
        [
         1021,
         "Amanda",
         "Klein",
         "461 Stewart Square",
         "1978-08-02",
         "2019-09-23T00:00:00.000+0000",
         "2021-07-01T00:00:00.000+0000",
         false
        ],
        [
         1026,
         "Steven",
         "Cervantes",
         "57571 Bowman Fall",
         "1989-01-22",
         "2021-11-25T00:00:00.000+0000",
         null,
         true
        ],
        [
         1028,
         "Alice",
         "Hernandez",
         "36050 Khan Drive Suite 543",
         "1987-10-21",
         "2019-09-03T00:00:00.000+0000",
         null,
         false
        ],
        [
         1029,
         "Mario",
         "Griffith",
         "5555 Melissa Freeway Apt. 083",
         "2002-06-20",
         "2020-10-12T00:00:00.000+0000",
         "2021-10-01T00:00:00.000+0000",
         false
        ],
        [
         1032,
         "Michelle",
         "Choi",
         "364 Shane Vista Apt. 727",
         "1986-01-02",
         "2017-01-21T00:00:00.000+0000",
         null,
         true
        ],
        [
         1010,
         "Ashley",
         "Webster",
         "92973 Mary Ville",
         "1996-10-31",
         "2019-12-27T00:00:00.000+0000",
         null,
         true
        ],
        [
         1002,
         "Jessica",
         "Roach",
         "644 Brittany Row Apt. 097",
         "1998-03-28",
         "2022-02-04T00:00:00.000+0000",
         null,
         true
        ],
        [
         1048,
         "John",
         "Duncan",
         "1028 Frederick Courts",
         "1988-01-25",
         "2017-03-26T00:00:00.000+0000",
         "2018-07-01T00:00:00.000+0000",
         true
        ],
        [
         1035,
         "David",
         "Richardson",
         "4488 Martinez Shores Suite 012",
         "2002-04-22",
         "2020-08-07T00:00:00.000+0000",
         null,
         true
        ],
        [
         1045,
         "Alexandra",
         "Morgan",
         "518 Travis Gateway",
         "2005-01-09",
         "2020-03-05T00:00:00.000+0000",
         null,
         true
        ],
        [
         1017,
         "Jason",
         "Mcpherson",
         "40395 Terrell Parks",
         "1982-01-29",
         "2019-03-11T00:00:00.000+0000",
         null,
         true
        ],
        [
         1037,
         "Shelly",
         "Wolfe",
         "532 Perry Land",
         "1978-12-22",
         "2017-01-28T00:00:00.000+0000",
         null,
         true
        ],
        [
         1036,
         "Mark",
         "Little",
         "4724 Wyatt Trail",
         "1993-05-19",
         "2021-11-04T00:00:00.000+0000",
         "2022-01-01T00:00:00.000+0000",
         true
        ],
        [
         1015,
         "Kristin",
         "Hunt",
         "3710 Rodriguez Glen Apt. 324",
         "2001-08-23",
         "2017-07-10T00:00:00.000+0000",
         null,
         true
        ],
        [
         1022,
         "Amber",
         "Acosta",
         "94757 Parrish Flats Apt. 339",
         "1974-10-29",
         "2018-10-06T00:00:00.000+0000",
         null,
         true
        ],
        [
         1041,
         "Tammy",
         "Johnson",
         "8022 Derrick Squares Apt. 303",
         "1969-11-30",
         "2015-12-13T00:00:00.000+0000",
         null,
         true
        ],
        [
         1000,
         "Kimberly",
         "Williams",
         "1200 Alyssa Squares",
         "1988-03-28",
         "2019-04-23T00:00:00.000+0000",
         null,
         true
        ],
        [
         1001,
         "Anthony",
         "Erickson",
         "397 Diana Ferry",
         "1976-12-04",
         "2019-11-01T00:00:00.000+0000",
         "2020-09-01T00:00:00.000+0000",
         true
        ],
        [
         1020,
         "Ana",
         "Williamson",
         "3718 Raymond Meadows Suite 513",
         "1984-08-14",
         "2020-01-16T00:00:00.000+0000",
         null,
         true
        ],
        [
         1006,
         "Ryan",
         "Peters",
         "1137 Angela Locks",
         "2003-07-10",
         "2020-11-27T00:00:00.000+0000",
         "2021-06-01T00:00:00.000+0000",
         true
        ],
        [
         1007,
         "Crystal",
         "Sanchez",
         "979 Phillips Ways",
         "1987-10-15",
         "2016-12-11T00:00:00.000+0000",
         null,
         false
        ],
        [
         1039,
         "Trevor",
         "Griffin",
         "97840 Carla Loaf",
         "1985-12-12",
         "2021-12-14T00:00:00.000+0000",
         null,
         true
        ],
        [
         1049,
         "Matthew",
         "Evans",
         "0840 Harper Extension",
         "1994-06-03",
         "2020-03-05T00:00:00.000+0000",
         null,
         true
        ],
        [
         1003,
         "Andrew",
         "Ryan",
         "996 Dickerson Turnpike",
         "1999-03-05",
         "2019-08-26T00:00:00.000+0000",
         null,
         false
        ],
        [
         1038,
         "Catherine",
         "Anderson",
         "52363 Shannon Glen",
         "1984-12-06",
         "2018-01-01T00:00:00.000+0000",
         null,
         true
        ],
        [
         1042,
         "Micheal",
         "Washington",
         "6803 Carter Court Apt. 453",
         "1972-09-05",
         "2017-10-11T00:00:00.000+0000",
         null,
         true
        ],
        [
         1014,
         "Debra",
         "Wilson",
         "501 Arellano Land",
         "1989-09-14",
         "2017-11-24T00:00:00.000+0000",
         null,
         true
        ],
        [
         1027,
         "Carrie",
         "Jones",
         "31995 Pham Fork Apt. 606",
         "1986-08-05",
         "2021-11-12T00:00:00.000+0000",
         null,
         false
        ],
        [
         1023,
         "Madison",
         "Flores",
         "07681 Christine Neck",
         "1993-09-02",
         "2018-12-25T00:00:00.000+0000",
         null,
         true
        ],
        [
         1043,
         "Justin",
         "Lewis",
         "2657 Mccall Lane Apt. 502",
         "1988-02-19",
         "2014-12-20T00:00:00.000+0000",
         null,
         true
        ],
        [
         1040,
         "Charles",
         "Anderson",
         "323 Matthew Flats",
         "1996-06-08",
         "2014-11-26T00:00:00.000+0000",
         null,
         true
        ],
        [
         1024,
         "Christopher",
         "Hale",
         "546 Smith Roads Apt. 088",
         "2000-12-03",
         "2021-03-24T00:00:00.000+0000",
         null,
         true
        ],
        [
         1033,
         "Patricia",
         "Prince",
         "414 Flores Bypass Apt. 047",
         "1983-01-12",
         "2021-07-28T00:00:00.000+0000",
         null,
         true
        ],
        [
         1018,
         "Brandon",
         "Hall",
         "3514 Leslie Vista",
         "1986-12-15",
         "2021-07-25T00:00:00.000+0000",
         null,
         false
        ],
        [
         1004,
         "Ian",
         "Peters",
         "7009 Nathan Expressway",
         "1969-06-25",
         "2019-09-14T00:00:00.000+0000",
         null,
         true
        ],
        [
         1011,
         "Rachel",
         "Mills",
         "950 Grimes Burg Apt. 679",
         "1984-08-09",
         "2017-05-20T00:00:00.000+0000",
         null,
         true
        ],
        [
         1012,
         "Mark",
         "Day",
         "65532 Davis Springs Apt. 363",
         "1980-05-06",
         "2021-10-16T00:00:00.000+0000",
         null,
         true
        ],
        [
         1013,
         "Corey",
         "Stafford",
         "7757 Johnston Roads",
         "1986-01-29",
         "2020-12-28T00:00:00.000+0000",
         "2021-08-01T00:00:00.000+0000",
         true
        ],
        [
         1044,
         "Garrett",
         "Rivers",
         "92906 Jenkins Harbors Suite 482",
         "1996-05-05",
         "2021-07-16T00:00:00.000+0000",
         null,
         true
        ],
        [
         1009,
         "Daniel",
         "Hicks",
         "9922 Jim Crest Apt. 319",
         "1981-02-14",
         "2020-06-12T00:00:00.000+0000",
         "2021-02-01T00:00:00.000+0000",
         true
        ]
       ],
       "datasetInfos": [],
       "dbfsResultPath": null,
       "isJsonSchema": true,
       "metadata": {},
       "overflow": false,
       "plotOptions": {
        "customPlotOptions": {},
        "displayType": "table",
        "pivotAggregation": null,
        "pivotColumns": null,
        "xColumns": null,
        "yColumns": null
       },
       "removedWidgets": [],
       "schema": [
        {
         "metadata": "{}",
         "name": "rider_key",
         "type": "\"integer\""
        },
        {
         "metadata": "{}",
         "name": "first_name",
         "type": "\"string\""
        },
        {
         "metadata": "{}",
         "name": "last_name",
         "type": "\"string\""
        },
        {
         "metadata": "{}",
         "name": "address",
         "type": "\"string\""
        },
        {
         "metadata": "{}",
         "name": "birthday",
         "type": "\"date\""
        },
        {
         "metadata": "{}",
         "name": "account_start_date",
         "type": "\"timestamp\""
        },
        {
         "metadata": "{}",
         "name": "account_end_date",
         "type": "\"timestamp\""
        },
        {
         "metadata": "{}",
         "name": "is_member",
         "type": "\"boolean\""
        }
       ],
       "type": "table"
      }
     }
    },
    {
     "output_type": "stream",
     "name": "stdout",
     "text": [
      "root\n |-- rider_key: integer (nullable = true)\n |-- first_name: string (nullable = true)\n |-- last_name: string (nullable = true)\n |-- address: string (nullable = true)\n |-- birthday: date (nullable = true)\n |-- account_start_date: timestamp (nullable = true)\n |-- account_end_date: timestamp (nullable = true)\n |-- is_member: boolean (nullable = true)\n\n"
     ]
    }
   ],
   "source": [
    "df_dim_riders.display()\n",
    "df_dim_riders.printSchema()"
   ]
  },
  {
   "cell_type": "markdown",
   "metadata": {
    "application/vnd.databricks.v1+cell": {
     "cellMetadata": {},
     "inputWidgets": {},
     "nuid": "61d3e609-ebc7-4799-942f-2e961643bd6a",
     "showTitle": false,
     "title": ""
    },
    "pycharm": {
     "name": "#%% md\n"
    }
   },
   "source": [
    "#### Write To Table"
   ]
  },
  {
   "cell_type": "code",
   "execution_count": 0,
   "metadata": {
    "application/vnd.databricks.v1+cell": {
     "cellMetadata": {
      "byteLimit": 2048000,
      "rowLimit": 10000
     },
     "inputWidgets": {},
     "nuid": "18d9b242-a109-4c05-afec-34e3d1008d0b",
     "showTitle": false,
     "title": ""
    },
    "pycharm": {
     "name": "#%%\n"
    }
   },
   "outputs": [],
   "source": [
    "df_dim_riders.write.format(\"delta\") \\\n",
    "    .mode(\"overwrite\") \\\n",
    "    .saveAsTable(\"gold_dimRiders\")"
   ]
  },
  {
   "cell_type": "markdown",
   "metadata": {
    "application/vnd.databricks.v1+cell": {
     "cellMetadata": {
      "byteLimit": 2048000,
      "rowLimit": 10000
     },
     "inputWidgets": {},
     "nuid": "129196c5-a1f2-4633-94be-25776664594c",
     "showTitle": false,
     "title": ""
    },
    "collapsed": false,
    "pycharm": {
     "name": "#%% md\n"
    }
   },
   "source": [
    "## Station dim DF"
   ]
  },
  {
   "cell_type": "code",
   "execution_count": 0,
   "metadata": {
    "application/vnd.databricks.v1+cell": {
     "cellMetadata": {
      "byteLimit": 2048000,
      "rowLimit": 10000
     },
     "inputWidgets": {},
     "nuid": "96455c3a-591b-41c9-8f34-aa567c16044a",
     "showTitle": false,
     "title": ""
    },
    "collapsed": false,
    "pycharm": {
     "name": "#%%\n"
    }
   },
   "outputs": [],
   "source": [
    "# Define the schema for the riders dimension table\n",
    "schema = StructType([\n",
    "    StructField(\"station_key\", StringType(), True),\n",
    "    StructField(\"station_name\", StringType(), True),\n",
    "    StructField(\"latitude\", FloatType(), True),\n",
    "    StructField(\"longitude\", FloatType(), True)\n",
    "])\n",
    "\n",
    "# Create an empty DataFrame with the defined schema\n",
    "df_dim_station = spark.createDataFrame([], schema)"
   ]
  },
  {
   "cell_type": "markdown",
   "metadata": {
    "application/vnd.databricks.v1+cell": {
     "cellMetadata": {
      "byteLimit": 2048000,
      "rowLimit": 10000
     },
     "inputWidgets": {},
     "nuid": "e1a228a0-01d9-4391-9ad9-dd63f76a73b1",
     "showTitle": false,
     "title": ""
    },
    "collapsed": false,
    "pycharm": {
     "name": "#%% md\n"
    }
   },
   "source": [
    "### Concatenate df_silver_station_batch with df_dim_station"
   ]
  },
  {
   "cell_type": "code",
   "execution_count": 0,
   "metadata": {
    "application/vnd.databricks.v1+cell": {
     "cellMetadata": {
      "byteLimit": 2048000,
      "rowLimit": 10000
     },
     "inputWidgets": {},
     "nuid": "24120737-294f-4000-8196-a9a5de0bbda2",
     "showTitle": false,
     "title": ""
    },
    "collapsed": false,
    "pycharm": {
     "name": "#%%\n"
    }
   },
   "outputs": [],
   "source": [
    "df_dim_station = data_dim_station.union(df_silver_station)"
   ]
  },
  {
   "cell_type": "code",
   "execution_count": 0,
   "metadata": {
    "application/vnd.databricks.v1+cell": {
     "cellMetadata": {
      "byteLimit": 2048000,
      "rowLimit": 10000
     },
     "inputWidgets": {},
     "nuid": "0d99603e-1c74-44ca-8657-f6bfacab275c",
     "showTitle": false,
     "title": ""
    },
    "collapsed": false,
    "pycharm": {
     "name": "#%%\n"
    }
   },
   "outputs": [
    {
     "output_type": "display_data",
     "data": {
      "text/html": [
       "<style scoped>\n  .table-result-container {\n    max-height: 300px;\n    overflow: auto;\n  }\n  table, th, td {\n    border: 1px solid black;\n    border-collapse: collapse;\n  }\n  th, td {\n    padding: 5px;\n  }\n  th {\n    text-align: left;\n  }\n</style><div class='table-result-container'><table class='table-result'><thead style='background-color: white'><tr><th>station_key</th><th>station_name</th><th>latitude</th><th>longitude</th></tr></thead><tbody><tr><td>525</td><td>Glenwood Ave & Touhy Ave</td><td>42.012701</td><td>-87.66605799999999</td></tr><tr><td>KA1503000012</td><td>Clark St & Lake St</td><td>41.88579466666667</td><td>-87.63110066666668</td></tr><tr><td>637</td><td>Wood St & Chicago Ave</td><td>41.895634</td><td>-87.672069</td></tr><tr><td>13216</td><td>State St & 33rd St</td><td>41.8347335</td><td>-87.6258275</td></tr><tr><td>18003</td><td>Fairbanks St & Superior St</td><td>41.89580766666667</td><td>-87.62025316666669</td></tr><tr><td>KP1705001026</td><td>LaSalle Dr & Huron St</td><td>41.894877</td><td>-87.632326</td></tr><tr><td>13253</td><td>Lincoln Ave & Waveland Ave</td><td>41.948797</td><td>-87.675278</td></tr><tr><td>KA1503000044</td><td>Rush St & Hubbard St</td><td>41.890173</td><td>-87.62618499999999</td></tr><tr><td>KA1504000140</td><td>Winchester Ave & Elston Ave</td><td>41.92403733333333</td><td>-87.67641483333334</td></tr><tr><td>TA1305000032</td><td>Clinton St & Madison St</td><td>41.882242</td><td>-87.64106600000001</td></tr><tr><td>TA1306000012</td><td>Wells St & Huron St</td><td>41.89475366666667</td><td>-87.63440200000001</td></tr><tr><td>13133</td><td>Damen Ave & Cortland St</td><td>41.915983000000004</td><td>-87.677335</td></tr><tr><td>SL-005</td><td>Indiana Ave & Roosevelt Rd</td><td>41.867888</td><td>-87.623041</td></tr><tr><td>13235</td><td>Southport Ave & Waveland Ave</td><td>41.94815</td><td>-87.66394</td></tr><tr><td>TA1307000139</td><td>MLK Jr Dr & 29th St</td><td>41.842052</td><td>-87.617</td></tr><tr><td>TA1305000009</td><td>Clark St & Ida B Wells Dr</td><td>41.8759326655</td><td>-87.63058453549999</td></tr><tr><td>13276</td><td>Stockton Dr & Wrightwood Ave</td><td>41.9313455</td><td>-87.63869133333333</td></tr><tr><td>TA1307000107</td><td>Sheridan Rd & Montrose Ave</td><td>41.96167</td><td>-87.65464</td></tr><tr><td>13193</td><td>Larrabee St & Webster Ave</td><td>41.921822</td><td>-87.64414000000001</td></tr><tr><td>KA1503000072</td><td>Wacker Dr & Washington St</td><td>41.883132</td><td>-87.637321</td></tr><tr><td>TA1307000166</td><td>Halsted St & Willow St</td><td>41.913865</td><td>-87.64875500000001</td></tr><tr><td>13285</td><td>Wood St & Taylor St (Temp)</td><td>41.86926521843819</td><td>-87.67373085021973</td></tr><tr><td>TA1306000016</td><td>Sheffield Ave & Fullerton Ave</td><td>41.92552516666667</td><td>-87.65368583333333</td></tr><tr><td>13303</td><td>Clark St & Chicago Ave</td><td>41.89675</td><td>-87.63089000000001</td></tr><tr><td>15575</td><td>Broadway & Thorndale Ave</td><td>41.98974251144</td><td>-87.6601406209</td></tr><tr><td>623</td><td>Michigan Ave & 8th St</td><td>41.872287666666665</td><td>-87.6239145</td></tr><tr><td>TA1309000050</td><td>Lincoln Ave & Addison St</td><td>41.946176</td><td>-87.67330799999999</td></tr><tr><td>15445</td><td>Wentworth Ave & 33rd St</td><td>41.83452988563</td><td>-87.63182298139999</td></tr><tr><td>13164</td><td>Racine Ave & 18th St</td><td>41.858166</td><td>-87.65649499999999</td></tr><tr><td>TA1307000151</td><td>Wells St & Hubbard St</td><td>41.889905999999996</td><td>-87.634266</td></tr><tr><td>13158</td><td>Peoria St & Jackson Blvd</td><td>41.877641596275296</td><td>-87.64961779117584</td></tr><tr><td>13150</td><td>Michigan Ave & 18th St</td><td>41.857813</td><td>-87.62455</td></tr><tr><td>TA1308000036</td><td>Indiana Ave & 31st St</td><td>41.83884433333333</td><td>-87.62183783333332</td></tr><tr><td>TA1308000013</td><td>Halsted St & Archer Ave</td><td>41.847203</td><td>-87.646795</td></tr><tr><td>TA1306000013</td><td>New St & Illinois St</td><td>41.89084704062381</td><td>-87.6186168193817</td></tr><tr><td>13061</td><td>Ashland Ave & Division St</td><td>41.90345</td><td>-87.66774699999999</td></tr><tr><td>TA1307000048</td><td>Fort Dearborn Dr & 31st St</td><td>41.838556</td><td>-87.60821800000001</td></tr><tr><td>TA1308000045</td><td>Wallace St & 35th St</td><td>41.830628999999995</td><td>-87.64129</td></tr><tr><td>13206</td><td>Loomis St & Jackson Blvd</td><td>41.877945000000004</td><td>-87.66200699999999</td></tr><tr><td>13156</td><td>Aberdeen St & Monroe St</td><td>41.880419</td><td>-87.655519</td></tr><tr><td>TA1306000015</td><td>Morgan St & Lake St</td><td>41.8854833079</td><td>-87.6523048564</td></tr><tr><td>13058</td><td>Dayton St & North Ave</td><td>41.9105780349</td><td>-87.6494219288</td></tr><tr><td>TA1309000008</td><td>Franklin St & Adams St (Temp)</td><td>41.879434091400135</td><td>-87.63550400733948</td></tr><tr><td>KA1504000135</td><td>Wells St & Elm St</td><td>41.90320733333333</td><td>-87.63461616666666</td></tr><tr><td>KA1503000064</td><td>Dusable Harbor</td><td>41.886976000000004</td><td>-87.612813</td></tr><tr><td>TA1305000022</td><td>Orleans St & Merchandise Mart Plaza</td><td>41.888243</td><td>-87.63639</td></tr><tr><td>KA1504000079</td><td>Larrabee St & Division St</td><td>41.90348607004</td><td>-87.6433534936</td></tr><tr><td>KA1503000022</td><td>Clark St & Montrose Ave</td><td>41.961588</td><td>-87.666036</td></tr><tr><td>13109</td><td>Broadway & Berwyn Ave</td><td>41.978353000000006</td><td>-87.65975300000001</td></tr><tr><td>15530</td><td>Rush St & Superior St</td><td>41.89576474564</td><td>-87.62590803270001</td></tr><tr><td>TA1306000010</td><td>Daley Center Plaza</td><td>41.884240999999996</td><td>-87.629634</td></tr><tr><td>13146</td><td>Clark St & Armitage Ave</td><td>41.918306</td><td>-87.636282</td></tr><tr><td>15578</td><td>Broadway & Ridge Ave</td><td>41.9840446107</td><td>-87.66027382950001</td></tr><tr><td>KA1503000034</td><td>LaSalle St & Adams St</td><td>41.87934437346</td><td>-87.63198522129998</td></tr><tr><td>KA1503000059</td><td>Lake Park Ave & 53rd St</td><td>41.79949429373</td><td>-87.5864498959</td></tr><tr><td>TA1305000011</td><td>Michigan Ave & Lake St</td><td>41.886024</td><td>-87.624117</td></tr><tr><td>TA1307000061</td><td>State St & Pearson St</td><td>41.897448</td><td>-87.628722</td></tr><tr><td>SL-011</td><td>Wells St & Polk St</td><td>41.872596</td><td>-87.63350200000001</td></tr><tr><td>TA1309000010</td><td>Wabash Ave & 9th St</td><td>41.8702615</td><td>-87.62538516666666</td></tr><tr><td>15534</td><td>Field Blvd & South Water St</td><td>41.88634906269</td><td>-87.6175165471</td></tr><tr><td>TA1307000119</td><td>Clarendon Ave & Leland Ave</td><td>41.967968</td><td>-87.650001</td></tr><tr><td>TA1305000029</td><td>State St & Randolph St</td><td>41.884730200599996</td><td>-87.6277335692</td></tr><tr><td>TA1309000063</td><td>Lake Park Ave & 56th St</td><td>41.793242</td><td>-87.58778199999999</td></tr><tr><td>KA1504000133</td><td>Rush St & Cedar St</td><td>41.90230870122</td><td>-87.62769052799999</td></tr><tr><td>624</td><td>Dearborn St & Van Buren St</td><td>41.87619516666667</td><td>-87.62913033333334</td></tr><tr><td>KA1503000029</td><td>South Shore Dr & 67th St</td><td>41.773643</td><td>-87.567514</td></tr><tr><td>13323</td><td>Broadway & Sheridan Rd</td><td>41.952833</td><td>-87.64999300000001</td></tr><tr><td>KA1504000149</td><td>Damen Ave & Foster Ave</td><td>41.97561480459</td><td>-87.6794590387</td></tr><tr><td>TA1309000004</td><td>LaSalle St & Jackson Blvd</td><td>41.878166</td><td>-87.631929</td></tr><tr><td>18058</td><td>Leavitt St & Chicago Ave</td><td>41.895437</td><td>-87.68198466666666</td></tr><tr><td>WL-008</td><td>Clinton St & Roosevelt Rd</td><td>41.867053166666665</td><td>-87.64109383333331</td></tr><tr><td>13221</td><td>Wood St & Milwaukee Ave</td><td>41.907655</td><td>-87.672552</td></tr><tr><td>523</td><td>Eastlake Ter & Rogers Ave</td><td>42.020887280520604</td><td>-87.66505792737007</td></tr><tr><td>TA1309000025</td><td>Halsted St & Roscoe St</td><td>41.943670000000004</td><td>-87.64895</td></tr><tr><td>13288</td><td>Damen Ave & Charleston St</td><td>41.9200765</td><td>-87.67794466666666</td></tr><tr><td>658</td><td>Leavitt St & Division St</td><td>41.902997</td><td>-87.683825</td></tr><tr><td>TA1307000070</td><td>Damen Ave & Thomas St (Augusta Blvd)</td><td>41.901315000000004</td><td>-87.677409</td></tr><tr><td>TA1305000041</td><td>Damen Ave & Pierce Ave</td><td>41.9093960065</td><td>-87.6776919292</td></tr><tr><td>13268</td><td>Damen Ave & Wellington Ave</td><td>41.935837</td><td>-87.67849433333332</td></tr><tr><td>15667</td><td>Western Ave & Monroe St</td><td>41.8797877089</td><td>-87.68611280799999</td></tr><tr><td>13084</td><td>California Ave & Milwaukee Ave</td><td>41.922695000000004</td><td>-87.697153</td></tr><tr><td>15655</td><td>Albany Ave & Bloomingdale Ave</td><td>41.91393833333333</td><td>-87.70515433333334</td></tr><tr><td>17660</td><td>California Ave & Cortez St</td><td>41.900363</td><td>-87.696704</td></tr><tr><td>15651</td><td>Humboldt Blvd & Armitage Ave</td><td>41.91751339399</td><td>-87.7018089555</td></tr><tr><td>KA1504000146</td><td>Clark St & Berwyn Ave</td><td>41.9779966544</td><td>-87.6680471047</td></tr><tr><td>KA1504000151</td><td>Clark St & Bryn Mawr Ave</td><td>41.983593</td><td>-87.669154</td></tr><tr><td>KA1503000041</td><td>McClurg Ct & Erie St</td><td>41.894503</td><td>-87.61785400000001</td></tr><tr><td>TA1308000046</td><td>Morgan St & 31st St</td><td>41.83783666666667</td><td>-87.65113033333333</td></tr><tr><td>13266</td><td>Stave St & Armitage Ave</td><td>41.917741</td><td>-87.69139200000001</td></tr><tr><td>TA1307000124</td><td>Michigan Ave & 14th St</td><td>41.864059000000005</td><td>-87.623727</td></tr><tr><td>13196</td><td>Carpenter St & Huron St</td><td>41.894515166666665</td><td>-87.65350183333334</td></tr><tr><td>TA1306000029</td><td>Lake Shore Dr & Ohio St</td><td>41.89257</td><td>-87.614492</td></tr><tr><td>TA1307000052</td><td>Sheffield Ave & Wellington Ave</td><td>41.936265999999996</td><td>-87.652662</td></tr><tr><td>13021</td><td>Clinton St & Lake St</td><td>41.885637</td><td>-87.641823</td></tr><tr><td>TA1305000002</td><td>Wabash Ave & Roosevelt Rd</td><td>41.867227</td><td>-87.625961</td></tr><tr><td>KA1504000116</td><td>Larrabee St & Oak St</td><td>41.90021949323</td><td>-87.6429854676</td></tr><tr><td>TA1305000025</td><td>Franklin St & Jackson Blvd</td><td>41.87801183333333</td><td>-87.6355415</td></tr><tr><td>TA1305000034</td><td>Honore St & Division St</td><td>41.903119000000004</td><td>-87.673935</td></tr><tr><td>15644</td><td>Central Park Ave & Elbridge Ave</td><td>41.93533728263</td><td>-87.7168892935</td></tr><tr><td>TA1309000030</td><td>Southport Ave & Clybourn Ave</td><td>41.920771</td><td>-87.663712</td></tr><tr><td>13432</td><td>Wood St & Hubbard St</td><td>41.889899</td><td>-87.67147299999999</td></tr><tr><td>TA1308000049</td><td>Wells St & Evergreen Ave</td><td>41.906698</td><td>-87.63511366666668</td></tr><tr><td>KA1504000117</td><td>Halsted St & North Branch St</td><td>41.899368439209994</td><td>-87.64847987520001</td></tr><tr><td>RP-007</td><td>Clark St & Touhy Ave</td><td>42.01256011541</td><td>-87.6743671152</td></tr><tr><td>15529</td><td>Mies van der Rohe Way & Chestnut St</td><td>41.898586651399995</td><td>-87.6219152258</td></tr><tr><td>SL-008</td><td>Federal St & Polk St</td><td>41.87207763285</td><td>-87.6295437729</td></tr><tr><td>TA1307000005</td><td>Indiana Ave & 26th St</td><td>41.845687</td><td>-87.62248100000001</td></tr><tr><td>13068</td><td>Western Ave & Winnebago Ave</td><td>41.915541</td><td>-87.68713016666666</td></tr><tr><td>TA1307000039</td><td>Clark St & Elm St</td><td>41.902972999999996</td><td>-87.63128</td></tr><tr><td>13045</td><td>Dearborn St & Erie St</td><td>41.893992</td><td>-87.62931800000001</td></tr><tr><td>SL-012</td><td>Wabash Ave & 16th St</td><td>41.860384</td><td>-87.625813</td></tr><tr><td>TA1307000117</td><td>Wabash Ave & Grand Ave</td><td>41.891465999999994</td><td>-87.626761</td></tr><tr><td>15654</td><td>Spaulding Ave & Division St</td><td>41.90270659438</td><td>-87.709219571</td></tr><tr><td>13263</td><td>Columbus Dr & Randolph St</td><td>41.884728</td><td>-87.61952099999999</td></tr><tr><td>13247</td><td>Ashland Ave & Chicago Ave</td><td>41.895965999999994</td><td>-87.66774699999999</td></tr><tr><td>13132</td><td>Damen Ave & Chicago Ave</td><td>41.895666833333344</td><td>-87.67708133333332</td></tr><tr><td>TA1308000006</td><td>Damen Ave & Grand Ave</td><td>41.891264346481535</td><td>-87.676842212677</td></tr><tr><td>KA1503000069</td><td>Dorchester Ave & 49th St</td><td>41.805830666666665</td><td>-87.592499</td></tr><tr><td>15623</td><td>Campbell Ave & Montrose Ave</td><td>41.96153733333333</td><td>-87.6911475</td></tr><tr><td>13006</td><td>LaSalle St & Washington St</td><td>41.882664</td><td>-87.63253</td></tr><tr><td>15550</td><td>Canal St & Taylor St</td><td>41.870257</td><td>-87.63947399999999</td></tr><tr><td>13016</td><td>St. Clair St & Erie St</td><td>41.89434513742426</td><td>-87.62279838323593</td></tr><tr><td>TA1308000021</td><td>Winthrop Ave & Lawrence Ave</td><td>41.968812</td><td>-87.657659</td></tr><tr><td>LF-005</td><td>Lake Shore Dr & North Blvd</td><td>41.911722</td><td>-87.626804</td></tr><tr><td>TA1309000002</td><td>Michigan Ave & Jackson Blvd</td><td>41.87785</td><td>-87.62408</td></tr><tr><td>TA1305000037</td><td>Paulina Ave & North Ave</td><td>41.910337</td><td>-87.67007199999999</td></tr><tr><td>15541</td><td>Buckingham Fountain</td><td>41.87651122881695</td><td>-87.62054800987242</td></tr><tr><td>13022</td><td>Streeter Dr & Grand Ave</td><td>41.892278000000005</td><td>-87.612043</td></tr><tr><td>KA1706005007</td><td>Delano Ct & Roosevelt Rd</td><td>41.867490999999994</td><td>-87.63219000000001</td></tr><tr><td>TA1308000001</td><td>Theater on the Lake</td><td>41.926277</td><td>-87.630834</td></tr><tr><td>13294</td><td>Greenview Ave & Diversey Pkwy</td><td>41.932573</td><td>-87.6659865</td></tr><tr><td>15542</td><td>Clinton St & Polk St</td><td>41.871466517790005</td><td>-87.6409491327</td></tr><tr><td>13245</td><td>Claremont Ave & Hirsch St</td><td>41.907781</td><td>-87.685854</td></tr><tr><td>13001</td><td>Michigan Ave & Washington St</td><td>41.8839840647265</td><td>-87.6246839761734</td></tr><tr><td>TA1309000042</td><td>Lincoln Ave & Belmont Ave</td><td>41.939408666666665</td><td>-87.6683635</td></tr><tr><td>13033</td><td>Milwaukee Ave & Grand Ave</td><td>41.891578</td><td>-87.648384</td></tr><tr><td>TA1309000024</td><td>Clark St & Schiller St</td><td>41.90810066666667</td><td>-87.63155916666666</td></tr><tr><td>13265</td><td>Kingsbury St & Erie St</td><td>41.89380805624359</td><td>-87.64169722795485</td></tr><tr><td>13071</td><td>Southport Ave & Roscoe St</td><td>41.943739</td><td>-87.66402</td></tr><tr><td>13085</td><td>Kedzie Ave & Milwaukee Ave</td><td>41.92960383333333</td><td>-87.70789566666667</td></tr><tr><td>KA1504000090</td><td>St. Louis Ave & Fullerton Ave</td><td>41.92481559681187</td><td>-87.71449506282805</td></tr><tr><td>535</td><td>Pulaski Rd & Congress Pkwy</td><td>41.874325</td><td>-87.72570400000001</td></tr><tr><td>13277</td><td>Broadway & Belmont Ave</td><td>41.940106</td><td>-87.645451</td></tr><tr><td>KA1504000152</td><td>Lakefront Trail & Bryn Mawr Ave</td><td>41.98403669612</td><td>-87.6523104689</td></tr><tr><td>TA1309000058</td><td>Lincoln Ave & Fullerton Ave</td><td>41.92593</td><td>-87.64926666666666</td></tr><tr><td>16994</td><td>Kilbourn Ave & Milwaukee Ave</td><td>41.948803000000005</td><td>-87.73998116666668</td></tr><tr><td>13278</td><td>Broadway & Cornelia Ave</td><td>41.945529</td><td>-87.646439</td></tr><tr><td>E002</td><td>Chicago Ave & Washington St</td><td>42.032562</td><td>-87.679101</td></tr><tr><td>KA1504000080</td><td>Washtenaw Ave & Lawrence Ave</td><td>41.96867133333333</td><td>-87.6961615</td></tr><tr><td>TA1308000022</td><td>Pine Grove Ave & Irving Park Rd</td><td>41.954316166666665</td><td>-87.64809816666668</td></tr><tr><td>TA1309000027</td><td>Sheridan Rd & Buena Ave</td><td>41.958494</td><td>-87.654966</td></tr><tr><td>KA1504000155</td><td>2112 W Peterson Ave</td><td>41.991178000000005</td><td>-87.683593</td></tr><tr><td>TA1305000014</td><td>Clark St & Wrightwood Ave</td><td>41.929571</td><td>-87.64309033333332</td></tr><tr><td>TA1308000031</td><td>Logan Blvd & Elston Ave</td><td>41.929404999999996</td><td>-87.68418683333331</td></tr><tr><td>KA1504000164</td><td>Keystone Ave & Montrose Ave</td><td>41.96110801623</td><td>-87.7289701012</td></tr><tr><td>15640</td><td>Avers Ave & Belmont Ave</td><td>41.939408</td><td>-87.723574</td></tr><tr><td>620</td><td>Orleans St & Chestnut St (NEXT Apts)</td><td>41.898203</td><td>-87.637536</td></tr><tr><td>TA1309000061</td><td>Halsted St & Wrightwood Ave</td><td>41.929142999999996</td><td>-87.649077</td></tr><tr><td>TA1308000050</td><td>Wells St & Concord Ln</td><td>41.912133000000004</td><td>-87.634656</td></tr><tr><td>13379</td><td>Clarendon Ave & Gordon Ter</td><td>41.95786233333333</td><td>-87.649478</td></tr><tr><td>13389</td><td>Clarendon Ave & Junior Ter</td><td>41.961003999999996</td><td>-87.649603</td></tr><tr><td>KA1504000161</td><td>St. Louis Ave & Balmoral Ave</td><td>41.98039423475</td><td>-87.7161149615</td></tr><tr><td>TA1307000149</td><td>Ravenswood Ave & Irving Park Rd</td><td>41.95469</td><td>-87.67393</td></tr><tr><td>13224</td><td>Ashland Ave & Blackhawk St</td><td>41.907066</td><td>-87.667252</td></tr><tr><td>TA1306000009</td><td>Larrabee St & Kingsbury St</td><td>41.897764</td><td>-87.642884</td></tr><tr><td>605</td><td>University Library (NU)</td><td>42.052939</td><td>-87.673447</td></tr><tr><td>KA1504000134</td><td>Ritchie Ct & Banks St</td><td>41.90704933333333</td><td>-87.62598233333334</td></tr><tr><td>KA1503000007</td><td>Cornell Ave & Hyde Park Blvd</td><td>41.802406</td><td>-87.586924</td></tr><tr><td>520</td><td>Greenview Ave & Jarvis Ave</td><td>42.015962</td><td>-87.66856999999999</td></tr><tr><td>13144</td><td>Seeley Ave & Roscoe St</td><td>41.943403</td><td>-87.679618</td></tr><tr><td>517</td><td>Clark St & Jarvis Ave</td><td>42.0159715</td><td>-87.67504016666666</td></tr><tr><td>638</td><td>Clinton St & Jackson Blvd</td><td>41.878063833333336</td><td>-87.64004366666668</td></tr><tr><td>KA1503000070</td><td>Harper Ave & 59th St</td><td>41.78794281287</td><td>-87.5883151702</td></tr><tr><td>13197</td><td>Elizabeth (May) St & Fulton St</td><td>41.886616486027656</td><td>-87.65803992748259</td></tr><tr><td>13191</td><td>Sedgwick St & Webster Ave</td><td>41.922167</td><td>-87.638888</td></tr><tr><td>KA1504000175</td><td>Glenwood Ave & Morse Ave</td><td>42.00797192287</td><td>-87.66550239440001</td></tr><tr><td>13008</td><td>Millennium Park</td><td>41.8810317</td><td>-87.62408432</td></tr><tr><td>TA1307000006</td><td>Southport Ave & Wellington Ave</td><td>41.935733</td><td>-87.663576</td></tr><tr><td>13338</td><td>Mies van der Rohe Way & Chicago Ave</td><td>41.89691</td><td>-87.62174300000001</td></tr><tr><td>13011</td><td>Canal St & Adams St</td><td>41.879255</td><td>-87.639904</td></tr><tr><td>KA1504000159</td><td>Sheridan Rd & Greenleaf Ave</td><td>42.010586562840004</td><td>-87.66241209479999</td></tr><tr><td>13292</td><td>Kedzie Ave & Palmer Ct</td><td>41.921525</td><td>-87.70732199999999</td></tr><tr><td>RN-</td><td>Franklin St & Illinois St</td><td>41.89102331025185</td><td>-87.63547986745834</td></tr><tr><td>13256</td><td>California Ave & Division St</td><td>41.903029</td><td>-87.697474</td></tr><tr><td>TA1308000029</td><td>Stetson Ave & South Water St</td><td>41.886835</td><td>-87.62232</td></tr><tr><td>15491</td><td>63rd St Beach</td><td>41.78101637195999</td><td>-87.5761197602</td></tr><tr><td>TA1309000021</td><td>Paulina St & Montrose Ave</td><td>41.961507</td><td>-87.671387</td></tr><tr><td>13354</td><td>Ashland Ave & 13th St</td><td>41.865234</td><td>-87.666507</td></tr><tr><td>TA1307000159</td><td>Paulina St & 18th St</td><td>41.857901</td><td>-87.668745</td></tr><tr><td>TA1309000037</td><td>Kimbark Ave & 53rd St</td><td>41.799568</td><td>-87.594747</td></tr><tr><td>KA1504000158</td><td>Oakley Ave & Irving Park Rd</td><td>41.95434085219</td><td>-87.6860796243</td></tr><tr><td>13332</td><td>Loomis St & Lexington St</td><td>41.872187</td><td>-87.661501</td></tr><tr><td>TA1308000005</td><td>Leavitt St & North Ave</td><td>41.910140000000006</td><td>-87.68235233333333</td></tr><tr><td>TA1307000138</td><td>Lincoln Ave & Roscoe St</td><td>41.94334</td><td>-87.67097</td></tr><tr><td>KA1503000040</td><td>Loomis St & Archer Ave</td><td>41.84163253965</td><td>-87.6574349533</td></tr><tr><td>TA1307000134</td><td>Wilton Ave & Belmont Ave</td><td>41.94018</td><td>-87.65304</td></tr><tr><td>13136</td><td>Damen Ave & Division St</td><td>41.903265999999995</td><td>-87.678435</td></tr><tr><td>TA1308000035</td><td>Lake Park Ave & 47th St</td><td>41.809443</td><td>-87.591875</td></tr><tr><td>TA1309000029</td><td>Leavitt St & Armitage Ave</td><td>41.917805</td><td>-87.682437</td></tr><tr><td>13154</td><td>Sheffield Ave & Kingsbury St</td><td>41.910522</td><td>-87.65310600000001</td></tr><tr><td>13135</td><td>Blue Island Ave & 18th St</td><td>41.857556</td><td>-87.661535</td></tr><tr><td>13096</td><td>California Ave & 21st St</td><td>41.853804</td><td>-87.69574200000001</td></tr><tr><td>TA1309000012</td><td>Damen Ave & Sunnyside Ave</td><td>41.96325</td><td>-87.67925799999999</td></tr><tr><td>13304</td><td>Racine Ave & 15th St</td><td>41.861267</td><td>-87.656625</td></tr><tr><td>KA1504000076</td><td>Ellis Ave & 55th St</td><td>41.79430062054001</td><td>-87.6014497734</td></tr><tr><td>SL-007</td><td>State St & Harrison St</td><td>41.874053</td><td>-87.627716</td></tr><tr><td>657</td><td>Wood St & Augusta Blvd</td><td>41.899181</td><td>-87.6722</td></tr><tr><td>TA1309000018</td><td>Ravenswood Ave & Berteau Ave</td><td>41.957921</td><td>-87.673567</td></tr><tr><td>13029</td><td>Field Museum</td><td>41.865312</td><td>-87.617867</td></tr><tr><td>TA1306000002</td><td>Morgan Ave & 14th Pl</td><td>41.862378</td><td>-87.651062</td></tr><tr><td>TA1309000035</td><td>Clark St & Winnemac Ave</td><td>41.97338333333333</td><td>-87.66773616666669</td></tr><tr><td>13307</td><td>Laflin St & Cullerton St</td><td>41.85491457576575</td><td>-87.66355991363525</td></tr><tr><td>643</td><td>Smith Park</td><td>41.891996166666665</td><td>-87.68938299999999</td></tr><tr><td>13325</td><td>Broadway & Waveland Ave</td><td>41.949073999999996</td><td>-87.648636</td></tr><tr><td>TA1305000039</td><td>Marshfield Ave & Cortland St</td><td>41.91604933333333</td><td>-87.6689225</td></tr><tr><td>TA1307000144</td><td>Wolcott (Ravenswood) Ave & Montrose Ave</td><td>41.96144316666667</td><td>-87.67620366666668</td></tr><tr><td>18062</td><td>Aberdeen St & Randolph St</td><td>41.884114000000004</td><td>-87.654264</td></tr><tr><td>13073</td><td>Ashland Ave & Lake St</td><td>41.88585116666667</td><td>-87.6671645</td></tr><tr><td>TA1309000026</td><td>Lincoln Ave & Belle Plaine Ave</td><td>41.95602616666667</td><td>-87.68023516666666</td></tr><tr><td>15621</td><td>Albany Ave & Montrose Ave</td><td>41.961040999999994</td><td>-87.705866</td></tr><tr><td>TA1308000009</td><td>Shore Dr & 55th St</td><td>41.795212</td><td>-87.580715</td></tr><tr><td>TA1307000044</td><td>Clinton St & 18th St</td><td>41.85795</td><td>-87.640826</td></tr><tr><td>13143</td><td>Damen Ave & Melrose Ave</td><td>41.940571666666656</td><td>-87.67868916666669</td></tr><tr><td>20121</td><td>Loomis Blvd & 84th St</td><td>41.741487</td><td>-87.65841</td></tr><tr><td>TA1309000007</td><td>Franklin St & Monroe St</td><td>41.880317</td><td>-87.63518499999999</td></tr><tr><td>KA1504000127</td><td>Manor Ave & Leland Ave</td><td>41.965875</td><td>-87.700825</td></tr><tr><td>13063</td><td>Sheridan Rd & Irving Park Rd</td><td>41.954245</td><td>-87.65440600000001</td></tr><tr><td>TA1307000150</td><td>Pine Grove Ave & Waveland Ave</td><td>41.94947274088333</td><td>-87.64645278453827</td></tr><tr><td>13341</td><td>Canal St & Madison St</td><td>41.882090999999996</td><td>-87.639833</td></tr><tr><td>13179</td><td>Clark St & Lincoln Ave</td><td>41.9157335</td><td>-87.63461466666666</td></tr><tr><td>13296</td><td>Ashland Ave & Wrightwood Ave</td><td>41.92883</td><td>-87.66850699999999</td></tr><tr><td>TA1309000023</td><td>Sheffield Ave & Wrightwood Ave</td><td>41.928712</td><td>-87.65383299999999</td></tr><tr><td>13108</td><td>Broadway & Argyle St</td><td>41.973815</td><td>-87.65966</td></tr><tr><td>TA1307000142</td><td>Clark St & Drummond Pl</td><td>41.931248</td><td>-87.644336</td></tr><tr><td>TA1309000039</td><td>Lake Shore Dr & Diversey Pkwy</td><td>41.932588</td><td>-87.636427</td></tr><tr><td>TA1309000043</td><td>Southport Ave & Irving Park Rd</td><td>41.954177</td><td>-87.664358</td></tr><tr><td>KA17018054</td><td>Damen Ave & Walnut (Lake) St</td><td>41.885919666666666</td><td>-87.67707300000002</td></tr><tr><td>SL-006</td><td>Wells St & 19th St</td><td>41.856802</td><td>-87.63387900000001</td></tr><tr><td>13192</td><td>Halsted St & Dickens Ave</td><td>41.919936</td><td>-87.64883</td></tr><tr><td>TA1308000014</td><td>Normal Ave & Archer Ave</td><td>41.849556666666665</td><td>-87.64060433333331</td></tr><tr><td>331</td><td>Halsted St & Clybourn Ave</td><td>41.909667999999996</td><td>-87.648128</td></tr><tr><td>TA1307000158</td><td>Damen Ave & Leland Ave</td><td>41.96710316666667</td><td>-87.6790435</td></tr><tr><td>13128</td><td>Clark St & North Ave</td><td>41.911974</td><td>-87.63194200000001</td></tr><tr><td>TA1305000005</td><td>Dearborn St & Adams St</td><td>41.8793563587</td><td>-87.62979103629999</td></tr><tr><td>TA1306000014</td><td>Wilton Ave & Diversey Pkwy</td><td>41.932418</td><td>-87.65270500000001</td></tr><tr><td>TA1307000131</td><td>Wabash Ave & Wacker Pl</td><td>41.886875</td><td>-87.62603</td></tr><tr><td>TA1306000032</td><td>Sheffield Ave & Willow St</td><td>41.913688</td><td>-87.652855</td></tr><tr><td>KA1504000082</td><td>Kedzie Ave & Harrison St</td><td>41.8736</td><td>-87.704871</td></tr><tr><td>SL-009</td><td>Clark St & 9th St (AMLI)</td><td>41.870816</td><td>-87.63124599999999</td></tr><tr><td>TA1307000041</td><td>Lake Shore Dr & Wellington Ave</td><td>41.936688449499705</td><td>-87.63682901859283</td></tr><tr><td>TA1309000019</td><td>Lakeview Ave & Fullerton Pkwy</td><td>41.92582616666667</td><td>-87.63898233333332</td></tr><tr><td>13137</td><td>Broadway & Barry Ave</td><td>41.93761283333333</td><td>-87.64412966666669</td></tr><tr><td>13434</td><td>Ashland Ave & Grand Ave</td><td>41.891082166666656</td><td>-87.6667135</td></tr><tr><td>TA1307000126</td><td>Sheffield Ave & Waveland Ave</td><td>41.949399</td><td>-87.65452900000001</td></tr><tr><td>13194</td><td>Ogden Ave & Race Ave</td><td>41.89182266666667</td><td>-87.65879433333332</td></tr><tr><td>13017</td><td>Franklin St & Chicago Ave</td><td>41.89674697309381</td><td>-87.63566762208939</td></tr><tr><td>TA1307000140</td><td>Western Ave & Leland Ave</td><td>41.96649453206122</td><td>-87.68841862678528</td></tr><tr><td>15622</td><td>California Ave & Montrose Ave</td><td>41.961068</td><td>-87.69543900000001</td></tr><tr><td>13430</td><td>LaSalle St & Illinois St</td><td>41.89080633333333</td><td>-87.63156666666669</td></tr><tr><td>KA1503000002</td><td>South Shore Dr & 71st St</td><td>41.7664094567</td><td>-87.5656875719</td></tr><tr><td>TA1305000003</td><td>Fairbanks Ct & Grand Ave</td><td>41.89184737210993</td><td>-87.62058019638063</td></tr><tr><td>13431</td><td>Adler Planetarium</td><td>41.866095</td><td>-87.60726700000001</td></tr><tr><td>TA1307000120</td><td>Green St & Madison St</td><td>41.881892</td><td>-87.64878900000001</td></tr><tr><td>WL-012</td><td>Clinton St & Washington Blvd</td><td>41.883379999999995</td><td>-87.64116999999999</td></tr><tr><td>18069</td><td>Cherry Ave & Blackhawk St</td><td>41.907221</td><td>-87.655618</td></tr><tr><td>TA1309000067</td><td>Cottage Grove Ave & 51st St</td><td>41.803038</td><td>-87.606615</td></tr><tr><td>KA1504000097</td><td>Drake Ave & Montrose Ave</td><td>41.961154075690004</td><td>-87.7165690733</td></tr><tr><td>15571</td><td>Broadway & Granville Ave</td><td>41.99473316666667</td><td>-87.660209</td></tr><tr><td>15689</td><td>California Ave & 23rd Pl</td><td>41.84910969176</td><td>-87.6951398068</td></tr><tr><td>TA1307000064</td><td>Lincoln Ave & Diversey Pkwy</td><td>41.932225</td><td>-87.658617</td></tr><tr><td>KA1503000047</td><td>Perry Ave & 69th St</td><td>41.76929308995</td><td>-87.6281959291</td></tr><tr><td>13102</td><td>Calumet Ave & 18th St</td><td>41.857611</td><td>-87.619407</td></tr><tr><td>TA1307000111</td><td>Franklin St & Lake St</td><td>41.885837</td><td>-87.6355</td></tr><tr><td>13056</td><td>Canal St & Monroe St</td><td>41.88169</td><td>-87.63953000000001</td></tr><tr><td>13036</td><td>Michigan Ave & Madison St</td><td>41.881901166666665</td><td>-87.6251145</td></tr><tr><td>13427</td><td>Cityfront Plaza Dr & Pioneer Ct</td><td>41.890572999999996</td><td>-87.622072</td></tr><tr><td>SL-010</td><td>Financial Pl & Ida B Wells Dr</td><td>41.8750236280333</td><td>-87.6330940425396</td></tr><tr><td>18067</td><td>Walsh Park</td><td>41.914609999999996</td><td>-87.667968</td></tr><tr><td>13398</td><td>Blackstone Ave & Hyde Park Blvd</td><td>41.802562</td><td>-87.59036800000001</td></tr><tr><td>13353</td><td>Ada St & Washington Blvd</td><td>41.882857</td><td>-87.6611585</td></tr><tr><td>TA1305000006</td><td>Dearborn St & Monroe St</td><td>41.881319815</td><td>-87.6295209193</td></tr><tr><td>TA1309000036</td><td>Burling St & Diversey Pkwy</td><td>41.93314</td><td>-87.64775999999999</td></tr><tr><td>TA1305000030</td><td>Clark St & Randolph St</td><td>41.884576228</td><td>-87.63188991</td></tr><tr><td>TA1305000010</td><td>Michigan Ave & Ida B Wells Dr</td><td>41.87618783333333</td><td>-87.624402</td></tr><tr><td>TA1306000026</td><td>Racine Ave & Fullerton Ave</td><td>41.92556258</td><td>-87.65840426</td></tr><tr><td>654</td><td>Racine Ave & Washington Blvd</td><td>41.883072999999996</td><td>-87.656952</td></tr><tr><td>TA1308000019</td><td>Racine Ave & Belmont Ave</td><td>41.939747333333344</td><td>-87.65883216666668</td></tr><tr><td>13165</td><td>Racine Ave & 13th St</td><td>41.865054</td><td>-87.656959</td></tr><tr><td>13409</td><td>Sangamon St & Washington Blvd</td><td>41.883165000000005</td><td>-87.6511</td></tr><tr><td>WL-011</td><td>Jefferson St & Monroe St</td><td>41.880421999999996</td><td>-87.642746</td></tr><tr><td>15646</td><td>California Ave & Altgeld St</td><td>41.926641833333335</td><td>-87.69780033333332</td></tr><tr><td>KA1504000104</td><td>Paulina St & Flournoy St</td><td>41.87295</td><td>-87.66913000000001</td></tr><tr><td>13300</td><td>Lake Shore Dr & Monroe St</td><td>41.880958</td><td>-87.616743</td></tr><tr><td>13269</td><td>Ashland Ave & Wellington Ave</td><td>41.936083</td><td>-87.66980699999999</td></tr><tr><td>TA1308000026</td><td>Wentworth Ave & 24th St (Temp)</td><td>41.850083693475774</td><td>-87.6321405172348</td></tr><tr><td>644</td><td>Western Ave & Fillmore St</td><td>41.868563</td><td>-87.686234</td></tr><tr><td>15650</td><td>Spaulding Ave & Armitage Ave</td><td>41.91710803478932</td><td>-87.71022096276283</td></tr><tr><td>TA1307000113</td><td>Southport Ave & Wrightwood Ave</td><td>41.928773</td><td>-87.663913</td></tr><tr><td>TA1307000128</td><td>Dearborn Pkwy & Delaware Pl</td><td>41.899047499999995</td><td>-87.62992833333334</td></tr><tr><td>TA1306000008</td><td>Larrabee St & North Ave</td><td>41.91021</td><td>-87.6435</td></tr><tr><td>636</td><td>Orleans St & Hubbard St</td><td>41.890028</td><td>-87.636618</td></tr><tr><td>TA1307000143</td><td>Sedgwick St & Schiller St</td><td>41.9075635</td><td>-87.6385625</td></tr><tr><td>KA150400009X</td><td>Kimball Ave & Belmont Ave</td><td>41.939398</td><td>-87.711561</td></tr><tr><td>TA1307000130</td><td>Morgan St & Polk St</td><td>41.871736999999996</td><td>-87.65103</td></tr><tr><td>18016</td><td>Bernard St & Elston Ave</td><td>41.949923</td><td>-87.713949</td></tr><tr><td>TA1307000062</td><td>Sedgwick St & Huron St</td><td>41.894666</td><td>-87.638437</td></tr><tr><td>LP-</td><td>Lincoln Park Conservatory</td><td>41.92393131136619</td><td>-87.63582453131676</td></tr><tr><td>13050</td><td>State St & Kinzie St</td><td>41.889187</td><td>-87.62775400000001</td></tr><tr><td>13243</td><td>Milwaukee Ave & Wabansia Ave</td><td>41.912616</td><td>-87.681391</td></tr><tr><td>E011</td><td>Dodge Ave & Main St</td><td>42.034832</td><td>-87.6991795</td></tr><tr><td>KA1503000014</td><td>Ellis Ave & 60th St</td><td>41.785097146359995</td><td>-87.60107276059999</td></tr><tr><td>RP-009</td><td>Sheridan Rd & Loyola Ave</td><td>42.00104377979</td><td>-87.66119824329999</td></tr><tr><td>KA1504000129</td><td>Western Ave & Granville Ave</td><td>41.994184499999996</td><td>-87.68942416666668</td></tr><tr><td>13138</td><td>Canal St & Jackson Blvd</td><td>41.877245</td><td>-87.63936600000001</td></tr><tr><td>KA1503000052</td><td>Ellis Ave & 53rd St</td><td>41.79933626261</td><td>-87.6009581145</td></tr><tr><td>18017</td><td>Central Park Ave & Bloomingdale Ave</td><td>41.914165999999994</td><td>-87.716755</td></tr><tr><td>TA1309000032</td><td>Elston Ave & Wabansia Ave</td><td>41.91294716666667</td><td>-87.66418416666669</td></tr><tr><td>TA1307000160</td><td>Prairie Ave & Garfield Blvd</td><td>41.794853</td><td>-87.618691</td></tr><tr><td>15632</td><td>Talman Ave & Addison St</td><td>41.946638666666665</td><td>-87.69468766666668</td></tr><tr><td>15545</td><td>Burnham Harbor</td><td>41.856268</td><td>-87.613348</td></tr><tr><td>20239</td><td>Marquette Ave & 89th St</td><td>41.73366879071472</td><td>-87.55834221839905</td></tr><tr><td>TA1308000002</td><td>Greenwood Ave & 47th St</td><td>41.809835</td><td>-87.59938299999999</td></tr><tr><td>TA1309000049</td><td>Lake Shore Dr & Belmont Ave</td><td>41.940775</td><td>-87.63919200000001</td></tr><tr><td>13289</td><td>Eckhart Park</td><td>41.89637337</td><td>-87.66098386</td></tr><tr><td>TA1307000121</td><td>Halsted St & Polk St</td><td>41.87184</td><td>-87.64664</td></tr><tr><td>13139</td><td>Throop St & Taylor St</td><td>41.868968</td><td>-87.659141</td></tr><tr><td>13053</td><td>Green St & Randolph St</td><td>41.883668</td><td>-87.64867</td></tr><tr><td>632</td><td>Clark St & Newport St</td><td>41.94454</td><td>-87.654678</td></tr><tr><td>536</td><td>Kostner Ave & Lake St</td><td>41.885928</td><td>-87.73541</td></tr><tr><td>13271</td><td>Damen Ave & Clybourn Ave</td><td>41.931931</td><td>-87.677856</td></tr><tr><td>13034</td><td>Michigan Ave & Pearson St</td><td>41.897659999999995</td><td>-87.62351</td></tr><tr><td>TA1307000001</td><td>Greenview Ave & Fullerton Ave</td><td>41.925329999999995</td><td>-87.6658</td></tr><tr><td>13290</td><td>Noble St & Milwaukee Ave</td><td>41.90068</td><td>-87.6626</td></tr><tr><td>TA1307000115</td><td>Clybourn Ave & Division St</td><td>41.904613</td><td>-87.640552</td></tr><tr><td>Hubbard Bike-checking (LBS-WH-TEST)</td><td>Base - 2132 W Hubbard Warehouse</td><td>41.88995451607409</td><td>-87.68065094947815</td></tr><tr><td>15652</td><td>Central Park Ave & North Ave</td><td>41.90965687563</td><td>-87.7166319516</td></tr><tr><td>KA1503000015</td><td>Wabash Ave & Adams St</td><td>41.87947235235</td><td>-87.6256886059</td></tr><tr><td>TA1307000066</td><td>Damen Ave & Coulter St</td><td>41.8491195</td><td>-87.67570183333332</td></tr><tr><td>KA1504000162</td><td>Clark St & Lunt Ave</td><td>42.009074</td><td>-87.67419</td></tr><tr><td>TA1305000035</td><td>State St & Van Buren St</td><td>41.877181</td><td>-87.627844</td></tr><tr><td>15443</td><td>Shields Ave & 28th Pl</td><td>41.84284333333333</td><td>-87.63548</td></tr><tr><td>13059</td><td>Bissell St & Armitage Ave</td><td>41.918440000000004</td><td>-87.65222</td></tr><tr><td>KA1503000038</td><td>Shields Ave & 31st St</td><td>41.838464</td><td>-87.635406</td></tr><tr><td>KA1503000066</td><td>Wood St & 35th St</td><td>41.830104654159996</td><td>-87.67029830889999</td></tr><tr><td>TA1307000163</td><td>Clifton Ave & Armitage Ave</td><td>41.918215999999994</td><td>-87.656936</td></tr><tr><td>TA1309000001</td><td>Halsted St & Maxwell St</td><td>41.864883</td><td>-87.647071</td></tr><tr><td>TA1309000055</td><td>Emerald Ave & 31st St</td><td>41.838198</td><td>-87.645143</td></tr><tr><td>514</td><td>Ridge Blvd & Howard St</td><td>42.019276</td><td>-87.68451999999999</td></tr><tr><td>KA1504000103</td><td>Western Ave & Walton St</td><td>41.89841768945</td><td>-87.68659601639999</td></tr><tr><td>15535</td><td>Desplaines St & Randolph St</td><td>41.88461618962</td><td>-87.6445705849</td></tr><tr><td>TA1307000153</td><td>Emerald Ave & 28th St</td><td>41.843579999999996</td><td>-87.645368</td></tr><tr><td>13217</td><td>Calumet Ave & 33rd St</td><td>41.8349</td><td>-87.61793</td></tr><tr><td>15446</td><td>Racine Ave & 35th St</td><td>41.83069611252</td><td>-87.6559759116</td></tr><tr><td>13160</td><td>May St & Taylor St</td><td>41.8694821</td><td>-87.6554864</td></tr><tr><td>KA1503000043</td><td>Kingsbury St & Kinzie St</td><td>41.88917683258</td><td>-87.6385057718</td></tr><tr><td>TA1306000003</td><td>Desplaines St & Kinzie St</td><td>41.888716036</td><td>-87.6444478533</td></tr><tr><td>15442</td><td>Ashland Ave & Archer Ave</td><td>41.83920868403</td><td>-87.6656098589</td></tr><tr><td>15539</td><td>Desplaines St & Jackson Blvd</td><td>41.878161166666665</td><td>-87.64428766666668</td></tr><tr><td>KA1503000032</td><td>Union Ave & Root St</td><td>41.819102</td><td>-87.64327800000001</td></tr><tr><td>13345</td><td>Calumet Ave & 35th St</td><td>41.831379</td><td>-87.618034</td></tr><tr><td>13162</td><td>Halsted St & 21st St</td><td>41.85377981072743</td><td>-87.6466029882431</td></tr><tr><td>13157</td><td>Aberdeen St & Jackson Blvd</td><td>41.87772613</td><td>-87.65478743</td></tr><tr><td>TA1307000129</td><td>State St & 35th St</td><td>41.8310363140161</td><td>-87.62679755687714</td></tr><tr><td>RP-005</td><td>Western Ave & Lunt Ave</td><td>42.0085943972</td><td>-87.69049223889999</td></tr><tr><td>KA1503000027</td><td>Prairie Ave & 43rd St</td><td>41.81665889302</td><td>-87.61941246190001</td></tr><tr><td>TA1305000020</td><td>Ogden Ave & Chicago Ave</td><td>41.896362458</td><td>-87.65406127290001</td></tr><tr><td>TA1306000025</td><td>Racine Ave & Congress Pkwy</td><td>41.87464</td><td>-87.65703</td></tr><tr><td>16010</td><td>Keystone Ave & Fullerton Ave</td><td>41.92459</td><td>-87.72785</td></tr><tr><td>TA1309000064</td><td>Wolcott Ave & Polk St</td><td>41.871262</td><td>-87.673688</td></tr><tr><td>KA1504000142</td><td>Drake Ave & Addison St</td><td>41.947326000000004</td><td>-87.717582</td></tr><tr><td>KA1503000074</td><td>Museum of Science and Industry</td><td>41.79172820953</td><td>-87.58394500899999</td></tr><tr><td>TA1309000011</td><td>Ellis Ave & 58th St</td><td>41.788746</td><td>-87.601334</td></tr><tr><td>KA1503000013</td><td>Princeton Ave & Garfield Blvd</td><td>41.794982</td><td>-87.633124</td></tr><tr><td>KA1503000020</td><td>South Shore Dr & 74th St</td><td>41.76218896038</td><td>-87.55927465</td></tr><tr><td>TA1307000164</td><td>Woodlawn Ave & 55th St</td><td>41.795264</td><td>-87.596471</td></tr><tr><td>KA1503000071</td><td>University Ave & 57th St</td><td>41.791478000000005</td><td>-87.599861</td></tr><tr><td>KA1503000068</td><td>Leavitt St & Archer Ave</td><td>41.82879201994</td><td>-87.6806044594</td></tr><tr><td>KA1503000065</td><td>Woodlawn Ave & Lake Park Ave</td><td>41.81409271048</td><td>-87.5970051479</td></tr><tr><td>13257</td><td>Campbell Ave & North Ave</td><td>41.910534999999996</td><td>-87.68955600000001</td></tr><tr><td>TA1308000007</td><td>MLK Jr Dr & 47th St</td><td>41.809851</td><td>-87.616279</td></tr><tr><td>13326</td><td>Canal St & Harrison St</td><td>41.874255</td><td>-87.639573</td></tr><tr><td>TA1309000059</td><td>Racine Ave & Wrightwood Ave</td><td>41.928886999999996</td><td>-87.658971</td></tr><tr><td>KA1504000109</td><td>Washtenaw Ave & Ogden Ave</td><td>41.86193049278259</td><td>-87.69345045089722</td></tr><tr><td>13099</td><td>Halsted St & 18th St</td><td>41.857499</td><td>-87.646277</td></tr><tr><td>TA1307000127</td><td>Clark St & Grace St</td><td>41.95078</td><td>-87.659172</td></tr><tr><td>13258</td><td>California Ave & North Ave</td><td>41.91044</td><td>-87.6972</td></tr><tr><td>13155</td><td>Racine Ave & Randolph St</td><td>41.884069000000004</td><td>-87.656853</td></tr><tr><td>KA1504000148</td><td>Clark St & Elmdale Ave</td><td>41.990860448125574</td><td>-87.66972362995148</td></tr><tr><td>13319</td><td>Ashland Ave & Grace St</td><td>41.950687</td><td>-87.6687</td></tr><tr><td>TA1308000012</td><td>Montrose Harbor</td><td>41.963982</td><td>-87.638181</td></tr><tr><td>KA1504000171</td><td>Marine Dr & Ainslie St</td><td>41.9716</td><td>-87.650154</td></tr><tr><td>15648</td><td>Campbell Ave & Fullerton Ave</td><td>41.92463247165</td><td>-87.6893070063</td></tr><tr><td>13074</td><td>Broadway & Wilson - Truman College Vaccination Site</td><td>41.965221</td><td>-87.658139</td></tr><tr><td>TA1305000001</td><td>Wabash Ave & Cermak Rd</td><td>41.852619</td><td>-87.626488</td></tr><tr><td>TA1309000041</td><td>Sheridan Rd & Lawrence Ave</td><td>41.9694705</td><td>-87.6547185</td></tr><tr><td>15645</td><td>Richmond St & Diversey Ave</td><td>41.93190196886</td><td>-87.7011951301</td></tr><tr><td>TA1305000017</td><td>Halsted St & Roosevelt Rd</td><td>41.867323999999996</td><td>-87.648625</td></tr><tr><td>13248</td><td>Ashland Ave & Augusta Blvd</td><td>41.899643</td><td>-87.6677</td></tr><tr><td>13037</td><td>Clinton St & Tilden St</td><td>41.875885</td><td>-87.640795</td></tr><tr><td>KA1504000078</td><td>Lincoln Ave & Winona St</td><td>41.97491129677</td><td>-87.69250255940001</td></tr><tr><td>13229</td><td>Southport Ave & Belmont Ave</td><td>41.93947775040509</td><td>-87.6637476682663</td></tr><tr><td>TA1309000033</td><td>Sheffield Ave & Webster Ave</td><td>41.92154</td><td>-87.653818</td></tr><tr><td>TA1306000007</td><td>Larrabee St & Menomonee St</td><td>41.91468</td><td>-87.64331999999999</td></tr><tr><td>TA1307000156</td><td>Lincoln Ave & Sunnyside Ave</td><td>41.963004</td><td>-87.684781</td></tr><tr><td>13215</td><td>Rhodes Ave & 32nd St</td><td>41.83670583333333</td><td>-87.61341483333334</td></tr><tr><td>639</td><td>Lakefront Trail & Wilson Ave</td><td>41.965845</td><td>-87.645361</td></tr><tr><td>13124</td><td>Cannon Dr & Fullerton Ave</td><td>41.9267559875</td><td>-87.6344287848</td></tr><tr><td>15544</td><td>Shedd Aquarium</td><td>41.86722595682</td><td>-87.61535539020001</td></tr><tr><td>599</td><td>Valli Produce - Evanston Plaza</td><td>42.039742</td><td>-87.699413</td></tr><tr><td>546</td><td>Damen Ave & Pershing Rd</td><td>41.823192</td><td>-87.676597</td></tr><tr><td>15691</td><td>Albany Ave & 26th St</td><td>41.844475013659995</td><td>-87.70201301280001</td></tr><tr><td>KA1503000075</td><td>DuSable Museum</td><td>41.79156801058</td><td>-87.60785217739999</td></tr><tr><td>515</td><td>Paulina St & Howard St</td><td>42.019159</td><td>-87.673573</td></tr><tr><td>15664</td><td>Artesian Ave & Hubbard St</td><td>41.88949181977</td><td>-87.68821936479999</td></tr><tr><td>15668</td><td>Western Ave & Congress Pkwy</td><td>41.874748850790006</td><td>-87.6864452757</td></tr><tr><td>13134</td><td>Damen Ave & Madison St</td><td>41.881370000000004</td><td>-87.67493</td></tr><tr><td>KA1504000102</td><td>Fairfield Ave & Roosevelt Rd</td><td>41.866624</td><td>-87.694521</td></tr><tr><td>13091</td><td>Western Ave & 21st St</td><td>41.854109</td><td>-87.685838</td></tr><tr><td>598</td><td>Elmwood Ave & Austin St</td><td>42.02579</td><td>-87.6841135</td></tr><tr><td>600</td><td>Dodge Ave & Church St</td><td>42.048308</td><td>-87.698224</td></tr><tr><td>15634</td><td>Western Ave & Roscoe St</td><td>41.943093</td><td>-87.6873335</td></tr><tr><td>661</td><td>Evanston Civic Center</td><td>42.057044</td><td>-87.686554</td></tr><tr><td>13028</td><td>900 W Harrison St</td><td>41.874753999999996</td><td>-87.649807</td></tr><tr><td>KA1504000156</td><td>Clark St & Schreiber Ave</td><td>41.99925182186</td><td>-87.67137733930001</td></tr><tr><td>E014</td><td>Lincolnwood Dr & Central St</td><td>42.064854</td><td>-87.71529699999999</td></tr><tr><td>TA1307000038</td><td>Sedgwick St & North Ave</td><td>41.91141</td><td>-87.638713</td></tr><tr><td>E006</td><td>Central St Metra</td><td>42.063598</td><td>-87.69873</td></tr><tr><td>KA1503000018</td><td>Jeffery Blvd & 71st St</td><td>41.76663823695</td><td>-87.5764501141</td></tr><tr><td>13163</td><td>Morgan St & 18th St</td><td>41.858086</td><td>-87.651073</td></tr><tr><td>TA1307000136</td><td>Clark St & Wellington Ave</td><td>41.9364968219</td><td>-87.64753865819999</td></tr><tr><td>TA1308000038</td><td>Cottage Grove Ave & Oakwood Blvd</td><td>41.822984999999996</td><td>-87.6071</td></tr><tr><td>TA1308000043</td><td>Halsted St & 35th St</td><td>41.830661</td><td>-87.647172</td></tr><tr><td>15546</td><td>Calumet Ave & 21st St</td><td>41.85418424947</td><td>-87.6191537415</td></tr><tr><td>KA1504000101</td><td>Ogden Ave & Roosevelt Rd</td><td>41.86650148316</td><td>-87.68469707</td></tr><tr><td>13075</td><td>Wentworth Ave & Cermak Rd</td><td>41.85308455741279</td><td>-87.63193130493164</td></tr><tr><td>KA1504000093</td><td>Rockwell St & Eastwood Ave</td><td>41.965900139759995</td><td>-87.6936384935</td></tr><tr><td>KA1504000106</td><td>Kedzie Ave & Lake St</td><td>41.88460328501</td><td>-87.7063037436</td></tr><tr><td>KA17018068</td><td>Leavitt St & Belmont Ave</td><td>41.939353999999994</td><td>-87.68328199999999</td></tr><tr><td>13241</td><td>Western Ave & Division St</td><td>41.902893</td><td>-87.687275</td></tr><tr><td>13042</td><td>Michigan Ave & Oak St</td><td>41.900777833333336</td><td>-87.62373666666667</td></tr><tr><td>TA1309000015</td><td>Leavitt St & Lawrence Ave</td><td>41.968885</td><td>-87.684001</td></tr><tr><td>RP-004</td><td>Oakley Ave & Touhy Ave</td><td>42.012342</td><td>-87.688243</td></tr><tr><td>TA1308000047</td><td>Southport Ave & Clark St</td><td>41.957081</td><td>-87.664199</td></tr><tr><td>596</td><td>Benson Ave & Church St</td><td>42.048214</td><td>-87.683485</td></tr><tr><td>TA1309000014</td><td>Clark St & Leland Ave</td><td>41.967096000000005</td><td>-87.667429</td></tr><tr><td>660</td><td>Sheridan Rd & Columbia Ave</td><td>42.004583000000004</td><td>-87.661406</td></tr><tr><td>TA1309000066</td><td>Ravenswood Ave & Lawrence Ave</td><td>41.96909</td><td>-87.674237</td></tr><tr><td>KA1504000143</td><td>Leavitt St & Addison St</td><td>41.94657816666667</td><td>-87.683387</td></tr><tr><td>553</td><td>Elizabeth St & 47th St</td><td>41.80839</td><td>-87.656526</td></tr><tr><td>13420</td><td>MLK Jr Dr & Pershing Rd</td><td>41.8246</td><td>-87.61678</td></tr><tr><td>15642</td><td>California Ave & Fletcher St</td><td>41.93842879148</td><td>-87.69800775600001</td></tr><tr><td>TA1305000004</td><td>McCormick Place</td><td>41.8513751729</td><td>-87.61883464889999</td></tr><tr><td>KA1504000139</td><td>Monticello Ave & Irving Park Rd</td><td>41.95400483876</td><td>-87.7191281797</td></tr><tr><td>13249</td><td>Ashland Ave & Belle Plaine Ave</td><td>41.956057</td><td>-87.668835</td></tr><tr><td>15653</td><td>Troy St & North Ave</td><td>41.90976930169</td><td>-87.7052804871</td></tr><tr><td>13081</td><td>Ogden Ave & Congress Pkwy</td><td>41.875017</td><td>-87.6731475</td></tr><tr><td>TA1306000006</td><td>Orleans St & Elm St</td><td>41.90291216666667</td><td>-87.637745</td></tr><tr><td>13242</td><td>Milwaukee Ave & Rockwell St</td><td>41.92019556200566</td><td>-87.69265919923781</td></tr><tr><td>15615</td><td>Christiana Ave & Lawrence Ave</td><td>41.96835449363</td><td>-87.7118306675</td></tr><tr><td>15470</td><td>Calumet Ave & 51st St</td><td>41.80229465088</td><td>-87.6180535802</td></tr><tr><td>13331</td><td>May St & Cullerton St</td><td>41.855136</td><td>-87.654127</td></tr><tr><td>E008</td><td>Chicago Ave & Sheridan Rd</td><td>42.050491</td><td>-87.677821</td></tr><tr><td>16918</td><td>Austin Blvd & Madison St</td><td>41.880281</td><td>-87.77445300000001</td></tr><tr><td>590</td><td>Kilbourn Ave & Irving Park Rd</td><td>41.953733</td><td>-87.740569</td></tr><tr><td>SL-013</td><td>State St & 19th St</td><td>41.856594</td><td>-87.627542</td></tr><tr><td>20238</td><td>Greenwood Ave & 97th St</td><td>41.71870315475741</td><td>-87.59703576564789</td></tr><tr><td>655</td><td>Hoyne Ave & Balmoral Ave</td><td>41.979847166666666</td><td>-87.68198083333333</td></tr><tr><td>RP-008</td><td>Clark St & Columbia Ave</td><td>42.00445062934</td><td>-87.6724024047</td></tr><tr><td>650</td><td>Eggleston Ave & 69th St</td><td>41.768898</td><td>-87.635876</td></tr><tr><td>KA1504000160</td><td>Francisco Ave & Foster Ave</td><td>41.97563272521</td><td>-87.70141943889999</td></tr><tr><td>15624</td><td>Avondale Ave & Irving Park Rd</td><td>41.953393</td><td>-87.73200200000001</td></tr><tr><td>594</td><td>Western Blvd & 48th Pl</td><td>41.805661</td><td>-87.683392</td></tr><tr><td>TA1309000003</td><td>Western Ave & 24th St</td><td>41.84847</td><td>-87.685109</td></tr><tr><td>519</td><td>Wolcott Ave & Fargo Ave</td><td>42.01691666666667</td><td>-87.67777883333332</td></tr><tr><td>TA1309000006</td><td>Larrabee St & Armitage Ave</td><td>41.918084</td><td>-87.643749</td></tr><tr><td>KA1706005015</td><td>Kildare Ave & Montrose Ave</td><td>41.961079999999995</td><td>-87.73569</td></tr><tr><td>18022</td><td>Archer (Damen) Ave & 37th St</td><td>41.826712</td><td>-87.683144</td></tr><tr><td>KA1504000167</td><td>Kedzie Ave & Bryn Mawr Ave</td><td>41.98239708485</td><td>-87.7089225202</td></tr><tr><td>KA1503000004</td><td>Lake Park Ave & 35th St</td><td>41.83127423549</td><td>-87.6087991946</td></tr><tr><td>KA1503000019</td><td>Stony Island Ave & 75th St</td><td>41.758669670399996</td><td>-87.586882871</td></tr><tr><td>E007</td><td>Central St & Girard Ave</td><td>42.064313</td><td>-87.686152</td></tr><tr><td>15685</td><td>Central Park Ave & Ogden Ave</td><td>41.85406350387447</td><td>-87.71511733531952</td></tr><tr><td>20254.0</td><td>W Armitage Ave & N Sheffield Ave</td><td>41.92</td><td>-87.65</td></tr><tr><td>KA1503000054</td><td>Cottage Grove Ave & 63rd St</td><td>41.780730833333344</td><td>-87.6058085</td></tr><tr><td>KA1504000147</td><td>Winchester (Ravenswood) Ave & Balmoral Ave</td><td>41.979762</td><td>-87.67753</td></tr><tr><td>631</td><td>Malcolm X College Vaccination Site</td><td>41.87761716666667</td><td>-87.67387333333332</td></tr><tr><td>KA1504000091</td><td>Hoyne Ave & 47th St</td><td>41.808227</td><td>-87.67718</td></tr><tr><td>13089</td><td>Damen Ave & Cullerton St</td><td>41.854966518753926</td><td>-87.67569959163664</td></tr><tr><td>16906</td><td>Austin Blvd & Lake St</td><td>41.887919000000004</td><td>-87.774446</td></tr><tr><td>KA1503000005</td><td>Wentworth Ave & 35th St</td><td>41.830777000000005</td><td>-87.632504</td></tr><tr><td>16921</td><td>Austin Blvd & Chicago Ave</td><td>41.894887</td><td>-87.774704</td></tr><tr><td>KA1504000128</td><td>Kedzie Ave & Foster Ave</td><td>41.975671999999996</td><td>-87.709261</td></tr><tr><td>15631</td><td>Troy St & Elston Ave</td><td>41.94524356848</td><td>-87.7066499009</td></tr><tr><td>15628</td><td>California Ave & Byron St</td><td>41.952162193259994</td><td>-87.69805111299999</td></tr><tr><td>KA1504000110</td><td>Millard Ave & 26th St</td><td>41.84455710033698</td><td>-87.71607220172882</td></tr><tr><td>595</td><td>Wabash Ave & 87th St</td><td>41.736646</td><td>-87.62263399999999</td></tr><tr><td>585</td><td>Cottage Grove Ave & 83rd St</td><td>41.743441</td><td>-87.60483599999999</td></tr><tr><td>584</td><td>Ellis Ave & 83rd St</td><td>41.744122999999995</td><td>-87.599034</td></tr><tr><td>530</td><td>Laramie Ave & Kinzie St</td><td>41.887832</td><td>-87.755527</td></tr><tr><td>TA1306000011</td><td>Wells St & Walton St</td><td>41.89993001</td><td>-87.63443007</td></tr><tr><td>604</td><td>Sheridan Rd & Noyes St (NU)</td><td>42.058239</td><td>-87.677432</td></tr><tr><td>20253.0</td><td>N Paulina St & Lincoln Ave</td><td>41.94</td><td>-87.67</td></tr><tr><td>13259</td><td>California Ave & Francis Pl (Temp)</td><td>41.91849115368695</td><td>-87.69742280244827</td></tr><tr><td>15643</td><td>Kosciuszko Park</td><td>41.93062166666667</td><td>-87.72378883333332</td></tr><tr><td>KA1503000025</td><td>Wentworth Ave & 63rd St</td><td>41.78007963264</td><td>-87.6297463052</td></tr><tr><td>16903</td><td>Cicero Ave & Lake St</td><td>41.886841</td><td>-87.745261</td></tr><tr><td>527</td><td>Western Ave & Howard St</td><td>42.0189505</td><td>-87.6900365</td></tr><tr><td>KA1503000049</td><td>Rainbow Beach</td><td>41.757871448290004</td><td>-87.54938625</td></tr><tr><td>570</td><td>Evans Ave & 75th St</td><td>41.75849</td><td>-87.60641</td></tr><tr><td>KA1504000114</td><td>Kedzie Ave & Chicago Ave</td><td>41.895465303049995</td><td>-87.7061278837</td></tr><tr><td>KA1503000033</td><td>Eberhart Ave & 61st St</td><td>41.78414169317</td><td>-87.6133078304</td></tr><tr><td>592</td><td>Knox Ave & Montrose Ave</td><td>41.960631</td><td>-87.745359</td></tr><tr><td>KA1504000126</td><td>Kedzie Ave & Leland Ave</td><td>41.96668636205</td><td>-87.70805198059999</td></tr><tr><td>545</td><td>Kostner Ave & Adams St</td><td>41.877917</td><td>-87.735737</td></tr><tr><td>KA1503000009</td><td>Princeton Ave & 47th St</td><td>41.809317709240005</td><td>-87.633449288</td></tr><tr><td>15585</td><td>Budlong Woods Library</td><td>41.98366470886</td><td>-87.69642256110001</td></tr><tr><td>RP-001</td><td>Warren Park West</td><td>42.001785</td><td>-87.688829</td></tr><tr><td>KA1503000073</td><td>MLK Jr Dr & 56th St</td><td>41.79342945658</td><td>-87.6158532619</td></tr><tr><td>KA1504000113</td><td>Sacramento Blvd & Franklin Blvd</td><td>41.890604833333335</td><td>-87.7025885</td></tr><tr><td>646</td><td>State St & 54th St</td><td>41.796642</td><td>-87.625923</td></tr><tr><td>TA1308000023</td><td>Cottage Grove Ave & 43rd St</td><td>41.81650916666667</td><td>-87.60661666666668</td></tr><tr><td>TA1309000053</td><td>Cottage Grove Ave & 47th St</td><td>41.809855</td><td>-87.606755</td></tr><tr><td>KA1504000096</td><td>Sawyer Ave & Irving Park Rd</td><td>41.95358617895</td><td>-87.7093107999</td></tr><tr><td>15666</td><td>California Ave & Lake St</td><td>41.88445395657</td><td>-87.69629813680001</td></tr><tr><td>16920</td><td>Central Ave & Chicago Ave</td><td>41.894958</td><td>-87.764902</td></tr><tr><td>15449</td><td>State St & Pershing Rd</td><td>41.82301523798</td><td>-87.62656801850001</td></tr><tr><td>KA1503000023</td><td>Stony Island Ave & 67th St</td><td>41.77345849948</td><td>-87.5853397391</td></tr><tr><td>583</td><td>Stony Island Ave & 82nd St</td><td>41.74661</td><td>-87.58596933333334</td></tr><tr><td>KA1503000024</td><td>Yates Blvd & 75th St</td><td>41.758767999999996</td><td>-87.56644</td></tr><tr><td>TA1309000051</td><td>Commercial Ave & 83rd St</td><td>41.7446365</td><td>-87.55119416666666</td></tr><tr><td>KA1503000021</td><td>Stony Island Ave & 64th St</td><td>41.778881</td><td>-87.586647</td></tr><tr><td>16907</td><td>Central Park Blvd & 5th Ave</td><td>41.875653666666665</td><td>-87.71554783333332</td></tr><tr><td>16806</td><td>Bosworth Ave & Howard St</td><td>42.019514</td><td>-87.66932183333331</td></tr><tr><td>16991</td><td>Milwaukee Ave & Cuyler Ave</td><td>41.95449933333333</td><td>-87.74959383333334</td></tr><tr><td>KA1503000010</td><td>Halsted St & 51st St</td><td>41.80183164049</td><td>-87.645213904</td></tr><tr><td>KA1503000046</td><td>Dorchester Ave & 63rd St</td><td>41.7804056457</td><td>-87.5914159893</td></tr><tr><td>KA1504000141</td><td>Pulaski Rd & Eddy St (Temp)</td><td>41.946264</td><td>-87.731023</td></tr><tr><td>KA1504000130</td><td>Maplewood Ave & Peterson Ave</td><td>41.990198</td><td>-87.6934005</td></tr><tr><td>RP-006</td><td>Ridge Blvd & Touhy Ave</td><td>42.01213227742</td><td>-87.6829126443</td></tr><tr><td>13083</td><td>Indiana Ave & 40th St</td><td>41.82168</td><td>-87.6216</td></tr><tr><td>518</td><td>Conservatory Dr & Lake St</td><td>41.88545666666667</td><td>-87.71684833333332</td></tr><tr><td>20210</td><td>State St & 123rd St</td><td>41.67064383687979</td><td>-87.62258648872375</td></tr><tr><td>20206</td><td>Homewood Ave & 115th St</td><td>41.68459507202617</td><td>-87.67070800065994</td></tr><tr><td>20131</td><td>Cottage Grove Ave & 111th Pl</td><td>41.69170975847015</td><td>-87.61000156402588</td></tr><tr><td>20229</td><td>Baltimore Ave & 87th St</td><td>41.73733560041666</td><td>-87.54851460456847</td></tr><tr><td>528</td><td>Pulaski Rd & Lake St</td><td>41.885409</td><td>-87.72649100000001</td></tr><tr><td>RP-002</td><td>Warren Park East</td><td>42.00454962194</td><td>-87.6806661451</td></tr><tr><td>573</td><td>State St & 79th St</td><td>41.750794</td><td>-87.624424</td></tr><tr><td>KA1503000031</td><td>Cottage Grove Ave & 67th St</td><td>41.77371016666667</td><td>-87.60564683333334</td></tr><tr><td>20109</td><td>Vernon Ave & 107th St</td><td>41.70012137923888</td><td>-87.61225998401642</td></tr><tr><td>KA1503000051</td><td>Halsted St & 47th Pl</td><td>41.80813391481</td><td>-87.64561655450001</td></tr><tr><td>KA1503000030</td><td>Jeffery Blvd & 67th St</td><td>41.77351755125</td><td>-87.57714282549999</td></tr><tr><td>15687</td><td>Central Park Ave & 24th St</td><td>41.848116833333336</td><td>-87.71511283333334</td></tr><tr><td>20223</td><td>Ewing Ave & Burnham Greenway</td><td>41.712748761094964</td><td>-87.53481388092041</td></tr><tr><td>KA1503000003</td><td>Cottage Grove Ave & 71st St</td><td>41.76571903697</td><td>-87.60495971299999</td></tr><tr><td>20252.0</td><td>W Oakdale Ave & N Broadway</td><td>41.94</td><td>-87.64</td></tr><tr><td>649</td><td>Stewart Ave & 63rd St</td><td>41.779835</td><td>-87.634774</td></tr><tr><td>20214</td><td>Avenue O & 134th St</td><td>41.65191333333333</td><td>-87.53950833333332</td></tr><tr><td>TA1307000161</td><td>Halsted St & 37th St</td><td>41.827059000000006</td><td>-87.64572</td></tr><tr><td>20104</td><td>State St & 95th St</td><td>41.7218499</td><td>-87.62285440000001</td></tr><tr><td>20247.0</td><td>W Washington Blvd & N Peoria St</td><td>41.88</td><td>-87.65</td></tr><tr><td>662</td><td>Dodge Ave & Mulford St</td><td>42.0236905</td><td>-87.6996185</td></tr><tr><td>20119</td><td>Elizabeth St & 92nd St</td><td>41.726798963701185</td><td>-87.6542901992798</td></tr><tr><td>20129</td><td>Ada St & 113th St</td><td>41.687561623357375</td><td>-87.65547573566435</td></tr><tr><td>653</td><td>Cornell Dr & Hayes Dr</td><td>41.780595</td><td>-87.584846</td></tr><tr><td>KA1503000045</td><td>Stony Island Ave & 71st St</td><td>41.7664929373</td><td>-87.5864608775</td></tr><tr><td>569</td><td>Woodlawn Ave & 75th St</td><td>41.759159999999994</td><td>-87.595751</td></tr><tr><td>20110</td><td>Eberhart Ave & 91st St</td><td>41.72942527802096</td><td>-87.60952949523924</td></tr><tr><td>20218</td><td>Avenue O & 118th St</td><td>41.68100145911039</td><td>-87.53793122268691</td></tr><tr><td>20127</td><td>Halsted St & 111th St</td><td>41.69226255589166</td><td>-87.64261186122894</td></tr><tr><td>KA1503000055</td><td>Halsted & 63rd - Kennedy-King Vaccination Site</td><td>41.779381142279995</td><td>-87.6446208145</td></tr><tr><td>16915</td><td>Central Ave & Harrison St</td><td>41.87299733333333</td><td>-87.7644945</td></tr><tr><td>13080</td><td>Hermitage Ave & Polk St</td><td>41.871514000000005</td><td>-87.669886</td></tr><tr><td>652</td><td>Rhodes Ave & 71st St</td><td>41.766000000000005</td><td>-87.611726</td></tr><tr><td>20116</td><td>Dauphin Ave & 87th St</td><td>41.736559</td><td>-87.601258</td></tr><tr><td>15692</td><td>California Ave & 26th St</td><td>41.84404</td><td>-87.695296</td></tr><tr><td>534</td><td>Karlov Ave & Madison St</td><td>41.88085366666667</td><td>-87.72799766666668</td></tr><tr><td>582</td><td>Phillips Ave & 83rd St</td><td>41.744531</td><td>-87.56506</td></tr><tr><td>20113</td><td>Dauphin Ave & 103rd St</td><td>41.707250367781796</td><td>-87.60766267776489</td></tr><tr><td>20245</td><td>Ashland Ave & 74th St</td><td>41.759236</td><td>-87.663474</td></tr><tr><td>KA1504000168</td><td>Western & 28th - Velasquez Institute Vaccination Site</td><td>41.84150516666666</td><td>-87.68516483333332</td></tr><tr><td>20107</td><td>Walden Pkwy & 100th St</td><td>41.712164103598035</td><td>-87.66773343086244</td></tr><tr><td>KA1504000086</td><td>Kedzie Ave & 24th St</td><td>41.848191</td><td>-87.705414</td></tr><tr><td>16970</td><td>Bennett Ave & 79th St</td><td>41.751785</td><td>-87.578496</td></tr><tr><td>20228</td><td>Constance Ave & 95th St</td><td>41.722290740952616</td><td>-87.57896840572357</td></tr><tr><td>20123</td><td>Western Ave & 104th St</td><td>41.70458710218908</td><td>-87.68120348453522</td></tr><tr><td>20101</td><td>Summit Ave & 86th St</td><td>41.737848</td><td>-87.6449</td></tr><tr><td>KA1503000011</td><td>Halsted St & 56th St</td><td>41.79292964599001</td><td>-87.64499005649999</td></tr><tr><td>20257.0</td><td>N Southport Ave & W Newport Ave</td><td>41.94</td><td>-87.66</td></tr><tr><td>16937</td><td>Ashland Ave & McDowell Ave</td><td>41.80887</td><td>-87.66454</td></tr><tr><td>586</td><td>MLK Jr Dr & 83rd St</td><td>41.743116</td><td>-87.6148</td></tr><tr><td>559</td><td>Racine Ave & Garfield Blvd</td><td>41.794228000000004</td><td>-87.655073</td></tr><tr><td>20227</td><td>Bradley Park</td><td>41.717878301935</td><td>-87.56459176540375</td></tr><tr><td>20230</td><td>Clyde Ave & 87th St</td><td>41.73715146431056</td><td>-87.57274031639099</td></tr><tr><td>554</td><td>Damen Ave & 51st St</td><td>41.800908</td><td>-87.674684</td></tr><tr><td>16913</td><td>Cicero Ave & Quincy St</td><td>41.877635833333336</td><td>-87.74542583333331</td></tr><tr><td>20205</td><td>Western Ave & 111th St</td><td>41.691210999999996</td><td>-87.681297</td></tr><tr><td>20208</td><td>Major Taylor Trail & 124th St</td><td>41.66869635332246</td><td>-87.63711333274841</td></tr><tr><td>20106</td><td>Chicago State University</td><td>41.71895833333333</td><td>-87.60837733333334</td></tr><tr><td>579</td><td>Phillips Ave & 79th St</td><td>41.75182</td><td>-87.565211</td></tr><tr><td>20233</td><td>Halsted St & 78th St</td><td>41.752487012490135</td><td>-87.6439021574879</td></tr><tr><td>20204</td><td>Kedzie Ave & 110th St</td><td>41.6924015</td><td>-87.70095783333332</td></tr><tr><td>20235</td><td>Greenwood Ave & 91st St</td><td>41.728264268162725</td><td>-87.59729862213135</td></tr><tr><td>540</td><td>Laramie Ave & Madison St</td><td>41.880207</td><td>-87.755337</td></tr><tr><td>20244</td><td>Halsted St & 73rd St</td><td>41.761639833333334</td><td>-87.64406233333334</td></tr><tr><td>16950</td><td>Ashland Ave & 66th St</td><td>41.774074</td><td>-87.663815</td></tr><tr><td>16948</td><td>Ashland Ave & 63rd St</td><td>41.77937533333333</td><td>-87.6648995</td></tr><tr><td>537</td><td>Kenton Ave & Madison St</td><td>41.880708</td><td>-87.74101800000001</td></tr><tr><td>16933</td><td>Morgan St & Pershing Rd</td><td>41.823613</td><td>-87.650931</td></tr><tr><td>16953</td><td>Vincennes Ave & 75th St</td><td>41.75797</td><td>-87.63121</td></tr><tr><td>13213</td><td>State St & 29th St</td><td>41.841707</td><td>-87.626938</td></tr><tr><td>20221</td><td>Torrence Ave & 106th St</td><td>41.7028495</td><td>-87.55980916666668</td></tr><tr><td>567</td><td>May St & 69th St</td><td>41.768938</td><td>-87.652934</td></tr><tr><td>572</td><td>State St & 76th St</td><td>41.756971</td><td>-87.62462099999999</td></tr><tr><td>557</td><td>Seeley Ave & Garfield Blvd</td><td>41.794087</td><td>-87.675478</td></tr><tr><td>574</td><td>Vernon Ave & 79th St</td><td>41.75094</td><td>-87.61379000000001</td></tr><tr><td>587</td><td>Wabash Ave & 83rd St</td><td>41.743316</td><td>-87.622849</td></tr><tr><td>651</td><td>Michigan Ave & 71st St</td><td>41.7652865</td><td>-87.62173833333334</td></tr><tr><td>577</td><td>Stony Island Ave & South Chicago Ave</td><td>41.751173</td><td>-87.585337</td></tr><tr><td>20231</td><td>East End Ave & 87th St</td><td>41.73681521440671</td><td>-87.58280128240585</td></tr><tr><td>20222</td><td>Burnham Greenway & 105th St</td><td>41.704575087207104</td><td>-87.52823173999786</td></tr><tr><td>20232</td><td>Big Marsh Park</td><td>41.68587705562333</td><td>-87.57382392883301</td></tr><tr><td>20256.0</td><td>N Sheffield Ave & W Wellington Ave</td><td>41.94</td><td>-87.65</td></tr><tr><td>20108</td><td>Hale Ave & 107th St</td><td>41.69920616812768</td><td>-87.66891896724701</td></tr><tr><td>647</td><td>Elizabeth St & 59th St</td><td>41.786691</td><td>-87.65585899999999</td></tr><tr><td>20203</td><td>Lawndale Ave & 111th St</td><td>41.691319192210656</td><td>-87.71288573741913</td></tr><tr><td>20242</td><td>Houston Ave & 92nd St</td><td>41.72820421535798</td><td>-87.54970014095306</td></tr><tr><td>15599</td><td>Calumet Ave & 71st St</td><td>41.765508000000004</td><td>-87.616918</td></tr><tr><td>20.0</td><td>Damen Ave & Wabansia Ave</td><td>41.91</td><td>-87.68</td></tr><tr><td>15682</td><td>Kedzie Ave & Roosevelt Rd</td><td>41.86649278172</td><td>-87.7064961757</td></tr><tr><td>16940</td><td>Ashland Ave & 50th St</td><td>41.803022999999996</td><td>-87.664699</td></tr><tr><td>560</td><td>Marshfield Ave & 59th St</td><td>41.786833</td><td>-87.66621500000001</td></tr><tr><td>15686</td><td>Kedzie Ave & 21st St</td><td>41.853496</td><td>-87.70512516666666</td></tr><tr><td>20103</td><td>Prospect Sq & 91st St</td><td>41.727951000000004</td><td>-87.66761650000001</td></tr><tr><td>20124</td><td>Vincennes Ave & 104th St</td><td>41.704926</td><td>-87.656868</td></tr><tr><td>20234</td><td>Ashland Ave & 78th St</td><td>41.75220484941116</td><td>-87.66369938850403</td></tr><tr><td>20112</td><td>Indiana Ave & 103rd St</td><td>41.70717027117757</td><td>-87.61847198009491</td></tr><tr><td>20217</td><td>Torrence Ave & 126th Pl</td><td>41.66631200825726</td><td>-87.55721569061278</td></tr><tr><td>15597</td><td>Halsted St & 69th St</td><td>41.769062</td><td>-87.644614</td></tr><tr><td>571</td><td>Vernon Ave & 75th St</td><td>41.758361</td><td>-87.614138</td></tr><tr><td>561</td><td>Damen Ave & 59th St</td><td>41.78607383333333</td><td>-87.67414583333333</td></tr><tr><td>20248.0</td><td>N Hampden Ct & W Diversey Ave</td><td>41.93</td><td>-87.64</td></tr><tr><td>20207</td><td>Major Taylor Trail & 115th St</td><td>41.684931595192964</td><td>-87.6452887058258</td></tr><tr><td>20105</td><td>Halsted St & 96th St</td><td>41.71971218361881</td><td>-87.6430195569992</td></tr><tr><td>543</td><td>Laramie Ave & Gladys Ave</td><td>41.87584416666667</td><td>-87.75529666666668</td></tr><tr><td>20246.0</td><td>N Green St & W Lake St</td><td>41.89</td><td>-87.65</td></tr><tr><td>20251.0</td><td>N Carpenter St & W Lake St</td><td>41.89</td><td>-87.65</td></tr><tr><td>20211</td><td>Eberhart Ave & 131st St</td><td>41.657953000000006</td><td>-87.61076433333334</td></tr><tr><td>20243</td><td>Michigan Ave & 114th St</td><td>41.68701479467118</td><td>-87.62105226516724</td></tr><tr><td>20213</td><td>Commercial Ave & 130th St</td><td>41.65915</td><td>-87.550762</td></tr><tr><td>KA1503000053</td><td>MLK Jr Dr & 63rd St</td><td>41.78008063659001</td><td>-87.6159428567</td></tr><tr><td>576</td><td>Greenwood Ave & 79th St</td><td>41.751294</td><td>-87.59755200000001</td></tr><tr><td>549</td><td>Marshfield Ave & 44th St</td><td>41.813996</td><td>-87.666589</td></tr><tr><td>16912</td><td>Cicero Ave & Flournoy St</td><td>41.8721235</td><td>-87.74661933333331</td></tr><tr><td>KA1503000028</td><td>Jeffery Blvd & 76th St</td><td>41.75712</td><td>-87.575839</td></tr><tr><td>593</td><td>Halsted St & 59th St</td><td>41.787539</td><td>-87.644874</td></tr><tr><td>575</td><td>Cottage Grove Ave & 78th St</td><td>41.753174</td><td>-87.605026</td></tr><tr><td>580</td><td>Exchange Ave & 79th St</td><td>41.751731</td><td>-87.552812</td></tr><tr><td>16905</td><td>Central Ave & Lake St</td><td>41.88770783333333</td><td>-87.76542383333332</td></tr><tr><td>562</td><td>Racine Ave & 61st St</td><td>41.783189</td><td>-87.654372</td></tr><tr><td>16916</td><td>Central Ave & Madison St</td><td>41.88016233333333</td><td>-87.76319483333332</td></tr><tr><td>20120</td><td>Stewart Ave & 83rd St</td><td>41.74372566666667</td><td>-87.63409866666667</td></tr><tr><td>20236</td><td>Stony Island Ave & 90th St</td><td>41.73139494330236</td><td>-87.58574366569519</td></tr><tr><td>20215</td><td>Hegewisch Metra Station</td><td>41.64850076266409</td><td>-87.54608988761902</td></tr><tr><td>642</td><td>Latrobe Ave & Chicago Ave</td><td>41.89472083333333</td><td>-87.7568665</td></tr><tr><td>16932</td><td>Ashland Ave & Pershing Rd</td><td>41.823465</td><td>-87.665577</td></tr><tr><td>20118</td><td>Eggleston Ave & 92nd St</td><td>41.72755866666667</td><td>-87.634862</td></tr><tr><td>20130</td><td>Wentworth Ave & 104th St</td><td>41.705308</td><td>-87.62921700000001</td></tr><tr><td>16943</td><td>Ashland Ave & Garfield Blvd</td><td>41.792821999999994</td><td>-87.664429</td></tr><tr><td>20125</td><td>Halsted St & 104th St</td><td>41.70517733333333</td><td>-87.64237916666669</td></tr><tr><td>202480.0</td><td>Hampden Ct & Diversey Ave</td><td>41.93</td><td>-87.64</td></tr><tr><td>20225</td><td>Commercial Ave & 100th St</td><td>41.713300333333336</td><td>-87.55126783333333</td></tr><tr><td>588</td><td>South Chicago Ave & 83rd St</td><td>41.743921</td><td>-87.575225</td></tr><tr><td>20201</td><td>Kedzie Ave & 104th St</td><td>41.7</td><td>-87.7</td></tr><tr><td>556</td><td>Throop St & 52nd St</td><td>41.799659000000005</td><td>-87.657195</td></tr><tr><td>18025</td><td>Carpenter St & 63rd St</td><td>41.7798495</td><td>-87.65079016666668</td></tr><tr><td>20226</td><td>Oglesby Ave & 100th St</td><td>41.713397</td><td>-87.565842</td></tr><tr><td>KA1503000001</td><td>Shields Ave & 43rd St</td><td>41.816208</td><td>-87.634819</td></tr><tr><td>20224</td><td>Calumet Park</td><td>41.71369766666667</td><td>-87.53081833333331</td></tr><tr><td>20212</td><td>Altgeld Gardens</td><td>41.657077</td><td>-87.59887049999999</td></tr><tr><td>564</td><td>Racine Ave & 65th St</td><td>41.775393</td><td>-87.654308</td></tr><tr><td>201022</td><td>Loomis St & 89th St</td><td>41.73237975329554</td><td>-87.65806943178177</td></tr><tr><td>665</td><td>South Chicago Ave & Elliot Ave</td><td>41.747363</td><td>-87.580046</td></tr><tr><td>20249.0</td><td>N Clark St & W Elm St</td><td>41.9</td><td>-87.63</td></tr><tr><td>DIVVY 001</td><td>WEST CHI-WATSON</td><td>41.894791999999995</td><td>-87.730906</td></tr><tr><td>20237</td><td>Yates Blvd & 93rd St</td><td>41.726164000000004</td><td>-87.5663105</td></tr><tr><td>20202</td><td>W 103rd St & S Avers Ave</td><td>41.71</td><td>-87.72</td></tr><tr><td>20133</td><td>Woodlawn & 103rd - Olive Harvey Vaccination Site</td><td>41.71</td><td>-87.59</td></tr><tr><td>20134</td><td>Maryland Ave & 104th St</td><td>41.71</td><td>-87.6</td></tr><tr><td>20999</td><td>Lyft Driver Center Private Rack</td><td>41.9</td><td>-87.66</td></tr><tr><td>20126</td><td>S Aberdeen St & W 106th St</td><td>41.7</td><td>-87.65</td></tr><tr><td>322</td><td>Cicero Ave & Grace St</td><td>41.95</td><td>-87.75</td></tr><tr><td>365.0</td><td>Kildare Ave & 26th St</td><td>41.84</td><td>-87.73</td></tr><tr><td>362.0</td><td>Lawndale Ave & 16th St</td><td>41.86</td><td>-87.72</td></tr><tr><td>366.0</td><td>Spaulding Ave & 16th St</td><td>41.86</td><td>-87.71</td></tr><tr><td>364.0</td><td>Homan Ave & Fillmore St</td><td>41.87</td><td>-87.71</td></tr><tr><td>356</td><td>Lavergne & Fullerton</td><td>41.92</td><td>-87.75</td></tr><tr><td>20220</td><td>Avenue L & 114th St</td><td>41.69</td><td>-87.54</td></tr><tr><td>DIVVY CASSETTE REPAIR MOBILE STATION</td><td>DIVVY CASSETTE REPAIR MOBILE STATION</td><td>41.880958</td><td>-87.616743</td></tr><tr><td>358</td><td>Kilpatrick Ave & Parker Ave</td><td>41.93</td><td>-87.74</td></tr><tr><td>329.0</td><td>Central Park Ave & Douglas Blvd</td><td>41.86</td><td>-87.72</td></tr><tr><td>316</td><td>Lamon Ave & Belmont Ave</td><td>41.94</td><td>-87.75</td></tr><tr><td>368.0</td><td>Tripp Ave & 31st St</td><td>41.84</td><td>-87.73</td></tr><tr><td>317</td><td>Long Ave & Belmont Ave</td><td>41.94</td><td>-87.76</td></tr><tr><td>353</td><td>Meade Ave & Diversey Ave</td><td>41.93</td><td>-87.78</td></tr><tr><td>313</td><td>Long Ave & Belden Ave</td><td>41.92</td><td>-87.76</td></tr><tr><td>363.0</td><td>Tripp Ave & 15th St</td><td>41.86</td><td>-87.73</td></tr><tr><td>355</td><td>Central Ave & Parker Ave</td><td>41.93</td><td>-87.77</td></tr><tr><td>334.0</td><td>Lawndale Ave & 30th St</td><td>41.84</td><td>-87.72</td></tr><tr><td>324</td><td>Meade Ave & Addison St</td><td>41.95</td><td>-87.78</td></tr><tr><td>360</td><td>Kilbourn & Roscoe</td><td>41.94</td><td>-87.74</td></tr><tr><td>351</td><td>Mulligan Ave & Wellington Ave</td><td>41.93</td><td>-87.78</td></tr><tr><td>354</td><td>Parkside Ave & Armitage Ave</td><td>41.92</td><td>-87.77</td></tr><tr><td>312</td><td>Lockwood Ave & Wrightwood Ave</td><td>41.93</td><td>-87.76</td></tr><tr><td>327</td><td>Plainfield & Irving Park</td><td>41.95</td><td>-87.83</td></tr><tr><td>397</td><td>Narragansett Ave & School St</td><td>41.94</td><td>-87.79</td></tr><tr><td>396</td><td>Central Ave & Roscoe St</td><td>41.94</td><td>-87.77</td></tr><tr><td>398</td><td>Long & Irving Park</td><td>41.95</td><td>-87.76</td></tr><tr><td>330.0</td><td>Keeler Ave & Roosevelt Rd</td><td>41.87</td><td>-87.73</td></tr><tr><td>335.0</td><td>Komensky Ave & 31st St</td><td>41.84</td><td>-87.73</td></tr><tr><td>321</td><td>Kostner Ave & Wrightwood Ave</td><td>41.93</td><td>-87.74</td></tr><tr><td>473</td><td>Mason Ave & Belmont Ave</td><td>41.94</td><td>-87.77</td></tr><tr><td>310</td><td>North Ave & New England Ave</td><td>41.91</td><td>-87.8</td></tr><tr><td>332.0</td><td>Harding Ave & 26th St</td><td>41.84</td><td>-87.72</td></tr><tr><td>331.0</td><td>Pulaski Rd & 21st St</td><td>41.85</td><td>-87.72</td></tr><tr><td>325</td><td>Harlem Ave & Grace St</td><td>41.95</td><td>-87.81</td></tr><tr><td>393</td><td>Oketo Ave & Addison St</td><td>41.94</td><td>-87.81</td></tr><tr><td>319</td><td>Roscoe & Harlem</td><td>41.94</td><td>-87.81</td></tr><tr><td>357</td><td>Lamon Ave & Armitage Ave</td><td>41.92</td><td>-87.75</td></tr><tr><td>352</td><td>Sayre & Diversey</td><td>41.93</td><td>-87.8</td></tr><tr><td>359</td><td>Kilbourn & Belden</td><td>41.92</td><td>-87.74</td></tr><tr><td>320</td><td>Orange & Addison</td><td>41.94</td><td>-87.82</td></tr><tr><td>326</td><td>Harlem & Irving Park</td><td>41.95</td><td>-87.81</td></tr><tr><td>305</td><td>Menard Ave & Division St</td><td>41.9</td><td>-87.77</td></tr><tr><td>384</td><td>Kedzie Ave & 52nd St</td><td>41.8</td><td>-87.7</td></tr><tr><td>394</td><td>Panama Ave & Grace St</td><td>41.95</td><td>-87.83</td></tr><tr><td>308</td><td>Major Ave & Bloomingdale Ave</td><td>41.91</td><td>-87.77</td></tr><tr><td>378</td><td>Nordica & Medill</td><td>41.92</td><td>-87.8</td></tr><tr><td>323</td><td>Narragansett & Irving Park</td><td>41.95</td><td>-87.79</td></tr><tr><td>348</td><td>Western Ave & 62nd St</td><td>41.78</td><td>-87.68</td></tr><tr><td>20114</td><td>Doty Ave & 111th St</td><td>41.6950195</td><td>-87.59875433333332</td></tr><tr><td>314</td><td>Narragansett & Wrightwood</td><td>41.93</td><td>-87.79</td></tr><tr><td>361</td><td>Kenosha & Wellington</td><td>41.93</td><td>-87.73</td></tr><tr><td>341</td><td>Archer Ave & 43rd St</td><td>41.82</td><td>-87.7</td></tr><tr><td>318</td><td>Oak Park & Wellington</td><td>41.93</td><td>-87.8</td></tr><tr><td>309</td><td>Narragansett & McLean</td><td>41.92</td><td>-87.79</td></tr><tr><td>301</td><td>Monticello Ave & Chicago Ave</td><td>41.9</td><td>-87.72</td></tr><tr><td>388</td><td>Richmond St & 59th St</td><td>41.79</td><td>-87.7</td></tr><tr><td>302</td><td>Lamon Ave & Chicago Ave</td><td>41.9</td><td>-87.75</td></tr><tr><td>377</td><td>Bloomingdale Ave & Harlem Ave</td><td>41.91</td><td>-87.81</td></tr><tr><td>337</td><td>Hoyne Ave & 34th St</td><td>41.83</td><td>-87.68</td></tr><tr><td>375</td><td>Long Ave & North Ave</td><td>41.91</td><td>-87.76</td></tr><tr><td>304</td><td>Lavergne Ave & Division St</td><td>41.9</td><td>-87.75</td></tr><tr><td>385</td><td>St Louis Ave & Norman Bobbins Ave</td><td>41.79</td><td>-87.71</td></tr><tr><td>371</td><td>Kildare Ave & Chicago Ave</td><td>41.9</td><td>-87.73</td></tr><tr><td>382</td><td>Kedzie Ave & 48th Pl</td><td>41.8</td><td>-87.7</td></tr><tr><td>389</td><td>Maplewood Ave & 59th St</td><td>41.79</td><td>-87.69</td></tr><tr><td>303</td><td>Kildare Ave & Division St</td><td>41.9</td><td>-87.73</td></tr><tr><td>20260.0</td><td>Ping Tom Park (East)</td><td>41.86</td><td>-87.63</td></tr><tr><td>379</td><td>Rockwell St & Archer Ave</td><td>41.82</td><td>-87.69</td></tr><tr><td>339</td><td>Sacramento Ave & Pershing Rd</td><td>41.82</td><td>-87.7</td></tr><tr><td>338</td><td>California Ave & 36th St</td><td>41.83</td><td>-87.69</td></tr><tr><td>307</td><td>Leamington Ave & Hirsch St</td><td>41.91</td><td>-87.75</td></tr><tr><td>445</td><td>Western Ave & Gunnison St</td><td>41.97</td><td>-87.69</td></tr><tr><td>386</td><td>Rockwell St & 57th St</td><td>41.79</td><td>-87.69</td></tr><tr><td>471</td><td>Damen Ave & 33rd St</td><td>41.83</td><td>-87.68</td></tr><tr><td>403</td><td>Kildare Ave & 55th St</td><td>41.79</td><td>-87.73</td></tr><tr><td>20255.0</td><td>N Damen Ave & W Chicago Ave</td><td>41.9</td><td>-87.68</td></tr><tr><td>406</td><td>Kostner Ave & 63rd St</td><td>41.78</td><td>-87.73</td></tr><tr><td>344</td><td>Springfield Ave & 47th St</td><td>41.81</td><td>-87.72</td></tr><tr><td>343</td><td>Pulaski Rd & 51st St</td><td>41.8</td><td>-87.72</td></tr><tr><td>399</td><td>Lavergne Ave & 46th St</td><td>41.81</td><td>-87.75</td></tr><tr><td>380</td><td>Fairfield Ave & 44th St</td><td>41.81</td><td>-87.69</td></tr><tr><td>407</td><td>Tripp Ave & 65th St</td><td>41.77</td><td>-87.73</td></tr><tr><td>20209</td><td>S Michigan Ave & E 118th St</td><td>41.68</td><td>-87.62</td></tr><tr><td>430</td><td>Troy St & Grace St</td><td>41.95</td><td>-87.71</td></tr><tr><td>404</td><td>Pulaski Rd & 60th St</td><td>41.78</td><td>-87.72</td></tr><tr><td>347</td><td>Komensky Ave & 55th St</td><td>41.79</td><td>-87.72</td></tr><tr><td>346</td><td>Kedzie Ave & 57th St</td><td>41.79</td><td>-87.7</td></tr><tr><td>370</td><td>Central Park & Augusta Blvd</td><td>41.9</td><td>-87.72</td></tr><tr><td>400</td><td>Lawler Ave & 50th St</td><td>41.8</td><td>-87.75</td></tr><tr><td>369</td><td>Central Park Ave & Ohio St</td><td>41.89</td><td>-87.72</td></tr><tr><td>434</td><td>Albany Ave & Belmont Ave</td><td>41.94</td><td>-87.71</td></tr><tr><td>428</td><td>Milwaukee Ave & Fullerton Ave</td><td>41.92</td><td>-87.7</td></tr><tr><td>349</td><td>Spaulding Ave & 63rd St</td><td>41.78</td><td>-87.71</td></tr><tr><td>345</td><td>Artesian Ave & 55th St</td><td>41.79</td><td>-87.69</td></tr><tr><td>340</td><td>Pulaski & Ann Lurie Pl</td><td>41.82</td><td>-87.72</td></tr><tr><td>20240</td><td>Indiana Ave & 133rd St</td><td>41.65</td><td>-87.62</td></tr><tr><td>442</td><td>Lincoln Ave & Balmoral Ave</td><td>41.98</td><td>-87.69</td></tr><tr><td>402</td><td>Kenneth Ave & 50th St</td><td>41.8</td><td>-87.73</td></tr><tr><td>20128</td><td>S Wentworth Ave & W 111th St</td><td>41.69</td><td>-87.63</td></tr><tr><td>374</td><td>Kilpatrick Ave & Grand Ave</td><td>41.91</td><td>-87.74</td></tr><tr><td>443</td><td>California Ave & Winona St</td><td>41.97</td><td>-87.7</td></tr><tr><td>475</td><td>Whipple/Irving Park</td><td>41.95</td><td>-87.7</td></tr><tr><td>431</td><td>Western Ave & Grace St</td><td>41.95</td><td>-87.69</td></tr><tr><td>435</td><td>Rockwell St & Fletcher St</td><td>41.94</td><td>-87.69</td></tr><tr><td>458</td><td>Washtenaw Ave & Peterson Ave</td><td>41.99</td><td>-87.7</td></tr><tr><td>472</td><td>Elston Ave & George St</td><td>41.93</td><td>-87.69</td></tr><tr><td>462</td><td>Lincoln Ave & Peterson Ave</td><td>41.99</td><td>-87.71</td></tr><tr><td>429</td><td>Francisco Ave & Bloomingdale Ave</td><td>41.91</td><td>-87.7</td></tr><tr><td>444</td><td>N Shore Channel Trail & Argyle Ave</td><td>41.97</td><td>-87.7</td></tr><tr><td>436</td><td>Kedzie Ave & George St</td><td>41.93</td><td>-87.71</td></tr><tr><td>401</td><td>Kildare Ave & 47th St</td><td>41.81</td><td>-87.73</td></tr><tr><td>373</td><td>Augusta Blvd & Laramie Ave</td><td>41.9</td><td>-87.76</td></tr><tr><td>387</td><td>St Louis Ave & 59th St</td><td>41.79</td><td>-87.71</td></tr><tr><td>425</td><td>Rockwell St & Cermak Rd</td><td>41.85</td><td>-87.69</td></tr><tr><td>446</td><td>Francisco Ave & Montrose Ave</td><td>41.96</td><td>-87.7</td></tr><tr><td>441</td><td>Virginia Ave & Catalpa Ave</td><td>41.98</td><td>-87.7</td></tr><tr><td>390</td><td>California Ave & Marquette Rd</td><td>41.77</td><td>-87.69</td></tr><tr><td>452</td><td>Richmond St & Lincoln Ave</td><td>41.99</td><td>-87.7</td></tr><tr><td>419</td><td>Sacramento Blvd & Polk St</td><td>41.87</td><td>-87.7</td></tr><tr><td>350</td><td>Hamlin Ave & 62nd Pl</td><td>41.78</td><td>-87.72</td></tr><tr><td>433</td><td>Elston Ave & Henderson St</td><td>41.94</td><td>-87.7</td></tr><tr><td>Throop/Hastings Mobile Station</td><td>Throop/Hastings Mobile Station</td><td>41.851560473</td><td>-87.659110785</td></tr><tr><td>376</td><td>Menard Ave & North Ave</td><td>41.91</td><td>-87.77</td></tr><tr><td>424</td><td>Sacramento Ave & 25th St</td><td>41.85</td><td>-87.7</td></tr><tr><td>464</td><td>Western Ave & Ardmore Ave</td><td>41.99</td><td>-87.69</td></tr><tr><td>432</td><td>Sacramento Blvd & Addison St</td><td>41.95</td><td>-87.7</td></tr><tr><td>20102</td><td>Loomis St & 89th St</td><td>41.73247816666667</td><td>-87.6580595</td></tr><tr><td>460</td><td>Francisco Ave & Hollywood Ave</td><td>41.98</td><td>-87.7</td></tr><tr><td>466</td><td>California Ave & 29th St</td><td>41.84</td><td>-87.69</td></tr><tr><td>21544</td><td>State St & Chicago Ave</td><td>41.896932</td><td>-87.62876016666668</td></tr><tr><td>418</td><td>Mozart St & Jackson Blvd</td><td>41.88</td><td>-87.7</td></tr><tr><td>415</td><td>Western Ave & Lake St</td><td>41.88</td><td>-87.69</td></tr><tr><td>416</td><td>Washtenaw Ave & Madison St</td><td>41.88</td><td>-87.69</td></tr><tr><td>381</td><td>Francisco Ave & 47th St</td><td>41.81</td><td>-87.7</td></tr><tr><td>414</td><td>Sacramento Blvd & Fulton Ave</td><td>41.89</td><td>-87.7</td></tr><tr><td>20111</td><td>Olive Harvey College</td><td>41.709526000000004</td><td>-87.590236</td></tr><tr><td>383</td><td>Campbell Ave & 51st St</td><td>41.8</td><td>-87.69</td></tr><tr><td>342</td><td>Kedzie Ave & 45th St</td><td>41.81</td><td>-87.7</td></tr><tr><td>Pawel Bialowas - Test- PBSC charging station</td><td>Pawel Bialowas - Test- PBSC charging station</td><td>45.635034323</td><td>-73.79647696</td></tr><tr><td>Hastings WH 2</td><td>Hastings WH 2</td><td>41.863533139</td><td>-87.679664254</td></tr><tr><td>420</td><td>Washtenaw Ave & Polk St</td><td>41.87</td><td>-87.69</td></tr><tr><td>474</td><td>Fullerton & Monitor</td><td>41.92</td><td>-87.77</td></tr><tr><td>Lincoln Ave & Roscoe St - Charging</td><td>Lincoln Ave & Roscoe St - Charging</td><td>41.943063378000005</td><td>-87.670833826</td></tr><tr><td>427</td><td>Whipple St & Roosevelt Rd</td><td>41.87</td><td>-87.7</td></tr><tr><td>20258.0</td><td>N Damen Ave & W Wabansia St</td><td>41.91</td><td>-87.68</td></tr><tr><td>437</td><td>Whipple St & Irving Park Rd</td><td>41.95</td><td>-87.7</td></tr><tr><td>525</td><td>Glenwood Ave & Touhy Ave</td><td>42.012701</td><td>-87.66605799999999</td></tr><tr><td>KA1503000012</td><td>Clark St & Lake St</td><td>41.88579466666667</td><td>-87.63110066666668</td></tr><tr><td>637</td><td>Wood St & Chicago Ave</td><td>41.895634</td><td>-87.672069</td></tr><tr><td>13216</td><td>State St & 33rd St</td><td>41.8347335</td><td>-87.6258275</td></tr><tr><td>18003</td><td>Fairbanks St & Superior St</td><td>41.89580766666667</td><td>-87.62025316666669</td></tr><tr><td>KP1705001026</td><td>LaSalle Dr & Huron St</td><td>41.894877</td><td>-87.632326</td></tr><tr><td>13253</td><td>Lincoln Ave & Waveland Ave</td><td>41.948797</td><td>-87.675278</td></tr><tr><td>KA1503000044</td><td>Rush St & Hubbard St</td><td>41.890173</td><td>-87.62618499999999</td></tr><tr><td>KA1504000140</td><td>Winchester Ave & Elston Ave</td><td>41.92403733333333</td><td>-87.67641483333334</td></tr><tr><td>TA1305000032</td><td>Clinton St & Madison St</td><td>41.882242</td><td>-87.64106600000001</td></tr><tr><td>TA1306000012</td><td>Wells St & Huron St</td><td>41.89475366666667</td><td>-87.63440200000001</td></tr><tr><td>13133</td><td>Damen Ave & Cortland St</td><td>41.915983000000004</td><td>-87.677335</td></tr><tr><td>SL-005</td><td>Indiana Ave & Roosevelt Rd</td><td>41.867888</td><td>-87.623041</td></tr><tr><td>13235</td><td>Southport Ave & Waveland Ave</td><td>41.94815</td><td>-87.66394</td></tr><tr><td>TA1307000139</td><td>MLK Jr Dr & 29th St</td><td>41.842052</td><td>-87.617</td></tr><tr><td>TA1305000009</td><td>Clark St & Ida B Wells Dr</td><td>41.8759326655</td><td>-87.63058453549999</td></tr><tr><td>13276</td><td>Stockton Dr & Wrightwood Ave</td><td>41.9313455</td><td>-87.63869133333333</td></tr><tr><td>TA1307000107</td><td>Sheridan Rd & Montrose Ave</td><td>41.96167</td><td>-87.65464</td></tr><tr><td>13193</td><td>Larrabee St & Webster Ave</td><td>41.921822</td><td>-87.64414000000001</td></tr><tr><td>KA1503000072</td><td>Wacker Dr & Washington St</td><td>41.883132</td><td>-87.637321</td></tr><tr><td>TA1307000166</td><td>Halsted St & Willow St</td><td>41.913865</td><td>-87.64875500000001</td></tr><tr><td>13285</td><td>Wood St & Taylor St (Temp)</td><td>41.86926521843819</td><td>-87.67373085021973</td></tr><tr><td>TA1306000016</td><td>Sheffield Ave & Fullerton Ave</td><td>41.92552516666667</td><td>-87.65368583333333</td></tr><tr><td>13303</td><td>Clark St & Chicago Ave</td><td>41.89675</td><td>-87.63089000000001</td></tr><tr><td>15575</td><td>Broadway & Thorndale Ave</td><td>41.98974251144</td><td>-87.6601406209</td></tr><tr><td>623</td><td>Michigan Ave & 8th St</td><td>41.872287666666665</td><td>-87.6239145</td></tr><tr><td>TA1309000050</td><td>Lincoln Ave & Addison St</td><td>41.946176</td><td>-87.67330799999999</td></tr><tr><td>15445</td><td>Wentworth Ave & 33rd St</td><td>41.83452988563</td><td>-87.63182298139999</td></tr><tr><td>13164</td><td>Racine Ave & 18th St</td><td>41.858166</td><td>-87.65649499999999</td></tr><tr><td>TA1307000151</td><td>Wells St & Hubbard St</td><td>41.889905999999996</td><td>-87.634266</td></tr><tr><td>13158</td><td>Peoria St & Jackson Blvd</td><td>41.877641596275296</td><td>-87.64961779117584</td></tr><tr><td>13150</td><td>Michigan Ave & 18th St</td><td>41.857813</td><td>-87.62455</td></tr><tr><td>TA1308000036</td><td>Indiana Ave & 31st St</td><td>41.83884433333333</td><td>-87.62183783333332</td></tr><tr><td>TA1308000013</td><td>Halsted St & Archer Ave</td><td>41.847203</td><td>-87.646795</td></tr><tr><td>TA1306000013</td><td>New St & Illinois St</td><td>41.89084704062381</td><td>-87.6186168193817</td></tr><tr><td>13061</td><td>Ashland Ave & Division St</td><td>41.90345</td><td>-87.66774699999999</td></tr><tr><td>TA1307000048</td><td>Fort Dearborn Dr & 31st St</td><td>41.838556</td><td>-87.60821800000001</td></tr><tr><td>TA1308000045</td><td>Wallace St & 35th St</td><td>41.830628999999995</td><td>-87.64129</td></tr><tr><td>13206</td><td>Loomis St & Jackson Blvd</td><td>41.877945000000004</td><td>-87.66200699999999</td></tr><tr><td>13156</td><td>Aberdeen St & Monroe St</td><td>41.880419</td><td>-87.655519</td></tr><tr><td>TA1306000015</td><td>Morgan St & Lake St</td><td>41.8854833079</td><td>-87.6523048564</td></tr><tr><td>13058</td><td>Dayton St & North Ave</td><td>41.9105780349</td><td>-87.6494219288</td></tr><tr><td>TA1309000008</td><td>Franklin St & Adams St (Temp)</td><td>41.879434091400135</td><td>-87.63550400733948</td></tr><tr><td>KA1504000135</td><td>Wells St & Elm St</td><td>41.90320733333333</td><td>-87.63461616666666</td></tr><tr><td>KA1503000064</td><td>Dusable Harbor</td><td>41.886976000000004</td><td>-87.612813</td></tr><tr><td>TA1305000022</td><td>Orleans St & Merchandise Mart Plaza</td><td>41.888243</td><td>-87.63639</td></tr><tr><td>KA1504000079</td><td>Larrabee St & Division St</td><td>41.90348607004</td><td>-87.6433534936</td></tr><tr><td>KA1503000022</td><td>Clark St & Montrose Ave</td><td>41.961588</td><td>-87.666036</td></tr><tr><td>13109</td><td>Broadway & Berwyn Ave</td><td>41.978353000000006</td><td>-87.65975300000001</td></tr><tr><td>15530</td><td>Rush St & Superior St</td><td>41.89576474564</td><td>-87.62590803270001</td></tr><tr><td>TA1306000010</td><td>Daley Center Plaza</td><td>41.884240999999996</td><td>-87.629634</td></tr><tr><td>13146</td><td>Clark St & Armitage Ave</td><td>41.918306</td><td>-87.636282</td></tr><tr><td>15578</td><td>Broadway & Ridge Ave</td><td>41.9840446107</td><td>-87.66027382950001</td></tr><tr><td>KA1503000034</td><td>LaSalle St & Adams St</td><td>41.87934437346</td><td>-87.63198522129998</td></tr><tr><td>KA1503000059</td><td>Lake Park Ave & 53rd St</td><td>41.79949429373</td><td>-87.5864498959</td></tr><tr><td>TA1305000011</td><td>Michigan Ave & Lake St</td><td>41.886024</td><td>-87.624117</td></tr><tr><td>TA1307000061</td><td>State St & Pearson St</td><td>41.897448</td><td>-87.628722</td></tr><tr><td>SL-011</td><td>Wells St & Polk St</td><td>41.872596</td><td>-87.63350200000001</td></tr><tr><td>TA1309000010</td><td>Wabash Ave & 9th St</td><td>41.8702615</td><td>-87.62538516666666</td></tr><tr><td>15534</td><td>Field Blvd & South Water St</td><td>41.88634906269</td><td>-87.6175165471</td></tr><tr><td>TA1307000119</td><td>Clarendon Ave & Leland Ave</td><td>41.967968</td><td>-87.650001</td></tr><tr><td>TA1305000029</td><td>State St & Randolph St</td><td>41.884730200599996</td><td>-87.6277335692</td></tr><tr><td>TA1309000063</td><td>Lake Park Ave & 56th St</td><td>41.793242</td><td>-87.58778199999999</td></tr><tr><td>KA1504000133</td><td>Rush St & Cedar St</td><td>41.90230870122</td><td>-87.62769052799999</td></tr><tr><td>624</td><td>Dearborn St & Van Buren St</td><td>41.87619516666667</td><td>-87.62913033333334</td></tr><tr><td>KA1503000029</td><td>South Shore Dr & 67th St</td><td>41.773643</td><td>-87.567514</td></tr><tr><td>13323</td><td>Broadway & Sheridan Rd</td><td>41.952833</td><td>-87.64999300000001</td></tr><tr><td>KA1504000149</td><td>Damen Ave & Foster Ave</td><td>41.97561480459</td><td>-87.6794590387</td></tr><tr><td>TA1309000004</td><td>LaSalle St & Jackson Blvd</td><td>41.878166</td><td>-87.631929</td></tr><tr><td>18058</td><td>Leavitt St & Chicago Ave</td><td>41.895437</td><td>-87.68198466666666</td></tr><tr><td>WL-008</td><td>Clinton St & Roosevelt Rd</td><td>41.867053166666665</td><td>-87.64109383333331</td></tr><tr><td>13221</td><td>Wood St & Milwaukee Ave</td><td>41.907655</td><td>-87.672552</td></tr><tr><td>523</td><td>Eastlake Ter & Rogers Ave</td><td>42.020887280520604</td><td>-87.66505792737007</td></tr><tr><td>TA1309000025</td><td>Halsted St & Roscoe St</td><td>41.943670000000004</td><td>-87.64895</td></tr><tr><td>13288</td><td>Damen Ave & Charleston St</td><td>41.9200765</td><td>-87.67794466666666</td></tr><tr><td>658</td><td>Leavitt St & Division St</td><td>41.902997</td><td>-87.683825</td></tr><tr><td>TA1307000070</td><td>Damen Ave & Thomas St (Augusta Blvd)</td><td>41.901315000000004</td><td>-87.677409</td></tr><tr><td>TA1305000041</td><td>Damen Ave & Pierce Ave</td><td>41.9093960065</td><td>-87.6776919292</td></tr><tr><td>13268</td><td>Damen Ave & Wellington Ave</td><td>41.935837</td><td>-87.67849433333332</td></tr><tr><td>15667</td><td>Western Ave & Monroe St</td><td>41.8797877089</td><td>-87.68611280799999</td></tr><tr><td>13084</td><td>California Ave & Milwaukee Ave</td><td>41.922695000000004</td><td>-87.697153</td></tr><tr><td>15655</td><td>Albany Ave & Bloomingdale Ave</td><td>41.91393833333333</td><td>-87.70515433333334</td></tr><tr><td>17660</td><td>California Ave & Cortez St</td><td>41.900363</td><td>-87.696704</td></tr><tr><td>15651</td><td>Humboldt Blvd & Armitage Ave</td><td>41.91751339399</td><td>-87.7018089555</td></tr><tr><td>KA1504000146</td><td>Clark St & Berwyn Ave</td><td>41.9779966544</td><td>-87.6680471047</td></tr><tr><td>KA1504000151</td><td>Clark St & Bryn Mawr Ave</td><td>41.983593</td><td>-87.669154</td></tr><tr><td>KA1503000041</td><td>McClurg Ct & Erie St</td><td>41.894503</td><td>-87.61785400000001</td></tr><tr><td>TA1308000046</td><td>Morgan St & 31st St</td><td>41.83783666666667</td><td>-87.65113033333333</td></tr><tr><td>13266</td><td>Stave St & Armitage Ave</td><td>41.917741</td><td>-87.69139200000001</td></tr><tr><td>TA1307000124</td><td>Michigan Ave & 14th St</td><td>41.864059000000005</td><td>-87.623727</td></tr><tr><td>13196</td><td>Carpenter St & Huron St</td><td>41.894515166666665</td><td>-87.65350183333334</td></tr><tr><td>TA1306000029</td><td>Lake Shore Dr & Ohio St</td><td>41.89257</td><td>-87.614492</td></tr><tr><td>TA1307000052</td><td>Sheffield Ave & Wellington Ave</td><td>41.936265999999996</td><td>-87.652662</td></tr><tr><td>13021</td><td>Clinton St & Lake St</td><td>41.885637</td><td>-87.641823</td></tr><tr><td>TA1305000002</td><td>Wabash Ave & Roosevelt Rd</td><td>41.867227</td><td>-87.625961</td></tr><tr><td>KA1504000116</td><td>Larrabee St & Oak St</td><td>41.90021949323</td><td>-87.6429854676</td></tr><tr><td>TA1305000025</td><td>Franklin St & Jackson Blvd</td><td>41.87801183333333</td><td>-87.6355415</td></tr><tr><td>TA1305000034</td><td>Honore St & Division St</td><td>41.903119000000004</td><td>-87.673935</td></tr><tr><td>15644</td><td>Central Park Ave & Elbridge Ave</td><td>41.93533728263</td><td>-87.7168892935</td></tr><tr><td>TA1309000030</td><td>Southport Ave & Clybourn Ave</td><td>41.920771</td><td>-87.663712</td></tr><tr><td>13432</td><td>Wood St & Hubbard St</td><td>41.889899</td><td>-87.67147299999999</td></tr><tr><td>TA1308000049</td><td>Wells St & Evergreen Ave</td><td>41.906698</td><td>-87.63511366666668</td></tr><tr><td>KA1504000117</td><td>Halsted St & North Branch St</td><td>41.899368439209994</td><td>-87.64847987520001</td></tr><tr><td>RP-007</td><td>Clark St & Touhy Ave</td><td>42.01256011541</td><td>-87.6743671152</td></tr><tr><td>15529</td><td>Mies van der Rohe Way & Chestnut St</td><td>41.898586651399995</td><td>-87.6219152258</td></tr><tr><td>SL-008</td><td>Federal St & Polk St</td><td>41.87207763285</td><td>-87.6295437729</td></tr><tr><td>TA1307000005</td><td>Indiana Ave & 26th St</td><td>41.845687</td><td>-87.62248100000001</td></tr><tr><td>13068</td><td>Western Ave & Winnebago Ave</td><td>41.915541</td><td>-87.68713016666666</td></tr><tr><td>TA1307000039</td><td>Clark St & Elm St</td><td>41.902972999999996</td><td>-87.63128</td></tr><tr><td>13045</td><td>Dearborn St & Erie St</td><td>41.893992</td><td>-87.62931800000001</td></tr><tr><td>SL-012</td><td>Wabash Ave & 16th St</td><td>41.860384</td><td>-87.625813</td></tr><tr><td>TA1307000117</td><td>Wabash Ave & Grand Ave</td><td>41.891465999999994</td><td>-87.626761</td></tr><tr><td>15654</td><td>Spaulding Ave & Division St</td><td>41.90270659438</td><td>-87.709219571</td></tr><tr><td>13263</td><td>Columbus Dr & Randolph St</td><td>41.884728</td><td>-87.61952099999999</td></tr><tr><td>13247</td><td>Ashland Ave & Chicago Ave</td><td>41.895965999999994</td><td>-87.66774699999999</td></tr><tr><td>13132</td><td>Damen Ave & Chicago Ave</td><td>41.895666833333344</td><td>-87.67708133333332</td></tr><tr><td>TA1308000006</td><td>Damen Ave & Grand Ave</td><td>41.891264346481535</td><td>-87.676842212677</td></tr><tr><td>KA1503000069</td><td>Dorchester Ave & 49th St</td><td>41.805830666666665</td><td>-87.592499</td></tr><tr><td>15623</td><td>Campbell Ave & Montrose Ave</td><td>41.96153733333333</td><td>-87.6911475</td></tr><tr><td>13006</td><td>LaSalle St & Washington St</td><td>41.882664</td><td>-87.63253</td></tr><tr><td>15550</td><td>Canal St & Taylor St</td><td>41.870257</td><td>-87.63947399999999</td></tr><tr><td>13016</td><td>St. Clair St & Erie St</td><td>41.89434513742426</td><td>-87.62279838323593</td></tr><tr><td>TA1308000021</td><td>Winthrop Ave & Lawrence Ave</td><td>41.968812</td><td>-87.657659</td></tr><tr><td>LF-005</td><td>Lake Shore Dr & North Blvd</td><td>41.911722</td><td>-87.626804</td></tr><tr><td>TA1309000002</td><td>Michigan Ave & Jackson Blvd</td><td>41.87785</td><td>-87.62408</td></tr><tr><td>TA1305000037</td><td>Paulina Ave & North Ave</td><td>41.910337</td><td>-87.67007199999999</td></tr><tr><td>15541</td><td>Buckingham Fountain</td><td>41.87651122881695</td><td>-87.62054800987242</td></tr><tr><td>13022</td><td>Streeter Dr & Grand Ave</td><td>41.892278000000005</td><td>-87.612043</td></tr><tr><td>KA1706005007</td><td>Delano Ct & Roosevelt Rd</td><td>41.867490999999994</td><td>-87.63219000000001</td></tr><tr><td>TA1308000001</td><td>Theater on the Lake</td><td>41.926277</td><td>-87.630834</td></tr><tr><td>13294</td><td>Greenview Ave & Diversey Pkwy</td><td>41.932573</td><td>-87.6659865</td></tr><tr><td>15542</td><td>Clinton St & Polk St</td><td>41.871466517790005</td><td>-87.6409491327</td></tr><tr><td>13245</td><td>Claremont Ave & Hirsch St</td><td>41.907781</td><td>-87.685854</td></tr><tr><td>13001</td><td>Michigan Ave & Washington St</td><td>41.8839840647265</td><td>-87.6246839761734</td></tr><tr><td>TA1309000042</td><td>Lincoln Ave & Belmont Ave</td><td>41.939408666666665</td><td>-87.6683635</td></tr><tr><td>13033</td><td>Milwaukee Ave & Grand Ave</td><td>41.891578</td><td>-87.648384</td></tr><tr><td>TA1309000024</td><td>Clark St & Schiller St</td><td>41.90810066666667</td><td>-87.63155916666666</td></tr><tr><td>13265</td><td>Kingsbury St & Erie St</td><td>41.89380805624359</td><td>-87.64169722795485</td></tr><tr><td>13071</td><td>Southport Ave & Roscoe St</td><td>41.943739</td><td>-87.66402</td></tr><tr><td>13085</td><td>Kedzie Ave & Milwaukee Ave</td><td>41.92960383333333</td><td>-87.70789566666667</td></tr><tr><td>KA1504000090</td><td>St. Louis Ave & Fullerton Ave</td><td>41.92481559681187</td><td>-87.71449506282805</td></tr><tr><td>535</td><td>Pulaski Rd & Congress Pkwy</td><td>41.874325</td><td>-87.72570400000001</td></tr><tr><td>13277</td><td>Broadway & Belmont Ave</td><td>41.940106</td><td>-87.645451</td></tr><tr><td>KA1504000152</td><td>Lakefront Trail & Bryn Mawr Ave</td><td>41.98403669612</td><td>-87.6523104689</td></tr><tr><td>TA1309000058</td><td>Lincoln Ave & Fullerton Ave</td><td>41.92593</td><td>-87.64926666666666</td></tr><tr><td>16994</td><td>Kilbourn Ave & Milwaukee Ave</td><td>41.948803000000005</td><td>-87.73998116666668</td></tr><tr><td>13278</td><td>Broadway & Cornelia Ave</td><td>41.945529</td><td>-87.646439</td></tr><tr><td>E002</td><td>Chicago Ave & Washington St</td><td>42.032562</td><td>-87.679101</td></tr><tr><td>KA1504000080</td><td>Washtenaw Ave & Lawrence Ave</td><td>41.96867133333333</td><td>-87.6961615</td></tr><tr><td>TA1308000022</td><td>Pine Grove Ave & Irving Park Rd</td><td>41.954316166666665</td><td>-87.64809816666668</td></tr><tr><td>TA1309000027</td><td>Sheridan Rd & Buena Ave</td><td>41.958494</td><td>-87.654966</td></tr><tr><td>KA1504000155</td><td>2112 W Peterson Ave</td><td>41.991178000000005</td><td>-87.683593</td></tr><tr><td>TA1305000014</td><td>Clark St & Wrightwood Ave</td><td>41.929571</td><td>-87.64309033333332</td></tr><tr><td>TA1308000031</td><td>Logan Blvd & Elston Ave</td><td>41.929404999999996</td><td>-87.68418683333331</td></tr><tr><td>KA1504000164</td><td>Keystone Ave & Montrose Ave</td><td>41.96110801623</td><td>-87.7289701012</td></tr><tr><td>15640</td><td>Avers Ave & Belmont Ave</td><td>41.939408</td><td>-87.723574</td></tr><tr><td>620</td><td>Orleans St & Chestnut St (NEXT Apts)</td><td>41.898203</td><td>-87.637536</td></tr><tr><td>TA1309000061</td><td>Halsted St & Wrightwood Ave</td><td>41.929142999999996</td><td>-87.649077</td></tr><tr><td>TA1308000050</td><td>Wells St & Concord Ln</td><td>41.912133000000004</td><td>-87.634656</td></tr><tr><td>13379</td><td>Clarendon Ave & Gordon Ter</td><td>41.95786233333333</td><td>-87.649478</td></tr><tr><td>13389</td><td>Clarendon Ave & Junior Ter</td><td>41.961003999999996</td><td>-87.649603</td></tr><tr><td>KA1504000161</td><td>St. Louis Ave & Balmoral Ave</td><td>41.98039423475</td><td>-87.7161149615</td></tr><tr><td>TA1307000149</td><td>Ravenswood Ave & Irving Park Rd</td><td>41.95469</td><td>-87.67393</td></tr><tr><td>13224</td><td>Ashland Ave & Blackhawk St</td><td>41.907066</td><td>-87.667252</td></tr><tr><td>TA1306000009</td><td>Larrabee St & Kingsbury St</td><td>41.897764</td><td>-87.642884</td></tr><tr><td>605</td><td>University Library (NU)</td><td>42.052939</td><td>-87.673447</td></tr><tr><td>KA1504000134</td><td>Ritchie Ct & Banks St</td><td>41.90704933333333</td><td>-87.62598233333334</td></tr><tr><td>KA1503000007</td><td>Cornell Ave & Hyde Park Blvd</td><td>41.802406</td><td>-87.586924</td></tr><tr><td>520</td><td>Greenview Ave & Jarvis Ave</td><td>42.015962</td><td>-87.66856999999999</td></tr><tr><td>13144</td><td>Seeley Ave & Roscoe St</td><td>41.943403</td><td>-87.679618</td></tr><tr><td>517</td><td>Clark St & Jarvis Ave</td><td>42.0159715</td><td>-87.67504016666666</td></tr><tr><td>638</td><td>Clinton St & Jackson Blvd</td><td>41.878063833333336</td><td>-87.64004366666668</td></tr><tr><td>KA1503000070</td><td>Harper Ave & 59th St</td><td>41.78794281287</td><td>-87.5883151702</td></tr><tr><td>13197</td><td>Elizabeth (May) St & Fulton St</td><td>41.886616486027656</td><td>-87.65803992748259</td></tr><tr><td>13191</td><td>Sedgwick St & Webster Ave</td><td>41.922167</td><td>-87.638888</td></tr><tr><td>KA1504000175</td><td>Glenwood Ave & Morse Ave</td><td>42.00797192287</td><td>-87.66550239440001</td></tr><tr><td>13008</td><td>Millennium Park</td><td>41.8810317</td><td>-87.62408432</td></tr><tr><td>TA1307000006</td><td>Southport Ave & Wellington Ave</td><td>41.935733</td><td>-87.663576</td></tr><tr><td>13338</td><td>Mies van der Rohe Way & Chicago Ave</td><td>41.89691</td><td>-87.62174300000001</td></tr><tr><td>13011</td><td>Canal St & Adams St</td><td>41.879255</td><td>-87.639904</td></tr><tr><td>KA1504000159</td><td>Sheridan Rd & Greenleaf Ave</td><td>42.010586562840004</td><td>-87.66241209479999</td></tr><tr><td>13292</td><td>Kedzie Ave & Palmer Ct</td><td>41.921525</td><td>-87.70732199999999</td></tr><tr><td>RN-</td><td>Franklin St & Illinois St</td><td>41.89102331025185</td><td>-87.63547986745834</td></tr><tr><td>13256</td><td>California Ave & Division St</td><td>41.903029</td><td>-87.697474</td></tr><tr><td>TA1308000029</td><td>Stetson Ave & South Water St</td><td>41.886835</td><td>-87.62232</td></tr><tr><td>15491</td><td>63rd St Beach</td><td>41.78101637195999</td><td>-87.5761197602</td></tr><tr><td>TA1309000021</td><td>Paulina St & Montrose Ave</td><td>41.961507</td><td>-87.671387</td></tr><tr><td>13354</td><td>Ashland Ave & 13th St</td><td>41.865234</td><td>-87.666507</td></tr><tr><td>TA1307000159</td><td>Paulina St & 18th St</td><td>41.857901</td><td>-87.668745</td></tr><tr><td>TA1309000037</td><td>Kimbark Ave & 53rd St</td><td>41.799568</td><td>-87.594747</td></tr><tr><td>KA1504000158</td><td>Oakley Ave & Irving Park Rd</td><td>41.95434085219</td><td>-87.6860796243</td></tr><tr><td>13332</td><td>Loomis St & Lexington St</td><td>41.872187</td><td>-87.661501</td></tr><tr><td>TA1308000005</td><td>Leavitt St & North Ave</td><td>41.910140000000006</td><td>-87.68235233333333</td></tr><tr><td>TA1307000138</td><td>Lincoln Ave & Roscoe St</td><td>41.94334</td><td>-87.67097</td></tr><tr><td>KA1503000040</td><td>Loomis St & Archer Ave</td><td>41.84163253965</td><td>-87.6574349533</td></tr><tr><td>TA1307000134</td><td>Wilton Ave & Belmont Ave</td><td>41.94018</td><td>-87.65304</td></tr><tr><td>13136</td><td>Damen Ave & Division St</td><td>41.903265999999995</td><td>-87.678435</td></tr><tr><td>TA1308000035</td><td>Lake Park Ave & 47th St</td><td>41.809443</td><td>-87.591875</td></tr><tr><td>TA1309000029</td><td>Leavitt St & Armitage Ave</td><td>41.917805</td><td>-87.682437</td></tr><tr><td>13154</td><td>Sheffield Ave & Kingsbury St</td><td>41.910522</td><td>-87.65310600000001</td></tr><tr><td>13135</td><td>Blue Island Ave & 18th St</td><td>41.857556</td><td>-87.661535</td></tr><tr><td>13096</td><td>California Ave & 21st St</td><td>41.853804</td><td>-87.69574200000001</td></tr><tr><td>TA1309000012</td><td>Damen Ave & Sunnyside Ave</td><td>41.96325</td><td>-87.67925799999999</td></tr><tr><td>13304</td><td>Racine Ave & 15th St</td><td>41.861267</td><td>-87.656625</td></tr><tr><td>KA1504000076</td><td>Ellis Ave & 55th St</td><td>41.79430062054001</td><td>-87.6014497734</td></tr><tr><td>SL-007</td><td>State St & Harrison St</td><td>41.874053</td><td>-87.627716</td></tr><tr><td>657</td><td>Wood St & Augusta Blvd</td><td>41.899181</td><td>-87.6722</td></tr><tr><td>TA1309000018</td><td>Ravenswood Ave & Berteau Ave</td><td>41.957921</td><td>-87.673567</td></tr><tr><td>13029</td><td>Field Museum</td><td>41.865312</td><td>-87.617867</td></tr><tr><td>TA1306000002</td><td>Morgan Ave & 14th Pl</td><td>41.862378</td><td>-87.651062</td></tr><tr><td>TA1309000035</td><td>Clark St & Winnemac Ave</td><td>41.97338333333333</td><td>-87.66773616666669</td></tr><tr><td>13307</td><td>Laflin St & Cullerton St</td><td>41.85491457576575</td><td>-87.66355991363525</td></tr><tr><td>643</td><td>Smith Park</td><td>41.891996166666665</td><td>-87.68938299999999</td></tr><tr><td>13325</td><td>Broadway & Waveland Ave</td><td>41.949073999999996</td><td>-87.648636</td></tr><tr><td>TA1305000039</td><td>Marshfield Ave & Cortland St</td><td>41.91604933333333</td><td>-87.6689225</td></tr><tr><td>TA1307000144</td><td>Wolcott (Ravenswood) Ave & Montrose Ave</td><td>41.96144316666667</td><td>-87.67620366666668</td></tr><tr><td>18062</td><td>Aberdeen St & Randolph St</td><td>41.884114000000004</td><td>-87.654264</td></tr><tr><td>13073</td><td>Ashland Ave & Lake St</td><td>41.88585116666667</td><td>-87.6671645</td></tr><tr><td>TA1309000026</td><td>Lincoln Ave & Belle Plaine Ave</td><td>41.95602616666667</td><td>-87.68023516666666</td></tr><tr><td>15621</td><td>Albany Ave & Montrose Ave</td><td>41.961040999999994</td><td>-87.705866</td></tr><tr><td>TA1308000009</td><td>Shore Dr & 55th St</td><td>41.795212</td><td>-87.580715</td></tr><tr><td>TA1307000044</td><td>Clinton St & 18th St</td><td>41.85795</td><td>-87.640826</td></tr><tr><td>13143</td><td>Damen Ave & Melrose Ave</td><td>41.940571666666656</td><td>-87.67868916666669</td></tr><tr><td>20121</td><td>Loomis Blvd & 84th St</td><td>41.741487</td><td>-87.65841</td></tr><tr><td>TA1309000007</td><td>Franklin St & Monroe St</td><td>41.880317</td><td>-87.63518499999999</td></tr><tr><td>KA1504000127</td><td>Manor Ave & Leland Ave</td><td>41.965875</td><td>-87.700825</td></tr><tr><td>13063</td><td>Sheridan Rd & Irving Park Rd</td><td>41.954245</td><td>-87.65440600000001</td></tr><tr><td>TA1307000150</td><td>Pine Grove Ave & Waveland Ave</td><td>41.94947274088333</td><td>-87.64645278453827</td></tr><tr><td>13341</td><td>Canal St & Madison St</td><td>41.882090999999996</td><td>-87.639833</td></tr><tr><td>13179</td><td>Clark St & Lincoln Ave</td><td>41.9157335</td><td>-87.63461466666666</td></tr><tr><td>13296</td><td>Ashland Ave & Wrightwood Ave</td><td>41.92883</td><td>-87.66850699999999</td></tr><tr><td>TA1309000023</td><td>Sheffield Ave & Wrightwood Ave</td><td>41.928712</td><td>-87.65383299999999</td></tr><tr><td>13108</td><td>Broadway & Argyle St</td><td>41.973815</td><td>-87.65966</td></tr><tr><td>TA1307000142</td><td>Clark St & Drummond Pl</td><td>41.931248</td><td>-87.644336</td></tr><tr><td>TA1309000039</td><td>Lake Shore Dr & Diversey Pkwy</td><td>41.932588</td><td>-87.636427</td></tr><tr><td>TA1309000043</td><td>Southport Ave & Irving Park Rd</td><td>41.954177</td><td>-87.664358</td></tr><tr><td>KA17018054</td><td>Damen Ave & Walnut (Lake) St</td><td>41.885919666666666</td><td>-87.67707300000002</td></tr><tr><td>SL-006</td><td>Wells St & 19th St</td><td>41.856802</td><td>-87.63387900000001</td></tr><tr><td>13192</td><td>Halsted St & Dickens Ave</td><td>41.919936</td><td>-87.64883</td></tr><tr><td>TA1308000014</td><td>Normal Ave & Archer Ave</td><td>41.849556666666665</td><td>-87.64060433333331</td></tr><tr><td>331</td><td>Halsted St & Clybourn Ave</td><td>41.909667999999996</td><td>-87.648128</td></tr><tr><td>TA1307000158</td><td>Damen Ave & Leland Ave</td><td>41.96710316666667</td><td>-87.6790435</td></tr><tr><td>13128</td><td>Clark St & North Ave</td><td>41.911974</td><td>-87.63194200000001</td></tr><tr><td>TA1305000005</td><td>Dearborn St & Adams St</td><td>41.8793563587</td><td>-87.62979103629999</td></tr><tr><td>TA1306000014</td><td>Wilton Ave & Diversey Pkwy</td><td>41.932418</td><td>-87.65270500000001</td></tr><tr><td>TA1307000131</td><td>Wabash Ave & Wacker Pl</td><td>41.886875</td><td>-87.62603</td></tr><tr><td>TA1306000032</td><td>Sheffield Ave & Willow St</td><td>41.913688</td><td>-87.652855</td></tr><tr><td>KA1504000082</td><td>Kedzie Ave & Harrison St</td><td>41.8736</td><td>-87.704871</td></tr><tr><td>SL-009</td><td>Clark St & 9th St (AMLI)</td><td>41.870816</td><td>-87.63124599999999</td></tr><tr><td>TA1307000041</td><td>Lake Shore Dr & Wellington Ave</td><td>41.936688449499705</td><td>-87.63682901859283</td></tr><tr><td>TA1309000019</td><td>Lakeview Ave & Fullerton Pkwy</td><td>41.92582616666667</td><td>-87.63898233333332</td></tr><tr><td>13137</td><td>Broadway & Barry Ave</td><td>41.93761283333333</td><td>-87.64412966666669</td></tr><tr><td>13434</td><td>Ashland Ave & Grand Ave</td><td>41.891082166666656</td><td>-87.6667135</td></tr><tr><td>TA1307000126</td><td>Sheffield Ave & Waveland Ave</td><td>41.949399</td><td>-87.65452900000001</td></tr><tr><td>13194</td><td>Ogden Ave & Race Ave</td><td>41.89182266666667</td><td>-87.65879433333332</td></tr><tr><td>13017</td><td>Franklin St & Chicago Ave</td><td>41.89674697309381</td><td>-87.63566762208939</td></tr><tr><td>TA1307000140</td><td>Western Ave & Leland Ave</td><td>41.96649453206122</td><td>-87.68841862678528</td></tr><tr><td>15622</td><td>California Ave & Montrose Ave</td><td>41.961068</td><td>-87.69543900000001</td></tr><tr><td>13430</td><td>LaSalle St & Illinois St</td><td>41.89080633333333</td><td>-87.63156666666669</td></tr><tr><td>KA1503000002</td><td>South Shore Dr & 71st St</td><td>41.7664094567</td><td>-87.5656875719</td></tr><tr><td>TA1305000003</td><td>Fairbanks Ct & Grand Ave</td><td>41.89184737210993</td><td>-87.62058019638063</td></tr><tr><td>13431</td><td>Adler Planetarium</td><td>41.866095</td><td>-87.60726700000001</td></tr><tr><td>TA1307000120</td><td>Green St & Madison St</td><td>41.881892</td><td>-87.64878900000001</td></tr><tr><td>WL-012</td><td>Clinton St & Washington Blvd</td><td>41.883379999999995</td><td>-87.64116999999999</td></tr><tr><td>18069</td><td>Cherry Ave & Blackhawk St</td><td>41.907221</td><td>-87.655618</td></tr><tr><td>TA1309000067</td><td>Cottage Grove Ave & 51st St</td><td>41.803038</td><td>-87.606615</td></tr><tr><td>KA1504000097</td><td>Drake Ave & Montrose Ave</td><td>41.961154075690004</td><td>-87.7165690733</td></tr><tr><td>15571</td><td>Broadway & Granville Ave</td><td>41.99473316666667</td><td>-87.660209</td></tr><tr><td>15689</td><td>California Ave & 23rd Pl</td><td>41.84910969176</td><td>-87.6951398068</td></tr><tr><td>TA1307000064</td><td>Lincoln Ave & Diversey Pkwy</td><td>41.932225</td><td>-87.658617</td></tr><tr><td>KA1503000047</td><td>Perry Ave & 69th St</td><td>41.76929308995</td><td>-87.6281959291</td></tr><tr><td>13102</td><td>Calumet Ave & 18th St</td><td>41.857611</td><td>-87.619407</td></tr><tr><td>TA1307000111</td><td>Franklin St & Lake St</td><td>41.885837</td><td>-87.6355</td></tr><tr><td>13056</td><td>Canal St & Monroe St</td><td>41.88169</td><td>-87.63953000000001</td></tr><tr><td>13036</td><td>Michigan Ave & Madison St</td><td>41.881901166666665</td><td>-87.6251145</td></tr><tr><td>13427</td><td>Cityfront Plaza Dr & Pioneer Ct</td><td>41.890572999999996</td><td>-87.622072</td></tr><tr><td>SL-010</td><td>Financial Pl & Ida B Wells Dr</td><td>41.8750236280333</td><td>-87.6330940425396</td></tr><tr><td>18067</td><td>Walsh Park</td><td>41.914609999999996</td><td>-87.667968</td></tr><tr><td>13398</td><td>Blackstone Ave & Hyde Park Blvd</td><td>41.802562</td><td>-87.59036800000001</td></tr><tr><td>13353</td><td>Ada St & Washington Blvd</td><td>41.882857</td><td>-87.6611585</td></tr><tr><td>TA1305000006</td><td>Dearborn St & Monroe St</td><td>41.881319815</td><td>-87.6295209193</td></tr><tr><td>TA1309000036</td><td>Burling St & Diversey Pkwy</td><td>41.93314</td><td>-87.64775999999999</td></tr><tr><td>TA1305000030</td><td>Clark St & Randolph St</td><td>41.884576228</td><td>-87.63188991</td></tr><tr><td>TA1305000010</td><td>Michigan Ave & Ida B Wells Dr</td><td>41.87618783333333</td><td>-87.624402</td></tr><tr><td>TA1306000026</td><td>Racine Ave & Fullerton Ave</td><td>41.92556258</td><td>-87.65840426</td></tr><tr><td>654</td><td>Racine Ave & Washington Blvd</td><td>41.883072999999996</td><td>-87.656952</td></tr><tr><td>TA1308000019</td><td>Racine Ave & Belmont Ave</td><td>41.939747333333344</td><td>-87.65883216666668</td></tr><tr><td>13165</td><td>Racine Ave & 13th St</td><td>41.865054</td><td>-87.656959</td></tr><tr><td>13409</td><td>Sangamon St & Washington Blvd</td><td>41.883165000000005</td><td>-87.6511</td></tr><tr><td>WL-011</td><td>Jefferson St & Monroe St</td><td>41.880421999999996</td><td>-87.642746</td></tr><tr><td>15646</td><td>California Ave & Altgeld St</td><td>41.926641833333335</td><td>-87.69780033333332</td></tr><tr><td>KA1504000104</td><td>Paulina St & Flournoy St</td><td>41.87295</td><td>-87.66913000000001</td></tr><tr><td>13300</td><td>Lake Shore Dr & Monroe St</td><td>41.880958</td><td>-87.616743</td></tr><tr><td>13269</td><td>Ashland Ave & Wellington Ave</td><td>41.936083</td><td>-87.66980699999999</td></tr><tr><td>TA1308000026</td><td>Wentworth Ave & 24th St (Temp)</td><td>41.850083693475774</td><td>-87.6321405172348</td></tr><tr><td>644</td><td>Western Ave & Fillmore St</td><td>41.868563</td><td>-87.686234</td></tr><tr><td>15650</td><td>Spaulding Ave & Armitage Ave</td><td>41.91710803478932</td><td>-87.71022096276283</td></tr><tr><td>TA1307000113</td><td>Southport Ave & Wrightwood Ave</td><td>41.928773</td><td>-87.663913</td></tr><tr><td>TA1307000128</td><td>Dearborn Pkwy & Delaware Pl</td><td>41.899047499999995</td><td>-87.62992833333334</td></tr><tr><td>TA1306000008</td><td>Larrabee St & North Ave</td><td>41.91021</td><td>-87.6435</td></tr><tr><td>636</td><td>Orleans St & Hubbard St</td><td>41.890028</td><td>-87.636618</td></tr><tr><td>TA1307000143</td><td>Sedgwick St & Schiller St</td><td>41.9075635</td><td>-87.6385625</td></tr><tr><td>KA150400009X</td><td>Kimball Ave & Belmont Ave</td><td>41.939398</td><td>-87.711561</td></tr><tr><td>TA1307000130</td><td>Morgan St & Polk St</td><td>41.871736999999996</td><td>-87.65103</td></tr><tr><td>18016</td><td>Bernard St & Elston Ave</td><td>41.949923</td><td>-87.713949</td></tr><tr><td>TA1307000062</td><td>Sedgwick St & Huron St</td><td>41.894666</td><td>-87.638437</td></tr><tr><td>LP-</td><td>Lincoln Park Conservatory</td><td>41.92393131136619</td><td>-87.63582453131676</td></tr><tr><td>13050</td><td>State St & Kinzie St</td><td>41.889187</td><td>-87.62775400000001</td></tr><tr><td>13243</td><td>Milwaukee Ave & Wabansia Ave</td><td>41.912616</td><td>-87.681391</td></tr><tr><td>E011</td><td>Dodge Ave & Main St</td><td>42.034832</td><td>-87.6991795</td></tr><tr><td>KA1503000014</td><td>Ellis Ave & 60th St</td><td>41.785097146359995</td><td>-87.60107276059999</td></tr><tr><td>RP-009</td><td>Sheridan Rd & Loyola Ave</td><td>42.00104377979</td><td>-87.66119824329999</td></tr><tr><td>KA1504000129</td><td>Western Ave & Granville Ave</td><td>41.994184499999996</td><td>-87.68942416666668</td></tr><tr><td>13138</td><td>Canal St & Jackson Blvd</td><td>41.877245</td><td>-87.63936600000001</td></tr><tr><td>KA1503000052</td><td>Ellis Ave & 53rd St</td><td>41.79933626261</td><td>-87.6009581145</td></tr><tr><td>18017</td><td>Central Park Ave & Bloomingdale Ave</td><td>41.914165999999994</td><td>-87.716755</td></tr><tr><td>TA1309000032</td><td>Elston Ave & Wabansia Ave</td><td>41.91294716666667</td><td>-87.66418416666669</td></tr><tr><td>TA1307000160</td><td>Prairie Ave & Garfield Blvd</td><td>41.794853</td><td>-87.618691</td></tr><tr><td>15632</td><td>Talman Ave & Addison St</td><td>41.946638666666665</td><td>-87.69468766666668</td></tr><tr><td>15545</td><td>Burnham Harbor</td><td>41.856268</td><td>-87.613348</td></tr><tr><td>20239</td><td>Marquette Ave & 89th St</td><td>41.73366879071472</td><td>-87.55834221839905</td></tr><tr><td>TA1308000002</td><td>Greenwood Ave & 47th St</td><td>41.809835</td><td>-87.59938299999999</td></tr><tr><td>TA1309000049</td><td>Lake Shore Dr & Belmont Ave</td><td>41.940775</td><td>-87.63919200000001</td></tr><tr><td>13289</td><td>Eckhart Park</td><td>41.89637337</td><td>-87.66098386</td></tr><tr><td>TA1307000121</td><td>Halsted St & Polk St</td><td>41.87184</td><td>-87.64664</td></tr><tr><td>13139</td><td>Throop St & Taylor St</td><td>41.868968</td><td>-87.659141</td></tr><tr><td>13053</td><td>Green St & Randolph St</td><td>41.883668</td><td>-87.64867</td></tr><tr><td>632</td><td>Clark St & Newport St</td><td>41.94454</td><td>-87.654678</td></tr><tr><td>536</td><td>Kostner Ave & Lake St</td><td>41.885928</td><td>-87.73541</td></tr><tr><td>13271</td><td>Damen Ave & Clybourn Ave</td><td>41.931931</td><td>-87.677856</td></tr><tr><td>13034</td><td>Michigan Ave & Pearson St</td><td>41.897659999999995</td><td>-87.62351</td></tr><tr><td>TA1307000001</td><td>Greenview Ave & Fullerton Ave</td><td>41.925329999999995</td><td>-87.6658</td></tr><tr><td>13290</td><td>Noble St & Milwaukee Ave</td><td>41.90068</td><td>-87.6626</td></tr><tr><td>TA1307000115</td><td>Clybourn Ave & Division St</td><td>41.904613</td><td>-87.640552</td></tr><tr><td>Hubbard Bike-checking (LBS-WH-TEST)</td><td>Base - 2132 W Hubbard Warehouse</td><td>41.88995451607409</td><td>-87.68065094947815</td></tr><tr><td>15652</td><td>Central Park Ave & North Ave</td><td>41.90965687563</td><td>-87.7166319516</td></tr><tr><td>KA1503000015</td><td>Wabash Ave & Adams St</td><td>41.87947235235</td><td>-87.6256886059</td></tr><tr><td>TA1307000066</td><td>Damen Ave & Coulter St</td><td>41.8491195</td><td>-87.67570183333332</td></tr><tr><td>KA1504000162</td><td>Clark St & Lunt Ave</td><td>42.009074</td><td>-87.67419</td></tr><tr><td>TA1305000035</td><td>State St & Van Buren St</td><td>41.877181</td><td>-87.627844</td></tr><tr><td>15443</td><td>Shields Ave & 28th Pl</td><td>41.84284333333333</td><td>-87.63548</td></tr><tr><td>13059</td><td>Bissell St & Armitage Ave</td><td>41.918440000000004</td><td>-87.65222</td></tr><tr><td>KA1503000038</td><td>Shields Ave & 31st St</td><td>41.838464</td><td>-87.635406</td></tr><tr><td>KA1503000066</td><td>Wood St & 35th St</td><td>41.830104654159996</td><td>-87.67029830889999</td></tr><tr><td>TA1307000163</td><td>Clifton Ave & Armitage Ave</td><td>41.918215999999994</td><td>-87.656936</td></tr><tr><td>TA1309000001</td><td>Halsted St & Maxwell St</td><td>41.864883</td><td>-87.647071</td></tr><tr><td>TA1309000055</td><td>Emerald Ave & 31st St</td><td>41.838198</td><td>-87.645143</td></tr><tr><td>514</td><td>Ridge Blvd & Howard St</td><td>42.019276</td><td>-87.68451999999999</td></tr><tr><td>KA1504000103</td><td>Western Ave & Walton St</td><td>41.89841768945</td><td>-87.68659601639999</td></tr><tr><td>15535</td><td>Desplaines St & Randolph St</td><td>41.88461618962</td><td>-87.6445705849</td></tr><tr><td>TA1307000153</td><td>Emerald Ave & 28th St</td><td>41.843579999999996</td><td>-87.645368</td></tr><tr><td>13217</td><td>Calumet Ave & 33rd St</td><td>41.8349</td><td>-87.61793</td></tr><tr><td>15446</td><td>Racine Ave & 35th St</td><td>41.83069611252</td><td>-87.6559759116</td></tr><tr><td>13160</td><td>May St & Taylor St</td><td>41.8694821</td><td>-87.6554864</td></tr><tr><td>KA1503000043</td><td>Kingsbury St & Kinzie St</td><td>41.88917683258</td><td>-87.6385057718</td></tr><tr><td>TA1306000003</td><td>Desplaines St & Kinzie St</td><td>41.888716036</td><td>-87.6444478533</td></tr><tr><td>15442</td><td>Ashland Ave & Archer Ave</td><td>41.83920868403</td><td>-87.6656098589</td></tr><tr><td>15539</td><td>Desplaines St & Jackson Blvd</td><td>41.878161166666665</td><td>-87.64428766666668</td></tr><tr><td>KA1503000032</td><td>Union Ave & Root St</td><td>41.819102</td><td>-87.64327800000001</td></tr><tr><td>13345</td><td>Calumet Ave & 35th St</td><td>41.831379</td><td>-87.618034</td></tr><tr><td>13162</td><td>Halsted St & 21st St</td><td>41.85377981072743</td><td>-87.6466029882431</td></tr><tr><td>13157</td><td>Aberdeen St & Jackson Blvd</td><td>41.87772613</td><td>-87.65478743</td></tr><tr><td>TA1307000129</td><td>State St & 35th St</td><td>41.8310363140161</td><td>-87.62679755687714</td></tr><tr><td>RP-005</td><td>Western Ave & Lunt Ave</td><td>42.0085943972</td><td>-87.69049223889999</td></tr><tr><td>KA1503000027</td><td>Prairie Ave & 43rd St</td><td>41.81665889302</td><td>-87.61941246190001</td></tr><tr><td>TA1305000020</td><td>Ogden Ave & Chicago Ave</td><td>41.896362458</td><td>-87.65406127290001</td></tr><tr><td>TA1306000025</td><td>Racine Ave & Congress Pkwy</td><td>41.87464</td><td>-87.65703</td></tr><tr><td>16010</td><td>Keystone Ave & Fullerton Ave</td><td>41.92459</td><td>-87.72785</td></tr><tr><td>TA1309000064</td><td>Wolcott Ave & Polk St</td><td>41.871262</td><td>-87.673688</td></tr><tr><td>KA1504000142</td><td>Drake Ave & Addison St</td><td>41.947326000000004</td><td>-87.717582</td></tr><tr><td>KA1503000074</td><td>Museum of Science and Industry</td><td>41.79172820953</td><td>-87.58394500899999</td></tr><tr><td>TA1309000011</td><td>Ellis Ave & 58th St</td><td>41.788746</td><td>-87.601334</td></tr><tr><td>KA1503000013</td><td>Princeton Ave & Garfield Blvd</td><td>41.794982</td><td>-87.633124</td></tr><tr><td>KA1503000020</td><td>South Shore Dr & 74th St</td><td>41.76218896038</td><td>-87.55927465</td></tr><tr><td>TA1307000164</td><td>Woodlawn Ave & 55th St</td><td>41.795264</td><td>-87.596471</td></tr><tr><td>KA1503000071</td><td>University Ave & 57th St</td><td>41.791478000000005</td><td>-87.599861</td></tr><tr><td>KA1503000068</td><td>Leavitt St & Archer Ave</td><td>41.82879201994</td><td>-87.6806044594</td></tr><tr><td>KA1503000065</td><td>Woodlawn Ave & Lake Park Ave</td><td>41.81409271048</td><td>-87.5970051479</td></tr><tr><td>13257</td><td>Campbell Ave & North Ave</td><td>41.910534999999996</td><td>-87.68955600000001</td></tr><tr><td>TA1308000007</td><td>MLK Jr Dr & 47th St</td><td>41.809851</td><td>-87.616279</td></tr><tr><td>13326</td><td>Canal St & Harrison St</td><td>41.874255</td><td>-87.639573</td></tr><tr><td>TA1309000059</td><td>Racine Ave & Wrightwood Ave</td><td>41.928886999999996</td><td>-87.658971</td></tr><tr><td>KA1504000109</td><td>Washtenaw Ave & Ogden Ave</td><td>41.86193049278259</td><td>-87.69345045089722</td></tr><tr><td>13099</td><td>Halsted St & 18th St</td><td>41.857499</td><td>-87.646277</td></tr><tr><td>TA1307000127</td><td>Clark St & Grace St</td><td>41.95078</td><td>-87.659172</td></tr><tr><td>13258</td><td>California Ave & North Ave</td><td>41.91044</td><td>-87.6972</td></tr><tr><td>13155</td><td>Racine Ave & Randolph St</td><td>41.884069000000004</td><td>-87.656853</td></tr><tr><td>KA1504000148</td><td>Clark St & Elmdale Ave</td><td>41.990860448125574</td><td>-87.66972362995148</td></tr><tr><td>13319</td><td>Ashland Ave & Grace St</td><td>41.950687</td><td>-87.6687</td></tr><tr><td>TA1308000012</td><td>Montrose Harbor</td><td>41.963982</td><td>-87.638181</td></tr><tr><td>KA1504000171</td><td>Marine Dr & Ainslie St</td><td>41.9716</td><td>-87.650154</td></tr><tr><td>15648</td><td>Campbell Ave & Fullerton Ave</td><td>41.92463247165</td><td>-87.6893070063</td></tr><tr><td>13074</td><td>Broadway & Wilson - Truman College Vaccination Site</td><td>41.965221</td><td>-87.658139</td></tr><tr><td>TA1305000001</td><td>Wabash Ave & Cermak Rd</td><td>41.852619</td><td>-87.626488</td></tr><tr><td>TA1309000041</td><td>Sheridan Rd & Lawrence Ave</td><td>41.9694705</td><td>-87.6547185</td></tr><tr><td>15645</td><td>Richmond St & Diversey Ave</td><td>41.93190196886</td><td>-87.7011951301</td></tr><tr><td>TA1305000017</td><td>Halsted St & Roosevelt Rd</td><td>41.867323999999996</td><td>-87.648625</td></tr><tr><td>13248</td><td>Ashland Ave & Augusta Blvd</td><td>41.899643</td><td>-87.6677</td></tr><tr><td>13037</td><td>Clinton St & Tilden St</td><td>41.875885</td><td>-87.640795</td></tr><tr><td>KA1504000078</td><td>Lincoln Ave & Winona St</td><td>41.97491129677</td><td>-87.69250255940001</td></tr><tr><td>13229</td><td>Southport Ave & Belmont Ave</td><td>41.93947775040509</td><td>-87.6637476682663</td></tr><tr><td>TA1309000033</td><td>Sheffield Ave & Webster Ave</td><td>41.92154</td><td>-87.653818</td></tr><tr><td>TA1306000007</td><td>Larrabee St & Menomonee St</td><td>41.91468</td><td>-87.64331999999999</td></tr><tr><td>TA1307000156</td><td>Lincoln Ave & Sunnyside Ave</td><td>41.963004</td><td>-87.684781</td></tr><tr><td>13215</td><td>Rhodes Ave & 32nd St</td><td>41.83670583333333</td><td>-87.61341483333334</td></tr><tr><td>639</td><td>Lakefront Trail & Wilson Ave</td><td>41.965845</td><td>-87.645361</td></tr><tr><td>13124</td><td>Cannon Dr & Fullerton Ave</td><td>41.9267559875</td><td>-87.6344287848</td></tr><tr><td>15544</td><td>Shedd Aquarium</td><td>41.86722595682</td><td>-87.61535539020001</td></tr><tr><td>599</td><td>Valli Produce - Evanston Plaza</td><td>42.039742</td><td>-87.699413</td></tr><tr><td>546</td><td>Damen Ave & Pershing Rd</td><td>41.823192</td><td>-87.676597</td></tr><tr><td>15691</td><td>Albany Ave & 26th St</td><td>41.844475013659995</td><td>-87.70201301280001</td></tr><tr><td>KA1503000075</td><td>DuSable Museum</td><td>41.79156801058</td><td>-87.60785217739999</td></tr><tr><td>515</td><td>Paulina St & Howard St</td><td>42.019159</td><td>-87.673573</td></tr><tr><td>15664</td><td>Artesian Ave & Hubbard St</td><td>41.88949181977</td><td>-87.68821936479999</td></tr><tr><td>15668</td><td>Western Ave & Congress Pkwy</td><td>41.874748850790006</td><td>-87.6864452757</td></tr><tr><td>13134</td><td>Damen Ave & Madison St</td><td>41.881370000000004</td><td>-87.67493</td></tr><tr><td>KA1504000102</td><td>Fairfield Ave & Roosevelt Rd</td><td>41.866624</td><td>-87.694521</td></tr><tr><td>13091</td><td>Western Ave & 21st St</td><td>41.854109</td><td>-87.685838</td></tr><tr><td>598</td><td>Elmwood Ave & Austin St</td><td>42.02579</td><td>-87.6841135</td></tr><tr><td>600</td><td>Dodge Ave & Church St</td><td>42.048308</td><td>-87.698224</td></tr><tr><td>15634</td><td>Western Ave & Roscoe St</td><td>41.943093</td><td>-87.6873335</td></tr><tr><td>661</td><td>Evanston Civic Center</td><td>42.057044</td><td>-87.686554</td></tr><tr><td>13028</td><td>900 W Harrison St</td><td>41.874753999999996</td><td>-87.649807</td></tr><tr><td>KA1504000156</td><td>Clark St & Schreiber Ave</td><td>41.99925182186</td><td>-87.67137733930001</td></tr><tr><td>E014</td><td>Lincolnwood Dr & Central St</td><td>42.064854</td><td>-87.71529699999999</td></tr><tr><td>TA1307000038</td><td>Sedgwick St & North Ave</td><td>41.91141</td><td>-87.638713</td></tr><tr><td>E006</td><td>Central St Metra</td><td>42.063598</td><td>-87.69873</td></tr><tr><td>KA1503000018</td><td>Jeffery Blvd & 71st St</td><td>41.76663823695</td><td>-87.5764501141</td></tr><tr><td>13163</td><td>Morgan St & 18th St</td><td>41.858086</td><td>-87.651073</td></tr><tr><td>TA1307000136</td><td>Clark St & Wellington Ave</td><td>41.9364968219</td><td>-87.64753865819999</td></tr><tr><td>TA1308000038</td><td>Cottage Grove Ave & Oakwood Blvd</td><td>41.822984999999996</td><td>-87.6071</td></tr><tr><td>TA1308000043</td><td>Halsted St & 35th St</td><td>41.830661</td><td>-87.647172</td></tr><tr><td>15546</td><td>Calumet Ave & 21st St</td><td>41.85418424947</td><td>-87.6191537415</td></tr><tr><td>KA1504000101</td><td>Ogden Ave & Roosevelt Rd</td><td>41.86650148316</td><td>-87.68469707</td></tr><tr><td>13075</td><td>Wentworth Ave & Cermak Rd</td><td>41.85308455741279</td><td>-87.63193130493164</td></tr><tr><td>KA1504000093</td><td>Rockwell St & Eastwood Ave</td><td>41.965900139759995</td><td>-87.6936384935</td></tr><tr><td>KA1504000106</td><td>Kedzie Ave & Lake St</td><td>41.88460328501</td><td>-87.7063037436</td></tr><tr><td>KA17018068</td><td>Leavitt St & Belmont Ave</td><td>41.939353999999994</td><td>-87.68328199999999</td></tr><tr><td>13241</td><td>Western Ave & Division St</td><td>41.902893</td><td>-87.687275</td></tr><tr><td>13042</td><td>Michigan Ave & Oak St</td><td>41.900777833333336</td><td>-87.62373666666667</td></tr><tr><td>TA1309000015</td><td>Leavitt St & Lawrence Ave</td><td>41.968885</td><td>-87.684001</td></tr><tr><td>RP-004</td><td>Oakley Ave & Touhy Ave</td><td>42.012342</td><td>-87.688243</td></tr><tr><td>TA1308000047</td><td>Southport Ave & Clark St</td><td>41.957081</td><td>-87.664199</td></tr><tr><td>596</td><td>Benson Ave & Church St</td><td>42.048214</td><td>-87.683485</td></tr><tr><td>TA1309000014</td><td>Clark St & Leland Ave</td><td>41.967096000000005</td><td>-87.667429</td></tr><tr><td>660</td><td>Sheridan Rd & Columbia Ave</td><td>42.004583000000004</td><td>-87.661406</td></tr><tr><td>TA1309000066</td><td>Ravenswood Ave & Lawrence Ave</td><td>41.96909</td><td>-87.674237</td></tr><tr><td>KA1504000143</td><td>Leavitt St & Addison St</td><td>41.94657816666667</td><td>-87.683387</td></tr><tr><td>553</td><td>Elizabeth St & 47th St</td><td>41.80839</td><td>-87.656526</td></tr><tr><td>13420</td><td>MLK Jr Dr & Pershing Rd</td><td>41.8246</td><td>-87.61678</td></tr><tr><td>15642</td><td>California Ave & Fletcher St</td><td>41.93842879148</td><td>-87.69800775600001</td></tr><tr><td>TA1305000004</td><td>McCormick Place</td><td>41.8513751729</td><td>-87.61883464889999</td></tr><tr><td>KA1504000139</td><td>Monticello Ave & Irving Park Rd</td><td>41.95400483876</td><td>-87.7191281797</td></tr><tr><td>13249</td><td>Ashland Ave & Belle Plaine Ave</td><td>41.956057</td><td>-87.668835</td></tr><tr><td>15653</td><td>Troy St & North Ave</td><td>41.90976930169</td><td>-87.7052804871</td></tr><tr><td>13081</td><td>Ogden Ave & Congress Pkwy</td><td>41.875017</td><td>-87.6731475</td></tr><tr><td>TA1306000006</td><td>Orleans St & Elm St</td><td>41.90291216666667</td><td>-87.637745</td></tr><tr><td>13242</td><td>Milwaukee Ave & Rockwell St</td><td>41.92019556200566</td><td>-87.69265919923781</td></tr><tr><td>15615</td><td>Christiana Ave & Lawrence Ave</td><td>41.96835449363</td><td>-87.7118306675</td></tr><tr><td>15470</td><td>Calumet Ave & 51st St</td><td>41.80229465088</td><td>-87.6180535802</td></tr><tr><td>13331</td><td>May St & Cullerton St</td><td>41.855136</td><td>-87.654127</td></tr><tr><td>E008</td><td>Chicago Ave & Sheridan Rd</td><td>42.050491</td><td>-87.677821</td></tr><tr><td>16918</td><td>Austin Blvd & Madison St</td><td>41.880281</td><td>-87.77445300000001</td></tr><tr><td>590</td><td>Kilbourn Ave & Irving Park Rd</td><td>41.953733</td><td>-87.740569</td></tr><tr><td>SL-013</td><td>State St & 19th St</td><td>41.856594</td><td>-87.627542</td></tr><tr><td>20238</td><td>Greenwood Ave & 97th St</td><td>41.71870315475741</td><td>-87.59703576564789</td></tr><tr><td>655</td><td>Hoyne Ave & Balmoral Ave</td><td>41.979847166666666</td><td>-87.68198083333333</td></tr><tr><td>RP-008</td><td>Clark St & Columbia Ave</td><td>42.00445062934</td><td>-87.6724024047</td></tr><tr><td>650</td><td>Eggleston Ave & 69th St</td><td>41.768898</td><td>-87.635876</td></tr><tr><td>KA1504000160</td><td>Francisco Ave & Foster Ave</td><td>41.97563272521</td><td>-87.70141943889999</td></tr><tr><td>15624</td><td>Avondale Ave & Irving Park Rd</td><td>41.953393</td><td>-87.73200200000001</td></tr><tr><td>594</td><td>Western Blvd & 48th Pl</td><td>41.805661</td><td>-87.683392</td></tr><tr><td>TA1309000003</td><td>Western Ave & 24th St</td><td>41.84847</td><td>-87.685109</td></tr><tr><td>519</td><td>Wolcott Ave & Fargo Ave</td><td>42.01691666666667</td><td>-87.67777883333332</td></tr><tr><td>TA1309000006</td><td>Larrabee St & Armitage Ave</td><td>41.918084</td><td>-87.643749</td></tr><tr><td>KA1706005015</td><td>Kildare Ave & Montrose Ave</td><td>41.961079999999995</td><td>-87.73569</td></tr><tr><td>18022</td><td>Archer (Damen) Ave & 37th St</td><td>41.826712</td><td>-87.683144</td></tr><tr><td>KA1504000167</td><td>Kedzie Ave & Bryn Mawr Ave</td><td>41.98239708485</td><td>-87.7089225202</td></tr><tr><td>KA1503000004</td><td>Lake Park Ave & 35th St</td><td>41.83127423549</td><td>-87.6087991946</td></tr><tr><td>KA1503000019</td><td>Stony Island Ave & 75th St</td><td>41.758669670399996</td><td>-87.586882871</td></tr><tr><td>E007</td><td>Central St & Girard Ave</td><td>42.064313</td><td>-87.686152</td></tr><tr><td>15685</td><td>Central Park Ave & Ogden Ave</td><td>41.85406350387447</td><td>-87.71511733531952</td></tr><tr><td>20254.0</td><td>W Armitage Ave & N Sheffield Ave</td><td>41.92</td><td>-87.65</td></tr><tr><td>KA1503000054</td><td>Cottage Grove Ave & 63rd St</td><td>41.780730833333344</td><td>-87.6058085</td></tr><tr><td>KA1504000147</td><td>Winchester (Ravenswood) Ave & Balmoral Ave</td><td>41.979762</td><td>-87.67753</td></tr><tr><td>631</td><td>Malcolm X College Vaccination Site</td><td>41.87761716666667</td><td>-87.67387333333332</td></tr><tr><td>KA1504000091</td><td>Hoyne Ave & 47th St</td><td>41.808227</td><td>-87.67718</td></tr><tr><td>13089</td><td>Damen Ave & Cullerton St</td><td>41.854966518753926</td><td>-87.67569959163664</td></tr><tr><td>16906</td><td>Austin Blvd & Lake St</td><td>41.887919000000004</td><td>-87.774446</td></tr><tr><td>KA1503000005</td><td>Wentworth Ave & 35th St</td><td>41.830777000000005</td><td>-87.632504</td></tr><tr><td>16921</td><td>Austin Blvd & Chicago Ave</td><td>41.894887</td><td>-87.774704</td></tr><tr><td>KA1504000128</td><td>Kedzie Ave & Foster Ave</td><td>41.975671999999996</td><td>-87.709261</td></tr><tr><td>15631</td><td>Troy St & Elston Ave</td><td>41.94524356848</td><td>-87.7066499009</td></tr><tr><td>15628</td><td>California Ave & Byron St</td><td>41.952162193259994</td><td>-87.69805111299999</td></tr><tr><td>KA1504000110</td><td>Millard Ave & 26th St</td><td>41.84455710033698</td><td>-87.71607220172882</td></tr><tr><td>595</td><td>Wabash Ave & 87th St</td><td>41.736646</td><td>-87.62263399999999</td></tr><tr><td>585</td><td>Cottage Grove Ave & 83rd St</td><td>41.743441</td><td>-87.60483599999999</td></tr><tr><td>584</td><td>Ellis Ave & 83rd St</td><td>41.744122999999995</td><td>-87.599034</td></tr><tr><td>530</td><td>Laramie Ave & Kinzie St</td><td>41.887832</td><td>-87.755527</td></tr><tr><td>TA1306000011</td><td>Wells St & Walton St</td><td>41.89993001</td><td>-87.63443007</td></tr><tr><td>604</td><td>Sheridan Rd & Noyes St (NU)</td><td>42.058239</td><td>-87.677432</td></tr><tr><td>20253.0</td><td>N Paulina St & Lincoln Ave</td><td>41.94</td><td>-87.67</td></tr><tr><td>13259</td><td>California Ave & Francis Pl (Temp)</td><td>41.91849115368695</td><td>-87.69742280244827</td></tr><tr><td>15643</td><td>Kosciuszko Park</td><td>41.93062166666667</td><td>-87.72378883333332</td></tr><tr><td>KA1503000025</td><td>Wentworth Ave & 63rd St</td><td>41.78007963264</td><td>-87.6297463052</td></tr><tr><td>16903</td><td>Cicero Ave & Lake St</td><td>41.886841</td><td>-87.745261</td></tr><tr><td>527</td><td>Western Ave & Howard St</td><td>42.0189505</td><td>-87.6900365</td></tr><tr><td>KA1503000049</td><td>Rainbow Beach</td><td>41.757871448290004</td><td>-87.54938625</td></tr><tr><td>570</td><td>Evans Ave & 75th St</td><td>41.75849</td><td>-87.60641</td></tr><tr><td>KA1504000114</td><td>Kedzie Ave & Chicago Ave</td><td>41.895465303049995</td><td>-87.7061278837</td></tr><tr><td>KA1503000033</td><td>Eberhart Ave & 61st St</td><td>41.78414169317</td><td>-87.6133078304</td></tr><tr><td>592</td><td>Knox Ave & Montrose Ave</td><td>41.960631</td><td>-87.745359</td></tr><tr><td>KA1504000126</td><td>Kedzie Ave & Leland Ave</td><td>41.96668636205</td><td>-87.70805198059999</td></tr><tr><td>545</td><td>Kostner Ave & Adams St</td><td>41.877917</td><td>-87.735737</td></tr><tr><td>KA1503000009</td><td>Princeton Ave & 47th St</td><td>41.809317709240005</td><td>-87.633449288</td></tr><tr><td>15585</td><td>Budlong Woods Library</td><td>41.98366470886</td><td>-87.69642256110001</td></tr><tr><td>RP-001</td><td>Warren Park West</td><td>42.001785</td><td>-87.688829</td></tr><tr><td>KA1503000073</td><td>MLK Jr Dr & 56th St</td><td>41.79342945658</td><td>-87.6158532619</td></tr><tr><td>KA1504000113</td><td>Sacramento Blvd & Franklin Blvd</td><td>41.890604833333335</td><td>-87.7025885</td></tr><tr><td>646</td><td>State St & 54th St</td><td>41.796642</td><td>-87.625923</td></tr><tr><td>TA1308000023</td><td>Cottage Grove Ave & 43rd St</td><td>41.81650916666667</td><td>-87.60661666666668</td></tr><tr><td>TA1309000053</td><td>Cottage Grove Ave & 47th St</td><td>41.809855</td><td>-87.606755</td></tr><tr><td>KA1504000096</td><td>Sawyer Ave & Irving Park Rd</td><td>41.95358617895</td><td>-87.7093107999</td></tr><tr><td>15666</td><td>California Ave & Lake St</td><td>41.88445395657</td><td>-87.69629813680001</td></tr><tr><td>16920</td><td>Central Ave & Chicago Ave</td><td>41.894958</td><td>-87.764902</td></tr><tr><td>15449</td><td>State St & Pershing Rd</td><td>41.82301523798</td><td>-87.62656801850001</td></tr><tr><td>KA1503000023</td><td>Stony Island Ave & 67th St</td><td>41.77345849948</td><td>-87.5853397391</td></tr><tr><td>583</td><td>Stony Island Ave & 82nd St</td><td>41.74661</td><td>-87.58596933333334</td></tr><tr><td>KA1503000024</td><td>Yates Blvd & 75th St</td><td>41.758767999999996</td><td>-87.56644</td></tr><tr><td>TA1309000051</td><td>Commercial Ave & 83rd St</td><td>41.7446365</td><td>-87.55119416666666</td></tr><tr><td>KA1503000021</td><td>Stony Island Ave & 64th St</td><td>41.778881</td><td>-87.586647</td></tr><tr><td>16907</td><td>Central Park Blvd & 5th Ave</td><td>41.875653666666665</td><td>-87.71554783333332</td></tr><tr><td>16806</td><td>Bosworth Ave & Howard St</td><td>42.019514</td><td>-87.66932183333331</td></tr><tr><td>16991</td><td>Milwaukee Ave & Cuyler Ave</td><td>41.95449933333333</td><td>-87.74959383333334</td></tr><tr><td>KA1503000010</td><td>Halsted St & 51st St</td><td>41.80183164049</td><td>-87.645213904</td></tr><tr><td>KA1503000046</td><td>Dorchester Ave & 63rd St</td><td>41.7804056457</td><td>-87.5914159893</td></tr><tr><td>KA1504000141</td><td>Pulaski Rd & Eddy St (Temp)</td><td>41.946264</td><td>-87.731023</td></tr><tr><td>KA1504000130</td><td>Maplewood Ave & Peterson Ave</td><td>41.990198</td><td>-87.6934005</td></tr><tr><td>RP-006</td><td>Ridge Blvd & Touhy Ave</td><td>42.01213227742</td><td>-87.6829126443</td></tr><tr><td>13083</td><td>Indiana Ave & 40th St</td><td>41.82168</td><td>-87.6216</td></tr><tr><td>518</td><td>Conservatory Dr & Lake St</td><td>41.88545666666667</td><td>-87.71684833333332</td></tr><tr><td>20210</td><td>State St & 123rd St</td><td>41.67064383687979</td><td>-87.62258648872375</td></tr><tr><td>20206</td><td>Homewood Ave & 115th St</td><td>41.68459507202617</td><td>-87.67070800065994</td></tr><tr><td>20131</td><td>Cottage Grove Ave & 111th Pl</td><td>41.69170975847015</td><td>-87.61000156402588</td></tr><tr><td>20229</td><td>Baltimore Ave & 87th St</td><td>41.73733560041666</td><td>-87.54851460456847</td></tr><tr><td>528</td><td>Pulaski Rd & Lake St</td><td>41.885409</td><td>-87.72649100000001</td></tr><tr><td>RP-002</td><td>Warren Park East</td><td>42.00454962194</td><td>-87.6806661451</td></tr><tr><td>573</td><td>State St & 79th St</td><td>41.750794</td><td>-87.624424</td></tr><tr><td>KA1503000031</td><td>Cottage Grove Ave & 67th St</td><td>41.77371016666667</td><td>-87.60564683333334</td></tr><tr><td>20109</td><td>Vernon Ave & 107th St</td><td>41.70012137923888</td><td>-87.61225998401642</td></tr><tr><td>KA1503000051</td><td>Halsted St & 47th Pl</td><td>41.80813391481</td><td>-87.64561655450001</td></tr><tr><td>KA1503000030</td><td>Jeffery Blvd & 67th St</td><td>41.77351755125</td><td>-87.57714282549999</td></tr><tr><td>15687</td><td>Central Park Ave & 24th St</td><td>41.848116833333336</td><td>-87.71511283333334</td></tr><tr><td>20223</td><td>Ewing Ave & Burnham Greenway</td><td>41.712748761094964</td><td>-87.53481388092041</td></tr><tr><td>KA1503000003</td><td>Cottage Grove Ave & 71st St</td><td>41.76571903697</td><td>-87.60495971299999</td></tr><tr><td>20252.0</td><td>W Oakdale Ave & N Broadway</td><td>41.94</td><td>-87.64</td></tr><tr><td>649</td><td>Stewart Ave & 63rd St</td><td>41.779835</td><td>-87.634774</td></tr><tr><td>20214</td><td>Avenue O & 134th St</td><td>41.65191333333333</td><td>-87.53950833333332</td></tr><tr><td>TA1307000161</td><td>Halsted St & 37th St</td><td>41.827059000000006</td><td>-87.64572</td></tr><tr><td>20104</td><td>State St & 95th St</td><td>41.7218499</td><td>-87.62285440000001</td></tr><tr><td>20247.0</td><td>W Washington Blvd & N Peoria St</td><td>41.88</td><td>-87.65</td></tr><tr><td>662</td><td>Dodge Ave & Mulford St</td><td>42.0236905</td><td>-87.6996185</td></tr><tr><td>20119</td><td>Elizabeth St & 92nd St</td><td>41.726798963701185</td><td>-87.6542901992798</td></tr><tr><td>20129</td><td>Ada St & 113th St</td><td>41.687561623357375</td><td>-87.65547573566435</td></tr><tr><td>653</td><td>Cornell Dr & Hayes Dr</td><td>41.780595</td><td>-87.584846</td></tr><tr><td>KA1503000045</td><td>Stony Island Ave & 71st St</td><td>41.7664929373</td><td>-87.5864608775</td></tr><tr><td>569</td><td>Woodlawn Ave & 75th St</td><td>41.759159999999994</td><td>-87.595751</td></tr><tr><td>20110</td><td>Eberhart Ave & 91st St</td><td>41.72942527802096</td><td>-87.60952949523924</td></tr><tr><td>20218</td><td>Avenue O & 118th St</td><td>41.68100145911039</td><td>-87.53793122268691</td></tr><tr><td>20127</td><td>Halsted St & 111th St</td><td>41.69226255589166</td><td>-87.64261186122894</td></tr><tr><td>KA1503000055</td><td>Halsted & 63rd - Kennedy-King Vaccination Site</td><td>41.779381142279995</td><td>-87.6446208145</td></tr><tr><td>16915</td><td>Central Ave & Harrison St</td><td>41.87299733333333</td><td>-87.7644945</td></tr><tr><td>13080</td><td>Hermitage Ave & Polk St</td><td>41.871514000000005</td><td>-87.669886</td></tr><tr><td>652</td><td>Rhodes Ave & 71st St</td><td>41.766000000000005</td><td>-87.611726</td></tr><tr><td>20116</td><td>Dauphin Ave & 87th St</td><td>41.736559</td><td>-87.601258</td></tr><tr><td>15692</td><td>California Ave & 26th St</td><td>41.84404</td><td>-87.695296</td></tr><tr><td>534</td><td>Karlov Ave & Madison St</td><td>41.88085366666667</td><td>-87.72799766666668</td></tr><tr><td>582</td><td>Phillips Ave & 83rd St</td><td>41.744531</td><td>-87.56506</td></tr><tr><td>20113</td><td>Dauphin Ave & 103rd St</td><td>41.707250367781796</td><td>-87.60766267776489</td></tr><tr><td>20245</td><td>Ashland Ave & 74th St</td><td>41.759236</td><td>-87.663474</td></tr><tr><td>KA1504000168</td><td>Western & 28th - Velasquez Institute Vaccination Site</td><td>41.84150516666666</td><td>-87.68516483333332</td></tr><tr><td>20107</td><td>Walden Pkwy & 100th St</td><td>41.712164103598035</td><td>-87.66773343086244</td></tr><tr><td>KA1504000086</td><td>Kedzie Ave & 24th St</td><td>41.848191</td><td>-87.705414</td></tr><tr><td>16970</td><td>Bennett Ave & 79th St</td><td>41.751785</td><td>-87.578496</td></tr><tr><td>20228</td><td>Constance Ave & 95th St</td><td>41.722290740952616</td><td>-87.57896840572357</td></tr><tr><td>20123</td><td>Western Ave & 104th St</td><td>41.70458710218908</td><td>-87.68120348453522</td></tr><tr><td>20101</td><td>Summit Ave & 86th St</td><td>41.737848</td><td>-87.6449</td></tr><tr><td>KA1503000011</td><td>Halsted St & 56th St</td><td>41.79292964599001</td><td>-87.64499005649999</td></tr><tr><td>20257.0</td><td>N Southport Ave & W Newport Ave</td><td>41.94</td><td>-87.66</td></tr><tr><td>16937</td><td>Ashland Ave & McDowell Ave</td><td>41.80887</td><td>-87.66454</td></tr><tr><td>586</td><td>MLK Jr Dr & 83rd St</td><td>41.743116</td><td>-87.6148</td></tr><tr><td>559</td><td>Racine Ave & Garfield Blvd</td><td>41.794228000000004</td><td>-87.655073</td></tr><tr><td>20227</td><td>Bradley Park</td><td>41.717878301935</td><td>-87.56459176540375</td></tr><tr><td>20230</td><td>Clyde Ave & 87th St</td><td>41.73715146431056</td><td>-87.57274031639099</td></tr><tr><td>554</td><td>Damen Ave & 51st St</td><td>41.800908</td><td>-87.674684</td></tr><tr><td>16913</td><td>Cicero Ave & Quincy St</td><td>41.877635833333336</td><td>-87.74542583333331</td></tr><tr><td>20205</td><td>Western Ave & 111th St</td><td>41.691210999999996</td><td>-87.681297</td></tr><tr><td>20208</td><td>Major Taylor Trail & 124th St</td><td>41.66869635332246</td><td>-87.63711333274841</td></tr><tr><td>20106</td><td>Chicago State University</td><td>41.71895833333333</td><td>-87.60837733333334</td></tr><tr><td>579</td><td>Phillips Ave & 79th St</td><td>41.75182</td><td>-87.565211</td></tr><tr><td>20233</td><td>Halsted St & 78th St</td><td>41.752487012490135</td><td>-87.6439021574879</td></tr><tr><td>20204</td><td>Kedzie Ave & 110th St</td><td>41.6924015</td><td>-87.70095783333332</td></tr><tr><td>20235</td><td>Greenwood Ave & 91st St</td><td>41.728264268162725</td><td>-87.59729862213135</td></tr><tr><td>540</td><td>Laramie Ave & Madison St</td><td>41.880207</td><td>-87.755337</td></tr><tr><td>20244</td><td>Halsted St & 73rd St</td><td>41.761639833333334</td><td>-87.64406233333334</td></tr><tr><td>16950</td><td>Ashland Ave & 66th St</td><td>41.774074</td><td>-87.663815</td></tr><tr><td>16948</td><td>Ashland Ave & 63rd St</td><td>41.77937533333333</td><td>-87.6648995</td></tr><tr><td>537</td><td>Kenton Ave & Madison St</td><td>41.880708</td><td>-87.74101800000001</td></tr><tr><td>16933</td><td>Morgan St & Pershing Rd</td><td>41.823613</td><td>-87.650931</td></tr><tr><td>16953</td><td>Vincennes Ave & 75th St</td><td>41.75797</td><td>-87.63121</td></tr><tr><td>13213</td><td>State St & 29th St</td><td>41.841707</td><td>-87.626938</td></tr><tr><td>20221</td><td>Torrence Ave & 106th St</td><td>41.7028495</td><td>-87.55980916666668</td></tr><tr><td>567</td><td>May St & 69th St</td><td>41.768938</td><td>-87.652934</td></tr><tr><td>572</td><td>State St & 76th St</td><td>41.756971</td><td>-87.62462099999999</td></tr><tr><td>557</td><td>Seeley Ave & Garfield Blvd</td><td>41.794087</td><td>-87.675478</td></tr><tr><td>574</td><td>Vernon Ave & 79th St</td><td>41.75094</td><td>-87.61379000000001</td></tr><tr><td>587</td><td>Wabash Ave & 83rd St</td><td>41.743316</td><td>-87.622849</td></tr><tr><td>651</td><td>Michigan Ave & 71st St</td><td>41.7652865</td><td>-87.62173833333334</td></tr><tr><td>577</td><td>Stony Island Ave & South Chicago Ave</td><td>41.751173</td><td>-87.585337</td></tr><tr><td>20231</td><td>East End Ave & 87th St</td><td>41.73681521440671</td><td>-87.58280128240585</td></tr><tr><td>20222</td><td>Burnham Greenway & 105th St</td><td>41.704575087207104</td><td>-87.52823173999786</td></tr><tr><td>20232</td><td>Big Marsh Park</td><td>41.68587705562333</td><td>-87.57382392883301</td></tr><tr><td>20256.0</td><td>N Sheffield Ave & W Wellington Ave</td><td>41.94</td><td>-87.65</td></tr><tr><td>20108</td><td>Hale Ave & 107th St</td><td>41.69920616812768</td><td>-87.66891896724701</td></tr><tr><td>647</td><td>Elizabeth St & 59th St</td><td>41.786691</td><td>-87.65585899999999</td></tr><tr><td>20203</td><td>Lawndale Ave & 111th St</td><td>41.691319192210656</td><td>-87.71288573741913</td></tr><tr><td>20242</td><td>Houston Ave & 92nd St</td><td>41.72820421535798</td><td>-87.54970014095306</td></tr><tr><td>15599</td><td>Calumet Ave & 71st St</td><td>41.765508000000004</td><td>-87.616918</td></tr><tr><td>20.0</td><td>Damen Ave & Wabansia Ave</td><td>41.91</td><td>-87.68</td></tr><tr><td>15682</td><td>Kedzie Ave & Roosevelt Rd</td><td>41.86649278172</td><td>-87.7064961757</td></tr><tr><td>16940</td><td>Ashland Ave & 50th St</td><td>41.803022999999996</td><td>-87.664699</td></tr><tr><td>560</td><td>Marshfield Ave & 59th St</td><td>41.786833</td><td>-87.66621500000001</td></tr><tr><td>15686</td><td>Kedzie Ave & 21st St</td><td>41.853496</td><td>-87.70512516666666</td></tr><tr><td>20103</td><td>Prospect Sq & 91st St</td><td>41.727951000000004</td><td>-87.66761650000001</td></tr><tr><td>20124</td><td>Vincennes Ave & 104th St</td><td>41.704926</td><td>-87.656868</td></tr><tr><td>20234</td><td>Ashland Ave & 78th St</td><td>41.75220484941116</td><td>-87.66369938850403</td></tr><tr><td>20112</td><td>Indiana Ave & 103rd St</td><td>41.70717027117757</td><td>-87.61847198009491</td></tr><tr><td>20217</td><td>Torrence Ave & 126th Pl</td><td>41.66631200825726</td><td>-87.55721569061278</td></tr><tr><td>15597</td><td>Halsted St & 69th St</td><td>41.769062</td><td>-87.644614</td></tr><tr><td>571</td><td>Vernon Ave & 75th St</td><td>41.758361</td><td>-87.614138</td></tr><tr><td>561</td><td>Damen Ave & 59th St</td><td>41.78607383333333</td><td>-87.67414583333333</td></tr><tr><td>20248.0</td><td>N Hampden Ct & W Diversey Ave</td><td>41.93</td><td>-87.64</td></tr><tr><td>20207</td><td>Major Taylor Trail & 115th St</td><td>41.684931595192964</td><td>-87.6452887058258</td></tr><tr><td>20105</td><td>Halsted St & 96th St</td><td>41.71971218361881</td><td>-87.6430195569992</td></tr><tr><td>543</td><td>Laramie Ave & Gladys Ave</td><td>41.87584416666667</td><td>-87.75529666666668</td></tr><tr><td>20246.0</td><td>N Green St & W Lake St</td><td>41.89</td><td>-87.65</td></tr><tr><td>20251.0</td><td>N Carpenter St & W Lake St</td><td>41.89</td><td>-87.65</td></tr><tr><td>20211</td><td>Eberhart Ave & 131st St</td><td>41.657953000000006</td><td>-87.61076433333334</td></tr><tr><td>20243</td><td>Michigan Ave & 114th St</td><td>41.68701479467118</td><td>-87.62105226516724</td></tr><tr><td>20213</td><td>Commercial Ave & 130th St</td><td>41.65915</td><td>-87.550762</td></tr><tr><td>KA1503000053</td><td>MLK Jr Dr & 63rd St</td><td>41.78008063659001</td><td>-87.6159428567</td></tr><tr><td>576</td><td>Greenwood Ave & 79th St</td><td>41.751294</td><td>-87.59755200000001</td></tr><tr><td>549</td><td>Marshfield Ave & 44th St</td><td>41.813996</td><td>-87.666589</td></tr><tr><td>16912</td><td>Cicero Ave & Flournoy St</td><td>41.8721235</td><td>-87.74661933333331</td></tr><tr><td>KA1503000028</td><td>Jeffery Blvd & 76th St</td><td>41.75712</td><td>-87.575839</td></tr><tr><td>593</td><td>Halsted St & 59th St</td><td>41.787539</td><td>-87.644874</td></tr><tr><td>575</td><td>Cottage Grove Ave & 78th St</td><td>41.753174</td><td>-87.605026</td></tr><tr><td>580</td><td>Exchange Ave & 79th St</td><td>41.751731</td><td>-87.552812</td></tr><tr><td>16905</td><td>Central Ave & Lake St</td><td>41.88770783333333</td><td>-87.76542383333332</td></tr><tr><td>562</td><td>Racine Ave & 61st St</td><td>41.783189</td><td>-87.654372</td></tr><tr><td>16916</td><td>Central Ave & Madison St</td><td>41.88016233333333</td><td>-87.76319483333332</td></tr><tr><td>20120</td><td>Stewart Ave & 83rd St</td><td>41.74372566666667</td><td>-87.63409866666667</td></tr><tr><td>20236</td><td>Stony Island Ave & 90th St</td><td>41.73139494330236</td><td>-87.58574366569519</td></tr><tr><td>20215</td><td>Hegewisch Metra Station</td><td>41.64850076266409</td><td>-87.54608988761902</td></tr><tr><td>642</td><td>Latrobe Ave & Chicago Ave</td><td>41.89472083333333</td><td>-87.7568665</td></tr><tr><td>16932</td><td>Ashland Ave & Pershing Rd</td><td>41.823465</td><td>-87.665577</td></tr><tr><td>20118</td><td>Eggleston Ave & 92nd St</td><td>41.72755866666667</td><td>-87.634862</td></tr><tr><td>20130</td><td>Wentworth Ave & 104th St</td><td>41.705308</td><td>-87.62921700000001</td></tr><tr><td>16943</td><td>Ashland Ave & Garfield Blvd</td><td>41.792821999999994</td><td>-87.664429</td></tr><tr><td>20125</td><td>Halsted St & 104th St</td><td>41.70517733333333</td><td>-87.64237916666669</td></tr><tr><td>202480.0</td><td>Hampden Ct & Diversey Ave</td><td>41.93</td><td>-87.64</td></tr><tr><td>20225</td><td>Commercial Ave & 100th St</td><td>41.713300333333336</td><td>-87.55126783333333</td></tr><tr><td>588</td><td>South Chicago Ave & 83rd St</td><td>41.743921</td><td>-87.575225</td></tr><tr><td>20201</td><td>Kedzie Ave & 104th St</td><td>41.7</td><td>-87.7</td></tr><tr><td>556</td><td>Throop St & 52nd St</td><td>41.799659000000005</td><td>-87.657195</td></tr><tr><td>18025</td><td>Carpenter St & 63rd St</td><td>41.7798495</td><td>-87.65079016666668</td></tr><tr><td>20226</td><td>Oglesby Ave & 100th St</td><td>41.713397</td><td>-87.565842</td></tr><tr><td>KA1503000001</td><td>Shields Ave & 43rd St</td><td>41.816208</td><td>-87.634819</td></tr><tr><td>20224</td><td>Calumet Park</td><td>41.71369766666667</td><td>-87.53081833333331</td></tr><tr><td>20212</td><td>Altgeld Gardens</td><td>41.657077</td><td>-87.59887049999999</td></tr><tr><td>564</td><td>Racine Ave & 65th St</td><td>41.775393</td><td>-87.654308</td></tr><tr><td>201022</td><td>Loomis St & 89th St</td><td>41.73237975329554</td><td>-87.65806943178177</td></tr><tr><td>665</td><td>South Chicago Ave & Elliot Ave</td><td>41.747363</td><td>-87.580046</td></tr><tr><td>20249.0</td><td>N Clark St & W Elm St</td><td>41.9</td><td>-87.63</td></tr><tr><td>DIVVY 001</td><td>WEST CHI-WATSON</td><td>41.894791999999995</td><td>-87.730906</td></tr><tr><td>20237</td><td>Yates Blvd & 93rd St</td><td>41.726164000000004</td><td>-87.5663105</td></tr><tr><td>20202</td><td>W 103rd St & S Avers Ave</td><td>41.71</td><td>-87.72</td></tr><tr><td>20133</td><td>Woodlawn & 103rd - Olive Harvey Vaccination Site</td><td>41.71</td><td>-87.59</td></tr><tr><td>20134</td><td>Maryland Ave & 104th St</td><td>41.71</td><td>-87.6</td></tr><tr><td>20999</td><td>Lyft Driver Center Private Rack</td><td>41.9</td><td>-87.66</td></tr><tr><td>20126</td><td>S Aberdeen St & W 106th St</td><td>41.7</td><td>-87.65</td></tr><tr><td>322</td><td>Cicero Ave & Grace St</td><td>41.95</td><td>-87.75</td></tr><tr><td>365.0</td><td>Kildare Ave & 26th St</td><td>41.84</td><td>-87.73</td></tr><tr><td>362.0</td><td>Lawndale Ave & 16th St</td><td>41.86</td><td>-87.72</td></tr><tr><td>366.0</td><td>Spaulding Ave & 16th St</td><td>41.86</td><td>-87.71</td></tr><tr><td>364.0</td><td>Homan Ave & Fillmore St</td><td>41.87</td><td>-87.71</td></tr><tr><td>356</td><td>Lavergne & Fullerton</td><td>41.92</td><td>-87.75</td></tr><tr><td>20220</td><td>Avenue L & 114th St</td><td>41.69</td><td>-87.54</td></tr><tr><td>DIVVY CASSETTE REPAIR MOBILE STATION</td><td>DIVVY CASSETTE REPAIR MOBILE STATION</td><td>41.880958</td><td>-87.616743</td></tr><tr><td>358</td><td>Kilpatrick Ave & Parker Ave</td><td>41.93</td><td>-87.74</td></tr><tr><td>329.0</td><td>Central Park Ave & Douglas Blvd</td><td>41.86</td><td>-87.72</td></tr><tr><td>316</td><td>Lamon Ave & Belmont Ave</td><td>41.94</td><td>-87.75</td></tr><tr><td>368.0</td><td>Tripp Ave & 31st St</td><td>41.84</td><td>-87.73</td></tr><tr><td>317</td><td>Long Ave & Belmont Ave</td><td>41.94</td><td>-87.76</td></tr><tr><td>353</td><td>Meade Ave & Diversey Ave</td><td>41.93</td><td>-87.78</td></tr><tr><td>313</td><td>Long Ave & Belden Ave</td><td>41.92</td><td>-87.76</td></tr><tr><td>363.0</td><td>Tripp Ave & 15th St</td><td>41.86</td><td>-87.73</td></tr><tr><td>355</td><td>Central Ave & Parker Ave</td><td>41.93</td><td>-87.77</td></tr><tr><td>334.0</td><td>Lawndale Ave & 30th St</td><td>41.84</td><td>-87.72</td></tr><tr><td>324</td><td>Meade Ave & Addison St</td><td>41.95</td><td>-87.78</td></tr><tr><td>360</td><td>Kilbourn & Roscoe</td><td>41.94</td><td>-87.74</td></tr><tr><td>351</td><td>Mulligan Ave & Wellington Ave</td><td>41.93</td><td>-87.78</td></tr><tr><td>354</td><td>Parkside Ave & Armitage Ave</td><td>41.92</td><td>-87.77</td></tr><tr><td>312</td><td>Lockwood Ave & Wrightwood Ave</td><td>41.93</td><td>-87.76</td></tr><tr><td>327</td><td>Plainfield & Irving Park</td><td>41.95</td><td>-87.83</td></tr><tr><td>397</td><td>Narragansett Ave & School St</td><td>41.94</td><td>-87.79</td></tr><tr><td>396</td><td>Central Ave & Roscoe St</td><td>41.94</td><td>-87.77</td></tr><tr><td>398</td><td>Long & Irving Park</td><td>41.95</td><td>-87.76</td></tr><tr><td>330.0</td><td>Keeler Ave & Roosevelt Rd</td><td>41.87</td><td>-87.73</td></tr><tr><td>335.0</td><td>Komensky Ave & 31st St</td><td>41.84</td><td>-87.73</td></tr><tr><td>321</td><td>Kostner Ave & Wrightwood Ave</td><td>41.93</td><td>-87.74</td></tr><tr><td>473</td><td>Mason Ave & Belmont Ave</td><td>41.94</td><td>-87.77</td></tr><tr><td>310</td><td>North Ave & New England Ave</td><td>41.91</td><td>-87.8</td></tr><tr><td>332.0</td><td>Harding Ave & 26th St</td><td>41.84</td><td>-87.72</td></tr><tr><td>331.0</td><td>Pulaski Rd & 21st St</td><td>41.85</td><td>-87.72</td></tr><tr><td>325</td><td>Harlem Ave & Grace St</td><td>41.95</td><td>-87.81</td></tr><tr><td>393</td><td>Oketo Ave & Addison St</td><td>41.94</td><td>-87.81</td></tr><tr><td>319</td><td>Roscoe & Harlem</td><td>41.94</td><td>-87.81</td></tr><tr><td>357</td><td>Lamon Ave & Armitage Ave</td><td>41.92</td><td>-87.75</td></tr><tr><td>352</td><td>Sayre & Diversey</td><td>41.93</td><td>-87.8</td></tr><tr><td>359</td><td>Kilbourn & Belden</td><td>41.92</td><td>-87.74</td></tr><tr><td>320</td><td>Orange & Addison</td><td>41.94</td><td>-87.82</td></tr><tr><td>326</td><td>Harlem & Irving Park</td><td>41.95</td><td>-87.81</td></tr><tr><td>305</td><td>Menard Ave & Division St</td><td>41.9</td><td>-87.77</td></tr><tr><td>384</td><td>Kedzie Ave & 52nd St</td><td>41.8</td><td>-87.7</td></tr><tr><td>394</td><td>Panama Ave & Grace St</td><td>41.95</td><td>-87.83</td></tr><tr><td>308</td><td>Major Ave & Bloomingdale Ave</td><td>41.91</td><td>-87.77</td></tr><tr><td>378</td><td>Nordica & Medill</td><td>41.92</td><td>-87.8</td></tr><tr><td>323</td><td>Narragansett & Irving Park</td><td>41.95</td><td>-87.79</td></tr><tr><td>348</td><td>Western Ave & 62nd St</td><td>41.78</td><td>-87.68</td></tr><tr><td>20114</td><td>Doty Ave & 111th St</td><td>41.6950195</td><td>-87.59875433333332</td></tr><tr><td>314</td><td>Narragansett & Wrightwood</td><td>41.93</td><td>-87.79</td></tr><tr><td>361</td><td>Kenosha & Wellington</td><td>41.93</td><td>-87.73</td></tr><tr><td>341</td><td>Archer Ave & 43rd St</td><td>41.82</td><td>-87.7</td></tr><tr><td>318</td><td>Oak Park & Wellington</td><td>41.93</td><td>-87.8</td></tr><tr><td>309</td><td>Narragansett & McLean</td><td>41.92</td><td>-87.79</td></tr><tr><td>301</td><td>Monticello Ave & Chicago Ave</td><td>41.9</td><td>-87.72</td></tr><tr><td>388</td><td>Richmond St & 59th St</td><td>41.79</td><td>-87.7</td></tr><tr><td>302</td><td>Lamon Ave & Chicago Ave</td><td>41.9</td><td>-87.75</td></tr><tr><td>377</td><td>Bloomingdale Ave & Harlem Ave</td><td>41.91</td><td>-87.81</td></tr><tr><td>337</td><td>Hoyne Ave & 34th St</td><td>41.83</td><td>-87.68</td></tr><tr><td>375</td><td>Long Ave & North Ave</td><td>41.91</td><td>-87.76</td></tr><tr><td>304</td><td>Lavergne Ave & Division St</td><td>41.9</td><td>-87.75</td></tr><tr><td>385</td><td>St Louis Ave & Norman Bobbins Ave</td><td>41.79</td><td>-87.71</td></tr><tr><td>371</td><td>Kildare Ave & Chicago Ave</td><td>41.9</td><td>-87.73</td></tr><tr><td>382</td><td>Kedzie Ave & 48th Pl</td><td>41.8</td><td>-87.7</td></tr><tr><td>389</td><td>Maplewood Ave & 59th St</td><td>41.79</td><td>-87.69</td></tr><tr><td>303</td><td>Kildare Ave & Division St</td><td>41.9</td><td>-87.73</td></tr><tr><td>20260.0</td><td>Ping Tom Park (East)</td><td>41.86</td><td>-87.63</td></tr><tr><td>379</td><td>Rockwell St & Archer Ave</td><td>41.82</td><td>-87.69</td></tr><tr><td>339</td><td>Sacramento Ave & Pershing Rd</td><td>41.82</td><td>-87.7</td></tr><tr><td>338</td><td>California Ave & 36th St</td><td>41.83</td><td>-87.69</td></tr><tr><td>307</td><td>Leamington Ave & Hirsch St</td><td>41.91</td><td>-87.75</td></tr><tr><td>445</td><td>Western Ave & Gunnison St</td><td>41.97</td><td>-87.69</td></tr><tr><td>386</td><td>Rockwell St & 57th St</td><td>41.79</td><td>-87.69</td></tr><tr><td>471</td><td>Damen Ave & 33rd St</td><td>41.83</td><td>-87.68</td></tr><tr><td>403</td><td>Kildare Ave & 55th St</td><td>41.79</td><td>-87.73</td></tr><tr><td>20255.0</td><td>N Damen Ave & W Chicago Ave</td><td>41.9</td><td>-87.68</td></tr><tr><td>406</td><td>Kostner Ave & 63rd St</td><td>41.78</td><td>-87.73</td></tr><tr><td>344</td><td>Springfield Ave & 47th St</td><td>41.81</td><td>-87.72</td></tr><tr><td>343</td><td>Pulaski Rd & 51st St</td><td>41.8</td><td>-87.72</td></tr><tr><td>399</td><td>Lavergne Ave & 46th St</td><td>41.81</td><td>-87.75</td></tr><tr><td>380</td><td>Fairfield Ave & 44th St</td><td>41.81</td><td>-87.69</td></tr><tr><td>407</td><td>Tripp Ave & 65th St</td><td>41.77</td><td>-87.73</td></tr><tr><td>20209</td><td>S Michigan Ave & E 118th St</td><td>41.68</td><td>-87.62</td></tr><tr><td>430</td><td>Troy St & Grace St</td><td>41.95</td><td>-87.71</td></tr><tr><td>404</td><td>Pulaski Rd & 60th St</td><td>41.78</td><td>-87.72</td></tr><tr><td>347</td><td>Komensky Ave & 55th St</td><td>41.79</td><td>-87.72</td></tr><tr><td>346</td><td>Kedzie Ave & 57th St</td><td>41.79</td><td>-87.7</td></tr><tr><td>370</td><td>Central Park & Augusta Blvd</td><td>41.9</td><td>-87.72</td></tr><tr><td>400</td><td>Lawler Ave & 50th St</td><td>41.8</td><td>-87.75</td></tr><tr><td>369</td><td>Central Park Ave & Ohio St</td><td>41.89</td><td>-87.72</td></tr><tr><td>434</td><td>Albany Ave & Belmont Ave</td><td>41.94</td><td>-87.71</td></tr><tr><td>428</td><td>Milwaukee Ave & Fullerton Ave</td><td>41.92</td><td>-87.7</td></tr><tr><td>349</td><td>Spaulding Ave & 63rd St</td><td>41.78</td><td>-87.71</td></tr><tr><td>345</td><td>Artesian Ave & 55th St</td><td>41.79</td><td>-87.69</td></tr><tr><td>340</td><td>Pulaski & Ann Lurie Pl</td><td>41.82</td><td>-87.72</td></tr><tr><td>20240</td><td>Indiana Ave & 133rd St</td><td>41.65</td><td>-87.62</td></tr><tr><td>442</td><td>Lincoln Ave & Balmoral Ave</td><td>41.98</td><td>-87.69</td></tr><tr><td>402</td><td>Kenneth Ave & 50th St</td><td>41.8</td><td>-87.73</td></tr><tr><td>20128</td><td>S Wentworth Ave & W 111th St</td><td>41.69</td><td>-87.63</td></tr><tr><td>374</td><td>Kilpatrick Ave & Grand Ave</td><td>41.91</td><td>-87.74</td></tr><tr><td>443</td><td>California Ave & Winona St</td><td>41.97</td><td>-87.7</td></tr><tr><td>475</td><td>Whipple/Irving Park</td><td>41.95</td><td>-87.7</td></tr><tr><td>431</td><td>Western Ave & Grace St</td><td>41.95</td><td>-87.69</td></tr><tr><td>435</td><td>Rockwell St & Fletcher St</td><td>41.94</td><td>-87.69</td></tr><tr><td>458</td><td>Washtenaw Ave & Peterson Ave</td><td>41.99</td><td>-87.7</td></tr><tr><td>472</td><td>Elston Ave & George St</td><td>41.93</td><td>-87.69</td></tr><tr><td>462</td><td>Lincoln Ave & Peterson Ave</td><td>41.99</td><td>-87.71</td></tr><tr><td>429</td><td>Francisco Ave & Bloomingdale Ave</td><td>41.91</td><td>-87.7</td></tr><tr><td>444</td><td>N Shore Channel Trail & Argyle Ave</td><td>41.97</td><td>-87.7</td></tr><tr><td>436</td><td>Kedzie Ave & George St</td><td>41.93</td><td>-87.71</td></tr><tr><td>401</td><td>Kildare Ave & 47th St</td><td>41.81</td><td>-87.73</td></tr><tr><td>373</td><td>Augusta Blvd & Laramie Ave</td><td>41.9</td><td>-87.76</td></tr><tr><td>387</td><td>St Louis Ave & 59th St</td><td>41.79</td><td>-87.71</td></tr><tr><td>425</td><td>Rockwell St & Cermak Rd</td><td>41.85</td><td>-87.69</td></tr><tr><td>446</td><td>Francisco Ave & Montrose Ave</td><td>41.96</td><td>-87.7</td></tr><tr><td>441</td><td>Virginia Ave & Catalpa Ave</td><td>41.98</td><td>-87.7</td></tr><tr><td>390</td><td>California Ave & Marquette Rd</td><td>41.77</td><td>-87.69</td></tr><tr><td>452</td><td>Richmond St & Lincoln Ave</td><td>41.99</td><td>-87.7</td></tr><tr><td>419</td><td>Sacramento Blvd & Polk St</td><td>41.87</td><td>-87.7</td></tr><tr><td>350</td><td>Hamlin Ave & 62nd Pl</td><td>41.78</td><td>-87.72</td></tr><tr><td>433</td><td>Elston Ave & Henderson St</td><td>41.94</td><td>-87.7</td></tr><tr><td>Throop/Hastings Mobile Station</td><td>Throop/Hastings Mobile Station</td><td>41.851560473</td><td>-87.659110785</td></tr><tr><td>376</td><td>Menard Ave & North Ave</td><td>41.91</td><td>-87.77</td></tr><tr><td>424</td><td>Sacramento Ave & 25th St</td><td>41.85</td><td>-87.7</td></tr><tr><td>464</td><td>Western Ave & Ardmore Ave</td><td>41.99</td><td>-87.69</td></tr><tr><td>432</td><td>Sacramento Blvd & Addison St</td><td>41.95</td><td>-87.7</td></tr><tr><td>20102</td><td>Loomis St & 89th St</td><td>41.73247816666667</td><td>-87.6580595</td></tr><tr><td>460</td><td>Francisco Ave & Hollywood Ave</td><td>41.98</td><td>-87.7</td></tr><tr><td>466</td><td>California Ave & 29th St</td><td>41.84</td><td>-87.69</td></tr><tr><td>21544</td><td>State St & Chicago Ave</td><td>41.896932</td><td>-87.62876016666668</td></tr><tr><td>418</td><td>Mozart St & Jackson Blvd</td><td>41.88</td><td>-87.7</td></tr><tr><td>415</td><td>Western Ave & Lake St</td><td>41.88</td><td>-87.69</td></tr><tr><td>416</td><td>Washtenaw Ave & Madison St</td><td>41.88</td><td>-87.69</td></tr><tr><td>381</td><td>Francisco Ave & 47th St</td><td>41.81</td><td>-87.7</td></tr><tr><td>414</td><td>Sacramento Blvd & Fulton Ave</td><td>41.89</td><td>-87.7</td></tr><tr><td>20111</td><td>Olive Harvey College</td><td>41.709526000000004</td><td>-87.590236</td></tr><tr><td>383</td><td>Campbell Ave & 51st St</td><td>41.8</td><td>-87.69</td></tr><tr><td>342</td><td>Kedzie Ave & 45th St</td><td>41.81</td><td>-87.7</td></tr><tr><td>Pawel Bialowas - Test- PBSC charging station</td><td>Pawel Bialowas - Test- PBSC charging station</td><td>45.635034323</td><td>-73.79647696</td></tr><tr><td>Hastings WH 2</td><td>Hastings WH 2</td><td>41.863533139</td><td>-87.679664254</td></tr><tr><td>420</td><td>Washtenaw Ave & Polk St</td><td>41.87</td><td>-87.69</td></tr><tr><td>474</td><td>Fullerton & Monitor</td><td>41.92</td><td>-87.77</td></tr><tr><td>Lincoln Ave & Roscoe St - Charging</td><td>Lincoln Ave & Roscoe St - Charging</td><td>41.943063378000005</td><td>-87.670833826</td></tr><tr><td>427</td><td>Whipple St & Roosevelt Rd</td><td>41.87</td><td>-87.7</td></tr><tr><td>20258.0</td><td>N Damen Ave & W Wabansia St</td><td>41.91</td><td>-87.68</td></tr><tr><td>437</td><td>Whipple St & Irving Park Rd</td><td>41.95</td><td>-87.7</td></tr></tbody></table></div>"
      ]
     },
     "metadata": {
      "application/vnd.databricks.v1+output": {
       "addedWidgets": {},
       "aggData": [],
       "aggError": "",
       "aggOverflow": false,
       "aggSchema": [],
       "aggSeriesLimitReached": false,
       "aggType": "",
       "arguments": {},
       "columnCustomDisplayInfos": {},
       "data": [
        [
         "525",
         "Glenwood Ave & Touhy Ave",
         42.012701,
         -87.66605799999999
        ],
        [
         "KA1503000012",
         "Clark St & Lake St",
         41.88579466666667,
         -87.63110066666668
        ],
        [
         "637",
         "Wood St & Chicago Ave",
         41.895634,
         -87.672069
        ],
        [
         "13216",
         "State St & 33rd St",
         41.8347335,
         -87.6258275
        ],
        [
         "18003",
         "Fairbanks St & Superior St",
         41.89580766666667,
         -87.62025316666669
        ],
        [
         "KP1705001026",
         "LaSalle Dr & Huron St",
         41.894877,
         -87.632326
        ],
        [
         "13253",
         "Lincoln Ave & Waveland Ave",
         41.948797,
         -87.675278
        ],
        [
         "KA1503000044",
         "Rush St & Hubbard St",
         41.890173,
         -87.62618499999999
        ],
        [
         "KA1504000140",
         "Winchester Ave & Elston Ave",
         41.92403733333333,
         -87.67641483333334
        ],
        [
         "TA1305000032",
         "Clinton St & Madison St",
         41.882242,
         -87.64106600000001
        ],
        [
         "TA1306000012",
         "Wells St & Huron St",
         41.89475366666667,
         -87.63440200000001
        ],
        [
         "13133",
         "Damen Ave & Cortland St",
         41.915983000000004,
         -87.677335
        ],
        [
         "SL-005",
         "Indiana Ave & Roosevelt Rd",
         41.867888,
         -87.623041
        ],
        [
         "13235",
         "Southport Ave & Waveland Ave",
         41.94815,
         -87.66394
        ],
        [
         "TA1307000139",
         "MLK Jr Dr & 29th St",
         41.842052,
         -87.617
        ],
        [
         "TA1305000009",
         "Clark St & Ida B Wells Dr",
         41.8759326655,
         -87.63058453549999
        ],
        [
         "13276",
         "Stockton Dr & Wrightwood Ave",
         41.9313455,
         -87.63869133333333
        ],
        [
         "TA1307000107",
         "Sheridan Rd & Montrose Ave",
         41.96167,
         -87.65464
        ],
        [
         "13193",
         "Larrabee St & Webster Ave",
         41.921822,
         -87.64414000000001
        ],
        [
         "KA1503000072",
         "Wacker Dr & Washington St",
         41.883132,
         -87.637321
        ],
        [
         "TA1307000166",
         "Halsted St & Willow St",
         41.913865,
         -87.64875500000001
        ],
        [
         "13285",
         "Wood St & Taylor St (Temp)",
         41.86926521843819,
         -87.67373085021973
        ],
        [
         "TA1306000016",
         "Sheffield Ave & Fullerton Ave",
         41.92552516666667,
         -87.65368583333333
        ],
        [
         "13303",
         "Clark St & Chicago Ave",
         41.89675,
         -87.63089000000001
        ],
        [
         "15575",
         "Broadway & Thorndale Ave",
         41.98974251144,
         -87.6601406209
        ],
        [
         "623",
         "Michigan Ave & 8th St",
         41.872287666666665,
         -87.6239145
        ],
        [
         "TA1309000050",
         "Lincoln Ave & Addison St",
         41.946176,
         -87.67330799999999
        ],
        [
         "15445",
         "Wentworth Ave & 33rd St",
         41.83452988563,
         -87.63182298139999
        ],
        [
         "13164",
         "Racine Ave & 18th St",
         41.858166,
         -87.65649499999999
        ],
        [
         "TA1307000151",
         "Wells St & Hubbard St",
         41.889905999999996,
         -87.634266
        ],
        [
         "13158",
         "Peoria St & Jackson Blvd",
         41.877641596275296,
         -87.64961779117584
        ],
        [
         "13150",
         "Michigan Ave & 18th St",
         41.857813,
         -87.62455
        ],
        [
         "TA1308000036",
         "Indiana Ave & 31st St",
         41.83884433333333,
         -87.62183783333332
        ],
        [
         "TA1308000013",
         "Halsted St & Archer Ave",
         41.847203,
         -87.646795
        ],
        [
         "TA1306000013",
         "New St & Illinois St",
         41.89084704062381,
         -87.6186168193817
        ],
        [
         "13061",
         "Ashland Ave & Division St",
         41.90345,
         -87.66774699999999
        ],
        [
         "TA1307000048",
         "Fort Dearborn Dr & 31st St",
         41.838556,
         -87.60821800000001
        ],
        [
         "TA1308000045",
         "Wallace St & 35th St",
         41.830628999999995,
         -87.64129
        ],
        [
         "13206",
         "Loomis St & Jackson Blvd",
         41.877945000000004,
         -87.66200699999999
        ],
        [
         "13156",
         "Aberdeen St & Monroe St",
         41.880419,
         -87.655519
        ],
        [
         "TA1306000015",
         "Morgan St & Lake St",
         41.8854833079,
         -87.6523048564
        ],
        [
         "13058",
         "Dayton St & North Ave",
         41.9105780349,
         -87.6494219288
        ],
        [
         "TA1309000008",
         "Franklin St & Adams St (Temp)",
         41.879434091400135,
         -87.63550400733948
        ],
        [
         "KA1504000135",
         "Wells St & Elm St",
         41.90320733333333,
         -87.63461616666666
        ],
        [
         "KA1503000064",
         "Dusable Harbor",
         41.886976000000004,
         -87.612813
        ],
        [
         "TA1305000022",
         "Orleans St & Merchandise Mart Plaza",
         41.888243,
         -87.63639
        ],
        [
         "KA1504000079",
         "Larrabee St & Division St",
         41.90348607004,
         -87.6433534936
        ],
        [
         "KA1503000022",
         "Clark St & Montrose Ave",
         41.961588,
         -87.666036
        ],
        [
         "13109",
         "Broadway & Berwyn Ave",
         41.978353000000006,
         -87.65975300000001
        ],
        [
         "15530",
         "Rush St & Superior St",
         41.89576474564,
         -87.62590803270001
        ],
        [
         "TA1306000010",
         "Daley Center Plaza",
         41.884240999999996,
         -87.629634
        ],
        [
         "13146",
         "Clark St & Armitage Ave",
         41.918306,
         -87.636282
        ],
        [
         "15578",
         "Broadway & Ridge Ave",
         41.9840446107,
         -87.66027382950001
        ],
        [
         "KA1503000034",
         "LaSalle St & Adams St",
         41.87934437346,
         -87.63198522129998
        ],
        [
         "KA1503000059",
         "Lake Park Ave & 53rd St",
         41.79949429373,
         -87.5864498959
        ],
        [
         "TA1305000011",
         "Michigan Ave & Lake St",
         41.886024,
         -87.624117
        ],
        [
         "TA1307000061",
         "State St & Pearson St",
         41.897448,
         -87.628722
        ],
        [
         "SL-011",
         "Wells St & Polk St",
         41.872596,
         -87.63350200000001
        ],
        [
         "TA1309000010",
         "Wabash Ave & 9th St",
         41.8702615,
         -87.62538516666666
        ],
        [
         "15534",
         "Field Blvd & South Water St",
         41.88634906269,
         -87.6175165471
        ],
        [
         "TA1307000119",
         "Clarendon Ave & Leland Ave",
         41.967968,
         -87.650001
        ],
        [
         "TA1305000029",
         "State St & Randolph St",
         41.884730200599996,
         -87.6277335692
        ],
        [
         "TA1309000063",
         "Lake Park Ave & 56th St",
         41.793242,
         -87.58778199999999
        ],
        [
         "KA1504000133",
         "Rush St & Cedar St",
         41.90230870122,
         -87.62769052799999
        ],
        [
         "624",
         "Dearborn St & Van Buren St",
         41.87619516666667,
         -87.62913033333334
        ],
        [
         "KA1503000029",
         "South Shore Dr & 67th St",
         41.773643,
         -87.567514
        ],
        [
         "13323",
         "Broadway & Sheridan Rd",
         41.952833,
         -87.64999300000001
        ],
        [
         "KA1504000149",
         "Damen Ave & Foster Ave",
         41.97561480459,
         -87.6794590387
        ],
        [
         "TA1309000004",
         "LaSalle St & Jackson Blvd",
         41.878166,
         -87.631929
        ],
        [
         "18058",
         "Leavitt St & Chicago Ave",
         41.895437,
         -87.68198466666666
        ],
        [
         "WL-008",
         "Clinton St & Roosevelt Rd",
         41.867053166666665,
         -87.64109383333331
        ],
        [
         "13221",
         "Wood St & Milwaukee Ave",
         41.907655,
         -87.672552
        ],
        [
         "523",
         "Eastlake Ter & Rogers Ave",
         42.020887280520604,
         -87.66505792737007
        ],
        [
         "TA1309000025",
         "Halsted St & Roscoe St",
         41.943670000000004,
         -87.64895
        ],
        [
         "13288",
         "Damen Ave & Charleston St",
         41.9200765,
         -87.67794466666666
        ],
        [
         "658",
         "Leavitt St & Division St",
         41.902997,
         -87.683825
        ],
        [
         "TA1307000070",
         "Damen Ave & Thomas St (Augusta Blvd)",
         41.901315000000004,
         -87.677409
        ],
        [
         "TA1305000041",
         "Damen Ave & Pierce Ave",
         41.9093960065,
         -87.6776919292
        ],
        [
         "13268",
         "Damen Ave & Wellington Ave",
         41.935837,
         -87.67849433333332
        ],
        [
         "15667",
         "Western Ave & Monroe St",
         41.8797877089,
         -87.68611280799999
        ],
        [
         "13084",
         "California Ave & Milwaukee Ave",
         41.922695000000004,
         -87.697153
        ],
        [
         "15655",
         "Albany Ave & Bloomingdale Ave",
         41.91393833333333,
         -87.70515433333334
        ],
        [
         "17660",
         "California Ave & Cortez St",
         41.900363,
         -87.696704
        ],
        [
         "15651",
         "Humboldt Blvd & Armitage Ave",
         41.91751339399,
         -87.7018089555
        ],
        [
         "KA1504000146",
         "Clark St & Berwyn Ave",
         41.9779966544,
         -87.6680471047
        ],
        [
         "KA1504000151",
         "Clark St & Bryn Mawr Ave",
         41.983593,
         -87.669154
        ],
        [
         "KA1503000041",
         "McClurg Ct & Erie St",
         41.894503,
         -87.61785400000001
        ],
        [
         "TA1308000046",
         "Morgan St & 31st St",
         41.83783666666667,
         -87.65113033333333
        ],
        [
         "13266",
         "Stave St & Armitage Ave",
         41.917741,
         -87.69139200000001
        ],
        [
         "TA1307000124",
         "Michigan Ave & 14th St",
         41.864059000000005,
         -87.623727
        ],
        [
         "13196",
         "Carpenter St & Huron St",
         41.894515166666665,
         -87.65350183333334
        ],
        [
         "TA1306000029",
         "Lake Shore Dr & Ohio St",
         41.89257,
         -87.614492
        ],
        [
         "TA1307000052",
         "Sheffield Ave & Wellington Ave",
         41.936265999999996,
         -87.652662
        ],
        [
         "13021",
         "Clinton St & Lake St",
         41.885637,
         -87.641823
        ],
        [
         "TA1305000002",
         "Wabash Ave & Roosevelt Rd",
         41.867227,
         -87.625961
        ],
        [
         "KA1504000116",
         "Larrabee St & Oak St",
         41.90021949323,
         -87.6429854676
        ],
        [
         "TA1305000025",
         "Franklin St & Jackson Blvd",
         41.87801183333333,
         -87.6355415
        ],
        [
         "TA1305000034",
         "Honore St & Division St",
         41.903119000000004,
         -87.673935
        ],
        [
         "15644",
         "Central Park Ave & Elbridge Ave",
         41.93533728263,
         -87.7168892935
        ],
        [
         "TA1309000030",
         "Southport Ave & Clybourn Ave",
         41.920771,
         -87.663712
        ],
        [
         "13432",
         "Wood St & Hubbard St",
         41.889899,
         -87.67147299999999
        ],
        [
         "TA1308000049",
         "Wells St & Evergreen Ave",
         41.906698,
         -87.63511366666668
        ],
        [
         "KA1504000117",
         "Halsted St & North Branch St",
         41.899368439209994,
         -87.64847987520001
        ],
        [
         "RP-007",
         "Clark St & Touhy Ave",
         42.01256011541,
         -87.6743671152
        ],
        [
         "15529",
         "Mies van der Rohe Way & Chestnut St",
         41.898586651399995,
         -87.6219152258
        ],
        [
         "SL-008",
         "Federal St & Polk St",
         41.87207763285,
         -87.6295437729
        ],
        [
         "TA1307000005",
         "Indiana Ave & 26th St",
         41.845687,
         -87.62248100000001
        ],
        [
         "13068",
         "Western Ave & Winnebago Ave",
         41.915541,
         -87.68713016666666
        ],
        [
         "TA1307000039",
         "Clark St & Elm St",
         41.902972999999996,
         -87.63128
        ],
        [
         "13045",
         "Dearborn St & Erie St",
         41.893992,
         -87.62931800000001
        ],
        [
         "SL-012",
         "Wabash Ave & 16th St",
         41.860384,
         -87.625813
        ],
        [
         "TA1307000117",
         "Wabash Ave & Grand Ave",
         41.891465999999994,
         -87.626761
        ],
        [
         "15654",
         "Spaulding Ave & Division St",
         41.90270659438,
         -87.709219571
        ],
        [
         "13263",
         "Columbus Dr & Randolph St",
         41.884728,
         -87.61952099999999
        ],
        [
         "13247",
         "Ashland Ave & Chicago Ave",
         41.895965999999994,
         -87.66774699999999
        ],
        [
         "13132",
         "Damen Ave & Chicago Ave",
         41.895666833333344,
         -87.67708133333332
        ],
        [
         "TA1308000006",
         "Damen Ave & Grand Ave",
         41.891264346481535,
         -87.676842212677
        ],
        [
         "KA1503000069",
         "Dorchester Ave & 49th St",
         41.805830666666665,
         -87.592499
        ],
        [
         "15623",
         "Campbell Ave & Montrose Ave",
         41.96153733333333,
         -87.6911475
        ],
        [
         "13006",
         "LaSalle St & Washington St",
         41.882664,
         -87.63253
        ],
        [
         "15550",
         "Canal St & Taylor St",
         41.870257,
         -87.63947399999999
        ],
        [
         "13016",
         "St. Clair St & Erie St",
         41.89434513742426,
         -87.62279838323593
        ],
        [
         "TA1308000021",
         "Winthrop Ave & Lawrence Ave",
         41.968812,
         -87.657659
        ],
        [
         "LF-005",
         "Lake Shore Dr & North Blvd",
         41.911722,
         -87.626804
        ],
        [
         "TA1309000002",
         "Michigan Ave & Jackson Blvd",
         41.87785,
         -87.62408
        ],
        [
         "TA1305000037",
         "Paulina Ave & North Ave",
         41.910337,
         -87.67007199999999
        ],
        [
         "15541",
         "Buckingham Fountain",
         41.87651122881695,
         -87.62054800987242
        ],
        [
         "13022",
         "Streeter Dr & Grand Ave",
         41.892278000000005,
         -87.612043
        ],
        [
         "KA1706005007",
         "Delano Ct & Roosevelt Rd",
         41.867490999999994,
         -87.63219000000001
        ],
        [
         "TA1308000001",
         "Theater on the Lake",
         41.926277,
         -87.630834
        ],
        [
         "13294",
         "Greenview Ave & Diversey Pkwy",
         41.932573,
         -87.6659865
        ],
        [
         "15542",
         "Clinton St & Polk St",
         41.871466517790005,
         -87.6409491327
        ],
        [
         "13245",
         "Claremont Ave & Hirsch St",
         41.907781,
         -87.685854
        ],
        [
         "13001",
         "Michigan Ave & Washington St",
         41.8839840647265,
         -87.6246839761734
        ],
        [
         "TA1309000042",
         "Lincoln Ave & Belmont Ave",
         41.939408666666665,
         -87.6683635
        ],
        [
         "13033",
         "Milwaukee Ave & Grand Ave",
         41.891578,
         -87.648384
        ],
        [
         "TA1309000024",
         "Clark St & Schiller St",
         41.90810066666667,
         -87.63155916666666
        ],
        [
         "13265",
         "Kingsbury St & Erie St",
         41.89380805624359,
         -87.64169722795485
        ],
        [
         "13071",
         "Southport Ave & Roscoe St",
         41.943739,
         -87.66402
        ],
        [
         "13085",
         "Kedzie Ave & Milwaukee Ave",
         41.92960383333333,
         -87.70789566666667
        ],
        [
         "KA1504000090",
         "St. Louis Ave & Fullerton Ave",
         41.92481559681187,
         -87.71449506282805
        ],
        [
         "535",
         "Pulaski Rd & Congress Pkwy",
         41.874325,
         -87.72570400000001
        ],
        [
         "13277",
         "Broadway & Belmont Ave",
         41.940106,
         -87.645451
        ],
        [
         "KA1504000152",
         "Lakefront Trail & Bryn Mawr Ave",
         41.98403669612,
         -87.6523104689
        ],
        [
         "TA1309000058",
         "Lincoln Ave & Fullerton Ave",
         41.92593,
         -87.64926666666666
        ],
        [
         "16994",
         "Kilbourn Ave & Milwaukee Ave",
         41.948803000000005,
         -87.73998116666668
        ],
        [
         "13278",
         "Broadway & Cornelia Ave",
         41.945529,
         -87.646439
        ],
        [
         "E002",
         "Chicago Ave & Washington St",
         42.032562,
         -87.679101
        ],
        [
         "KA1504000080",
         "Washtenaw Ave & Lawrence Ave",
         41.96867133333333,
         -87.6961615
        ],
        [
         "TA1308000022",
         "Pine Grove Ave & Irving Park Rd",
         41.954316166666665,
         -87.64809816666668
        ],
        [
         "TA1309000027",
         "Sheridan Rd & Buena Ave",
         41.958494,
         -87.654966
        ],
        [
         "KA1504000155",
         "2112 W Peterson Ave",
         41.991178000000005,
         -87.683593
        ],
        [
         "TA1305000014",
         "Clark St & Wrightwood Ave",
         41.929571,
         -87.64309033333332
        ],
        [
         "TA1308000031",
         "Logan Blvd & Elston Ave",
         41.929404999999996,
         -87.68418683333331
        ],
        [
         "KA1504000164",
         "Keystone Ave & Montrose Ave",
         41.96110801623,
         -87.7289701012
        ],
        [
         "15640",
         "Avers Ave & Belmont Ave",
         41.939408,
         -87.723574
        ],
        [
         "620",
         "Orleans St & Chestnut St (NEXT Apts)",
         41.898203,
         -87.637536
        ],
        [
         "TA1309000061",
         "Halsted St & Wrightwood Ave",
         41.929142999999996,
         -87.649077
        ],
        [
         "TA1308000050",
         "Wells St & Concord Ln",
         41.912133000000004,
         -87.634656
        ],
        [
         "13379",
         "Clarendon Ave & Gordon Ter",
         41.95786233333333,
         -87.649478
        ],
        [
         "13389",
         "Clarendon Ave & Junior Ter",
         41.961003999999996,
         -87.649603
        ],
        [
         "KA1504000161",
         "St. Louis Ave & Balmoral Ave",
         41.98039423475,
         -87.7161149615
        ],
        [
         "TA1307000149",
         "Ravenswood Ave & Irving Park Rd",
         41.95469,
         -87.67393
        ],
        [
         "13224",
         "Ashland Ave & Blackhawk St",
         41.907066,
         -87.667252
        ],
        [
         "TA1306000009",
         "Larrabee St & Kingsbury St",
         41.897764,
         -87.642884
        ],
        [
         "605",
         "University Library (NU)",
         42.052939,
         -87.673447
        ],
        [
         "KA1504000134",
         "Ritchie Ct & Banks St",
         41.90704933333333,
         -87.62598233333334
        ],
        [
         "KA1503000007",
         "Cornell Ave & Hyde Park Blvd",
         41.802406,
         -87.586924
        ],
        [
         "520",
         "Greenview Ave & Jarvis Ave",
         42.015962,
         -87.66856999999999
        ],
        [
         "13144",
         "Seeley Ave & Roscoe St",
         41.943403,
         -87.679618
        ],
        [
         "517",
         "Clark St & Jarvis Ave",
         42.0159715,
         -87.67504016666666
        ],
        [
         "638",
         "Clinton St & Jackson Blvd",
         41.878063833333336,
         -87.64004366666668
        ],
        [
         "KA1503000070",
         "Harper Ave & 59th St",
         41.78794281287,
         -87.5883151702
        ],
        [
         "13197",
         "Elizabeth (May) St & Fulton St",
         41.886616486027656,
         -87.65803992748259
        ],
        [
         "13191",
         "Sedgwick St & Webster Ave",
         41.922167,
         -87.638888
        ],
        [
         "KA1504000175",
         "Glenwood Ave & Morse Ave",
         42.00797192287,
         -87.66550239440001
        ],
        [
         "13008",
         "Millennium Park",
         41.8810317,
         -87.62408432
        ],
        [
         "TA1307000006",
         "Southport Ave & Wellington Ave",
         41.935733,
         -87.663576
        ],
        [
         "13338",
         "Mies van der Rohe Way & Chicago Ave",
         41.89691,
         -87.62174300000001
        ],
        [
         "13011",
         "Canal St & Adams St",
         41.879255,
         -87.639904
        ],
        [
         "KA1504000159",
         "Sheridan Rd & Greenleaf Ave",
         42.010586562840004,
         -87.66241209479999
        ],
        [
         "13292",
         "Kedzie Ave & Palmer Ct",
         41.921525,
         -87.70732199999999
        ],
        [
         "RN-",
         "Franklin St & Illinois St",
         41.89102331025185,
         -87.63547986745834
        ],
        [
         "13256",
         "California Ave & Division St",
         41.903029,
         -87.697474
        ],
        [
         "TA1308000029",
         "Stetson Ave & South Water St",
         41.886835,
         -87.62232
        ],
        [
         "15491",
         "63rd St Beach",
         41.78101637195999,
         -87.5761197602
        ],
        [
         "TA1309000021",
         "Paulina St & Montrose Ave",
         41.961507,
         -87.671387
        ],
        [
         "13354",
         "Ashland Ave & 13th St",
         41.865234,
         -87.666507
        ],
        [
         "TA1307000159",
         "Paulina St & 18th St",
         41.857901,
         -87.668745
        ],
        [
         "TA1309000037",
         "Kimbark Ave & 53rd St",
         41.799568,
         -87.594747
        ],
        [
         "KA1504000158",
         "Oakley Ave & Irving Park Rd",
         41.95434085219,
         -87.6860796243
        ],
        [
         "13332",
         "Loomis St & Lexington St",
         41.872187,
         -87.661501
        ],
        [
         "TA1308000005",
         "Leavitt St & North Ave",
         41.910140000000006,
         -87.68235233333333
        ],
        [
         "TA1307000138",
         "Lincoln Ave & Roscoe St",
         41.94334,
         -87.67097
        ],
        [
         "KA1503000040",
         "Loomis St & Archer Ave",
         41.84163253965,
         -87.6574349533
        ],
        [
         "TA1307000134",
         "Wilton Ave & Belmont Ave",
         41.94018,
         -87.65304
        ],
        [
         "13136",
         "Damen Ave & Division St",
         41.903265999999995,
         -87.678435
        ],
        [
         "TA1308000035",
         "Lake Park Ave & 47th St",
         41.809443,
         -87.591875
        ],
        [
         "TA1309000029",
         "Leavitt St & Armitage Ave",
         41.917805,
         -87.682437
        ],
        [
         "13154",
         "Sheffield Ave & Kingsbury St",
         41.910522,
         -87.65310600000001
        ],
        [
         "13135",
         "Blue Island Ave & 18th St",
         41.857556,
         -87.661535
        ],
        [
         "13096",
         "California Ave & 21st St",
         41.853804,
         -87.69574200000001
        ],
        [
         "TA1309000012",
         "Damen Ave & Sunnyside Ave",
         41.96325,
         -87.67925799999999
        ],
        [
         "13304",
         "Racine Ave & 15th St",
         41.861267,
         -87.656625
        ],
        [
         "KA1504000076",
         "Ellis Ave & 55th St",
         41.79430062054001,
         -87.6014497734
        ],
        [
         "SL-007",
         "State St & Harrison St",
         41.874053,
         -87.627716
        ],
        [
         "657",
         "Wood St & Augusta Blvd",
         41.899181,
         -87.6722
        ],
        [
         "TA1309000018",
         "Ravenswood Ave & Berteau Ave",
         41.957921,
         -87.673567
        ],
        [
         "13029",
         "Field Museum",
         41.865312,
         -87.617867
        ],
        [
         "TA1306000002",
         "Morgan Ave & 14th Pl",
         41.862378,
         -87.651062
        ],
        [
         "TA1309000035",
         "Clark St & Winnemac Ave",
         41.97338333333333,
         -87.66773616666669
        ],
        [
         "13307",
         "Laflin St & Cullerton St",
         41.85491457576575,
         -87.66355991363525
        ],
        [
         "643",
         "Smith Park",
         41.891996166666665,
         -87.68938299999999
        ],
        [
         "13325",
         "Broadway & Waveland Ave",
         41.949073999999996,
         -87.648636
        ],
        [
         "TA1305000039",
         "Marshfield Ave & Cortland St",
         41.91604933333333,
         -87.6689225
        ],
        [
         "TA1307000144",
         "Wolcott (Ravenswood) Ave & Montrose Ave",
         41.96144316666667,
         -87.67620366666668
        ],
        [
         "18062",
         "Aberdeen St & Randolph St",
         41.884114000000004,
         -87.654264
        ],
        [
         "13073",
         "Ashland Ave & Lake St",
         41.88585116666667,
         -87.6671645
        ],
        [
         "TA1309000026",
         "Lincoln Ave & Belle Plaine Ave",
         41.95602616666667,
         -87.68023516666666
        ],
        [
         "15621",
         "Albany Ave & Montrose Ave",
         41.961040999999994,
         -87.705866
        ],
        [
         "TA1308000009",
         "Shore Dr & 55th St",
         41.795212,
         -87.580715
        ],
        [
         "TA1307000044",
         "Clinton St & 18th St",
         41.85795,
         -87.640826
        ],
        [
         "13143",
         "Damen Ave & Melrose Ave",
         41.940571666666656,
         -87.67868916666669
        ],
        [
         "20121",
         "Loomis Blvd & 84th St",
         41.741487,
         -87.65841
        ],
        [
         "TA1309000007",
         "Franklin St & Monroe St",
         41.880317,
         -87.63518499999999
        ],
        [
         "KA1504000127",
         "Manor Ave & Leland Ave",
         41.965875,
         -87.700825
        ],
        [
         "13063",
         "Sheridan Rd & Irving Park Rd",
         41.954245,
         -87.65440600000001
        ],
        [
         "TA1307000150",
         "Pine Grove Ave & Waveland Ave",
         41.94947274088333,
         -87.64645278453827
        ],
        [
         "13341",
         "Canal St & Madison St",
         41.882090999999996,
         -87.639833
        ],
        [
         "13179",
         "Clark St & Lincoln Ave",
         41.9157335,
         -87.63461466666666
        ],
        [
         "13296",
         "Ashland Ave & Wrightwood Ave",
         41.92883,
         -87.66850699999999
        ],
        [
         "TA1309000023",
         "Sheffield Ave & Wrightwood Ave",
         41.928712,
         -87.65383299999999
        ],
        [
         "13108",
         "Broadway & Argyle St",
         41.973815,
         -87.65966
        ],
        [
         "TA1307000142",
         "Clark St & Drummond Pl",
         41.931248,
         -87.644336
        ],
        [
         "TA1309000039",
         "Lake Shore Dr & Diversey Pkwy",
         41.932588,
         -87.636427
        ],
        [
         "TA1309000043",
         "Southport Ave & Irving Park Rd",
         41.954177,
         -87.664358
        ],
        [
         "KA17018054",
         "Damen Ave & Walnut (Lake) St",
         41.885919666666666,
         -87.67707300000002
        ],
        [
         "SL-006",
         "Wells St & 19th St",
         41.856802,
         -87.63387900000001
        ],
        [
         "13192",
         "Halsted St & Dickens Ave",
         41.919936,
         -87.64883
        ],
        [
         "TA1308000014",
         "Normal Ave & Archer Ave",
         41.849556666666665,
         -87.64060433333331
        ],
        [
         "331",
         "Halsted St & Clybourn Ave",
         41.909667999999996,
         -87.648128
        ],
        [
         "TA1307000158",
         "Damen Ave & Leland Ave",
         41.96710316666667,
         -87.6790435
        ],
        [
         "13128",
         "Clark St & North Ave",
         41.911974,
         -87.63194200000001
        ],
        [
         "TA1305000005",
         "Dearborn St & Adams St",
         41.8793563587,
         -87.62979103629999
        ],
        [
         "TA1306000014",
         "Wilton Ave & Diversey Pkwy",
         41.932418,
         -87.65270500000001
        ],
        [
         "TA1307000131",
         "Wabash Ave & Wacker Pl",
         41.886875,
         -87.62603
        ],
        [
         "TA1306000032",
         "Sheffield Ave & Willow St",
         41.913688,
         -87.652855
        ],
        [
         "KA1504000082",
         "Kedzie Ave & Harrison St",
         41.8736,
         -87.704871
        ],
        [
         "SL-009",
         "Clark St & 9th St (AMLI)",
         41.870816,
         -87.63124599999999
        ],
        [
         "TA1307000041",
         "Lake Shore Dr & Wellington Ave",
         41.936688449499705,
         -87.63682901859283
        ],
        [
         "TA1309000019",
         "Lakeview Ave & Fullerton Pkwy",
         41.92582616666667,
         -87.63898233333332
        ],
        [
         "13137",
         "Broadway & Barry Ave",
         41.93761283333333,
         -87.64412966666669
        ],
        [
         "13434",
         "Ashland Ave & Grand Ave",
         41.891082166666656,
         -87.6667135
        ],
        [
         "TA1307000126",
         "Sheffield Ave & Waveland Ave",
         41.949399,
         -87.65452900000001
        ],
        [
         "13194",
         "Ogden Ave & Race Ave",
         41.89182266666667,
         -87.65879433333332
        ],
        [
         "13017",
         "Franklin St & Chicago Ave",
         41.89674697309381,
         -87.63566762208939
        ],
        [
         "TA1307000140",
         "Western Ave & Leland Ave",
         41.96649453206122,
         -87.68841862678528
        ],
        [
         "15622",
         "California Ave & Montrose Ave",
         41.961068,
         -87.69543900000001
        ],
        [
         "13430",
         "LaSalle St & Illinois St",
         41.89080633333333,
         -87.63156666666669
        ],
        [
         "KA1503000002",
         "South Shore Dr & 71st St",
         41.7664094567,
         -87.5656875719
        ],
        [
         "TA1305000003",
         "Fairbanks Ct & Grand Ave",
         41.89184737210993,
         -87.62058019638063
        ],
        [
         "13431",
         "Adler Planetarium",
         41.866095,
         -87.60726700000001
        ],
        [
         "TA1307000120",
         "Green St & Madison St",
         41.881892,
         -87.64878900000001
        ],
        [
         "WL-012",
         "Clinton St & Washington Blvd",
         41.883379999999995,
         -87.64116999999999
        ],
        [
         "18069",
         "Cherry Ave & Blackhawk St",
         41.907221,
         -87.655618
        ],
        [
         "TA1309000067",
         "Cottage Grove Ave & 51st St",
         41.803038,
         -87.606615
        ],
        [
         "KA1504000097",
         "Drake Ave & Montrose Ave",
         41.961154075690004,
         -87.7165690733
        ],
        [
         "15571",
         "Broadway & Granville Ave",
         41.99473316666667,
         -87.660209
        ],
        [
         "15689",
         "California Ave & 23rd Pl",
         41.84910969176,
         -87.6951398068
        ],
        [
         "TA1307000064",
         "Lincoln Ave & Diversey Pkwy",
         41.932225,
         -87.658617
        ],
        [
         "KA1503000047",
         "Perry Ave & 69th St",
         41.76929308995,
         -87.6281959291
        ],
        [
         "13102",
         "Calumet Ave & 18th St",
         41.857611,
         -87.619407
        ],
        [
         "TA1307000111",
         "Franklin St & Lake St",
         41.885837,
         -87.6355
        ],
        [
         "13056",
         "Canal St & Monroe St",
         41.88169,
         -87.63953000000001
        ],
        [
         "13036",
         "Michigan Ave & Madison St",
         41.881901166666665,
         -87.6251145
        ],
        [
         "13427",
         "Cityfront Plaza Dr & Pioneer Ct",
         41.890572999999996,
         -87.622072
        ],
        [
         "SL-010",
         "Financial Pl & Ida B Wells Dr",
         41.8750236280333,
         -87.6330940425396
        ],
        [
         "18067",
         "Walsh Park",
         41.914609999999996,
         -87.667968
        ],
        [
         "13398",
         "Blackstone Ave & Hyde Park Blvd",
         41.802562,
         -87.59036800000001
        ],
        [
         "13353",
         "Ada St & Washington Blvd",
         41.882857,
         -87.6611585
        ],
        [
         "TA1305000006",
         "Dearborn St & Monroe St",
         41.881319815,
         -87.6295209193
        ],
        [
         "TA1309000036",
         "Burling St & Diversey Pkwy",
         41.93314,
         -87.64775999999999
        ],
        [
         "TA1305000030",
         "Clark St & Randolph St",
         41.884576228,
         -87.63188991
        ],
        [
         "TA1305000010",
         "Michigan Ave & Ida B Wells Dr",
         41.87618783333333,
         -87.624402
        ],
        [
         "TA1306000026",
         "Racine Ave & Fullerton Ave",
         41.92556258,
         -87.65840426
        ],
        [
         "654",
         "Racine Ave & Washington Blvd",
         41.883072999999996,
         -87.656952
        ],
        [
         "TA1308000019",
         "Racine Ave & Belmont Ave",
         41.939747333333344,
         -87.65883216666668
        ],
        [
         "13165",
         "Racine Ave & 13th St",
         41.865054,
         -87.656959
        ],
        [
         "13409",
         "Sangamon St & Washington Blvd",
         41.883165000000005,
         -87.6511
        ],
        [
         "WL-011",
         "Jefferson St & Monroe St",
         41.880421999999996,
         -87.642746
        ],
        [
         "15646",
         "California Ave & Altgeld St",
         41.926641833333335,
         -87.69780033333332
        ],
        [
         "KA1504000104",
         "Paulina St & Flournoy St",
         41.87295,
         -87.66913000000001
        ],
        [
         "13300",
         "Lake Shore Dr & Monroe St",
         41.880958,
         -87.616743
        ],
        [
         "13269",
         "Ashland Ave & Wellington Ave",
         41.936083,
         -87.66980699999999
        ],
        [
         "TA1308000026",
         "Wentworth Ave & 24th St (Temp)",
         41.850083693475774,
         -87.6321405172348
        ],
        [
         "644",
         "Western Ave & Fillmore St",
         41.868563,
         -87.686234
        ],
        [
         "15650",
         "Spaulding Ave & Armitage Ave",
         41.91710803478932,
         -87.71022096276283
        ],
        [
         "TA1307000113",
         "Southport Ave & Wrightwood Ave",
         41.928773,
         -87.663913
        ],
        [
         "TA1307000128",
         "Dearborn Pkwy & Delaware Pl",
         41.899047499999995,
         -87.62992833333334
        ],
        [
         "TA1306000008",
         "Larrabee St & North Ave",
         41.91021,
         -87.6435
        ],
        [
         "636",
         "Orleans St & Hubbard St",
         41.890028,
         -87.636618
        ],
        [
         "TA1307000143",
         "Sedgwick St & Schiller St",
         41.9075635,
         -87.6385625
        ],
        [
         "KA150400009X",
         "Kimball Ave & Belmont Ave",
         41.939398,
         -87.711561
        ],
        [
         "TA1307000130",
         "Morgan St & Polk St",
         41.871736999999996,
         -87.65103
        ],
        [
         "18016",
         "Bernard St & Elston Ave",
         41.949923,
         -87.713949
        ],
        [
         "TA1307000062",
         "Sedgwick St & Huron St",
         41.894666,
         -87.638437
        ],
        [
         "LP-",
         "Lincoln Park Conservatory",
         41.92393131136619,
         -87.63582453131676
        ],
        [
         "13050",
         "State St & Kinzie St",
         41.889187,
         -87.62775400000001
        ],
        [
         "13243",
         "Milwaukee Ave & Wabansia Ave",
         41.912616,
         -87.681391
        ],
        [
         "E011",
         "Dodge Ave & Main St",
         42.034832,
         -87.6991795
        ],
        [
         "KA1503000014",
         "Ellis Ave & 60th St",
         41.785097146359995,
         -87.60107276059999
        ],
        [
         "RP-009",
         "Sheridan Rd & Loyola Ave",
         42.00104377979,
         -87.66119824329999
        ],
        [
         "KA1504000129",
         "Western Ave & Granville Ave",
         41.994184499999996,
         -87.68942416666668
        ],
        [
         "13138",
         "Canal St & Jackson Blvd",
         41.877245,
         -87.63936600000001
        ],
        [
         "KA1503000052",
         "Ellis Ave & 53rd St",
         41.79933626261,
         -87.6009581145
        ],
        [
         "18017",
         "Central Park Ave & Bloomingdale Ave",
         41.914165999999994,
         -87.716755
        ],
        [
         "TA1309000032",
         "Elston Ave & Wabansia Ave",
         41.91294716666667,
         -87.66418416666669
        ],
        [
         "TA1307000160",
         "Prairie Ave & Garfield Blvd",
         41.794853,
         -87.618691
        ],
        [
         "15632",
         "Talman Ave & Addison St",
         41.946638666666665,
         -87.69468766666668
        ],
        [
         "15545",
         "Burnham Harbor",
         41.856268,
         -87.613348
        ],
        [
         "20239",
         "Marquette Ave & 89th St",
         41.73366879071472,
         -87.55834221839905
        ],
        [
         "TA1308000002",
         "Greenwood Ave & 47th St",
         41.809835,
         -87.59938299999999
        ],
        [
         "TA1309000049",
         "Lake Shore Dr & Belmont Ave",
         41.940775,
         -87.63919200000001
        ],
        [
         "13289",
         "Eckhart Park",
         41.89637337,
         -87.66098386
        ],
        [
         "TA1307000121",
         "Halsted St & Polk St",
         41.87184,
         -87.64664
        ],
        [
         "13139",
         "Throop St & Taylor St",
         41.868968,
         -87.659141
        ],
        [
         "13053",
         "Green St & Randolph St",
         41.883668,
         -87.64867
        ],
        [
         "632",
         "Clark St & Newport St",
         41.94454,
         -87.654678
        ],
        [
         "536",
         "Kostner Ave & Lake St",
         41.885928,
         -87.73541
        ],
        [
         "13271",
         "Damen Ave & Clybourn Ave",
         41.931931,
         -87.677856
        ],
        [
         "13034",
         "Michigan Ave & Pearson St",
         41.897659999999995,
         -87.62351
        ],
        [
         "TA1307000001",
         "Greenview Ave & Fullerton Ave",
         41.925329999999995,
         -87.6658
        ],
        [
         "13290",
         "Noble St & Milwaukee Ave",
         41.90068,
         -87.6626
        ],
        [
         "TA1307000115",
         "Clybourn Ave & Division St",
         41.904613,
         -87.640552
        ],
        [
         "Hubbard Bike-checking (LBS-WH-TEST)",
         "Base - 2132 W Hubbard Warehouse",
         41.88995451607409,
         -87.68065094947815
        ],
        [
         "15652",
         "Central Park Ave & North Ave",
         41.90965687563,
         -87.7166319516
        ],
        [
         "KA1503000015",
         "Wabash Ave & Adams St",
         41.87947235235,
         -87.6256886059
        ],
        [
         "TA1307000066",
         "Damen Ave & Coulter St",
         41.8491195,
         -87.67570183333332
        ],
        [
         "KA1504000162",
         "Clark St & Lunt Ave",
         42.009074,
         -87.67419
        ],
        [
         "TA1305000035",
         "State St & Van Buren St",
         41.877181,
         -87.627844
        ],
        [
         "15443",
         "Shields Ave & 28th Pl",
         41.84284333333333,
         -87.63548
        ],
        [
         "13059",
         "Bissell St & Armitage Ave",
         41.918440000000004,
         -87.65222
        ],
        [
         "KA1503000038",
         "Shields Ave & 31st St",
         41.838464,
         -87.635406
        ],
        [
         "KA1503000066",
         "Wood St & 35th St",
         41.830104654159996,
         -87.67029830889999
        ],
        [
         "TA1307000163",
         "Clifton Ave & Armitage Ave",
         41.918215999999994,
         -87.656936
        ],
        [
         "TA1309000001",
         "Halsted St & Maxwell St",
         41.864883,
         -87.647071
        ],
        [
         "TA1309000055",
         "Emerald Ave & 31st St",
         41.838198,
         -87.645143
        ],
        [
         "514",
         "Ridge Blvd & Howard St",
         42.019276,
         -87.68451999999999
        ],
        [
         "KA1504000103",
         "Western Ave & Walton St",
         41.89841768945,
         -87.68659601639999
        ],
        [
         "15535",
         "Desplaines St & Randolph St",
         41.88461618962,
         -87.6445705849
        ],
        [
         "TA1307000153",
         "Emerald Ave & 28th St",
         41.843579999999996,
         -87.645368
        ],
        [
         "13217",
         "Calumet Ave & 33rd St",
         41.8349,
         -87.61793
        ],
        [
         "15446",
         "Racine Ave & 35th St",
         41.83069611252,
         -87.6559759116
        ],
        [
         "13160",
         "May St & Taylor St",
         41.8694821,
         -87.6554864
        ],
        [
         "KA1503000043",
         "Kingsbury St & Kinzie St",
         41.88917683258,
         -87.6385057718
        ],
        [
         "TA1306000003",
         "Desplaines St & Kinzie St",
         41.888716036,
         -87.6444478533
        ],
        [
         "15442",
         "Ashland Ave & Archer Ave",
         41.83920868403,
         -87.6656098589
        ],
        [
         "15539",
         "Desplaines St & Jackson Blvd",
         41.878161166666665,
         -87.64428766666668
        ],
        [
         "KA1503000032",
         "Union Ave & Root St",
         41.819102,
         -87.64327800000001
        ],
        [
         "13345",
         "Calumet Ave & 35th St",
         41.831379,
         -87.618034
        ],
        [
         "13162",
         "Halsted St & 21st St",
         41.85377981072743,
         -87.6466029882431
        ],
        [
         "13157",
         "Aberdeen St & Jackson Blvd",
         41.87772613,
         -87.65478743
        ],
        [
         "TA1307000129",
         "State St & 35th St",
         41.8310363140161,
         -87.62679755687714
        ],
        [
         "RP-005",
         "Western Ave & Lunt Ave",
         42.0085943972,
         -87.69049223889999
        ],
        [
         "KA1503000027",
         "Prairie Ave & 43rd St",
         41.81665889302,
         -87.61941246190001
        ],
        [
         "TA1305000020",
         "Ogden Ave & Chicago Ave",
         41.896362458,
         -87.65406127290001
        ],
        [
         "TA1306000025",
         "Racine Ave & Congress Pkwy",
         41.87464,
         -87.65703
        ],
        [
         "16010",
         "Keystone Ave & Fullerton Ave",
         41.92459,
         -87.72785
        ],
        [
         "TA1309000064",
         "Wolcott Ave & Polk St",
         41.871262,
         -87.673688
        ],
        [
         "KA1504000142",
         "Drake Ave & Addison St",
         41.947326000000004,
         -87.717582
        ],
        [
         "KA1503000074",
         "Museum of Science and Industry",
         41.79172820953,
         -87.58394500899999
        ],
        [
         "TA1309000011",
         "Ellis Ave & 58th St",
         41.788746,
         -87.601334
        ],
        [
         "KA1503000013",
         "Princeton Ave & Garfield Blvd",
         41.794982,
         -87.633124
        ],
        [
         "KA1503000020",
         "South Shore Dr & 74th St",
         41.76218896038,
         -87.55927465
        ],
        [
         "TA1307000164",
         "Woodlawn Ave & 55th St",
         41.795264,
         -87.596471
        ],
        [
         "KA1503000071",
         "University Ave & 57th St",
         41.791478000000005,
         -87.599861
        ],
        [
         "KA1503000068",
         "Leavitt St & Archer Ave",
         41.82879201994,
         -87.6806044594
        ],
        [
         "KA1503000065",
         "Woodlawn Ave & Lake Park Ave",
         41.81409271048,
         -87.5970051479
        ],
        [
         "13257",
         "Campbell Ave & North Ave",
         41.910534999999996,
         -87.68955600000001
        ],
        [
         "TA1308000007",
         "MLK Jr Dr & 47th St",
         41.809851,
         -87.616279
        ],
        [
         "13326",
         "Canal St & Harrison St",
         41.874255,
         -87.639573
        ],
        [
         "TA1309000059",
         "Racine Ave & Wrightwood Ave",
         41.928886999999996,
         -87.658971
        ],
        [
         "KA1504000109",
         "Washtenaw Ave & Ogden Ave",
         41.86193049278259,
         -87.69345045089722
        ],
        [
         "13099",
         "Halsted St & 18th St",
         41.857499,
         -87.646277
        ],
        [
         "TA1307000127",
         "Clark St & Grace St",
         41.95078,
         -87.659172
        ],
        [
         "13258",
         "California Ave & North Ave",
         41.91044,
         -87.6972
        ],
        [
         "13155",
         "Racine Ave & Randolph St",
         41.884069000000004,
         -87.656853
        ],
        [
         "KA1504000148",
         "Clark St & Elmdale Ave",
         41.990860448125574,
         -87.66972362995148
        ],
        [
         "13319",
         "Ashland Ave & Grace St",
         41.950687,
         -87.6687
        ],
        [
         "TA1308000012",
         "Montrose Harbor",
         41.963982,
         -87.638181
        ],
        [
         "KA1504000171",
         "Marine Dr & Ainslie St",
         41.9716,
         -87.650154
        ],
        [
         "15648",
         "Campbell Ave & Fullerton Ave",
         41.92463247165,
         -87.6893070063
        ],
        [
         "13074",
         "Broadway & Wilson - Truman College Vaccination Site",
         41.965221,
         -87.658139
        ],
        [
         "TA1305000001",
         "Wabash Ave & Cermak Rd",
         41.852619,
         -87.626488
        ],
        [
         "TA1309000041",
         "Sheridan Rd & Lawrence Ave",
         41.9694705,
         -87.6547185
        ],
        [
         "15645",
         "Richmond St & Diversey Ave",
         41.93190196886,
         -87.7011951301
        ],
        [
         "TA1305000017",
         "Halsted St & Roosevelt Rd",
         41.867323999999996,
         -87.648625
        ],
        [
         "13248",
         "Ashland Ave & Augusta Blvd",
         41.899643,
         -87.6677
        ],
        [
         "13037",
         "Clinton St & Tilden St",
         41.875885,
         -87.640795
        ],
        [
         "KA1504000078",
         "Lincoln Ave & Winona St",
         41.97491129677,
         -87.69250255940001
        ],
        [
         "13229",
         "Southport Ave & Belmont Ave",
         41.93947775040509,
         -87.6637476682663
        ],
        [
         "TA1309000033",
         "Sheffield Ave & Webster Ave",
         41.92154,
         -87.653818
        ],
        [
         "TA1306000007",
         "Larrabee St & Menomonee St",
         41.91468,
         -87.64331999999999
        ],
        [
         "TA1307000156",
         "Lincoln Ave & Sunnyside Ave",
         41.963004,
         -87.684781
        ],
        [
         "13215",
         "Rhodes Ave & 32nd St",
         41.83670583333333,
         -87.61341483333334
        ],
        [
         "639",
         "Lakefront Trail & Wilson Ave",
         41.965845,
         -87.645361
        ],
        [
         "13124",
         "Cannon Dr & Fullerton Ave",
         41.9267559875,
         -87.6344287848
        ],
        [
         "15544",
         "Shedd Aquarium",
         41.86722595682,
         -87.61535539020001
        ],
        [
         "599",
         "Valli Produce - Evanston Plaza",
         42.039742,
         -87.699413
        ],
        [
         "546",
         "Damen Ave & Pershing Rd",
         41.823192,
         -87.676597
        ],
        [
         "15691",
         "Albany Ave & 26th St",
         41.844475013659995,
         -87.70201301280001
        ],
        [
         "KA1503000075",
         "DuSable Museum",
         41.79156801058,
         -87.60785217739999
        ],
        [
         "515",
         "Paulina St & Howard St",
         42.019159,
         -87.673573
        ],
        [
         "15664",
         "Artesian Ave & Hubbard St",
         41.88949181977,
         -87.68821936479999
        ],
        [
         "15668",
         "Western Ave & Congress Pkwy",
         41.874748850790006,
         -87.6864452757
        ],
        [
         "13134",
         "Damen Ave & Madison St",
         41.881370000000004,
         -87.67493
        ],
        [
         "KA1504000102",
         "Fairfield Ave & Roosevelt Rd",
         41.866624,
         -87.694521
        ],
        [
         "13091",
         "Western Ave & 21st St",
         41.854109,
         -87.685838
        ],
        [
         "598",
         "Elmwood Ave & Austin St",
         42.02579,
         -87.6841135
        ],
        [
         "600",
         "Dodge Ave & Church St",
         42.048308,
         -87.698224
        ],
        [
         "15634",
         "Western Ave & Roscoe St",
         41.943093,
         -87.6873335
        ],
        [
         "661",
         "Evanston Civic Center",
         42.057044,
         -87.686554
        ],
        [
         "13028",
         "900 W Harrison St",
         41.874753999999996,
         -87.649807
        ],
        [
         "KA1504000156",
         "Clark St & Schreiber Ave",
         41.99925182186,
         -87.67137733930001
        ],
        [
         "E014",
         "Lincolnwood Dr & Central St",
         42.064854,
         -87.71529699999999
        ],
        [
         "TA1307000038",
         "Sedgwick St & North Ave",
         41.91141,
         -87.638713
        ],
        [
         "E006",
         "Central St Metra",
         42.063598,
         -87.69873
        ],
        [
         "KA1503000018",
         "Jeffery Blvd & 71st St",
         41.76663823695,
         -87.5764501141
        ],
        [
         "13163",
         "Morgan St & 18th St",
         41.858086,
         -87.651073
        ],
        [
         "TA1307000136",
         "Clark St & Wellington Ave",
         41.9364968219,
         -87.64753865819999
        ],
        [
         "TA1308000038",
         "Cottage Grove Ave & Oakwood Blvd",
         41.822984999999996,
         -87.6071
        ],
        [
         "TA1308000043",
         "Halsted St & 35th St",
         41.830661,
         -87.647172
        ],
        [
         "15546",
         "Calumet Ave & 21st St",
         41.85418424947,
         -87.6191537415
        ],
        [
         "KA1504000101",
         "Ogden Ave & Roosevelt Rd",
         41.86650148316,
         -87.68469707
        ],
        [
         "13075",
         "Wentworth Ave & Cermak Rd",
         41.85308455741279,
         -87.63193130493164
        ],
        [
         "KA1504000093",
         "Rockwell St & Eastwood Ave",
         41.965900139759995,
         -87.6936384935
        ],
        [
         "KA1504000106",
         "Kedzie Ave & Lake St",
         41.88460328501,
         -87.7063037436
        ],
        [
         "KA17018068",
         "Leavitt St & Belmont Ave",
         41.939353999999994,
         -87.68328199999999
        ],
        [
         "13241",
         "Western Ave & Division St",
         41.902893,
         -87.687275
        ],
        [
         "13042",
         "Michigan Ave & Oak St",
         41.900777833333336,
         -87.62373666666667
        ],
        [
         "TA1309000015",
         "Leavitt St & Lawrence Ave",
         41.968885,
         -87.684001
        ],
        [
         "RP-004",
         "Oakley Ave & Touhy Ave",
         42.012342,
         -87.688243
        ],
        [
         "TA1308000047",
         "Southport Ave & Clark St",
         41.957081,
         -87.664199
        ],
        [
         "596",
         "Benson Ave & Church St",
         42.048214,
         -87.683485
        ],
        [
         "TA1309000014",
         "Clark St & Leland Ave",
         41.967096000000005,
         -87.667429
        ],
        [
         "660",
         "Sheridan Rd & Columbia Ave",
         42.004583000000004,
         -87.661406
        ],
        [
         "TA1309000066",
         "Ravenswood Ave & Lawrence Ave",
         41.96909,
         -87.674237
        ],
        [
         "KA1504000143",
         "Leavitt St & Addison St",
         41.94657816666667,
         -87.683387
        ],
        [
         "553",
         "Elizabeth St & 47th St",
         41.80839,
         -87.656526
        ],
        [
         "13420",
         "MLK Jr Dr & Pershing Rd",
         41.8246,
         -87.61678
        ],
        [
         "15642",
         "California Ave & Fletcher St",
         41.93842879148,
         -87.69800775600001
        ],
        [
         "TA1305000004",
         "McCormick Place",
         41.8513751729,
         -87.61883464889999
        ],
        [
         "KA1504000139",
         "Monticello Ave & Irving Park Rd",
         41.95400483876,
         -87.7191281797
        ],
        [
         "13249",
         "Ashland Ave & Belle Plaine Ave",
         41.956057,
         -87.668835
        ],
        [
         "15653",
         "Troy St & North Ave",
         41.90976930169,
         -87.7052804871
        ],
        [
         "13081",
         "Ogden Ave & Congress Pkwy",
         41.875017,
         -87.6731475
        ],
        [
         "TA1306000006",
         "Orleans St & Elm St",
         41.90291216666667,
         -87.637745
        ],
        [
         "13242",
         "Milwaukee Ave & Rockwell St",
         41.92019556200566,
         -87.69265919923781
        ],
        [
         "15615",
         "Christiana Ave & Lawrence Ave",
         41.96835449363,
         -87.7118306675
        ],
        [
         "15470",
         "Calumet Ave & 51st St",
         41.80229465088,
         -87.6180535802
        ],
        [
         "13331",
         "May St & Cullerton St",
         41.855136,
         -87.654127
        ],
        [
         "E008",
         "Chicago Ave & Sheridan Rd",
         42.050491,
         -87.677821
        ],
        [
         "16918",
         "Austin Blvd & Madison St",
         41.880281,
         -87.77445300000001
        ],
        [
         "590",
         "Kilbourn Ave & Irving Park Rd",
         41.953733,
         -87.740569
        ],
        [
         "SL-013",
         "State St & 19th St",
         41.856594,
         -87.627542
        ],
        [
         "20238",
         "Greenwood Ave & 97th St",
         41.71870315475741,
         -87.59703576564789
        ],
        [
         "655",
         "Hoyne Ave & Balmoral Ave",
         41.979847166666666,
         -87.68198083333333
        ],
        [
         "RP-008",
         "Clark St & Columbia Ave",
         42.00445062934,
         -87.6724024047
        ],
        [
         "650",
         "Eggleston Ave & 69th St",
         41.768898,
         -87.635876
        ],
        [
         "KA1504000160",
         "Francisco Ave & Foster Ave",
         41.97563272521,
         -87.70141943889999
        ],
        [
         "15624",
         "Avondale Ave & Irving Park Rd",
         41.953393,
         -87.73200200000001
        ],
        [
         "594",
         "Western Blvd & 48th Pl",
         41.805661,
         -87.683392
        ],
        [
         "TA1309000003",
         "Western Ave & 24th St",
         41.84847,
         -87.685109
        ],
        [
         "519",
         "Wolcott Ave & Fargo Ave",
         42.01691666666667,
         -87.67777883333332
        ],
        [
         "TA1309000006",
         "Larrabee St & Armitage Ave",
         41.918084,
         -87.643749
        ],
        [
         "KA1706005015",
         "Kildare Ave & Montrose Ave",
         41.961079999999995,
         -87.73569
        ],
        [
         "18022",
         "Archer (Damen) Ave & 37th St",
         41.826712,
         -87.683144
        ],
        [
         "KA1504000167",
         "Kedzie Ave & Bryn Mawr Ave",
         41.98239708485,
         -87.7089225202
        ],
        [
         "KA1503000004",
         "Lake Park Ave & 35th St",
         41.83127423549,
         -87.6087991946
        ],
        [
         "KA1503000019",
         "Stony Island Ave & 75th St",
         41.758669670399996,
         -87.586882871
        ],
        [
         "E007",
         "Central St & Girard Ave",
         42.064313,
         -87.686152
        ],
        [
         "15685",
         "Central Park Ave & Ogden Ave",
         41.85406350387447,
         -87.71511733531952
        ],
        [
         "20254.0",
         "W Armitage Ave & N Sheffield Ave",
         41.92,
         -87.65
        ],
        [
         "KA1503000054",
         "Cottage Grove Ave & 63rd St",
         41.780730833333344,
         -87.6058085
        ],
        [
         "KA1504000147",
         "Winchester (Ravenswood) Ave & Balmoral Ave",
         41.979762,
         -87.67753
        ],
        [
         "631",
         "Malcolm X College Vaccination Site",
         41.87761716666667,
         -87.67387333333332
        ],
        [
         "KA1504000091",
         "Hoyne Ave & 47th St",
         41.808227,
         -87.67718
        ],
        [
         "13089",
         "Damen Ave & Cullerton St",
         41.854966518753926,
         -87.67569959163664
        ],
        [
         "16906",
         "Austin Blvd & Lake St",
         41.887919000000004,
         -87.774446
        ],
        [
         "KA1503000005",
         "Wentworth Ave & 35th St",
         41.830777000000005,
         -87.632504
        ],
        [
         "16921",
         "Austin Blvd & Chicago Ave",
         41.894887,
         -87.774704
        ],
        [
         "KA1504000128",
         "Kedzie Ave & Foster Ave",
         41.975671999999996,
         -87.709261
        ],
        [
         "15631",
         "Troy St & Elston Ave",
         41.94524356848,
         -87.7066499009
        ],
        [
         "15628",
         "California Ave & Byron St",
         41.952162193259994,
         -87.69805111299999
        ],
        [
         "KA1504000110",
         "Millard Ave & 26th St",
         41.84455710033698,
         -87.71607220172882
        ],
        [
         "595",
         "Wabash Ave & 87th St",
         41.736646,
         -87.62263399999999
        ],
        [
         "585",
         "Cottage Grove Ave & 83rd St",
         41.743441,
         -87.60483599999999
        ],
        [
         "584",
         "Ellis Ave & 83rd St",
         41.744122999999995,
         -87.599034
        ],
        [
         "530",
         "Laramie Ave & Kinzie St",
         41.887832,
         -87.755527
        ],
        [
         "TA1306000011",
         "Wells St & Walton St",
         41.89993001,
         -87.63443007
        ],
        [
         "604",
         "Sheridan Rd & Noyes St (NU)",
         42.058239,
         -87.677432
        ],
        [
         "20253.0",
         "N Paulina St & Lincoln Ave",
         41.94,
         -87.67
        ],
        [
         "13259",
         "California Ave & Francis Pl (Temp)",
         41.91849115368695,
         -87.69742280244827
        ],
        [
         "15643",
         "Kosciuszko Park",
         41.93062166666667,
         -87.72378883333332
        ],
        [
         "KA1503000025",
         "Wentworth Ave & 63rd St",
         41.78007963264,
         -87.6297463052
        ],
        [
         "16903",
         "Cicero Ave & Lake St",
         41.886841,
         -87.745261
        ],
        [
         "527",
         "Western Ave & Howard St",
         42.0189505,
         -87.6900365
        ],
        [
         "KA1503000049",
         "Rainbow Beach",
         41.757871448290004,
         -87.54938625
        ],
        [
         "570",
         "Evans Ave & 75th St",
         41.75849,
         -87.60641
        ],
        [
         "KA1504000114",
         "Kedzie Ave & Chicago Ave",
         41.895465303049995,
         -87.7061278837
        ],
        [
         "KA1503000033",
         "Eberhart Ave & 61st St",
         41.78414169317,
         -87.6133078304
        ],
        [
         "592",
         "Knox Ave & Montrose Ave",
         41.960631,
         -87.745359
        ],
        [
         "KA1504000126",
         "Kedzie Ave & Leland Ave",
         41.96668636205,
         -87.70805198059999
        ],
        [
         "545",
         "Kostner Ave & Adams St",
         41.877917,
         -87.735737
        ],
        [
         "KA1503000009",
         "Princeton Ave & 47th St",
         41.809317709240005,
         -87.633449288
        ],
        [
         "15585",
         "Budlong Woods Library",
         41.98366470886,
         -87.69642256110001
        ],
        [
         "RP-001",
         "Warren Park West",
         42.001785,
         -87.688829
        ],
        [
         "KA1503000073",
         "MLK Jr Dr & 56th St",
         41.79342945658,
         -87.6158532619
        ],
        [
         "KA1504000113",
         "Sacramento Blvd & Franklin Blvd",
         41.890604833333335,
         -87.7025885
        ],
        [
         "646",
         "State St & 54th St",
         41.796642,
         -87.625923
        ],
        [
         "TA1308000023",
         "Cottage Grove Ave & 43rd St",
         41.81650916666667,
         -87.60661666666668
        ],
        [
         "TA1309000053",
         "Cottage Grove Ave & 47th St",
         41.809855,
         -87.606755
        ],
        [
         "KA1504000096",
         "Sawyer Ave & Irving Park Rd",
         41.95358617895,
         -87.7093107999
        ],
        [
         "15666",
         "California Ave & Lake St",
         41.88445395657,
         -87.69629813680001
        ],
        [
         "16920",
         "Central Ave & Chicago Ave",
         41.894958,
         -87.764902
        ],
        [
         "15449",
         "State St & Pershing Rd",
         41.82301523798,
         -87.62656801850001
        ],
        [
         "KA1503000023",
         "Stony Island Ave & 67th St",
         41.77345849948,
         -87.5853397391
        ],
        [
         "583",
         "Stony Island Ave & 82nd St",
         41.74661,
         -87.58596933333334
        ],
        [
         "KA1503000024",
         "Yates Blvd & 75th St",
         41.758767999999996,
         -87.56644
        ],
        [
         "TA1309000051",
         "Commercial Ave & 83rd St",
         41.7446365,
         -87.55119416666666
        ],
        [
         "KA1503000021",
         "Stony Island Ave & 64th St",
         41.778881,
         -87.586647
        ],
        [
         "16907",
         "Central Park Blvd & 5th Ave",
         41.875653666666665,
         -87.71554783333332
        ],
        [
         "16806",
         "Bosworth Ave & Howard St",
         42.019514,
         -87.66932183333331
        ],
        [
         "16991",
         "Milwaukee Ave & Cuyler Ave",
         41.95449933333333,
         -87.74959383333334
        ],
        [
         "KA1503000010",
         "Halsted St & 51st St",
         41.80183164049,
         -87.645213904
        ],
        [
         "KA1503000046",
         "Dorchester Ave & 63rd St",
         41.7804056457,
         -87.5914159893
        ],
        [
         "KA1504000141",
         "Pulaski Rd & Eddy St (Temp)",
         41.946264,
         -87.731023
        ],
        [
         "KA1504000130",
         "Maplewood Ave & Peterson Ave",
         41.990198,
         -87.6934005
        ],
        [
         "RP-006",
         "Ridge Blvd & Touhy Ave",
         42.01213227742,
         -87.6829126443
        ],
        [
         "13083",
         "Indiana Ave & 40th St",
         41.82168,
         -87.6216
        ],
        [
         "518",
         "Conservatory Dr & Lake St",
         41.88545666666667,
         -87.71684833333332
        ],
        [
         "20210",
         "State St & 123rd St",
         41.67064383687979,
         -87.62258648872375
        ],
        [
         "20206",
         "Homewood Ave & 115th St",
         41.68459507202617,
         -87.67070800065994
        ],
        [
         "20131",
         "Cottage Grove Ave & 111th Pl",
         41.69170975847015,
         -87.61000156402588
        ],
        [
         "20229",
         "Baltimore Ave & 87th St",
         41.73733560041666,
         -87.54851460456847
        ],
        [
         "528",
         "Pulaski Rd & Lake St",
         41.885409,
         -87.72649100000001
        ],
        [
         "RP-002",
         "Warren Park East",
         42.00454962194,
         -87.6806661451
        ],
        [
         "573",
         "State St & 79th St",
         41.750794,
         -87.624424
        ],
        [
         "KA1503000031",
         "Cottage Grove Ave & 67th St",
         41.77371016666667,
         -87.60564683333334
        ],
        [
         "20109",
         "Vernon Ave & 107th St",
         41.70012137923888,
         -87.61225998401642
        ],
        [
         "KA1503000051",
         "Halsted St & 47th Pl",
         41.80813391481,
         -87.64561655450001
        ],
        [
         "KA1503000030",
         "Jeffery Blvd & 67th St",
         41.77351755125,
         -87.57714282549999
        ],
        [
         "15687",
         "Central Park Ave & 24th St",
         41.848116833333336,
         -87.71511283333334
        ],
        [
         "20223",
         "Ewing Ave & Burnham Greenway",
         41.712748761094964,
         -87.53481388092041
        ],
        [
         "KA1503000003",
         "Cottage Grove Ave & 71st St",
         41.76571903697,
         -87.60495971299999
        ],
        [
         "20252.0",
         "W Oakdale Ave & N Broadway",
         41.94,
         -87.64
        ],
        [
         "649",
         "Stewart Ave & 63rd St",
         41.779835,
         -87.634774
        ],
        [
         "20214",
         "Avenue O & 134th St",
         41.65191333333333,
         -87.53950833333332
        ],
        [
         "TA1307000161",
         "Halsted St & 37th St",
         41.827059000000006,
         -87.64572
        ],
        [
         "20104",
         "State St & 95th St",
         41.7218499,
         -87.62285440000001
        ],
        [
         "20247.0",
         "W Washington Blvd & N Peoria St",
         41.88,
         -87.65
        ],
        [
         "662",
         "Dodge Ave & Mulford St",
         42.0236905,
         -87.6996185
        ],
        [
         "20119",
         "Elizabeth St & 92nd St",
         41.726798963701185,
         -87.6542901992798
        ],
        [
         "20129",
         "Ada St & 113th St",
         41.687561623357375,
         -87.65547573566435
        ],
        [
         "653",
         "Cornell Dr & Hayes Dr",
         41.780595,
         -87.584846
        ],
        [
         "KA1503000045",
         "Stony Island Ave & 71st St",
         41.7664929373,
         -87.5864608775
        ],
        [
         "569",
         "Woodlawn Ave & 75th St",
         41.759159999999994,
         -87.595751
        ],
        [
         "20110",
         "Eberhart Ave & 91st St",
         41.72942527802096,
         -87.60952949523924
        ],
        [
         "20218",
         "Avenue O & 118th St",
         41.68100145911039,
         -87.53793122268691
        ],
        [
         "20127",
         "Halsted St & 111th St",
         41.69226255589166,
         -87.64261186122894
        ],
        [
         "KA1503000055",
         "Halsted & 63rd - Kennedy-King Vaccination Site",
         41.779381142279995,
         -87.6446208145
        ],
        [
         "16915",
         "Central Ave & Harrison St",
         41.87299733333333,
         -87.7644945
        ],
        [
         "13080",
         "Hermitage Ave & Polk St",
         41.871514000000005,
         -87.669886
        ],
        [
         "652",
         "Rhodes Ave & 71st St",
         41.766000000000005,
         -87.611726
        ],
        [
         "20116",
         "Dauphin Ave & 87th St",
         41.736559,
         -87.601258
        ],
        [
         "15692",
         "California Ave & 26th St",
         41.84404,
         -87.695296
        ],
        [
         "534",
         "Karlov Ave & Madison St",
         41.88085366666667,
         -87.72799766666668
        ],
        [
         "582",
         "Phillips Ave & 83rd St",
         41.744531,
         -87.56506
        ],
        [
         "20113",
         "Dauphin Ave & 103rd St",
         41.707250367781796,
         -87.60766267776489
        ],
        [
         "20245",
         "Ashland Ave & 74th St",
         41.759236,
         -87.663474
        ],
        [
         "KA1504000168",
         "Western & 28th - Velasquez Institute Vaccination Site",
         41.84150516666666,
         -87.68516483333332
        ],
        [
         "20107",
         "Walden Pkwy & 100th St",
         41.712164103598035,
         -87.66773343086244
        ],
        [
         "KA1504000086",
         "Kedzie Ave & 24th St",
         41.848191,
         -87.705414
        ],
        [
         "16970",
         "Bennett Ave & 79th St",
         41.751785,
         -87.578496
        ],
        [
         "20228",
         "Constance Ave & 95th St",
         41.722290740952616,
         -87.57896840572357
        ],
        [
         "20123",
         "Western Ave & 104th St",
         41.70458710218908,
         -87.68120348453522
        ],
        [
         "20101",
         "Summit Ave & 86th St",
         41.737848,
         -87.6449
        ],
        [
         "KA1503000011",
         "Halsted St & 56th St",
         41.79292964599001,
         -87.64499005649999
        ],
        [
         "20257.0",
         "N Southport Ave & W Newport Ave",
         41.94,
         -87.66
        ],
        [
         "16937",
         "Ashland Ave & McDowell Ave",
         41.80887,
         -87.66454
        ],
        [
         "586",
         "MLK Jr Dr & 83rd St",
         41.743116,
         -87.6148
        ],
        [
         "559",
         "Racine Ave & Garfield Blvd",
         41.794228000000004,
         -87.655073
        ],
        [
         "20227",
         "Bradley Park",
         41.717878301935,
         -87.56459176540375
        ],
        [
         "20230",
         "Clyde Ave & 87th St",
         41.73715146431056,
         -87.57274031639099
        ],
        [
         "554",
         "Damen Ave & 51st St",
         41.800908,
         -87.674684
        ],
        [
         "16913",
         "Cicero Ave & Quincy St",
         41.877635833333336,
         -87.74542583333331
        ],
        [
         "20205",
         "Western Ave & 111th St",
         41.691210999999996,
         -87.681297
        ],
        [
         "20208",
         "Major Taylor Trail & 124th St",
         41.66869635332246,
         -87.63711333274841
        ],
        [
         "20106",
         "Chicago State University",
         41.71895833333333,
         -87.60837733333334
        ],
        [
         "579",
         "Phillips Ave & 79th St",
         41.75182,
         -87.565211
        ],
        [
         "20233",
         "Halsted St & 78th St",
         41.752487012490135,
         -87.6439021574879
        ],
        [
         "20204",
         "Kedzie Ave & 110th St",
         41.6924015,
         -87.70095783333332
        ],
        [
         "20235",
         "Greenwood Ave & 91st St",
         41.728264268162725,
         -87.59729862213135
        ],
        [
         "540",
         "Laramie Ave & Madison St",
         41.880207,
         -87.755337
        ],
        [
         "20244",
         "Halsted St & 73rd St",
         41.761639833333334,
         -87.64406233333334
        ],
        [
         "16950",
         "Ashland Ave & 66th St",
         41.774074,
         -87.663815
        ],
        [
         "16948",
         "Ashland Ave & 63rd St",
         41.77937533333333,
         -87.6648995
        ],
        [
         "537",
         "Kenton Ave & Madison St",
         41.880708,
         -87.74101800000001
        ],
        [
         "16933",
         "Morgan St & Pershing Rd",
         41.823613,
         -87.650931
        ],
        [
         "16953",
         "Vincennes Ave & 75th St",
         41.75797,
         -87.63121
        ],
        [
         "13213",
         "State St & 29th St",
         41.841707,
         -87.626938
        ],
        [
         "20221",
         "Torrence Ave & 106th St",
         41.7028495,
         -87.55980916666668
        ],
        [
         "567",
         "May St & 69th St",
         41.768938,
         -87.652934
        ],
        [
         "572",
         "State St & 76th St",
         41.756971,
         -87.62462099999999
        ],
        [
         "557",
         "Seeley Ave & Garfield Blvd",
         41.794087,
         -87.675478
        ],
        [
         "574",
         "Vernon Ave & 79th St",
         41.75094,
         -87.61379000000001
        ],
        [
         "587",
         "Wabash Ave & 83rd St",
         41.743316,
         -87.622849
        ],
        [
         "651",
         "Michigan Ave & 71st St",
         41.7652865,
         -87.62173833333334
        ],
        [
         "577",
         "Stony Island Ave & South Chicago Ave",
         41.751173,
         -87.585337
        ],
        [
         "20231",
         "East End Ave & 87th St",
         41.73681521440671,
         -87.58280128240585
        ],
        [
         "20222",
         "Burnham Greenway & 105th St",
         41.704575087207104,
         -87.52823173999786
        ],
        [
         "20232",
         "Big Marsh Park",
         41.68587705562333,
         -87.57382392883301
        ],
        [
         "20256.0",
         "N Sheffield Ave & W Wellington Ave",
         41.94,
         -87.65
        ],
        [
         "20108",
         "Hale Ave & 107th St",
         41.69920616812768,
         -87.66891896724701
        ],
        [
         "647",
         "Elizabeth St & 59th St",
         41.786691,
         -87.65585899999999
        ],
        [
         "20203",
         "Lawndale Ave & 111th St",
         41.691319192210656,
         -87.71288573741913
        ],
        [
         "20242",
         "Houston Ave & 92nd St",
         41.72820421535798,
         -87.54970014095306
        ],
        [
         "15599",
         "Calumet Ave & 71st St",
         41.765508000000004,
         -87.616918
        ],
        [
         "20.0",
         "Damen Ave & Wabansia Ave",
         41.91,
         -87.68
        ],
        [
         "15682",
         "Kedzie Ave & Roosevelt Rd",
         41.86649278172,
         -87.7064961757
        ],
        [
         "16940",
         "Ashland Ave & 50th St",
         41.803022999999996,
         -87.664699
        ],
        [
         "560",
         "Marshfield Ave & 59th St",
         41.786833,
         -87.66621500000001
        ],
        [
         "15686",
         "Kedzie Ave & 21st St",
         41.853496,
         -87.70512516666666
        ],
        [
         "20103",
         "Prospect Sq & 91st St",
         41.727951000000004,
         -87.66761650000001
        ],
        [
         "20124",
         "Vincennes Ave & 104th St",
         41.704926,
         -87.656868
        ],
        [
         "20234",
         "Ashland Ave & 78th St",
         41.75220484941116,
         -87.66369938850403
        ],
        [
         "20112",
         "Indiana Ave & 103rd St",
         41.70717027117757,
         -87.61847198009491
        ],
        [
         "20217",
         "Torrence Ave & 126th Pl",
         41.66631200825726,
         -87.55721569061278
        ],
        [
         "15597",
         "Halsted St & 69th St",
         41.769062,
         -87.644614
        ],
        [
         "571",
         "Vernon Ave & 75th St",
         41.758361,
         -87.614138
        ],
        [
         "561",
         "Damen Ave & 59th St",
         41.78607383333333,
         -87.67414583333333
        ],
        [
         "20248.0",
         "N Hampden Ct & W Diversey Ave",
         41.93,
         -87.64
        ],
        [
         "20207",
         "Major Taylor Trail & 115th St",
         41.684931595192964,
         -87.6452887058258
        ],
        [
         "20105",
         "Halsted St & 96th St",
         41.71971218361881,
         -87.6430195569992
        ],
        [
         "543",
         "Laramie Ave & Gladys Ave",
         41.87584416666667,
         -87.75529666666668
        ],
        [
         "20246.0",
         "N Green St & W Lake St",
         41.89,
         -87.65
        ],
        [
         "20251.0",
         "N Carpenter St & W Lake St",
         41.89,
         -87.65
        ],
        [
         "20211",
         "Eberhart Ave & 131st St",
         41.657953000000006,
         -87.61076433333334
        ],
        [
         "20243",
         "Michigan Ave & 114th St",
         41.68701479467118,
         -87.62105226516724
        ],
        [
         "20213",
         "Commercial Ave & 130th St",
         41.65915,
         -87.550762
        ],
        [
         "KA1503000053",
         "MLK Jr Dr & 63rd St",
         41.78008063659001,
         -87.6159428567
        ],
        [
         "576",
         "Greenwood Ave & 79th St",
         41.751294,
         -87.59755200000001
        ],
        [
         "549",
         "Marshfield Ave & 44th St",
         41.813996,
         -87.666589
        ],
        [
         "16912",
         "Cicero Ave & Flournoy St",
         41.8721235,
         -87.74661933333331
        ],
        [
         "KA1503000028",
         "Jeffery Blvd & 76th St",
         41.75712,
         -87.575839
        ],
        [
         "593",
         "Halsted St & 59th St",
         41.787539,
         -87.644874
        ],
        [
         "575",
         "Cottage Grove Ave & 78th St",
         41.753174,
         -87.605026
        ],
        [
         "580",
         "Exchange Ave & 79th St",
         41.751731,
         -87.552812
        ],
        [
         "16905",
         "Central Ave & Lake St",
         41.88770783333333,
         -87.76542383333332
        ],
        [
         "562",
         "Racine Ave & 61st St",
         41.783189,
         -87.654372
        ],
        [
         "16916",
         "Central Ave & Madison St",
         41.88016233333333,
         -87.76319483333332
        ],
        [
         "20120",
         "Stewart Ave & 83rd St",
         41.74372566666667,
         -87.63409866666667
        ],
        [
         "20236",
         "Stony Island Ave & 90th St",
         41.73139494330236,
         -87.58574366569519
        ],
        [
         "20215",
         "Hegewisch Metra Station",
         41.64850076266409,
         -87.54608988761902
        ],
        [
         "642",
         "Latrobe Ave & Chicago Ave",
         41.89472083333333,
         -87.7568665
        ],
        [
         "16932",
         "Ashland Ave & Pershing Rd",
         41.823465,
         -87.665577
        ],
        [
         "20118",
         "Eggleston Ave & 92nd St",
         41.72755866666667,
         -87.634862
        ],
        [
         "20130",
         "Wentworth Ave & 104th St",
         41.705308,
         -87.62921700000001
        ],
        [
         "16943",
         "Ashland Ave & Garfield Blvd",
         41.792821999999994,
         -87.664429
        ],
        [
         "20125",
         "Halsted St & 104th St",
         41.70517733333333,
         -87.64237916666669
        ],
        [
         "202480.0",
         "Hampden Ct & Diversey Ave",
         41.93,
         -87.64
        ],
        [
         "20225",
         "Commercial Ave & 100th St",
         41.713300333333336,
         -87.55126783333333
        ],
        [
         "588",
         "South Chicago Ave & 83rd St",
         41.743921,
         -87.575225
        ],
        [
         "20201",
         "Kedzie Ave & 104th St",
         41.7,
         -87.7
        ],
        [
         "556",
         "Throop St & 52nd St",
         41.799659000000005,
         -87.657195
        ],
        [
         "18025",
         "Carpenter St & 63rd St",
         41.7798495,
         -87.65079016666668
        ],
        [
         "20226",
         "Oglesby Ave & 100th St",
         41.713397,
         -87.565842
        ],
        [
         "KA1503000001",
         "Shields Ave & 43rd St",
         41.816208,
         -87.634819
        ],
        [
         "20224",
         "Calumet Park",
         41.71369766666667,
         -87.53081833333331
        ],
        [
         "20212",
         "Altgeld Gardens",
         41.657077,
         -87.59887049999999
        ],
        [
         "564",
         "Racine Ave & 65th St",
         41.775393,
         -87.654308
        ],
        [
         "201022",
         "Loomis St & 89th St",
         41.73237975329554,
         -87.65806943178177
        ],
        [
         "665",
         "South Chicago Ave & Elliot Ave",
         41.747363,
         -87.580046
        ],
        [
         "20249.0",
         "N Clark St & W Elm St",
         41.9,
         -87.63
        ],
        [
         "DIVVY 001",
         "WEST CHI-WATSON",
         41.894791999999995,
         -87.730906
        ],
        [
         "20237",
         "Yates Blvd & 93rd St",
         41.726164000000004,
         -87.5663105
        ],
        [
         "20202",
         "W 103rd St & S Avers Ave",
         41.71,
         -87.72
        ],
        [
         "20133",
         "Woodlawn & 103rd - Olive Harvey Vaccination Site",
         41.71,
         -87.59
        ],
        [
         "20134",
         "Maryland Ave & 104th St",
         41.71,
         -87.6
        ],
        [
         "20999",
         "Lyft Driver Center Private Rack",
         41.9,
         -87.66
        ],
        [
         "20126",
         "S Aberdeen St & W 106th St",
         41.7,
         -87.65
        ],
        [
         "322",
         "Cicero Ave & Grace St",
         41.95,
         -87.75
        ],
        [
         "365.0",
         "Kildare Ave & 26th St",
         41.84,
         -87.73
        ],
        [
         "362.0",
         "Lawndale Ave & 16th St",
         41.86,
         -87.72
        ],
        [
         "366.0",
         "Spaulding Ave & 16th St",
         41.86,
         -87.71
        ],
        [
         "364.0",
         "Homan Ave & Fillmore St",
         41.87,
         -87.71
        ],
        [
         "356",
         "Lavergne & Fullerton",
         41.92,
         -87.75
        ],
        [
         "20220",
         "Avenue L & 114th St",
         41.69,
         -87.54
        ],
        [
         "DIVVY CASSETTE REPAIR MOBILE STATION",
         "DIVVY CASSETTE REPAIR MOBILE STATION",
         41.880958,
         -87.616743
        ],
        [
         "358",
         "Kilpatrick Ave & Parker Ave",
         41.93,
         -87.74
        ],
        [
         "329.0",
         "Central Park Ave & Douglas Blvd",
         41.86,
         -87.72
        ],
        [
         "316",
         "Lamon Ave & Belmont Ave",
         41.94,
         -87.75
        ],
        [
         "368.0",
         "Tripp Ave & 31st St",
         41.84,
         -87.73
        ],
        [
         "317",
         "Long Ave & Belmont Ave",
         41.94,
         -87.76
        ],
        [
         "353",
         "Meade Ave & Diversey Ave",
         41.93,
         -87.78
        ],
        [
         "313",
         "Long Ave & Belden Ave",
         41.92,
         -87.76
        ],
        [
         "363.0",
         "Tripp Ave & 15th St",
         41.86,
         -87.73
        ],
        [
         "355",
         "Central Ave & Parker Ave",
         41.93,
         -87.77
        ],
        [
         "334.0",
         "Lawndale Ave & 30th St",
         41.84,
         -87.72
        ],
        [
         "324",
         "Meade Ave & Addison St",
         41.95,
         -87.78
        ],
        [
         "360",
         "Kilbourn & Roscoe",
         41.94,
         -87.74
        ],
        [
         "351",
         "Mulligan Ave & Wellington Ave",
         41.93,
         -87.78
        ],
        [
         "354",
         "Parkside Ave & Armitage Ave",
         41.92,
         -87.77
        ],
        [
         "312",
         "Lockwood Ave & Wrightwood Ave",
         41.93,
         -87.76
        ],
        [
         "327",
         "Plainfield & Irving Park",
         41.95,
         -87.83
        ],
        [
         "397",
         "Narragansett Ave & School St",
         41.94,
         -87.79
        ],
        [
         "396",
         "Central Ave & Roscoe St",
         41.94,
         -87.77
        ],
        [
         "398",
         "Long & Irving Park",
         41.95,
         -87.76
        ],
        [
         "330.0",
         "Keeler Ave & Roosevelt Rd",
         41.87,
         -87.73
        ],
        [
         "335.0",
         "Komensky Ave & 31st St",
         41.84,
         -87.73
        ],
        [
         "321",
         "Kostner Ave & Wrightwood Ave",
         41.93,
         -87.74
        ],
        [
         "473",
         "Mason Ave & Belmont Ave",
         41.94,
         -87.77
        ],
        [
         "310",
         "North Ave & New England Ave",
         41.91,
         -87.8
        ],
        [
         "332.0",
         "Harding Ave & 26th St",
         41.84,
         -87.72
        ],
        [
         "331.0",
         "Pulaski Rd & 21st St",
         41.85,
         -87.72
        ],
        [
         "325",
         "Harlem Ave & Grace St",
         41.95,
         -87.81
        ],
        [
         "393",
         "Oketo Ave & Addison St",
         41.94,
         -87.81
        ],
        [
         "319",
         "Roscoe & Harlem",
         41.94,
         -87.81
        ],
        [
         "357",
         "Lamon Ave & Armitage Ave",
         41.92,
         -87.75
        ],
        [
         "352",
         "Sayre & Diversey",
         41.93,
         -87.8
        ],
        [
         "359",
         "Kilbourn & Belden",
         41.92,
         -87.74
        ],
        [
         "320",
         "Orange & Addison",
         41.94,
         -87.82
        ],
        [
         "326",
         "Harlem & Irving Park",
         41.95,
         -87.81
        ],
        [
         "305",
         "Menard Ave & Division St",
         41.9,
         -87.77
        ],
        [
         "384",
         "Kedzie Ave & 52nd St",
         41.8,
         -87.7
        ],
        [
         "394",
         "Panama Ave & Grace St",
         41.95,
         -87.83
        ],
        [
         "308",
         "Major Ave & Bloomingdale Ave",
         41.91,
         -87.77
        ],
        [
         "378",
         "Nordica & Medill",
         41.92,
         -87.8
        ],
        [
         "323",
         "Narragansett & Irving Park",
         41.95,
         -87.79
        ],
        [
         "348",
         "Western Ave & 62nd St",
         41.78,
         -87.68
        ],
        [
         "20114",
         "Doty Ave & 111th St",
         41.6950195,
         -87.59875433333332
        ],
        [
         "314",
         "Narragansett & Wrightwood",
         41.93,
         -87.79
        ],
        [
         "361",
         "Kenosha & Wellington",
         41.93,
         -87.73
        ],
        [
         "341",
         "Archer Ave & 43rd St",
         41.82,
         -87.7
        ],
        [
         "318",
         "Oak Park & Wellington",
         41.93,
         -87.8
        ],
        [
         "309",
         "Narragansett & McLean",
         41.92,
         -87.79
        ],
        [
         "301",
         "Monticello Ave & Chicago Ave",
         41.9,
         -87.72
        ],
        [
         "388",
         "Richmond St & 59th St",
         41.79,
         -87.7
        ],
        [
         "302",
         "Lamon Ave & Chicago Ave",
         41.9,
         -87.75
        ],
        [
         "377",
         "Bloomingdale Ave & Harlem Ave",
         41.91,
         -87.81
        ],
        [
         "337",
         "Hoyne Ave & 34th St",
         41.83,
         -87.68
        ],
        [
         "375",
         "Long Ave & North Ave",
         41.91,
         -87.76
        ],
        [
         "304",
         "Lavergne Ave & Division St",
         41.9,
         -87.75
        ],
        [
         "385",
         "St Louis Ave & Norman Bobbins Ave",
         41.79,
         -87.71
        ],
        [
         "371",
         "Kildare Ave & Chicago Ave",
         41.9,
         -87.73
        ],
        [
         "382",
         "Kedzie Ave & 48th Pl",
         41.8,
         -87.7
        ],
        [
         "389",
         "Maplewood Ave & 59th St",
         41.79,
         -87.69
        ],
        [
         "303",
         "Kildare Ave & Division St",
         41.9,
         -87.73
        ],
        [
         "20260.0",
         "Ping Tom Park (East)",
         41.86,
         -87.63
        ],
        [
         "379",
         "Rockwell St & Archer Ave",
         41.82,
         -87.69
        ],
        [
         "339",
         "Sacramento Ave & Pershing Rd",
         41.82,
         -87.7
        ],
        [
         "338",
         "California Ave & 36th St",
         41.83,
         -87.69
        ],
        [
         "307",
         "Leamington Ave & Hirsch St",
         41.91,
         -87.75
        ],
        [
         "445",
         "Western Ave & Gunnison St",
         41.97,
         -87.69
        ],
        [
         "386",
         "Rockwell St & 57th St",
         41.79,
         -87.69
        ],
        [
         "471",
         "Damen Ave & 33rd St",
         41.83,
         -87.68
        ],
        [
         "403",
         "Kildare Ave & 55th St",
         41.79,
         -87.73
        ],
        [
         "20255.0",
         "N Damen Ave & W Chicago Ave",
         41.9,
         -87.68
        ],
        [
         "406",
         "Kostner Ave & 63rd St",
         41.78,
         -87.73
        ],
        [
         "344",
         "Springfield Ave & 47th St",
         41.81,
         -87.72
        ],
        [
         "343",
         "Pulaski Rd & 51st St",
         41.8,
         -87.72
        ],
        [
         "399",
         "Lavergne Ave & 46th St",
         41.81,
         -87.75
        ],
        [
         "380",
         "Fairfield Ave & 44th St",
         41.81,
         -87.69
        ],
        [
         "407",
         "Tripp Ave & 65th St",
         41.77,
         -87.73
        ],
        [
         "20209",
         "S Michigan Ave & E 118th St",
         41.68,
         -87.62
        ],
        [
         "430",
         "Troy St & Grace St",
         41.95,
         -87.71
        ],
        [
         "404",
         "Pulaski Rd & 60th St",
         41.78,
         -87.72
        ],
        [
         "347",
         "Komensky Ave & 55th St",
         41.79,
         -87.72
        ],
        [
         "346",
         "Kedzie Ave & 57th St",
         41.79,
         -87.7
        ],
        [
         "370",
         "Central Park & Augusta Blvd",
         41.9,
         -87.72
        ],
        [
         "400",
         "Lawler Ave & 50th St",
         41.8,
         -87.75
        ],
        [
         "369",
         "Central Park Ave & Ohio St",
         41.89,
         -87.72
        ],
        [
         "434",
         "Albany Ave & Belmont Ave",
         41.94,
         -87.71
        ],
        [
         "428",
         "Milwaukee Ave & Fullerton Ave",
         41.92,
         -87.7
        ],
        [
         "349",
         "Spaulding Ave & 63rd St",
         41.78,
         -87.71
        ],
        [
         "345",
         "Artesian Ave & 55th St",
         41.79,
         -87.69
        ],
        [
         "340",
         "Pulaski & Ann Lurie Pl",
         41.82,
         -87.72
        ],
        [
         "20240",
         "Indiana Ave & 133rd St",
         41.65,
         -87.62
        ],
        [
         "442",
         "Lincoln Ave & Balmoral Ave",
         41.98,
         -87.69
        ],
        [
         "402",
         "Kenneth Ave & 50th St",
         41.8,
         -87.73
        ],
        [
         "20128",
         "S Wentworth Ave & W 111th St",
         41.69,
         -87.63
        ],
        [
         "374",
         "Kilpatrick Ave & Grand Ave",
         41.91,
         -87.74
        ],
        [
         "443",
         "California Ave & Winona St",
         41.97,
         -87.7
        ],
        [
         "475",
         "Whipple/Irving Park",
         41.95,
         -87.7
        ],
        [
         "431",
         "Western Ave & Grace St",
         41.95,
         -87.69
        ],
        [
         "435",
         "Rockwell St & Fletcher St",
         41.94,
         -87.69
        ],
        [
         "458",
         "Washtenaw Ave & Peterson Ave",
         41.99,
         -87.7
        ],
        [
         "472",
         "Elston Ave & George St",
         41.93,
         -87.69
        ],
        [
         "462",
         "Lincoln Ave & Peterson Ave",
         41.99,
         -87.71
        ],
        [
         "429",
         "Francisco Ave & Bloomingdale Ave",
         41.91,
         -87.7
        ],
        [
         "444",
         "N Shore Channel Trail & Argyle Ave",
         41.97,
         -87.7
        ],
        [
         "436",
         "Kedzie Ave & George St",
         41.93,
         -87.71
        ],
        [
         "401",
         "Kildare Ave & 47th St",
         41.81,
         -87.73
        ],
        [
         "373",
         "Augusta Blvd & Laramie Ave",
         41.9,
         -87.76
        ],
        [
         "387",
         "St Louis Ave & 59th St",
         41.79,
         -87.71
        ],
        [
         "425",
         "Rockwell St & Cermak Rd",
         41.85,
         -87.69
        ],
        [
         "446",
         "Francisco Ave & Montrose Ave",
         41.96,
         -87.7
        ],
        [
         "441",
         "Virginia Ave & Catalpa Ave",
         41.98,
         -87.7
        ],
        [
         "390",
         "California Ave & Marquette Rd",
         41.77,
         -87.69
        ],
        [
         "452",
         "Richmond St & Lincoln Ave",
         41.99,
         -87.7
        ],
        [
         "419",
         "Sacramento Blvd & Polk St",
         41.87,
         -87.7
        ],
        [
         "350",
         "Hamlin Ave & 62nd Pl",
         41.78,
         -87.72
        ],
        [
         "433",
         "Elston Ave & Henderson St",
         41.94,
         -87.7
        ],
        [
         "Throop/Hastings Mobile Station",
         "Throop/Hastings Mobile Station",
         41.851560473,
         -87.659110785
        ],
        [
         "376",
         "Menard Ave & North Ave",
         41.91,
         -87.77
        ],
        [
         "424",
         "Sacramento Ave & 25th St",
         41.85,
         -87.7
        ],
        [
         "464",
         "Western Ave & Ardmore Ave",
         41.99,
         -87.69
        ],
        [
         "432",
         "Sacramento Blvd & Addison St",
         41.95,
         -87.7
        ],
        [
         "20102",
         "Loomis St & 89th St",
         41.73247816666667,
         -87.6580595
        ],
        [
         "460",
         "Francisco Ave & Hollywood Ave",
         41.98,
         -87.7
        ],
        [
         "466",
         "California Ave & 29th St",
         41.84,
         -87.69
        ],
        [
         "21544",
         "State St & Chicago Ave",
         41.896932,
         -87.62876016666668
        ],
        [
         "418",
         "Mozart St & Jackson Blvd",
         41.88,
         -87.7
        ],
        [
         "415",
         "Western Ave & Lake St",
         41.88,
         -87.69
        ],
        [
         "416",
         "Washtenaw Ave & Madison St",
         41.88,
         -87.69
        ],
        [
         "381",
         "Francisco Ave & 47th St",
         41.81,
         -87.7
        ],
        [
         "414",
         "Sacramento Blvd & Fulton Ave",
         41.89,
         -87.7
        ],
        [
         "20111",
         "Olive Harvey College",
         41.709526000000004,
         -87.590236
        ],
        [
         "383",
         "Campbell Ave & 51st St",
         41.8,
         -87.69
        ],
        [
         "342",
         "Kedzie Ave & 45th St",
         41.81,
         -87.7
        ],
        [
         "Pawel Bialowas - Test- PBSC charging station",
         "Pawel Bialowas - Test- PBSC charging station",
         45.635034323,
         -73.79647696
        ],
        [
         "Hastings WH 2",
         "Hastings WH 2",
         41.863533139,
         -87.679664254
        ],
        [
         "420",
         "Washtenaw Ave & Polk St",
         41.87,
         -87.69
        ],
        [
         "474",
         "Fullerton & Monitor",
         41.92,
         -87.77
        ],
        [
         "Lincoln Ave & Roscoe St - Charging",
         "Lincoln Ave & Roscoe St - Charging",
         41.943063378000005,
         -87.670833826
        ],
        [
         "427",
         "Whipple St & Roosevelt Rd",
         41.87,
         -87.7
        ],
        [
         "20258.0",
         "N Damen Ave & W Wabansia St",
         41.91,
         -87.68
        ],
        [
         "437",
         "Whipple St & Irving Park Rd",
         41.95,
         -87.7
        ],
        [
         "525",
         "Glenwood Ave & Touhy Ave",
         42.012701,
         -87.66605799999999
        ],
        [
         "KA1503000012",
         "Clark St & Lake St",
         41.88579466666667,
         -87.63110066666668
        ],
        [
         "637",
         "Wood St & Chicago Ave",
         41.895634,
         -87.672069
        ],
        [
         "13216",
         "State St & 33rd St",
         41.8347335,
         -87.6258275
        ],
        [
         "18003",
         "Fairbanks St & Superior St",
         41.89580766666667,
         -87.62025316666669
        ],
        [
         "KP1705001026",
         "LaSalle Dr & Huron St",
         41.894877,
         -87.632326
        ],
        [
         "13253",
         "Lincoln Ave & Waveland Ave",
         41.948797,
         -87.675278
        ],
        [
         "KA1503000044",
         "Rush St & Hubbard St",
         41.890173,
         -87.62618499999999
        ],
        [
         "KA1504000140",
         "Winchester Ave & Elston Ave",
         41.92403733333333,
         -87.67641483333334
        ],
        [
         "TA1305000032",
         "Clinton St & Madison St",
         41.882242,
         -87.64106600000001
        ],
        [
         "TA1306000012",
         "Wells St & Huron St",
         41.89475366666667,
         -87.63440200000001
        ],
        [
         "13133",
         "Damen Ave & Cortland St",
         41.915983000000004,
         -87.677335
        ],
        [
         "SL-005",
         "Indiana Ave & Roosevelt Rd",
         41.867888,
         -87.623041
        ],
        [
         "13235",
         "Southport Ave & Waveland Ave",
         41.94815,
         -87.66394
        ],
        [
         "TA1307000139",
         "MLK Jr Dr & 29th St",
         41.842052,
         -87.617
        ],
        [
         "TA1305000009",
         "Clark St & Ida B Wells Dr",
         41.8759326655,
         -87.63058453549999
        ],
        [
         "13276",
         "Stockton Dr & Wrightwood Ave",
         41.9313455,
         -87.63869133333333
        ],
        [
         "TA1307000107",
         "Sheridan Rd & Montrose Ave",
         41.96167,
         -87.65464
        ],
        [
         "13193",
         "Larrabee St & Webster Ave",
         41.921822,
         -87.64414000000001
        ],
        [
         "KA1503000072",
         "Wacker Dr & Washington St",
         41.883132,
         -87.637321
        ],
        [
         "TA1307000166",
         "Halsted St & Willow St",
         41.913865,
         -87.64875500000001
        ],
        [
         "13285",
         "Wood St & Taylor St (Temp)",
         41.86926521843819,
         -87.67373085021973
        ],
        [
         "TA1306000016",
         "Sheffield Ave & Fullerton Ave",
         41.92552516666667,
         -87.65368583333333
        ],
        [
         "13303",
         "Clark St & Chicago Ave",
         41.89675,
         -87.63089000000001
        ],
        [
         "15575",
         "Broadway & Thorndale Ave",
         41.98974251144,
         -87.6601406209
        ],
        [
         "623",
         "Michigan Ave & 8th St",
         41.872287666666665,
         -87.6239145
        ],
        [
         "TA1309000050",
         "Lincoln Ave & Addison St",
         41.946176,
         -87.67330799999999
        ],
        [
         "15445",
         "Wentworth Ave & 33rd St",
         41.83452988563,
         -87.63182298139999
        ],
        [
         "13164",
         "Racine Ave & 18th St",
         41.858166,
         -87.65649499999999
        ],
        [
         "TA1307000151",
         "Wells St & Hubbard St",
         41.889905999999996,
         -87.634266
        ],
        [
         "13158",
         "Peoria St & Jackson Blvd",
         41.877641596275296,
         -87.64961779117584
        ],
        [
         "13150",
         "Michigan Ave & 18th St",
         41.857813,
         -87.62455
        ],
        [
         "TA1308000036",
         "Indiana Ave & 31st St",
         41.83884433333333,
         -87.62183783333332
        ],
        [
         "TA1308000013",
         "Halsted St & Archer Ave",
         41.847203,
         -87.646795
        ],
        [
         "TA1306000013",
         "New St & Illinois St",
         41.89084704062381,
         -87.6186168193817
        ],
        [
         "13061",
         "Ashland Ave & Division St",
         41.90345,
         -87.66774699999999
        ],
        [
         "TA1307000048",
         "Fort Dearborn Dr & 31st St",
         41.838556,
         -87.60821800000001
        ],
        [
         "TA1308000045",
         "Wallace St & 35th St",
         41.830628999999995,
         -87.64129
        ],
        [
         "13206",
         "Loomis St & Jackson Blvd",
         41.877945000000004,
         -87.66200699999999
        ],
        [
         "13156",
         "Aberdeen St & Monroe St",
         41.880419,
         -87.655519
        ],
        [
         "TA1306000015",
         "Morgan St & Lake St",
         41.8854833079,
         -87.6523048564
        ],
        [
         "13058",
         "Dayton St & North Ave",
         41.9105780349,
         -87.6494219288
        ],
        [
         "TA1309000008",
         "Franklin St & Adams St (Temp)",
         41.879434091400135,
         -87.63550400733948
        ],
        [
         "KA1504000135",
         "Wells St & Elm St",
         41.90320733333333,
         -87.63461616666666
        ],
        [
         "KA1503000064",
         "Dusable Harbor",
         41.886976000000004,
         -87.612813
        ],
        [
         "TA1305000022",
         "Orleans St & Merchandise Mart Plaza",
         41.888243,
         -87.63639
        ],
        [
         "KA1504000079",
         "Larrabee St & Division St",
         41.90348607004,
         -87.6433534936
        ],
        [
         "KA1503000022",
         "Clark St & Montrose Ave",
         41.961588,
         -87.666036
        ],
        [
         "13109",
         "Broadway & Berwyn Ave",
         41.978353000000006,
         -87.65975300000001
        ],
        [
         "15530",
         "Rush St & Superior St",
         41.89576474564,
         -87.62590803270001
        ],
        [
         "TA1306000010",
         "Daley Center Plaza",
         41.884240999999996,
         -87.629634
        ],
        [
         "13146",
         "Clark St & Armitage Ave",
         41.918306,
         -87.636282
        ],
        [
         "15578",
         "Broadway & Ridge Ave",
         41.9840446107,
         -87.66027382950001
        ],
        [
         "KA1503000034",
         "LaSalle St & Adams St",
         41.87934437346,
         -87.63198522129998
        ],
        [
         "KA1503000059",
         "Lake Park Ave & 53rd St",
         41.79949429373,
         -87.5864498959
        ],
        [
         "TA1305000011",
         "Michigan Ave & Lake St",
         41.886024,
         -87.624117
        ],
        [
         "TA1307000061",
         "State St & Pearson St",
         41.897448,
         -87.628722
        ],
        [
         "SL-011",
         "Wells St & Polk St",
         41.872596,
         -87.63350200000001
        ],
        [
         "TA1309000010",
         "Wabash Ave & 9th St",
         41.8702615,
         -87.62538516666666
        ],
        [
         "15534",
         "Field Blvd & South Water St",
         41.88634906269,
         -87.6175165471
        ],
        [
         "TA1307000119",
         "Clarendon Ave & Leland Ave",
         41.967968,
         -87.650001
        ],
        [
         "TA1305000029",
         "State St & Randolph St",
         41.884730200599996,
         -87.6277335692
        ],
        [
         "TA1309000063",
         "Lake Park Ave & 56th St",
         41.793242,
         -87.58778199999999
        ],
        [
         "KA1504000133",
         "Rush St & Cedar St",
         41.90230870122,
         -87.62769052799999
        ],
        [
         "624",
         "Dearborn St & Van Buren St",
         41.87619516666667,
         -87.62913033333334
        ],
        [
         "KA1503000029",
         "South Shore Dr & 67th St",
         41.773643,
         -87.567514
        ],
        [
         "13323",
         "Broadway & Sheridan Rd",
         41.952833,
         -87.64999300000001
        ],
        [
         "KA1504000149",
         "Damen Ave & Foster Ave",
         41.97561480459,
         -87.6794590387
        ],
        [
         "TA1309000004",
         "LaSalle St & Jackson Blvd",
         41.878166,
         -87.631929
        ],
        [
         "18058",
         "Leavitt St & Chicago Ave",
         41.895437,
         -87.68198466666666
        ],
        [
         "WL-008",
         "Clinton St & Roosevelt Rd",
         41.867053166666665,
         -87.64109383333331
        ],
        [
         "13221",
         "Wood St & Milwaukee Ave",
         41.907655,
         -87.672552
        ],
        [
         "523",
         "Eastlake Ter & Rogers Ave",
         42.020887280520604,
         -87.66505792737007
        ],
        [
         "TA1309000025",
         "Halsted St & Roscoe St",
         41.943670000000004,
         -87.64895
        ],
        [
         "13288",
         "Damen Ave & Charleston St",
         41.9200765,
         -87.67794466666666
        ],
        [
         "658",
         "Leavitt St & Division St",
         41.902997,
         -87.683825
        ],
        [
         "TA1307000070",
         "Damen Ave & Thomas St (Augusta Blvd)",
         41.901315000000004,
         -87.677409
        ],
        [
         "TA1305000041",
         "Damen Ave & Pierce Ave",
         41.9093960065,
         -87.6776919292
        ],
        [
         "13268",
         "Damen Ave & Wellington Ave",
         41.935837,
         -87.67849433333332
        ],
        [
         "15667",
         "Western Ave & Monroe St",
         41.8797877089,
         -87.68611280799999
        ],
        [
         "13084",
         "California Ave & Milwaukee Ave",
         41.922695000000004,
         -87.697153
        ],
        [
         "15655",
         "Albany Ave & Bloomingdale Ave",
         41.91393833333333,
         -87.70515433333334
        ],
        [
         "17660",
         "California Ave & Cortez St",
         41.900363,
         -87.696704
        ],
        [
         "15651",
         "Humboldt Blvd & Armitage Ave",
         41.91751339399,
         -87.7018089555
        ],
        [
         "KA1504000146",
         "Clark St & Berwyn Ave",
         41.9779966544,
         -87.6680471047
        ],
        [
         "KA1504000151",
         "Clark St & Bryn Mawr Ave",
         41.983593,
         -87.669154
        ],
        [
         "KA1503000041",
         "McClurg Ct & Erie St",
         41.894503,
         -87.61785400000001
        ],
        [
         "TA1308000046",
         "Morgan St & 31st St",
         41.83783666666667,
         -87.65113033333333
        ],
        [
         "13266",
         "Stave St & Armitage Ave",
         41.917741,
         -87.69139200000001
        ],
        [
         "TA1307000124",
         "Michigan Ave & 14th St",
         41.864059000000005,
         -87.623727
        ],
        [
         "13196",
         "Carpenter St & Huron St",
         41.894515166666665,
         -87.65350183333334
        ],
        [
         "TA1306000029",
         "Lake Shore Dr & Ohio St",
         41.89257,
         -87.614492
        ],
        [
         "TA1307000052",
         "Sheffield Ave & Wellington Ave",
         41.936265999999996,
         -87.652662
        ],
        [
         "13021",
         "Clinton St & Lake St",
         41.885637,
         -87.641823
        ],
        [
         "TA1305000002",
         "Wabash Ave & Roosevelt Rd",
         41.867227,
         -87.625961
        ],
        [
         "KA1504000116",
         "Larrabee St & Oak St",
         41.90021949323,
         -87.6429854676
        ],
        [
         "TA1305000025",
         "Franklin St & Jackson Blvd",
         41.87801183333333,
         -87.6355415
        ],
        [
         "TA1305000034",
         "Honore St & Division St",
         41.903119000000004,
         -87.673935
        ],
        [
         "15644",
         "Central Park Ave & Elbridge Ave",
         41.93533728263,
         -87.7168892935
        ],
        [
         "TA1309000030",
         "Southport Ave & Clybourn Ave",
         41.920771,
         -87.663712
        ],
        [
         "13432",
         "Wood St & Hubbard St",
         41.889899,
         -87.67147299999999
        ],
        [
         "TA1308000049",
         "Wells St & Evergreen Ave",
         41.906698,
         -87.63511366666668
        ],
        [
         "KA1504000117",
         "Halsted St & North Branch St",
         41.899368439209994,
         -87.64847987520001
        ],
        [
         "RP-007",
         "Clark St & Touhy Ave",
         42.01256011541,
         -87.6743671152
        ],
        [
         "15529",
         "Mies van der Rohe Way & Chestnut St",
         41.898586651399995,
         -87.6219152258
        ],
        [
         "SL-008",
         "Federal St & Polk St",
         41.87207763285,
         -87.6295437729
        ],
        [
         "TA1307000005",
         "Indiana Ave & 26th St",
         41.845687,
         -87.62248100000001
        ],
        [
         "13068",
         "Western Ave & Winnebago Ave",
         41.915541,
         -87.68713016666666
        ],
        [
         "TA1307000039",
         "Clark St & Elm St",
         41.902972999999996,
         -87.63128
        ],
        [
         "13045",
         "Dearborn St & Erie St",
         41.893992,
         -87.62931800000001
        ],
        [
         "SL-012",
         "Wabash Ave & 16th St",
         41.860384,
         -87.625813
        ],
        [
         "TA1307000117",
         "Wabash Ave & Grand Ave",
         41.891465999999994,
         -87.626761
        ],
        [
         "15654",
         "Spaulding Ave & Division St",
         41.90270659438,
         -87.709219571
        ],
        [
         "13263",
         "Columbus Dr & Randolph St",
         41.884728,
         -87.61952099999999
        ],
        [
         "13247",
         "Ashland Ave & Chicago Ave",
         41.895965999999994,
         -87.66774699999999
        ],
        [
         "13132",
         "Damen Ave & Chicago Ave",
         41.895666833333344,
         -87.67708133333332
        ],
        [
         "TA1308000006",
         "Damen Ave & Grand Ave",
         41.891264346481535,
         -87.676842212677
        ],
        [
         "KA1503000069",
         "Dorchester Ave & 49th St",
         41.805830666666665,
         -87.592499
        ],
        [
         "15623",
         "Campbell Ave & Montrose Ave",
         41.96153733333333,
         -87.6911475
        ],
        [
         "13006",
         "LaSalle St & Washington St",
         41.882664,
         -87.63253
        ],
        [
         "15550",
         "Canal St & Taylor St",
         41.870257,
         -87.63947399999999
        ],
        [
         "13016",
         "St. Clair St & Erie St",
         41.89434513742426,
         -87.62279838323593
        ],
        [
         "TA1308000021",
         "Winthrop Ave & Lawrence Ave",
         41.968812,
         -87.657659
        ],
        [
         "LF-005",
         "Lake Shore Dr & North Blvd",
         41.911722,
         -87.626804
        ],
        [
         "TA1309000002",
         "Michigan Ave & Jackson Blvd",
         41.87785,
         -87.62408
        ],
        [
         "TA1305000037",
         "Paulina Ave & North Ave",
         41.910337,
         -87.67007199999999
        ],
        [
         "15541",
         "Buckingham Fountain",
         41.87651122881695,
         -87.62054800987242
        ],
        [
         "13022",
         "Streeter Dr & Grand Ave",
         41.892278000000005,
         -87.612043
        ],
        [
         "KA1706005007",
         "Delano Ct & Roosevelt Rd",
         41.867490999999994,
         -87.63219000000001
        ],
        [
         "TA1308000001",
         "Theater on the Lake",
         41.926277,
         -87.630834
        ],
        [
         "13294",
         "Greenview Ave & Diversey Pkwy",
         41.932573,
         -87.6659865
        ],
        [
         "15542",
         "Clinton St & Polk St",
         41.871466517790005,
         -87.6409491327
        ],
        [
         "13245",
         "Claremont Ave & Hirsch St",
         41.907781,
         -87.685854
        ],
        [
         "13001",
         "Michigan Ave & Washington St",
         41.8839840647265,
         -87.6246839761734
        ],
        [
         "TA1309000042",
         "Lincoln Ave & Belmont Ave",
         41.939408666666665,
         -87.6683635
        ],
        [
         "13033",
         "Milwaukee Ave & Grand Ave",
         41.891578,
         -87.648384
        ],
        [
         "TA1309000024",
         "Clark St & Schiller St",
         41.90810066666667,
         -87.63155916666666
        ],
        [
         "13265",
         "Kingsbury St & Erie St",
         41.89380805624359,
         -87.64169722795485
        ],
        [
         "13071",
         "Southport Ave & Roscoe St",
         41.943739,
         -87.66402
        ],
        [
         "13085",
         "Kedzie Ave & Milwaukee Ave",
         41.92960383333333,
         -87.70789566666667
        ],
        [
         "KA1504000090",
         "St. Louis Ave & Fullerton Ave",
         41.92481559681187,
         -87.71449506282805
        ],
        [
         "535",
         "Pulaski Rd & Congress Pkwy",
         41.874325,
         -87.72570400000001
        ],
        [
         "13277",
         "Broadway & Belmont Ave",
         41.940106,
         -87.645451
        ],
        [
         "KA1504000152",
         "Lakefront Trail & Bryn Mawr Ave",
         41.98403669612,
         -87.6523104689
        ],
        [
         "TA1309000058",
         "Lincoln Ave & Fullerton Ave",
         41.92593,
         -87.64926666666666
        ],
        [
         "16994",
         "Kilbourn Ave & Milwaukee Ave",
         41.948803000000005,
         -87.73998116666668
        ],
        [
         "13278",
         "Broadway & Cornelia Ave",
         41.945529,
         -87.646439
        ],
        [
         "E002",
         "Chicago Ave & Washington St",
         42.032562,
         -87.679101
        ],
        [
         "KA1504000080",
         "Washtenaw Ave & Lawrence Ave",
         41.96867133333333,
         -87.6961615
        ],
        [
         "TA1308000022",
         "Pine Grove Ave & Irving Park Rd",
         41.954316166666665,
         -87.64809816666668
        ],
        [
         "TA1309000027",
         "Sheridan Rd & Buena Ave",
         41.958494,
         -87.654966
        ],
        [
         "KA1504000155",
         "2112 W Peterson Ave",
         41.991178000000005,
         -87.683593
        ],
        [
         "TA1305000014",
         "Clark St & Wrightwood Ave",
         41.929571,
         -87.64309033333332
        ],
        [
         "TA1308000031",
         "Logan Blvd & Elston Ave",
         41.929404999999996,
         -87.68418683333331
        ],
        [
         "KA1504000164",
         "Keystone Ave & Montrose Ave",
         41.96110801623,
         -87.7289701012
        ],
        [
         "15640",
         "Avers Ave & Belmont Ave",
         41.939408,
         -87.723574
        ],
        [
         "620",
         "Orleans St & Chestnut St (NEXT Apts)",
         41.898203,
         -87.637536
        ],
        [
         "TA1309000061",
         "Halsted St & Wrightwood Ave",
         41.929142999999996,
         -87.649077
        ],
        [
         "TA1308000050",
         "Wells St & Concord Ln",
         41.912133000000004,
         -87.634656
        ],
        [
         "13379",
         "Clarendon Ave & Gordon Ter",
         41.95786233333333,
         -87.649478
        ],
        [
         "13389",
         "Clarendon Ave & Junior Ter",
         41.961003999999996,
         -87.649603
        ],
        [
         "KA1504000161",
         "St. Louis Ave & Balmoral Ave",
         41.98039423475,
         -87.7161149615
        ],
        [
         "TA1307000149",
         "Ravenswood Ave & Irving Park Rd",
         41.95469,
         -87.67393
        ],
        [
         "13224",
         "Ashland Ave & Blackhawk St",
         41.907066,
         -87.667252
        ],
        [
         "TA1306000009",
         "Larrabee St & Kingsbury St",
         41.897764,
         -87.642884
        ],
        [
         "605",
         "University Library (NU)",
         42.052939,
         -87.673447
        ],
        [
         "KA1504000134",
         "Ritchie Ct & Banks St",
         41.90704933333333,
         -87.62598233333334
        ],
        [
         "KA1503000007",
         "Cornell Ave & Hyde Park Blvd",
         41.802406,
         -87.586924
        ],
        [
         "520",
         "Greenview Ave & Jarvis Ave",
         42.015962,
         -87.66856999999999
        ],
        [
         "13144",
         "Seeley Ave & Roscoe St",
         41.943403,
         -87.679618
        ],
        [
         "517",
         "Clark St & Jarvis Ave",
         42.0159715,
         -87.67504016666666
        ],
        [
         "638",
         "Clinton St & Jackson Blvd",
         41.878063833333336,
         -87.64004366666668
        ],
        [
         "KA1503000070",
         "Harper Ave & 59th St",
         41.78794281287,
         -87.5883151702
        ],
        [
         "13197",
         "Elizabeth (May) St & Fulton St",
         41.886616486027656,
         -87.65803992748259
        ],
        [
         "13191",
         "Sedgwick St & Webster Ave",
         41.922167,
         -87.638888
        ],
        [
         "KA1504000175",
         "Glenwood Ave & Morse Ave",
         42.00797192287,
         -87.66550239440001
        ],
        [
         "13008",
         "Millennium Park",
         41.8810317,
         -87.62408432
        ],
        [
         "TA1307000006",
         "Southport Ave & Wellington Ave",
         41.935733,
         -87.663576
        ],
        [
         "13338",
         "Mies van der Rohe Way & Chicago Ave",
         41.89691,
         -87.62174300000001
        ],
        [
         "13011",
         "Canal St & Adams St",
         41.879255,
         -87.639904
        ],
        [
         "KA1504000159",
         "Sheridan Rd & Greenleaf Ave",
         42.010586562840004,
         -87.66241209479999
        ],
        [
         "13292",
         "Kedzie Ave & Palmer Ct",
         41.921525,
         -87.70732199999999
        ],
        [
         "RN-",
         "Franklin St & Illinois St",
         41.89102331025185,
         -87.63547986745834
        ],
        [
         "13256",
         "California Ave & Division St",
         41.903029,
         -87.697474
        ],
        [
         "TA1308000029",
         "Stetson Ave & South Water St",
         41.886835,
         -87.62232
        ],
        [
         "15491",
         "63rd St Beach",
         41.78101637195999,
         -87.5761197602
        ],
        [
         "TA1309000021",
         "Paulina St & Montrose Ave",
         41.961507,
         -87.671387
        ],
        [
         "13354",
         "Ashland Ave & 13th St",
         41.865234,
         -87.666507
        ],
        [
         "TA1307000159",
         "Paulina St & 18th St",
         41.857901,
         -87.668745
        ],
        [
         "TA1309000037",
         "Kimbark Ave & 53rd St",
         41.799568,
         -87.594747
        ],
        [
         "KA1504000158",
         "Oakley Ave & Irving Park Rd",
         41.95434085219,
         -87.6860796243
        ],
        [
         "13332",
         "Loomis St & Lexington St",
         41.872187,
         -87.661501
        ],
        [
         "TA1308000005",
         "Leavitt St & North Ave",
         41.910140000000006,
         -87.68235233333333
        ],
        [
         "TA1307000138",
         "Lincoln Ave & Roscoe St",
         41.94334,
         -87.67097
        ],
        [
         "KA1503000040",
         "Loomis St & Archer Ave",
         41.84163253965,
         -87.6574349533
        ],
        [
         "TA1307000134",
         "Wilton Ave & Belmont Ave",
         41.94018,
         -87.65304
        ],
        [
         "13136",
         "Damen Ave & Division St",
         41.903265999999995,
         -87.678435
        ],
        [
         "TA1308000035",
         "Lake Park Ave & 47th St",
         41.809443,
         -87.591875
        ],
        [
         "TA1309000029",
         "Leavitt St & Armitage Ave",
         41.917805,
         -87.682437
        ],
        [
         "13154",
         "Sheffield Ave & Kingsbury St",
         41.910522,
         -87.65310600000001
        ],
        [
         "13135",
         "Blue Island Ave & 18th St",
         41.857556,
         -87.661535
        ],
        [
         "13096",
         "California Ave & 21st St",
         41.853804,
         -87.69574200000001
        ],
        [
         "TA1309000012",
         "Damen Ave & Sunnyside Ave",
         41.96325,
         -87.67925799999999
        ],
        [
         "13304",
         "Racine Ave & 15th St",
         41.861267,
         -87.656625
        ],
        [
         "KA1504000076",
         "Ellis Ave & 55th St",
         41.79430062054001,
         -87.6014497734
        ],
        [
         "SL-007",
         "State St & Harrison St",
         41.874053,
         -87.627716
        ],
        [
         "657",
         "Wood St & Augusta Blvd",
         41.899181,
         -87.6722
        ],
        [
         "TA1309000018",
         "Ravenswood Ave & Berteau Ave",
         41.957921,
         -87.673567
        ],
        [
         "13029",
         "Field Museum",
         41.865312,
         -87.617867
        ],
        [
         "TA1306000002",
         "Morgan Ave & 14th Pl",
         41.862378,
         -87.651062
        ],
        [
         "TA1309000035",
         "Clark St & Winnemac Ave",
         41.97338333333333,
         -87.66773616666669
        ],
        [
         "13307",
         "Laflin St & Cullerton St",
         41.85491457576575,
         -87.66355991363525
        ],
        [
         "643",
         "Smith Park",
         41.891996166666665,
         -87.68938299999999
        ],
        [
         "13325",
         "Broadway & Waveland Ave",
         41.949073999999996,
         -87.648636
        ],
        [
         "TA1305000039",
         "Marshfield Ave & Cortland St",
         41.91604933333333,
         -87.6689225
        ],
        [
         "TA1307000144",
         "Wolcott (Ravenswood) Ave & Montrose Ave",
         41.96144316666667,
         -87.67620366666668
        ],
        [
         "18062",
         "Aberdeen St & Randolph St",
         41.884114000000004,
         -87.654264
        ],
        [
         "13073",
         "Ashland Ave & Lake St",
         41.88585116666667,
         -87.6671645
        ],
        [
         "TA1309000026",
         "Lincoln Ave & Belle Plaine Ave",
         41.95602616666667,
         -87.68023516666666
        ],
        [
         "15621",
         "Albany Ave & Montrose Ave",
         41.961040999999994,
         -87.705866
        ],
        [
         "TA1308000009",
         "Shore Dr & 55th St",
         41.795212,
         -87.580715
        ],
        [
         "TA1307000044",
         "Clinton St & 18th St",
         41.85795,
         -87.640826
        ],
        [
         "13143",
         "Damen Ave & Melrose Ave",
         41.940571666666656,
         -87.67868916666669
        ],
        [
         "20121",
         "Loomis Blvd & 84th St",
         41.741487,
         -87.65841
        ],
        [
         "TA1309000007",
         "Franklin St & Monroe St",
         41.880317,
         -87.63518499999999
        ],
        [
         "KA1504000127",
         "Manor Ave & Leland Ave",
         41.965875,
         -87.700825
        ],
        [
         "13063",
         "Sheridan Rd & Irving Park Rd",
         41.954245,
         -87.65440600000001
        ],
        [
         "TA1307000150",
         "Pine Grove Ave & Waveland Ave",
         41.94947274088333,
         -87.64645278453827
        ],
        [
         "13341",
         "Canal St & Madison St",
         41.882090999999996,
         -87.639833
        ],
        [
         "13179",
         "Clark St & Lincoln Ave",
         41.9157335,
         -87.63461466666666
        ],
        [
         "13296",
         "Ashland Ave & Wrightwood Ave",
         41.92883,
         -87.66850699999999
        ],
        [
         "TA1309000023",
         "Sheffield Ave & Wrightwood Ave",
         41.928712,
         -87.65383299999999
        ],
        [
         "13108",
         "Broadway & Argyle St",
         41.973815,
         -87.65966
        ],
        [
         "TA1307000142",
         "Clark St & Drummond Pl",
         41.931248,
         -87.644336
        ],
        [
         "TA1309000039",
         "Lake Shore Dr & Diversey Pkwy",
         41.932588,
         -87.636427
        ],
        [
         "TA1309000043",
         "Southport Ave & Irving Park Rd",
         41.954177,
         -87.664358
        ],
        [
         "KA17018054",
         "Damen Ave & Walnut (Lake) St",
         41.885919666666666,
         -87.67707300000002
        ],
        [
         "SL-006",
         "Wells St & 19th St",
         41.856802,
         -87.63387900000001
        ],
        [
         "13192",
         "Halsted St & Dickens Ave",
         41.919936,
         -87.64883
        ],
        [
         "TA1308000014",
         "Normal Ave & Archer Ave",
         41.849556666666665,
         -87.64060433333331
        ],
        [
         "331",
         "Halsted St & Clybourn Ave",
         41.909667999999996,
         -87.648128
        ],
        [
         "TA1307000158",
         "Damen Ave & Leland Ave",
         41.96710316666667,
         -87.6790435
        ],
        [
         "13128",
         "Clark St & North Ave",
         41.911974,
         -87.63194200000001
        ],
        [
         "TA1305000005",
         "Dearborn St & Adams St",
         41.8793563587,
         -87.62979103629999
        ],
        [
         "TA1306000014",
         "Wilton Ave & Diversey Pkwy",
         41.932418,
         -87.65270500000001
        ],
        [
         "TA1307000131",
         "Wabash Ave & Wacker Pl",
         41.886875,
         -87.62603
        ],
        [
         "TA1306000032",
         "Sheffield Ave & Willow St",
         41.913688,
         -87.652855
        ],
        [
         "KA1504000082",
         "Kedzie Ave & Harrison St",
         41.8736,
         -87.704871
        ],
        [
         "SL-009",
         "Clark St & 9th St (AMLI)",
         41.870816,
         -87.63124599999999
        ],
        [
         "TA1307000041",
         "Lake Shore Dr & Wellington Ave",
         41.936688449499705,
         -87.63682901859283
        ],
        [
         "TA1309000019",
         "Lakeview Ave & Fullerton Pkwy",
         41.92582616666667,
         -87.63898233333332
        ],
        [
         "13137",
         "Broadway & Barry Ave",
         41.93761283333333,
         -87.64412966666669
        ],
        [
         "13434",
         "Ashland Ave & Grand Ave",
         41.891082166666656,
         -87.6667135
        ],
        [
         "TA1307000126",
         "Sheffield Ave & Waveland Ave",
         41.949399,
         -87.65452900000001
        ],
        [
         "13194",
         "Ogden Ave & Race Ave",
         41.89182266666667,
         -87.65879433333332
        ],
        [
         "13017",
         "Franklin St & Chicago Ave",
         41.89674697309381,
         -87.63566762208939
        ],
        [
         "TA1307000140",
         "Western Ave & Leland Ave",
         41.96649453206122,
         -87.68841862678528
        ],
        [
         "15622",
         "California Ave & Montrose Ave",
         41.961068,
         -87.69543900000001
        ],
        [
         "13430",
         "LaSalle St & Illinois St",
         41.89080633333333,
         -87.63156666666669
        ],
        [
         "KA1503000002",
         "South Shore Dr & 71st St",
         41.7664094567,
         -87.5656875719
        ],
        [
         "TA1305000003",
         "Fairbanks Ct & Grand Ave",
         41.89184737210993,
         -87.62058019638063
        ],
        [
         "13431",
         "Adler Planetarium",
         41.866095,
         -87.60726700000001
        ],
        [
         "TA1307000120",
         "Green St & Madison St",
         41.881892,
         -87.64878900000001
        ],
        [
         "WL-012",
         "Clinton St & Washington Blvd",
         41.883379999999995,
         -87.64116999999999
        ],
        [
         "18069",
         "Cherry Ave & Blackhawk St",
         41.907221,
         -87.655618
        ],
        [
         "TA1309000067",
         "Cottage Grove Ave & 51st St",
         41.803038,
         -87.606615
        ],
        [
         "KA1504000097",
         "Drake Ave & Montrose Ave",
         41.961154075690004,
         -87.7165690733
        ],
        [
         "15571",
         "Broadway & Granville Ave",
         41.99473316666667,
         -87.660209
        ],
        [
         "15689",
         "California Ave & 23rd Pl",
         41.84910969176,
         -87.6951398068
        ],
        [
         "TA1307000064",
         "Lincoln Ave & Diversey Pkwy",
         41.932225,
         -87.658617
        ],
        [
         "KA1503000047",
         "Perry Ave & 69th St",
         41.76929308995,
         -87.6281959291
        ],
        [
         "13102",
         "Calumet Ave & 18th St",
         41.857611,
         -87.619407
        ],
        [
         "TA1307000111",
         "Franklin St & Lake St",
         41.885837,
         -87.6355
        ],
        [
         "13056",
         "Canal St & Monroe St",
         41.88169,
         -87.63953000000001
        ],
        [
         "13036",
         "Michigan Ave & Madison St",
         41.881901166666665,
         -87.6251145
        ],
        [
         "13427",
         "Cityfront Plaza Dr & Pioneer Ct",
         41.890572999999996,
         -87.622072
        ],
        [
         "SL-010",
         "Financial Pl & Ida B Wells Dr",
         41.8750236280333,
         -87.6330940425396
        ],
        [
         "18067",
         "Walsh Park",
         41.914609999999996,
         -87.667968
        ],
        [
         "13398",
         "Blackstone Ave & Hyde Park Blvd",
         41.802562,
         -87.59036800000001
        ],
        [
         "13353",
         "Ada St & Washington Blvd",
         41.882857,
         -87.6611585
        ],
        [
         "TA1305000006",
         "Dearborn St & Monroe St",
         41.881319815,
         -87.6295209193
        ],
        [
         "TA1309000036",
         "Burling St & Diversey Pkwy",
         41.93314,
         -87.64775999999999
        ],
        [
         "TA1305000030",
         "Clark St & Randolph St",
         41.884576228,
         -87.63188991
        ],
        [
         "TA1305000010",
         "Michigan Ave & Ida B Wells Dr",
         41.87618783333333,
         -87.624402
        ],
        [
         "TA1306000026",
         "Racine Ave & Fullerton Ave",
         41.92556258,
         -87.65840426
        ],
        [
         "654",
         "Racine Ave & Washington Blvd",
         41.883072999999996,
         -87.656952
        ],
        [
         "TA1308000019",
         "Racine Ave & Belmont Ave",
         41.939747333333344,
         -87.65883216666668
        ],
        [
         "13165",
         "Racine Ave & 13th St",
         41.865054,
         -87.656959
        ],
        [
         "13409",
         "Sangamon St & Washington Blvd",
         41.883165000000005,
         -87.6511
        ],
        [
         "WL-011",
         "Jefferson St & Monroe St",
         41.880421999999996,
         -87.642746
        ],
        [
         "15646",
         "California Ave & Altgeld St",
         41.926641833333335,
         -87.69780033333332
        ],
        [
         "KA1504000104",
         "Paulina St & Flournoy St",
         41.87295,
         -87.66913000000001
        ],
        [
         "13300",
         "Lake Shore Dr & Monroe St",
         41.880958,
         -87.616743
        ],
        [
         "13269",
         "Ashland Ave & Wellington Ave",
         41.936083,
         -87.66980699999999
        ],
        [
         "TA1308000026",
         "Wentworth Ave & 24th St (Temp)",
         41.850083693475774,
         -87.6321405172348
        ],
        [
         "644",
         "Western Ave & Fillmore St",
         41.868563,
         -87.686234
        ],
        [
         "15650",
         "Spaulding Ave & Armitage Ave",
         41.91710803478932,
         -87.71022096276283
        ],
        [
         "TA1307000113",
         "Southport Ave & Wrightwood Ave",
         41.928773,
         -87.663913
        ],
        [
         "TA1307000128",
         "Dearborn Pkwy & Delaware Pl",
         41.899047499999995,
         -87.62992833333334
        ],
        [
         "TA1306000008",
         "Larrabee St & North Ave",
         41.91021,
         -87.6435
        ],
        [
         "636",
         "Orleans St & Hubbard St",
         41.890028,
         -87.636618
        ],
        [
         "TA1307000143",
         "Sedgwick St & Schiller St",
         41.9075635,
         -87.6385625
        ],
        [
         "KA150400009X",
         "Kimball Ave & Belmont Ave",
         41.939398,
         -87.711561
        ],
        [
         "TA1307000130",
         "Morgan St & Polk St",
         41.871736999999996,
         -87.65103
        ],
        [
         "18016",
         "Bernard St & Elston Ave",
         41.949923,
         -87.713949
        ],
        [
         "TA1307000062",
         "Sedgwick St & Huron St",
         41.894666,
         -87.638437
        ],
        [
         "LP-",
         "Lincoln Park Conservatory",
         41.92393131136619,
         -87.63582453131676
        ],
        [
         "13050",
         "State St & Kinzie St",
         41.889187,
         -87.62775400000001
        ],
        [
         "13243",
         "Milwaukee Ave & Wabansia Ave",
         41.912616,
         -87.681391
        ],
        [
         "E011",
         "Dodge Ave & Main St",
         42.034832,
         -87.6991795
        ],
        [
         "KA1503000014",
         "Ellis Ave & 60th St",
         41.785097146359995,
         -87.60107276059999
        ],
        [
         "RP-009",
         "Sheridan Rd & Loyola Ave",
         42.00104377979,
         -87.66119824329999
        ],
        [
         "KA1504000129",
         "Western Ave & Granville Ave",
         41.994184499999996,
         -87.68942416666668
        ],
        [
         "13138",
         "Canal St & Jackson Blvd",
         41.877245,
         -87.63936600000001
        ],
        [
         "KA1503000052",
         "Ellis Ave & 53rd St",
         41.79933626261,
         -87.6009581145
        ],
        [
         "18017",
         "Central Park Ave & Bloomingdale Ave",
         41.914165999999994,
         -87.716755
        ],
        [
         "TA1309000032",
         "Elston Ave & Wabansia Ave",
         41.91294716666667,
         -87.66418416666669
        ],
        [
         "TA1307000160",
         "Prairie Ave & Garfield Blvd",
         41.794853,
         -87.618691
        ],
        [
         "15632",
         "Talman Ave & Addison St",
         41.946638666666665,
         -87.69468766666668
        ],
        [
         "15545",
         "Burnham Harbor",
         41.856268,
         -87.613348
        ],
        [
         "20239",
         "Marquette Ave & 89th St",
         41.73366879071472,
         -87.55834221839905
        ],
        [
         "TA1308000002",
         "Greenwood Ave & 47th St",
         41.809835,
         -87.59938299999999
        ],
        [
         "TA1309000049",
         "Lake Shore Dr & Belmont Ave",
         41.940775,
         -87.63919200000001
        ],
        [
         "13289",
         "Eckhart Park",
         41.89637337,
         -87.66098386
        ],
        [
         "TA1307000121",
         "Halsted St & Polk St",
         41.87184,
         -87.64664
        ],
        [
         "13139",
         "Throop St & Taylor St",
         41.868968,
         -87.659141
        ],
        [
         "13053",
         "Green St & Randolph St",
         41.883668,
         -87.64867
        ],
        [
         "632",
         "Clark St & Newport St",
         41.94454,
         -87.654678
        ],
        [
         "536",
         "Kostner Ave & Lake St",
         41.885928,
         -87.73541
        ],
        [
         "13271",
         "Damen Ave & Clybourn Ave",
         41.931931,
         -87.677856
        ],
        [
         "13034",
         "Michigan Ave & Pearson St",
         41.897659999999995,
         -87.62351
        ],
        [
         "TA1307000001",
         "Greenview Ave & Fullerton Ave",
         41.925329999999995,
         -87.6658
        ],
        [
         "13290",
         "Noble St & Milwaukee Ave",
         41.90068,
         -87.6626
        ],
        [
         "TA1307000115",
         "Clybourn Ave & Division St",
         41.904613,
         -87.640552
        ],
        [
         "Hubbard Bike-checking (LBS-WH-TEST)",
         "Base - 2132 W Hubbard Warehouse",
         41.88995451607409,
         -87.68065094947815
        ],
        [
         "15652",
         "Central Park Ave & North Ave",
         41.90965687563,
         -87.7166319516
        ],
        [
         "KA1503000015",
         "Wabash Ave & Adams St",
         41.87947235235,
         -87.6256886059
        ],
        [
         "TA1307000066",
         "Damen Ave & Coulter St",
         41.8491195,
         -87.67570183333332
        ],
        [
         "KA1504000162",
         "Clark St & Lunt Ave",
         42.009074,
         -87.67419
        ],
        [
         "TA1305000035",
         "State St & Van Buren St",
         41.877181,
         -87.627844
        ],
        [
         "15443",
         "Shields Ave & 28th Pl",
         41.84284333333333,
         -87.63548
        ],
        [
         "13059",
         "Bissell St & Armitage Ave",
         41.918440000000004,
         -87.65222
        ],
        [
         "KA1503000038",
         "Shields Ave & 31st St",
         41.838464,
         -87.635406
        ],
        [
         "KA1503000066",
         "Wood St & 35th St",
         41.830104654159996,
         -87.67029830889999
        ],
        [
         "TA1307000163",
         "Clifton Ave & Armitage Ave",
         41.918215999999994,
         -87.656936
        ],
        [
         "TA1309000001",
         "Halsted St & Maxwell St",
         41.864883,
         -87.647071
        ],
        [
         "TA1309000055",
         "Emerald Ave & 31st St",
         41.838198,
         -87.645143
        ],
        [
         "514",
         "Ridge Blvd & Howard St",
         42.019276,
         -87.68451999999999
        ],
        [
         "KA1504000103",
         "Western Ave & Walton St",
         41.89841768945,
         -87.68659601639999
        ],
        [
         "15535",
         "Desplaines St & Randolph St",
         41.88461618962,
         -87.6445705849
        ],
        [
         "TA1307000153",
         "Emerald Ave & 28th St",
         41.843579999999996,
         -87.645368
        ],
        [
         "13217",
         "Calumet Ave & 33rd St",
         41.8349,
         -87.61793
        ],
        [
         "15446",
         "Racine Ave & 35th St",
         41.83069611252,
         -87.6559759116
        ],
        [
         "13160",
         "May St & Taylor St",
         41.8694821,
         -87.6554864
        ],
        [
         "KA1503000043",
         "Kingsbury St & Kinzie St",
         41.88917683258,
         -87.6385057718
        ],
        [
         "TA1306000003",
         "Desplaines St & Kinzie St",
         41.888716036,
         -87.6444478533
        ],
        [
         "15442",
         "Ashland Ave & Archer Ave",
         41.83920868403,
         -87.6656098589
        ],
        [
         "15539",
         "Desplaines St & Jackson Blvd",
         41.878161166666665,
         -87.64428766666668
        ],
        [
         "KA1503000032",
         "Union Ave & Root St",
         41.819102,
         -87.64327800000001
        ],
        [
         "13345",
         "Calumet Ave & 35th St",
         41.831379,
         -87.618034
        ],
        [
         "13162",
         "Halsted St & 21st St",
         41.85377981072743,
         -87.6466029882431
        ],
        [
         "13157",
         "Aberdeen St & Jackson Blvd",
         41.87772613,
         -87.65478743
        ],
        [
         "TA1307000129",
         "State St & 35th St",
         41.8310363140161,
         -87.62679755687714
        ],
        [
         "RP-005",
         "Western Ave & Lunt Ave",
         42.0085943972,
         -87.69049223889999
        ],
        [
         "KA1503000027",
         "Prairie Ave & 43rd St",
         41.81665889302,
         -87.61941246190001
        ],
        [
         "TA1305000020",
         "Ogden Ave & Chicago Ave",
         41.896362458,
         -87.65406127290001
        ],
        [
         "TA1306000025",
         "Racine Ave & Congress Pkwy",
         41.87464,
         -87.65703
        ],
        [
         "16010",
         "Keystone Ave & Fullerton Ave",
         41.92459,
         -87.72785
        ],
        [
         "TA1309000064",
         "Wolcott Ave & Polk St",
         41.871262,
         -87.673688
        ],
        [
         "KA1504000142",
         "Drake Ave & Addison St",
         41.947326000000004,
         -87.717582
        ],
        [
         "KA1503000074",
         "Museum of Science and Industry",
         41.79172820953,
         -87.58394500899999
        ],
        [
         "TA1309000011",
         "Ellis Ave & 58th St",
         41.788746,
         -87.601334
        ],
        [
         "KA1503000013",
         "Princeton Ave & Garfield Blvd",
         41.794982,
         -87.633124
        ],
        [
         "KA1503000020",
         "South Shore Dr & 74th St",
         41.76218896038,
         -87.55927465
        ],
        [
         "TA1307000164",
         "Woodlawn Ave & 55th St",
         41.795264,
         -87.596471
        ],
        [
         "KA1503000071",
         "University Ave & 57th St",
         41.791478000000005,
         -87.599861
        ],
        [
         "KA1503000068",
         "Leavitt St & Archer Ave",
         41.82879201994,
         -87.6806044594
        ],
        [
         "KA1503000065",
         "Woodlawn Ave & Lake Park Ave",
         41.81409271048,
         -87.5970051479
        ],
        [
         "13257",
         "Campbell Ave & North Ave",
         41.910534999999996,
         -87.68955600000001
        ],
        [
         "TA1308000007",
         "MLK Jr Dr & 47th St",
         41.809851,
         -87.616279
        ],
        [
         "13326",
         "Canal St & Harrison St",
         41.874255,
         -87.639573
        ],
        [
         "TA1309000059",
         "Racine Ave & Wrightwood Ave",
         41.928886999999996,
         -87.658971
        ],
        [
         "KA1504000109",
         "Washtenaw Ave & Ogden Ave",
         41.86193049278259,
         -87.69345045089722
        ],
        [
         "13099",
         "Halsted St & 18th St",
         41.857499,
         -87.646277
        ],
        [
         "TA1307000127",
         "Clark St & Grace St",
         41.95078,
         -87.659172
        ],
        [
         "13258",
         "California Ave & North Ave",
         41.91044,
         -87.6972
        ],
        [
         "13155",
         "Racine Ave & Randolph St",
         41.884069000000004,
         -87.656853
        ],
        [
         "KA1504000148",
         "Clark St & Elmdale Ave",
         41.990860448125574,
         -87.66972362995148
        ],
        [
         "13319",
         "Ashland Ave & Grace St",
         41.950687,
         -87.6687
        ],
        [
         "TA1308000012",
         "Montrose Harbor",
         41.963982,
         -87.638181
        ],
        [
         "KA1504000171",
         "Marine Dr & Ainslie St",
         41.9716,
         -87.650154
        ],
        [
         "15648",
         "Campbell Ave & Fullerton Ave",
         41.92463247165,
         -87.6893070063
        ],
        [
         "13074",
         "Broadway & Wilson - Truman College Vaccination Site",
         41.965221,
         -87.658139
        ],
        [
         "TA1305000001",
         "Wabash Ave & Cermak Rd",
         41.852619,
         -87.626488
        ],
        [
         "TA1309000041",
         "Sheridan Rd & Lawrence Ave",
         41.9694705,
         -87.6547185
        ],
        [
         "15645",
         "Richmond St & Diversey Ave",
         41.93190196886,
         -87.7011951301
        ],
        [
         "TA1305000017",
         "Halsted St & Roosevelt Rd",
         41.867323999999996,
         -87.648625
        ],
        [
         "13248",
         "Ashland Ave & Augusta Blvd",
         41.899643,
         -87.6677
        ],
        [
         "13037",
         "Clinton St & Tilden St",
         41.875885,
         -87.640795
        ],
        [
         "KA1504000078",
         "Lincoln Ave & Winona St",
         41.97491129677,
         -87.69250255940001
        ],
        [
         "13229",
         "Southport Ave & Belmont Ave",
         41.93947775040509,
         -87.6637476682663
        ],
        [
         "TA1309000033",
         "Sheffield Ave & Webster Ave",
         41.92154,
         -87.653818
        ],
        [
         "TA1306000007",
         "Larrabee St & Menomonee St",
         41.91468,
         -87.64331999999999
        ],
        [
         "TA1307000156",
         "Lincoln Ave & Sunnyside Ave",
         41.963004,
         -87.684781
        ],
        [
         "13215",
         "Rhodes Ave & 32nd St",
         41.83670583333333,
         -87.61341483333334
        ],
        [
         "639",
         "Lakefront Trail & Wilson Ave",
         41.965845,
         -87.645361
        ],
        [
         "13124",
         "Cannon Dr & Fullerton Ave",
         41.9267559875,
         -87.6344287848
        ],
        [
         "15544",
         "Shedd Aquarium",
         41.86722595682,
         -87.61535539020001
        ],
        [
         "599",
         "Valli Produce - Evanston Plaza",
         42.039742,
         -87.699413
        ],
        [
         "546",
         "Damen Ave & Pershing Rd",
         41.823192,
         -87.676597
        ],
        [
         "15691",
         "Albany Ave & 26th St",
         41.844475013659995,
         -87.70201301280001
        ],
        [
         "KA1503000075",
         "DuSable Museum",
         41.79156801058,
         -87.60785217739999
        ],
        [
         "515",
         "Paulina St & Howard St",
         42.019159,
         -87.673573
        ],
        [
         "15664",
         "Artesian Ave & Hubbard St",
         41.88949181977,
         -87.68821936479999
        ],
        [
         "15668",
         "Western Ave & Congress Pkwy",
         41.874748850790006,
         -87.6864452757
        ],
        [
         "13134",
         "Damen Ave & Madison St",
         41.881370000000004,
         -87.67493
        ],
        [
         "KA1504000102",
         "Fairfield Ave & Roosevelt Rd",
         41.866624,
         -87.694521
        ],
        [
         "13091",
         "Western Ave & 21st St",
         41.854109,
         -87.685838
        ],
        [
         "598",
         "Elmwood Ave & Austin St",
         42.02579,
         -87.6841135
        ],
        [
         "600",
         "Dodge Ave & Church St",
         42.048308,
         -87.698224
        ],
        [
         "15634",
         "Western Ave & Roscoe St",
         41.943093,
         -87.6873335
        ],
        [
         "661",
         "Evanston Civic Center",
         42.057044,
         -87.686554
        ],
        [
         "13028",
         "900 W Harrison St",
         41.874753999999996,
         -87.649807
        ],
        [
         "KA1504000156",
         "Clark St & Schreiber Ave",
         41.99925182186,
         -87.67137733930001
        ],
        [
         "E014",
         "Lincolnwood Dr & Central St",
         42.064854,
         -87.71529699999999
        ],
        [
         "TA1307000038",
         "Sedgwick St & North Ave",
         41.91141,
         -87.638713
        ],
        [
         "E006",
         "Central St Metra",
         42.063598,
         -87.69873
        ],
        [
         "KA1503000018",
         "Jeffery Blvd & 71st St",
         41.76663823695,
         -87.5764501141
        ],
        [
         "13163",
         "Morgan St & 18th St",
         41.858086,
         -87.651073
        ],
        [
         "TA1307000136",
         "Clark St & Wellington Ave",
         41.9364968219,
         -87.64753865819999
        ],
        [
         "TA1308000038",
         "Cottage Grove Ave & Oakwood Blvd",
         41.822984999999996,
         -87.6071
        ],
        [
         "TA1308000043",
         "Halsted St & 35th St",
         41.830661,
         -87.647172
        ],
        [
         "15546",
         "Calumet Ave & 21st St",
         41.85418424947,
         -87.6191537415
        ],
        [
         "KA1504000101",
         "Ogden Ave & Roosevelt Rd",
         41.86650148316,
         -87.68469707
        ],
        [
         "13075",
         "Wentworth Ave & Cermak Rd",
         41.85308455741279,
         -87.63193130493164
        ],
        [
         "KA1504000093",
         "Rockwell St & Eastwood Ave",
         41.965900139759995,
         -87.6936384935
        ],
        [
         "KA1504000106",
         "Kedzie Ave & Lake St",
         41.88460328501,
         -87.7063037436
        ],
        [
         "KA17018068",
         "Leavitt St & Belmont Ave",
         41.939353999999994,
         -87.68328199999999
        ],
        [
         "13241",
         "Western Ave & Division St",
         41.902893,
         -87.687275
        ],
        [
         "13042",
         "Michigan Ave & Oak St",
         41.900777833333336,
         -87.62373666666667
        ],
        [
         "TA1309000015",
         "Leavitt St & Lawrence Ave",
         41.968885,
         -87.684001
        ],
        [
         "RP-004",
         "Oakley Ave & Touhy Ave",
         42.012342,
         -87.688243
        ],
        [
         "TA1308000047",
         "Southport Ave & Clark St",
         41.957081,
         -87.664199
        ],
        [
         "596",
         "Benson Ave & Church St",
         42.048214,
         -87.683485
        ],
        [
         "TA1309000014",
         "Clark St & Leland Ave",
         41.967096000000005,
         -87.667429
        ],
        [
         "660",
         "Sheridan Rd & Columbia Ave",
         42.004583000000004,
         -87.661406
        ],
        [
         "TA1309000066",
         "Ravenswood Ave & Lawrence Ave",
         41.96909,
         -87.674237
        ],
        [
         "KA1504000143",
         "Leavitt St & Addison St",
         41.94657816666667,
         -87.683387
        ],
        [
         "553",
         "Elizabeth St & 47th St",
         41.80839,
         -87.656526
        ],
        [
         "13420",
         "MLK Jr Dr & Pershing Rd",
         41.8246,
         -87.61678
        ],
        [
         "15642",
         "California Ave & Fletcher St",
         41.93842879148,
         -87.69800775600001
        ],
        [
         "TA1305000004",
         "McCormick Place",
         41.8513751729,
         -87.61883464889999
        ],
        [
         "KA1504000139",
         "Monticello Ave & Irving Park Rd",
         41.95400483876,
         -87.7191281797
        ],
        [
         "13249",
         "Ashland Ave & Belle Plaine Ave",
         41.956057,
         -87.668835
        ],
        [
         "15653",
         "Troy St & North Ave",
         41.90976930169,
         -87.7052804871
        ],
        [
         "13081",
         "Ogden Ave & Congress Pkwy",
         41.875017,
         -87.6731475
        ],
        [
         "TA1306000006",
         "Orleans St & Elm St",
         41.90291216666667,
         -87.637745
        ],
        [
         "13242",
         "Milwaukee Ave & Rockwell St",
         41.92019556200566,
         -87.69265919923781
        ],
        [
         "15615",
         "Christiana Ave & Lawrence Ave",
         41.96835449363,
         -87.7118306675
        ],
        [
         "15470",
         "Calumet Ave & 51st St",
         41.80229465088,
         -87.6180535802
        ],
        [
         "13331",
         "May St & Cullerton St",
         41.855136,
         -87.654127
        ],
        [
         "E008",
         "Chicago Ave & Sheridan Rd",
         42.050491,
         -87.677821
        ],
        [
         "16918",
         "Austin Blvd & Madison St",
         41.880281,
         -87.77445300000001
        ],
        [
         "590",
         "Kilbourn Ave & Irving Park Rd",
         41.953733,
         -87.740569
        ],
        [
         "SL-013",
         "State St & 19th St",
         41.856594,
         -87.627542
        ],
        [
         "20238",
         "Greenwood Ave & 97th St",
         41.71870315475741,
         -87.59703576564789
        ],
        [
         "655",
         "Hoyne Ave & Balmoral Ave",
         41.979847166666666,
         -87.68198083333333
        ],
        [
         "RP-008",
         "Clark St & Columbia Ave",
         42.00445062934,
         -87.6724024047
        ],
        [
         "650",
         "Eggleston Ave & 69th St",
         41.768898,
         -87.635876
        ],
        [
         "KA1504000160",
         "Francisco Ave & Foster Ave",
         41.97563272521,
         -87.70141943889999
        ],
        [
         "15624",
         "Avondale Ave & Irving Park Rd",
         41.953393,
         -87.73200200000001
        ],
        [
         "594",
         "Western Blvd & 48th Pl",
         41.805661,
         -87.683392
        ],
        [
         "TA1309000003",
         "Western Ave & 24th St",
         41.84847,
         -87.685109
        ],
        [
         "519",
         "Wolcott Ave & Fargo Ave",
         42.01691666666667,
         -87.67777883333332
        ],
        [
         "TA1309000006",
         "Larrabee St & Armitage Ave",
         41.918084,
         -87.643749
        ],
        [
         "KA1706005015",
         "Kildare Ave & Montrose Ave",
         41.961079999999995,
         -87.73569
        ],
        [
         "18022",
         "Archer (Damen) Ave & 37th St",
         41.826712,
         -87.683144
        ],
        [
         "KA1504000167",
         "Kedzie Ave & Bryn Mawr Ave",
         41.98239708485,
         -87.7089225202
        ],
        [
         "KA1503000004",
         "Lake Park Ave & 35th St",
         41.83127423549,
         -87.6087991946
        ],
        [
         "KA1503000019",
         "Stony Island Ave & 75th St",
         41.758669670399996,
         -87.586882871
        ],
        [
         "E007",
         "Central St & Girard Ave",
         42.064313,
         -87.686152
        ],
        [
         "15685",
         "Central Park Ave & Ogden Ave",
         41.85406350387447,
         -87.71511733531952
        ],
        [
         "20254.0",
         "W Armitage Ave & N Sheffield Ave",
         41.92,
         -87.65
        ],
        [
         "KA1503000054",
         "Cottage Grove Ave & 63rd St",
         41.780730833333344,
         -87.6058085
        ],
        [
         "KA1504000147",
         "Winchester (Ravenswood) Ave & Balmoral Ave",
         41.979762,
         -87.67753
        ],
        [
         "631",
         "Malcolm X College Vaccination Site",
         41.87761716666667,
         -87.67387333333332
        ],
        [
         "KA1504000091",
         "Hoyne Ave & 47th St",
         41.808227,
         -87.67718
        ],
        [
         "13089",
         "Damen Ave & Cullerton St",
         41.854966518753926,
         -87.67569959163664
        ],
        [
         "16906",
         "Austin Blvd & Lake St",
         41.887919000000004,
         -87.774446
        ],
        [
         "KA1503000005",
         "Wentworth Ave & 35th St",
         41.830777000000005,
         -87.632504
        ],
        [
         "16921",
         "Austin Blvd & Chicago Ave",
         41.894887,
         -87.774704
        ],
        [
         "KA1504000128",
         "Kedzie Ave & Foster Ave",
         41.975671999999996,
         -87.709261
        ],
        [
         "15631",
         "Troy St & Elston Ave",
         41.94524356848,
         -87.7066499009
        ],
        [
         "15628",
         "California Ave & Byron St",
         41.952162193259994,
         -87.69805111299999
        ],
        [
         "KA1504000110",
         "Millard Ave & 26th St",
         41.84455710033698,
         -87.71607220172882
        ],
        [
         "595",
         "Wabash Ave & 87th St",
         41.736646,
         -87.62263399999999
        ],
        [
         "585",
         "Cottage Grove Ave & 83rd St",
         41.743441,
         -87.60483599999999
        ],
        [
         "584",
         "Ellis Ave & 83rd St",
         41.744122999999995,
         -87.599034
        ],
        [
         "530",
         "Laramie Ave & Kinzie St",
         41.887832,
         -87.755527
        ],
        [
         "TA1306000011",
         "Wells St & Walton St",
         41.89993001,
         -87.63443007
        ],
        [
         "604",
         "Sheridan Rd & Noyes St (NU)",
         42.058239,
         -87.677432
        ],
        [
         "20253.0",
         "N Paulina St & Lincoln Ave",
         41.94,
         -87.67
        ],
        [
         "13259",
         "California Ave & Francis Pl (Temp)",
         41.91849115368695,
         -87.69742280244827
        ],
        [
         "15643",
         "Kosciuszko Park",
         41.93062166666667,
         -87.72378883333332
        ],
        [
         "KA1503000025",
         "Wentworth Ave & 63rd St",
         41.78007963264,
         -87.6297463052
        ],
        [
         "16903",
         "Cicero Ave & Lake St",
         41.886841,
         -87.745261
        ],
        [
         "527",
         "Western Ave & Howard St",
         42.0189505,
         -87.6900365
        ],
        [
         "KA1503000049",
         "Rainbow Beach",
         41.757871448290004,
         -87.54938625
        ],
        [
         "570",
         "Evans Ave & 75th St",
         41.75849,
         -87.60641
        ],
        [
         "KA1504000114",
         "Kedzie Ave & Chicago Ave",
         41.895465303049995,
         -87.7061278837
        ],
        [
         "KA1503000033",
         "Eberhart Ave & 61st St",
         41.78414169317,
         -87.6133078304
        ],
        [
         "592",
         "Knox Ave & Montrose Ave",
         41.960631,
         -87.745359
        ],
        [
         "KA1504000126",
         "Kedzie Ave & Leland Ave",
         41.96668636205,
         -87.70805198059999
        ],
        [
         "545",
         "Kostner Ave & Adams St",
         41.877917,
         -87.735737
        ],
        [
         "KA1503000009",
         "Princeton Ave & 47th St",
         41.809317709240005,
         -87.633449288
        ],
        [
         "15585",
         "Budlong Woods Library",
         41.98366470886,
         -87.69642256110001
        ],
        [
         "RP-001",
         "Warren Park West",
         42.001785,
         -87.688829
        ],
        [
         "KA1503000073",
         "MLK Jr Dr & 56th St",
         41.79342945658,
         -87.6158532619
        ],
        [
         "KA1504000113",
         "Sacramento Blvd & Franklin Blvd",
         41.890604833333335,
         -87.7025885
        ],
        [
         "646",
         "State St & 54th St",
         41.796642,
         -87.625923
        ],
        [
         "TA1308000023",
         "Cottage Grove Ave & 43rd St",
         41.81650916666667,
         -87.60661666666668
        ],
        [
         "TA1309000053",
         "Cottage Grove Ave & 47th St",
         41.809855,
         -87.606755
        ],
        [
         "KA1504000096",
         "Sawyer Ave & Irving Park Rd",
         41.95358617895,
         -87.7093107999
        ],
        [
         "15666",
         "California Ave & Lake St",
         41.88445395657,
         -87.69629813680001
        ],
        [
         "16920",
         "Central Ave & Chicago Ave",
         41.894958,
         -87.764902
        ],
        [
         "15449",
         "State St & Pershing Rd",
         41.82301523798,
         -87.62656801850001
        ],
        [
         "KA1503000023",
         "Stony Island Ave & 67th St",
         41.77345849948,
         -87.5853397391
        ],
        [
         "583",
         "Stony Island Ave & 82nd St",
         41.74661,
         -87.58596933333334
        ],
        [
         "KA1503000024",
         "Yates Blvd & 75th St",
         41.758767999999996,
         -87.56644
        ],
        [
         "TA1309000051",
         "Commercial Ave & 83rd St",
         41.7446365,
         -87.55119416666666
        ],
        [
         "KA1503000021",
         "Stony Island Ave & 64th St",
         41.778881,
         -87.586647
        ],
        [
         "16907",
         "Central Park Blvd & 5th Ave",
         41.875653666666665,
         -87.71554783333332
        ],
        [
         "16806",
         "Bosworth Ave & Howard St",
         42.019514,
         -87.66932183333331
        ],
        [
         "16991",
         "Milwaukee Ave & Cuyler Ave",
         41.95449933333333,
         -87.74959383333334
        ],
        [
         "KA1503000010",
         "Halsted St & 51st St",
         41.80183164049,
         -87.645213904
        ],
        [
         "KA1503000046",
         "Dorchester Ave & 63rd St",
         41.7804056457,
         -87.5914159893
        ],
        [
         "KA1504000141",
         "Pulaski Rd & Eddy St (Temp)",
         41.946264,
         -87.731023
        ],
        [
         "KA1504000130",
         "Maplewood Ave & Peterson Ave",
         41.990198,
         -87.6934005
        ],
        [
         "RP-006",
         "Ridge Blvd & Touhy Ave",
         42.01213227742,
         -87.6829126443
        ],
        [
         "13083",
         "Indiana Ave & 40th St",
         41.82168,
         -87.6216
        ],
        [
         "518",
         "Conservatory Dr & Lake St",
         41.88545666666667,
         -87.71684833333332
        ],
        [
         "20210",
         "State St & 123rd St",
         41.67064383687979,
         -87.62258648872375
        ],
        [
         "20206",
         "Homewood Ave & 115th St",
         41.68459507202617,
         -87.67070800065994
        ],
        [
         "20131",
         "Cottage Grove Ave & 111th Pl",
         41.69170975847015,
         -87.61000156402588
        ],
        [
         "20229",
         "Baltimore Ave & 87th St",
         41.73733560041666,
         -87.54851460456847
        ],
        [
         "528",
         "Pulaski Rd & Lake St",
         41.885409,
         -87.72649100000001
        ],
        [
         "RP-002",
         "Warren Park East",
         42.00454962194,
         -87.6806661451
        ],
        [
         "573",
         "State St & 79th St",
         41.750794,
         -87.624424
        ],
        [
         "KA1503000031",
         "Cottage Grove Ave & 67th St",
         41.77371016666667,
         -87.60564683333334
        ],
        [
         "20109",
         "Vernon Ave & 107th St",
         41.70012137923888,
         -87.61225998401642
        ],
        [
         "KA1503000051",
         "Halsted St & 47th Pl",
         41.80813391481,
         -87.64561655450001
        ],
        [
         "KA1503000030",
         "Jeffery Blvd & 67th St",
         41.77351755125,
         -87.57714282549999
        ],
        [
         "15687",
         "Central Park Ave & 24th St",
         41.848116833333336,
         -87.71511283333334
        ],
        [
         "20223",
         "Ewing Ave & Burnham Greenway",
         41.712748761094964,
         -87.53481388092041
        ],
        [
         "KA1503000003",
         "Cottage Grove Ave & 71st St",
         41.76571903697,
         -87.60495971299999
        ],
        [
         "20252.0",
         "W Oakdale Ave & N Broadway",
         41.94,
         -87.64
        ],
        [
         "649",
         "Stewart Ave & 63rd St",
         41.779835,
         -87.634774
        ],
        [
         "20214",
         "Avenue O & 134th St",
         41.65191333333333,
         -87.53950833333332
        ],
        [
         "TA1307000161",
         "Halsted St & 37th St",
         41.827059000000006,
         -87.64572
        ],
        [
         "20104",
         "State St & 95th St",
         41.7218499,
         -87.62285440000001
        ],
        [
         "20247.0",
         "W Washington Blvd & N Peoria St",
         41.88,
         -87.65
        ],
        [
         "662",
         "Dodge Ave & Mulford St",
         42.0236905,
         -87.6996185
        ],
        [
         "20119",
         "Elizabeth St & 92nd St",
         41.726798963701185,
         -87.6542901992798
        ],
        [
         "20129",
         "Ada St & 113th St",
         41.687561623357375,
         -87.65547573566435
        ],
        [
         "653",
         "Cornell Dr & Hayes Dr",
         41.780595,
         -87.584846
        ],
        [
         "KA1503000045",
         "Stony Island Ave & 71st St",
         41.7664929373,
         -87.5864608775
        ],
        [
         "569",
         "Woodlawn Ave & 75th St",
         41.759159999999994,
         -87.595751
        ],
        [
         "20110",
         "Eberhart Ave & 91st St",
         41.72942527802096,
         -87.60952949523924
        ],
        [
         "20218",
         "Avenue O & 118th St",
         41.68100145911039,
         -87.53793122268691
        ],
        [
         "20127",
         "Halsted St & 111th St",
         41.69226255589166,
         -87.64261186122894
        ],
        [
         "KA1503000055",
         "Halsted & 63rd - Kennedy-King Vaccination Site",
         41.779381142279995,
         -87.6446208145
        ],
        [
         "16915",
         "Central Ave & Harrison St",
         41.87299733333333,
         -87.7644945
        ],
        [
         "13080",
         "Hermitage Ave & Polk St",
         41.871514000000005,
         -87.669886
        ],
        [
         "652",
         "Rhodes Ave & 71st St",
         41.766000000000005,
         -87.611726
        ],
        [
         "20116",
         "Dauphin Ave & 87th St",
         41.736559,
         -87.601258
        ],
        [
         "15692",
         "California Ave & 26th St",
         41.84404,
         -87.695296
        ],
        [
         "534",
         "Karlov Ave & Madison St",
         41.88085366666667,
         -87.72799766666668
        ],
        [
         "582",
         "Phillips Ave & 83rd St",
         41.744531,
         -87.56506
        ],
        [
         "20113",
         "Dauphin Ave & 103rd St",
         41.707250367781796,
         -87.60766267776489
        ],
        [
         "20245",
         "Ashland Ave & 74th St",
         41.759236,
         -87.663474
        ],
        [
         "KA1504000168",
         "Western & 28th - Velasquez Institute Vaccination Site",
         41.84150516666666,
         -87.68516483333332
        ],
        [
         "20107",
         "Walden Pkwy & 100th St",
         41.712164103598035,
         -87.66773343086244
        ],
        [
         "KA1504000086",
         "Kedzie Ave & 24th St",
         41.848191,
         -87.705414
        ],
        [
         "16970",
         "Bennett Ave & 79th St",
         41.751785,
         -87.578496
        ],
        [
         "20228",
         "Constance Ave & 95th St",
         41.722290740952616,
         -87.57896840572357
        ],
        [
         "20123",
         "Western Ave & 104th St",
         41.70458710218908,
         -87.68120348453522
        ],
        [
         "20101",
         "Summit Ave & 86th St",
         41.737848,
         -87.6449
        ],
        [
         "KA1503000011",
         "Halsted St & 56th St",
         41.79292964599001,
         -87.64499005649999
        ],
        [
         "20257.0",
         "N Southport Ave & W Newport Ave",
         41.94,
         -87.66
        ],
        [
         "16937",
         "Ashland Ave & McDowell Ave",
         41.80887,
         -87.66454
        ],
        [
         "586",
         "MLK Jr Dr & 83rd St",
         41.743116,
         -87.6148
        ],
        [
         "559",
         "Racine Ave & Garfield Blvd",
         41.794228000000004,
         -87.655073
        ],
        [
         "20227",
         "Bradley Park",
         41.717878301935,
         -87.56459176540375
        ],
        [
         "20230",
         "Clyde Ave & 87th St",
         41.73715146431056,
         -87.57274031639099
        ],
        [
         "554",
         "Damen Ave & 51st St",
         41.800908,
         -87.674684
        ],
        [
         "16913",
         "Cicero Ave & Quincy St",
         41.877635833333336,
         -87.74542583333331
        ],
        [
         "20205",
         "Western Ave & 111th St",
         41.691210999999996,
         -87.681297
        ],
        [
         "20208",
         "Major Taylor Trail & 124th St",
         41.66869635332246,
         -87.63711333274841
        ],
        [
         "20106",
         "Chicago State University",
         41.71895833333333,
         -87.60837733333334
        ],
        [
         "579",
         "Phillips Ave & 79th St",
         41.75182,
         -87.565211
        ],
        [
         "20233",
         "Halsted St & 78th St",
         41.752487012490135,
         -87.6439021574879
        ],
        [
         "20204",
         "Kedzie Ave & 110th St",
         41.6924015,
         -87.70095783333332
        ],
        [
         "20235",
         "Greenwood Ave & 91st St",
         41.728264268162725,
         -87.59729862213135
        ],
        [
         "540",
         "Laramie Ave & Madison St",
         41.880207,
         -87.755337
        ],
        [
         "20244",
         "Halsted St & 73rd St",
         41.761639833333334,
         -87.64406233333334
        ],
        [
         "16950",
         "Ashland Ave & 66th St",
         41.774074,
         -87.663815
        ],
        [
         "16948",
         "Ashland Ave & 63rd St",
         41.77937533333333,
         -87.6648995
        ],
        [
         "537",
         "Kenton Ave & Madison St",
         41.880708,
         -87.74101800000001
        ],
        [
         "16933",
         "Morgan St & Pershing Rd",
         41.823613,
         -87.650931
        ],
        [
         "16953",
         "Vincennes Ave & 75th St",
         41.75797,
         -87.63121
        ],
        [
         "13213",
         "State St & 29th St",
         41.841707,
         -87.626938
        ],
        [
         "20221",
         "Torrence Ave & 106th St",
         41.7028495,
         -87.55980916666668
        ],
        [
         "567",
         "May St & 69th St",
         41.768938,
         -87.652934
        ],
        [
         "572",
         "State St & 76th St",
         41.756971,
         -87.62462099999999
        ],
        [
         "557",
         "Seeley Ave & Garfield Blvd",
         41.794087,
         -87.675478
        ],
        [
         "574",
         "Vernon Ave & 79th St",
         41.75094,
         -87.61379000000001
        ],
        [
         "587",
         "Wabash Ave & 83rd St",
         41.743316,
         -87.622849
        ],
        [
         "651",
         "Michigan Ave & 71st St",
         41.7652865,
         -87.62173833333334
        ],
        [
         "577",
         "Stony Island Ave & South Chicago Ave",
         41.751173,
         -87.585337
        ],
        [
         "20231",
         "East End Ave & 87th St",
         41.73681521440671,
         -87.58280128240585
        ],
        [
         "20222",
         "Burnham Greenway & 105th St",
         41.704575087207104,
         -87.52823173999786
        ],
        [
         "20232",
         "Big Marsh Park",
         41.68587705562333,
         -87.57382392883301
        ],
        [
         "20256.0",
         "N Sheffield Ave & W Wellington Ave",
         41.94,
         -87.65
        ],
        [
         "20108",
         "Hale Ave & 107th St",
         41.69920616812768,
         -87.66891896724701
        ],
        [
         "647",
         "Elizabeth St & 59th St",
         41.786691,
         -87.65585899999999
        ],
        [
         "20203",
         "Lawndale Ave & 111th St",
         41.691319192210656,
         -87.71288573741913
        ],
        [
         "20242",
         "Houston Ave & 92nd St",
         41.72820421535798,
         -87.54970014095306
        ],
        [
         "15599",
         "Calumet Ave & 71st St",
         41.765508000000004,
         -87.616918
        ],
        [
         "20.0",
         "Damen Ave & Wabansia Ave",
         41.91,
         -87.68
        ],
        [
         "15682",
         "Kedzie Ave & Roosevelt Rd",
         41.86649278172,
         -87.7064961757
        ],
        [
         "16940",
         "Ashland Ave & 50th St",
         41.803022999999996,
         -87.664699
        ],
        [
         "560",
         "Marshfield Ave & 59th St",
         41.786833,
         -87.66621500000001
        ],
        [
         "15686",
         "Kedzie Ave & 21st St",
         41.853496,
         -87.70512516666666
        ],
        [
         "20103",
         "Prospect Sq & 91st St",
         41.727951000000004,
         -87.66761650000001
        ],
        [
         "20124",
         "Vincennes Ave & 104th St",
         41.704926,
         -87.656868
        ],
        [
         "20234",
         "Ashland Ave & 78th St",
         41.75220484941116,
         -87.66369938850403
        ],
        [
         "20112",
         "Indiana Ave & 103rd St",
         41.70717027117757,
         -87.61847198009491
        ],
        [
         "20217",
         "Torrence Ave & 126th Pl",
         41.66631200825726,
         -87.55721569061278
        ],
        [
         "15597",
         "Halsted St & 69th St",
         41.769062,
         -87.644614
        ],
        [
         "571",
         "Vernon Ave & 75th St",
         41.758361,
         -87.614138
        ],
        [
         "561",
         "Damen Ave & 59th St",
         41.78607383333333,
         -87.67414583333333
        ],
        [
         "20248.0",
         "N Hampden Ct & W Diversey Ave",
         41.93,
         -87.64
        ],
        [
         "20207",
         "Major Taylor Trail & 115th St",
         41.684931595192964,
         -87.6452887058258
        ],
        [
         "20105",
         "Halsted St & 96th St",
         41.71971218361881,
         -87.6430195569992
        ],
        [
         "543",
         "Laramie Ave & Gladys Ave",
         41.87584416666667,
         -87.75529666666668
        ],
        [
         "20246.0",
         "N Green St & W Lake St",
         41.89,
         -87.65
        ],
        [
         "20251.0",
         "N Carpenter St & W Lake St",
         41.89,
         -87.65
        ],
        [
         "20211",
         "Eberhart Ave & 131st St",
         41.657953000000006,
         -87.61076433333334
        ],
        [
         "20243",
         "Michigan Ave & 114th St",
         41.68701479467118,
         -87.62105226516724
        ],
        [
         "20213",
         "Commercial Ave & 130th St",
         41.65915,
         -87.550762
        ],
        [
         "KA1503000053",
         "MLK Jr Dr & 63rd St",
         41.78008063659001,
         -87.6159428567
        ],
        [
         "576",
         "Greenwood Ave & 79th St",
         41.751294,
         -87.59755200000001
        ],
        [
         "549",
         "Marshfield Ave & 44th St",
         41.813996,
         -87.666589
        ],
        [
         "16912",
         "Cicero Ave & Flournoy St",
         41.8721235,
         -87.74661933333331
        ],
        [
         "KA1503000028",
         "Jeffery Blvd & 76th St",
         41.75712,
         -87.575839
        ],
        [
         "593",
         "Halsted St & 59th St",
         41.787539,
         -87.644874
        ],
        [
         "575",
         "Cottage Grove Ave & 78th St",
         41.753174,
         -87.605026
        ],
        [
         "580",
         "Exchange Ave & 79th St",
         41.751731,
         -87.552812
        ],
        [
         "16905",
         "Central Ave & Lake St",
         41.88770783333333,
         -87.76542383333332
        ],
        [
         "562",
         "Racine Ave & 61st St",
         41.783189,
         -87.654372
        ],
        [
         "16916",
         "Central Ave & Madison St",
         41.88016233333333,
         -87.76319483333332
        ],
        [
         "20120",
         "Stewart Ave & 83rd St",
         41.74372566666667,
         -87.63409866666667
        ],
        [
         "20236",
         "Stony Island Ave & 90th St",
         41.73139494330236,
         -87.58574366569519
        ],
        [
         "20215",
         "Hegewisch Metra Station",
         41.64850076266409,
         -87.54608988761902
        ],
        [
         "642",
         "Latrobe Ave & Chicago Ave",
         41.89472083333333,
         -87.7568665
        ],
        [
         "16932",
         "Ashland Ave & Pershing Rd",
         41.823465,
         -87.665577
        ],
        [
         "20118",
         "Eggleston Ave & 92nd St",
         41.72755866666667,
         -87.634862
        ],
        [
         "20130",
         "Wentworth Ave & 104th St",
         41.705308,
         -87.62921700000001
        ],
        [
         "16943",
         "Ashland Ave & Garfield Blvd",
         41.792821999999994,
         -87.664429
        ],
        [
         "20125",
         "Halsted St & 104th St",
         41.70517733333333,
         -87.64237916666669
        ],
        [
         "202480.0",
         "Hampden Ct & Diversey Ave",
         41.93,
         -87.64
        ],
        [
         "20225",
         "Commercial Ave & 100th St",
         41.713300333333336,
         -87.55126783333333
        ],
        [
         "588",
         "South Chicago Ave & 83rd St",
         41.743921,
         -87.575225
        ],
        [
         "20201",
         "Kedzie Ave & 104th St",
         41.7,
         -87.7
        ],
        [
         "556",
         "Throop St & 52nd St",
         41.799659000000005,
         -87.657195
        ],
        [
         "18025",
         "Carpenter St & 63rd St",
         41.7798495,
         -87.65079016666668
        ],
        [
         "20226",
         "Oglesby Ave & 100th St",
         41.713397,
         -87.565842
        ],
        [
         "KA1503000001",
         "Shields Ave & 43rd St",
         41.816208,
         -87.634819
        ],
        [
         "20224",
         "Calumet Park",
         41.71369766666667,
         -87.53081833333331
        ],
        [
         "20212",
         "Altgeld Gardens",
         41.657077,
         -87.59887049999999
        ],
        [
         "564",
         "Racine Ave & 65th St",
         41.775393,
         -87.654308
        ],
        [
         "201022",
         "Loomis St & 89th St",
         41.73237975329554,
         -87.65806943178177
        ],
        [
         "665",
         "South Chicago Ave & Elliot Ave",
         41.747363,
         -87.580046
        ],
        [
         "20249.0",
         "N Clark St & W Elm St",
         41.9,
         -87.63
        ],
        [
         "DIVVY 001",
         "WEST CHI-WATSON",
         41.894791999999995,
         -87.730906
        ],
        [
         "20237",
         "Yates Blvd & 93rd St",
         41.726164000000004,
         -87.5663105
        ],
        [
         "20202",
         "W 103rd St & S Avers Ave",
         41.71,
         -87.72
        ],
        [
         "20133",
         "Woodlawn & 103rd - Olive Harvey Vaccination Site",
         41.71,
         -87.59
        ],
        [
         "20134",
         "Maryland Ave & 104th St",
         41.71,
         -87.6
        ],
        [
         "20999",
         "Lyft Driver Center Private Rack",
         41.9,
         -87.66
        ],
        [
         "20126",
         "S Aberdeen St & W 106th St",
         41.7,
         -87.65
        ],
        [
         "322",
         "Cicero Ave & Grace St",
         41.95,
         -87.75
        ],
        [
         "365.0",
         "Kildare Ave & 26th St",
         41.84,
         -87.73
        ],
        [
         "362.0",
         "Lawndale Ave & 16th St",
         41.86,
         -87.72
        ],
        [
         "366.0",
         "Spaulding Ave & 16th St",
         41.86,
         -87.71
        ],
        [
         "364.0",
         "Homan Ave & Fillmore St",
         41.87,
         -87.71
        ],
        [
         "356",
         "Lavergne & Fullerton",
         41.92,
         -87.75
        ],
        [
         "20220",
         "Avenue L & 114th St",
         41.69,
         -87.54
        ],
        [
         "DIVVY CASSETTE REPAIR MOBILE STATION",
         "DIVVY CASSETTE REPAIR MOBILE STATION",
         41.880958,
         -87.616743
        ],
        [
         "358",
         "Kilpatrick Ave & Parker Ave",
         41.93,
         -87.74
        ],
        [
         "329.0",
         "Central Park Ave & Douglas Blvd",
         41.86,
         -87.72
        ],
        [
         "316",
         "Lamon Ave & Belmont Ave",
         41.94,
         -87.75
        ],
        [
         "368.0",
         "Tripp Ave & 31st St",
         41.84,
         -87.73
        ],
        [
         "317",
         "Long Ave & Belmont Ave",
         41.94,
         -87.76
        ],
        [
         "353",
         "Meade Ave & Diversey Ave",
         41.93,
         -87.78
        ],
        [
         "313",
         "Long Ave & Belden Ave",
         41.92,
         -87.76
        ],
        [
         "363.0",
         "Tripp Ave & 15th St",
         41.86,
         -87.73
        ],
        [
         "355",
         "Central Ave & Parker Ave",
         41.93,
         -87.77
        ],
        [
         "334.0",
         "Lawndale Ave & 30th St",
         41.84,
         -87.72
        ],
        [
         "324",
         "Meade Ave & Addison St",
         41.95,
         -87.78
        ],
        [
         "360",
         "Kilbourn & Roscoe",
         41.94,
         -87.74
        ],
        [
         "351",
         "Mulligan Ave & Wellington Ave",
         41.93,
         -87.78
        ],
        [
         "354",
         "Parkside Ave & Armitage Ave",
         41.92,
         -87.77
        ],
        [
         "312",
         "Lockwood Ave & Wrightwood Ave",
         41.93,
         -87.76
        ],
        [
         "327",
         "Plainfield & Irving Park",
         41.95,
         -87.83
        ],
        [
         "397",
         "Narragansett Ave & School St",
         41.94,
         -87.79
        ],
        [
         "396",
         "Central Ave & Roscoe St",
         41.94,
         -87.77
        ],
        [
         "398",
         "Long & Irving Park",
         41.95,
         -87.76
        ],
        [
         "330.0",
         "Keeler Ave & Roosevelt Rd",
         41.87,
         -87.73
        ],
        [
         "335.0",
         "Komensky Ave & 31st St",
         41.84,
         -87.73
        ],
        [
         "321",
         "Kostner Ave & Wrightwood Ave",
         41.93,
         -87.74
        ],
        [
         "473",
         "Mason Ave & Belmont Ave",
         41.94,
         -87.77
        ],
        [
         "310",
         "North Ave & New England Ave",
         41.91,
         -87.8
        ],
        [
         "332.0",
         "Harding Ave & 26th St",
         41.84,
         -87.72
        ],
        [
         "331.0",
         "Pulaski Rd & 21st St",
         41.85,
         -87.72
        ],
        [
         "325",
         "Harlem Ave & Grace St",
         41.95,
         -87.81
        ],
        [
         "393",
         "Oketo Ave & Addison St",
         41.94,
         -87.81
        ],
        [
         "319",
         "Roscoe & Harlem",
         41.94,
         -87.81
        ],
        [
         "357",
         "Lamon Ave & Armitage Ave",
         41.92,
         -87.75
        ],
        [
         "352",
         "Sayre & Diversey",
         41.93,
         -87.8
        ],
        [
         "359",
         "Kilbourn & Belden",
         41.92,
         -87.74
        ],
        [
         "320",
         "Orange & Addison",
         41.94,
         -87.82
        ],
        [
         "326",
         "Harlem & Irving Park",
         41.95,
         -87.81
        ],
        [
         "305",
         "Menard Ave & Division St",
         41.9,
         -87.77
        ],
        [
         "384",
         "Kedzie Ave & 52nd St",
         41.8,
         -87.7
        ],
        [
         "394",
         "Panama Ave & Grace St",
         41.95,
         -87.83
        ],
        [
         "308",
         "Major Ave & Bloomingdale Ave",
         41.91,
         -87.77
        ],
        [
         "378",
         "Nordica & Medill",
         41.92,
         -87.8
        ],
        [
         "323",
         "Narragansett & Irving Park",
         41.95,
         -87.79
        ],
        [
         "348",
         "Western Ave & 62nd St",
         41.78,
         -87.68
        ],
        [
         "20114",
         "Doty Ave & 111th St",
         41.6950195,
         -87.59875433333332
        ],
        [
         "314",
         "Narragansett & Wrightwood",
         41.93,
         -87.79
        ],
        [
         "361",
         "Kenosha & Wellington",
         41.93,
         -87.73
        ],
        [
         "341",
         "Archer Ave & 43rd St",
         41.82,
         -87.7
        ],
        [
         "318",
         "Oak Park & Wellington",
         41.93,
         -87.8
        ],
        [
         "309",
         "Narragansett & McLean",
         41.92,
         -87.79
        ],
        [
         "301",
         "Monticello Ave & Chicago Ave",
         41.9,
         -87.72
        ],
        [
         "388",
         "Richmond St & 59th St",
         41.79,
         -87.7
        ],
        [
         "302",
         "Lamon Ave & Chicago Ave",
         41.9,
         -87.75
        ],
        [
         "377",
         "Bloomingdale Ave & Harlem Ave",
         41.91,
         -87.81
        ],
        [
         "337",
         "Hoyne Ave & 34th St",
         41.83,
         -87.68
        ],
        [
         "375",
         "Long Ave & North Ave",
         41.91,
         -87.76
        ],
        [
         "304",
         "Lavergne Ave & Division St",
         41.9,
         -87.75
        ],
        [
         "385",
         "St Louis Ave & Norman Bobbins Ave",
         41.79,
         -87.71
        ],
        [
         "371",
         "Kildare Ave & Chicago Ave",
         41.9,
         -87.73
        ],
        [
         "382",
         "Kedzie Ave & 48th Pl",
         41.8,
         -87.7
        ],
        [
         "389",
         "Maplewood Ave & 59th St",
         41.79,
         -87.69
        ],
        [
         "303",
         "Kildare Ave & Division St",
         41.9,
         -87.73
        ],
        [
         "20260.0",
         "Ping Tom Park (East)",
         41.86,
         -87.63
        ],
        [
         "379",
         "Rockwell St & Archer Ave",
         41.82,
         -87.69
        ],
        [
         "339",
         "Sacramento Ave & Pershing Rd",
         41.82,
         -87.7
        ],
        [
         "338",
         "California Ave & 36th St",
         41.83,
         -87.69
        ],
        [
         "307",
         "Leamington Ave & Hirsch St",
         41.91,
         -87.75
        ],
        [
         "445",
         "Western Ave & Gunnison St",
         41.97,
         -87.69
        ],
        [
         "386",
         "Rockwell St & 57th St",
         41.79,
         -87.69
        ],
        [
         "471",
         "Damen Ave & 33rd St",
         41.83,
         -87.68
        ],
        [
         "403",
         "Kildare Ave & 55th St",
         41.79,
         -87.73
        ],
        [
         "20255.0",
         "N Damen Ave & W Chicago Ave",
         41.9,
         -87.68
        ],
        [
         "406",
         "Kostner Ave & 63rd St",
         41.78,
         -87.73
        ],
        [
         "344",
         "Springfield Ave & 47th St",
         41.81,
         -87.72
        ],
        [
         "343",
         "Pulaski Rd & 51st St",
         41.8,
         -87.72
        ],
        [
         "399",
         "Lavergne Ave & 46th St",
         41.81,
         -87.75
        ],
        [
         "380",
         "Fairfield Ave & 44th St",
         41.81,
         -87.69
        ],
        [
         "407",
         "Tripp Ave & 65th St",
         41.77,
         -87.73
        ],
        [
         "20209",
         "S Michigan Ave & E 118th St",
         41.68,
         -87.62
        ],
        [
         "430",
         "Troy St & Grace St",
         41.95,
         -87.71
        ],
        [
         "404",
         "Pulaski Rd & 60th St",
         41.78,
         -87.72
        ],
        [
         "347",
         "Komensky Ave & 55th St",
         41.79,
         -87.72
        ],
        [
         "346",
         "Kedzie Ave & 57th St",
         41.79,
         -87.7
        ],
        [
         "370",
         "Central Park & Augusta Blvd",
         41.9,
         -87.72
        ],
        [
         "400",
         "Lawler Ave & 50th St",
         41.8,
         -87.75
        ],
        [
         "369",
         "Central Park Ave & Ohio St",
         41.89,
         -87.72
        ],
        [
         "434",
         "Albany Ave & Belmont Ave",
         41.94,
         -87.71
        ],
        [
         "428",
         "Milwaukee Ave & Fullerton Ave",
         41.92,
         -87.7
        ],
        [
         "349",
         "Spaulding Ave & 63rd St",
         41.78,
         -87.71
        ],
        [
         "345",
         "Artesian Ave & 55th St",
         41.79,
         -87.69
        ],
        [
         "340",
         "Pulaski & Ann Lurie Pl",
         41.82,
         -87.72
        ],
        [
         "20240",
         "Indiana Ave & 133rd St",
         41.65,
         -87.62
        ],
        [
         "442",
         "Lincoln Ave & Balmoral Ave",
         41.98,
         -87.69
        ],
        [
         "402",
         "Kenneth Ave & 50th St",
         41.8,
         -87.73
        ],
        [
         "20128",
         "S Wentworth Ave & W 111th St",
         41.69,
         -87.63
        ],
        [
         "374",
         "Kilpatrick Ave & Grand Ave",
         41.91,
         -87.74
        ],
        [
         "443",
         "California Ave & Winona St",
         41.97,
         -87.7
        ],
        [
         "475",
         "Whipple/Irving Park",
         41.95,
         -87.7
        ],
        [
         "431",
         "Western Ave & Grace St",
         41.95,
         -87.69
        ],
        [
         "435",
         "Rockwell St & Fletcher St",
         41.94,
         -87.69
        ],
        [
         "458",
         "Washtenaw Ave & Peterson Ave",
         41.99,
         -87.7
        ],
        [
         "472",
         "Elston Ave & George St",
         41.93,
         -87.69
        ],
        [
         "462",
         "Lincoln Ave & Peterson Ave",
         41.99,
         -87.71
        ],
        [
         "429",
         "Francisco Ave & Bloomingdale Ave",
         41.91,
         -87.7
        ],
        [
         "444",
         "N Shore Channel Trail & Argyle Ave",
         41.97,
         -87.7
        ],
        [
         "436",
         "Kedzie Ave & George St",
         41.93,
         -87.71
        ],
        [
         "401",
         "Kildare Ave & 47th St",
         41.81,
         -87.73
        ],
        [
         "373",
         "Augusta Blvd & Laramie Ave",
         41.9,
         -87.76
        ],
        [
         "387",
         "St Louis Ave & 59th St",
         41.79,
         -87.71
        ],
        [
         "425",
         "Rockwell St & Cermak Rd",
         41.85,
         -87.69
        ],
        [
         "446",
         "Francisco Ave & Montrose Ave",
         41.96,
         -87.7
        ],
        [
         "441",
         "Virginia Ave & Catalpa Ave",
         41.98,
         -87.7
        ],
        [
         "390",
         "California Ave & Marquette Rd",
         41.77,
         -87.69
        ],
        [
         "452",
         "Richmond St & Lincoln Ave",
         41.99,
         -87.7
        ],
        [
         "419",
         "Sacramento Blvd & Polk St",
         41.87,
         -87.7
        ],
        [
         "350",
         "Hamlin Ave & 62nd Pl",
         41.78,
         -87.72
        ],
        [
         "433",
         "Elston Ave & Henderson St",
         41.94,
         -87.7
        ],
        [
         "Throop/Hastings Mobile Station",
         "Throop/Hastings Mobile Station",
         41.851560473,
         -87.659110785
        ],
        [
         "376",
         "Menard Ave & North Ave",
         41.91,
         -87.77
        ],
        [
         "424",
         "Sacramento Ave & 25th St",
         41.85,
         -87.7
        ],
        [
         "464",
         "Western Ave & Ardmore Ave",
         41.99,
         -87.69
        ],
        [
         "432",
         "Sacramento Blvd & Addison St",
         41.95,
         -87.7
        ],
        [
         "20102",
         "Loomis St & 89th St",
         41.73247816666667,
         -87.6580595
        ],
        [
         "460",
         "Francisco Ave & Hollywood Ave",
         41.98,
         -87.7
        ],
        [
         "466",
         "California Ave & 29th St",
         41.84,
         -87.69
        ],
        [
         "21544",
         "State St & Chicago Ave",
         41.896932,
         -87.62876016666668
        ],
        [
         "418",
         "Mozart St & Jackson Blvd",
         41.88,
         -87.7
        ],
        [
         "415",
         "Western Ave & Lake St",
         41.88,
         -87.69
        ],
        [
         "416",
         "Washtenaw Ave & Madison St",
         41.88,
         -87.69
        ],
        [
         "381",
         "Francisco Ave & 47th St",
         41.81,
         -87.7
        ],
        [
         "414",
         "Sacramento Blvd & Fulton Ave",
         41.89,
         -87.7
        ],
        [
         "20111",
         "Olive Harvey College",
         41.709526000000004,
         -87.590236
        ],
        [
         "383",
         "Campbell Ave & 51st St",
         41.8,
         -87.69
        ],
        [
         "342",
         "Kedzie Ave & 45th St",
         41.81,
         -87.7
        ],
        [
         "Pawel Bialowas - Test- PBSC charging station",
         "Pawel Bialowas - Test- PBSC charging station",
         45.635034323,
         -73.79647696
        ],
        [
         "Hastings WH 2",
         "Hastings WH 2",
         41.863533139,
         -87.679664254
        ],
        [
         "420",
         "Washtenaw Ave & Polk St",
         41.87,
         -87.69
        ],
        [
         "474",
         "Fullerton & Monitor",
         41.92,
         -87.77
        ],
        [
         "Lincoln Ave & Roscoe St - Charging",
         "Lincoln Ave & Roscoe St - Charging",
         41.943063378000005,
         -87.670833826
        ],
        [
         "427",
         "Whipple St & Roosevelt Rd",
         41.87,
         -87.7
        ],
        [
         "20258.0",
         "N Damen Ave & W Wabansia St",
         41.91,
         -87.68
        ],
        [
         "437",
         "Whipple St & Irving Park Rd",
         41.95,
         -87.7
        ]
       ],
       "datasetInfos": [],
       "dbfsResultPath": null,
       "isJsonSchema": true,
       "metadata": {},
       "overflow": false,
       "plotOptions": {
        "customPlotOptions": {},
        "displayType": "table",
        "pivotAggregation": null,
        "pivotColumns": null,
        "xColumns": null,
        "yColumns": null
       },
       "removedWidgets": [],
       "schema": [
        {
         "metadata": "{}",
         "name": "station_key",
         "type": "\"string\""
        },
        {
         "metadata": "{}",
         "name": "station_name",
         "type": "\"string\""
        },
        {
         "metadata": "{}",
         "name": "latitude",
         "type": "\"double\""
        },
        {
         "metadata": "{}",
         "name": "longitude",
         "type": "\"double\""
        }
       ],
       "type": "table"
      }
     }
    },
    {
     "output_type": "stream",
     "name": "stdout",
     "text": [
      "root\n |-- station_key: string (nullable = true)\n |-- station_name: string (nullable = true)\n |-- latitude: double (nullable = true)\n |-- longitude: double (nullable = true)\n\n"
     ]
    }
   ],
   "source": [
    "df_dim_station.display()\n",
    "df_dim_station.printSchema()"
   ]
  },
  {
   "cell_type": "code",
   "execution_count": 0,
   "metadata": {
    "application/vnd.databricks.v1+cell": {
     "cellMetadata": {
      "byteLimit": 2048000,
      "rowLimit": 10000
     },
     "inputWidgets": {},
     "nuid": "735c257a-fe0d-4c78-8c47-6d4ec64fd1b1",
     "showTitle": false,
     "title": ""
    },
    "pycharm": {
     "name": "#%%\n"
    }
   },
   "outputs": [],
   "source": [
    "# Set the station_key column as the DataFrame index\n",
    "df_dim_station = df_dim_station.orderBy('station_key')\n",
    "df_dim_station = df_dim_station.dropDuplicates(['station_key'])\n",
    "df_dim_station = df_dim_station.repartition('station_key')"
   ]
  },
  {
   "cell_type": "markdown",
   "metadata": {
    "application/vnd.databricks.v1+cell": {
     "cellMetadata": {},
     "inputWidgets": {},
     "nuid": "d14c184a-904f-4e96-b31f-3bdab9089f7b",
     "showTitle": false,
     "title": ""
    },
    "pycharm": {
     "name": "#%% md\n"
    }
   },
   "source": [
    "### Write To Table"
   ]
  },
  {
   "cell_type": "code",
   "execution_count": 0,
   "metadata": {
    "application/vnd.databricks.v1+cell": {
     "cellMetadata": {
      "byteLimit": 2048000,
      "rowLimit": 10000
     },
     "inputWidgets": {},
     "nuid": "fd8e11fa-0cd2-447e-8e64-acd8d8b88186",
     "showTitle": false,
     "title": ""
    },
    "pycharm": {
     "name": "#%%\n"
    }
   },
   "outputs": [],
   "source": [
    "df_dim_station.write.format(\"delta\") \\\n",
    "    .mode(\"overwrite\") \\\n",
    "    .saveAsTable(\"gold_dimStations\")"
   ]
  },
  {
   "cell_type": "markdown",
   "metadata": {
    "application/vnd.databricks.v1+cell": {
     "cellMetadata": {
      "byteLimit": 2048000,
      "rowLimit": 10000
     },
     "inputWidgets": {},
     "nuid": "c0e8c024-371a-4b8e-a3fd-f9e8431c15a9",
     "showTitle": false,
     "title": ""
    },
    "collapsed": false,
    "pycharm": {
     "name": "#%% md\n"
    }
   },
   "source": [
    "## Trip Fact DF"
   ]
  },
  {
   "cell_type": "code",
   "execution_count": 0,
   "metadata": {
    "application/vnd.databricks.v1+cell": {
     "cellMetadata": {
      "byteLimit": 2048000,
      "rowLimit": 10000
     },
     "inputWidgets": {},
     "nuid": "206b1786-6750-415b-98ca-a752d47c6229",
     "showTitle": false,
     "title": ""
    },
    "collapsed": false,
    "pycharm": {
     "name": "#%%\n"
    }
   },
   "outputs": [],
   "source": [
    "# Define the schema for the riders dimension table\n",
    "schema = StructType([\n",
    "    StructField(\"trip_key\", StringType(), True),\n",
    "    StructField(\"rideable_type\", StringType(), True),\n",
    "    StructField(\"start_date_id\", TimestampType(), True),\n",
    "    StructField(\"ended_date_id\", TimestampType(), True),\n",
    "    StructField(\"start_station_id\", StringType(), True),\n",
    "    StructField(\"end_station_id\", StringType(), True),\n",
    "    StructField(\"rider_id\", IntegerType(), True),\n",
    "    StructField(\"age\", IntegerType(), True),\n",
    "    StructField(\"trip_duration\", TimestampType(), True)\n",
    "])\n",
    "\n",
    "# Create an empty DataFrame with the defined schema\n",
    "df_fact_trip = spark.createDataFrame([], schema)"
   ]
  },
  {
   "cell_type": "markdown",
   "metadata": {
    "application/vnd.databricks.v1+cell": {
     "cellMetadata": {
      "byteLimit": 2048000,
      "rowLimit": 10000
     },
     "inputWidgets": {},
     "nuid": "1110926f-9db4-4191-8e40-e38b2d3383e4",
     "showTitle": false,
     "title": ""
    },
    "collapsed": false,
    "pycharm": {
     "name": "#%% md\n"
    }
   },
   "source": [
    "### Merge the trip, dimDate (twice), and dimRiders data frames based on the required columns"
   ]
  },
  {
   "cell_type": "code",
   "execution_count": 0,
   "metadata": {
    "application/vnd.databricks.v1+cell": {
     "cellMetadata": {
      "byteLimit": 2048000,
      "rowLimit": 10000
     },
     "inputWidgets": {},
     "nuid": "d1f2b0a4-5e6d-4ce9-aa1f-11d36c211ff6",
     "showTitle": false,
     "title": ""
    },
    "collapsed": false,
    "pycharm": {
     "name": "#%%\n"
    }
   },
   "outputs": [],
   "source": [
    "df_fact_trip_batch = df_silver_trip \\\n",
    "    .join(calendar_df.withColumnRenamed(\"DateTime\", \"start_date_time\"), \n",
    "          df_silver_trip.started_at == col(\"start_date_time\"), \"inner\") \\\n",
    "    .join(calendar_df.withColumnRenamed(\"DateTime\", \"end_date_time\"), \n",
    "          df_silver_trip.ended_at == col(\"end_date_time\"), \"inner\") \\\n",
    "    .join(df_dim_riders, df_silver_trip.rider_id == df_dim_riders.rider_key, \"inner\") \\\n",
    "    .select(df_silver_trip.trip_id, df_silver_trip.rideable_type, \"start_date_time\", \"end_date_time\", \n",
    "            df_silver_trip.start_station_id, df_silver_trip.end_station_id, df_silver_trip.rider_id, \n",
    "            df_dim_riders.birthday)\n"
   ]
  },
  {
   "cell_type": "markdown",
   "metadata": {
    "application/vnd.databricks.v1+cell": {
     "cellMetadata": {
      "byteLimit": 2048000,
      "rowLimit": 10000
     },
     "inputWidgets": {},
     "nuid": "7b9990ee-d8d8-482f-9083-4b1b259c96c9",
     "showTitle": false,
     "title": ""
    },
    "collapsed": false,
    "pycharm": {
     "name": "#%% md\n"
    }
   },
   "source": [
    "### Create Age Column"
   ]
  },
  {
   "cell_type": "code",
   "execution_count": 0,
   "metadata": {
    "application/vnd.databricks.v1+cell": {
     "cellMetadata": {
      "byteLimit": 2048000,
      "rowLimit": 10000
     },
     "inputWidgets": {},
     "nuid": "0e5ea32c-d1c5-4f68-87e1-22ad862ac0a7",
     "showTitle": false,
     "title": ""
    },
    "collapsed": false,
    "pycharm": {
     "name": "#%%\n"
    }
   },
   "outputs": [],
   "source": [
    "# Method 1 , wrong ! gives wrong data for trips under 1 year, ### FIX ME\n",
    "\"\"\"\n",
    "df_fact_trip_batch['age'] = (df_fact_trip_batch['start_at'] - df_fact_trip_batch['birthday']).astype('<m8[Y]')\n",
    "\"\"\"\n",
    "# Method 2\n",
    "# Define a UDF to calculate age from birth year\n",
    "def calculate_age(birthday, start_at):\n",
    "    anniversary_date = datetime(start_at.year, birthday.month, birthday.day)\n",
    "    age = start_at.year - birthday.year - ((start_at < anniversary_date))\n",
    "    return age\n",
    "\n",
    "# Register the UDF\n",
    "calculate_age_udf = udf(lambda birthday, start_at: calculate_age(birthday, start_at), IntegerType())\n",
    "\n",
    "# Apply the UDF to the dob column and store the result in a new column called age\n",
    "df_fact_trip_batch = df_fact_trip_batch.withColumn('age', calculate_age_udf(df_fact_trip_batch.birthday, df_fact_trip_batch.start_date_time))"
   ]
  },
  {
   "cell_type": "markdown",
   "metadata": {
    "application/vnd.databricks.v1+cell": {
     "cellMetadata": {
      "byteLimit": 2048000,
      "rowLimit": 10000
     },
     "inputWidgets": {},
     "nuid": "8f7ef33c-074e-4adc-a7f6-64748037f47a",
     "showTitle": false,
     "title": ""
    },
    "collapsed": false,
    "pycharm": {
     "name": "#%% md\n"
    }
   },
   "source": [
    "### Create Trip Duration Column"
   ]
  },
  {
   "cell_type": "code",
   "execution_count": 0,
   "metadata": {
    "application/vnd.databricks.v1+cell": {
     "cellMetadata": {
      "byteLimit": 2048000,
      "rowLimit": 10000
     },
     "inputWidgets": {},
     "nuid": "3850332d-9f31-4ce5-8f83-aa1f0e914b59",
     "showTitle": false,
     "title": ""
    },
    "collapsed": false,
    "pycharm": {
     "name": "#%%\n"
    }
   },
   "outputs": [],
   "source": [
    "df_fact_trip_batch = df_fact_trip_batch.withColumn(\"trip_duration\", (col(\"end_date_time\") - col(\"start_date_time\")))"
   ]
  },
  {
   "cell_type": "markdown",
   "metadata": {
    "application/vnd.databricks.v1+cell": {
     "cellMetadata": {
      "byteLimit": 2048000,
      "rowLimit": 10000
     },
     "inputWidgets": {},
     "nuid": "3c8a32a8-ceaf-48c2-a9d8-fe17adb0b24e",
     "showTitle": false,
     "title": ""
    },
    "collapsed": false,
    "pycharm": {
     "name": "#%% md\n"
    }
   },
   "source": [
    "### Rename the 'DateTime' columns to 'start_date_id' and 'ended_date_id', and select the required columns:"
   ]
  },
  {
   "cell_type": "code",
   "execution_count": 0,
   "metadata": {
    "application/vnd.databricks.v1+cell": {
     "cellMetadata": {
      "byteLimit": 2048000,
      "rowLimit": 10000
     },
     "inputWidgets": {},
     "nuid": "a10b162f-5cb3-4c54-9868-1c03b48383a8",
     "showTitle": false,
     "title": ""
    },
    "collapsed": false,
    "pycharm": {
     "name": "#%%\n"
    }
   },
   "outputs": [],
   "source": [
    "df_fact_trip_batch = df_fact_trip_batch.withColumnRenamed('start_date_time', 'start_date_id')\n",
    "df_fact_trip_batch = df_fact_trip_batch.withColumnRenamed('end_date_time', 'ended_date_id')\n",
    "df_fact_trip_batch = df_fact_trip_batch.withColumnRenamed('trip_id', 'trip_key')\n",
    "df_fact_trip_batch = df_fact_trip_batch.withColumn(\"trip_duration\", to_timestamp(\"trip_duration\", \"yyyy-MM-dd HH:mm:ss\"))\n",
    "df_fact_trip_batch = df_fact_trip_batch[['trip_key', 'rideable_type', 'start_date_id', 'ended_date_id', 'start_station_id', 'end_station_id', 'rider_id', 'age', 'trip_duration']]"
   ]
  },
  {
   "cell_type": "code",
   "execution_count": 0,
   "metadata": {
    "application/vnd.databricks.v1+cell": {
     "cellMetadata": {
      "byteLimit": 2048000,
      "rowLimit": 10000
     },
     "inputWidgets": {},
     "nuid": "8c6fae5c-4ab1-47fa-93f6-c86042695037",
     "showTitle": false,
     "title": ""
    },
    "pycharm": {
     "name": "#%%\n"
    }
   },
   "outputs": [
    {
     "output_type": "display_data",
     "data": {
      "text/html": [
       "<style scoped>\n  .table-result-container {\n    max-height: 300px;\n    overflow: auto;\n  }\n  table, th, td {\n    border: 1px solid black;\n    border-collapse: collapse;\n  }\n  th, td {\n    padding: 5px;\n  }\n  th {\n    text-align: left;\n  }\n</style><div class='table-result-container'><table class='table-result'><thead style='background-color: white'><tr><th>trip_key</th><th>rideable_type</th><th>start_date_id</th><th>ended_date_id</th><th>start_station_id</th><th>end_station_id</th><th>rider_id</th><th>age</th><th>trip_duration</th></tr></thead><tbody></tbody></table></div>"
      ]
     },
     "metadata": {
      "application/vnd.databricks.v1+output": {
       "addedWidgets": {},
       "aggData": [],
       "aggError": "",
       "aggOverflow": false,
       "aggSchema": [],
       "aggSeriesLimitReached": false,
       "aggType": "",
       "arguments": {},
       "columnCustomDisplayInfos": {},
       "data": [],
       "datasetInfos": [],
       "dbfsResultPath": null,
       "isJsonSchema": true,
       "metadata": {},
       "overflow": false,
       "plotOptions": {
        "customPlotOptions": {},
        "displayType": "table",
        "pivotAggregation": null,
        "pivotColumns": null,
        "xColumns": null,
        "yColumns": null
       },
       "removedWidgets": [],
       "schema": [
        {
         "metadata": "{}",
         "name": "trip_key",
         "type": "\"string\""
        },
        {
         "metadata": "{}",
         "name": "rideable_type",
         "type": "\"string\""
        },
        {
         "metadata": "{}",
         "name": "start_date_id",
         "type": "\"timestamp\""
        },
        {
         "metadata": "{}",
         "name": "ended_date_id",
         "type": "\"timestamp\""
        },
        {
         "metadata": "{}",
         "name": "start_station_id",
         "type": "\"string\""
        },
        {
         "metadata": "{}",
         "name": "end_station_id",
         "type": "\"string\""
        },
        {
         "metadata": "{}",
         "name": "rider_id",
         "type": "\"integer\""
        },
        {
         "metadata": "{}",
         "name": "age",
         "type": "\"integer\""
        },
        {
         "metadata": "{}",
         "name": "trip_duration",
         "type": "\"timestamp\""
        }
       ],
       "type": "table"
      }
     }
    },
    {
     "output_type": "stream",
     "name": "stdout",
     "text": [
      "root\n |-- trip_key: string (nullable = true)\n |-- rideable_type: string (nullable = true)\n |-- start_date_id: timestamp (nullable = true)\n |-- ended_date_id: timestamp (nullable = true)\n |-- start_station_id: string (nullable = true)\n |-- end_station_id: string (nullable = true)\n |-- rider_id: integer (nullable = true)\n |-- age: integer (nullable = true)\n |-- trip_duration: timestamp (nullable = true)\n\n"
     ]
    }
   ],
   "source": [
    "df_fact_trip_batch.display()\n",
    "df_fact_trip_batch.printSchema()"
   ]
  },
  {
   "cell_type": "markdown",
   "metadata": {
    "application/vnd.databricks.v1+cell": {
     "cellMetadata": {
      "byteLimit": 2048000,
      "rowLimit": 10000
     },
     "inputWidgets": {},
     "nuid": "7dcd0ed9-c235-4416-b2dc-568e11a0f78e",
     "showTitle": false,
     "title": ""
    },
    "collapsed": false,
    "pycharm": {
     "name": "#%% md\n"
    }
   },
   "source": [
    "### Concat"
   ]
  },
  {
   "cell_type": "code",
   "execution_count": 0,
   "metadata": {
    "application/vnd.databricks.v1+cell": {
     "cellMetadata": {
      "byteLimit": 2048000,
      "rowLimit": 10000
     },
     "inputWidgets": {},
     "nuid": "c1fe69d4-f1fb-4f1f-a780-cd13d6db375b",
     "showTitle": false,
     "title": ""
    },
    "collapsed": false,
    "pycharm": {
     "name": "#%%\n"
    }
   },
   "outputs": [],
   "source": [
    "df_fact_trip = df_fact_trip.union(df_fact_trip_batch)"
   ]
  },
  {
   "cell_type": "code",
   "execution_count": 0,
   "metadata": {
    "application/vnd.databricks.v1+cell": {
     "cellMetadata": {
      "byteLimit": 2048000,
      "rowLimit": 10000
     },
     "inputWidgets": {},
     "nuid": "716d7746-253f-4bec-a0f5-cd18a5a7b124",
     "showTitle": false,
     "title": ""
    },
    "pycharm": {
     "name": "#%%\n"
    }
   },
   "outputs": [],
   "source": [
    "# Set the station_key column as the DataFrame index\n",
    "df_fact_trip = df_fact_trip.orderBy('trip_key')\n",
    "df_fact_trip = df_fact_trip.dropDuplicates(['trip_key'])\n",
    "df_fact_trip = df_fact_trip.repartition('trip_key')"
   ]
  },
  {
   "cell_type": "markdown",
   "metadata": {
    "application/vnd.databricks.v1+cell": {
     "cellMetadata": {},
     "inputWidgets": {},
     "nuid": "cf25dcd1-6845-434c-8735-937bcd4f6b02",
     "showTitle": false,
     "title": ""
    },
    "pycharm": {
     "name": "#%% md\n"
    }
   },
   "source": [
    "### Write To Table"
   ]
  },
  {
   "cell_type": "code",
   "execution_count": 0,
   "metadata": {
    "application/vnd.databricks.v1+cell": {
     "cellMetadata": {
      "byteLimit": 2048000,
      "rowLimit": 10000
     },
     "inputWidgets": {},
     "nuid": "10ffbd1f-d669-476f-9a92-96cd75c67649",
     "showTitle": false,
     "title": ""
    },
    "pycharm": {
     "name": "#%%\n"
    }
   },
   "outputs": [],
   "source": [
    "df_fact_trip.write.format(\"delta\") \\\n",
    "    .mode(\"overwrite\") \\\n",
    "    .saveAsTable(\"gold_factTrips\")"
   ]
  },
  {
   "cell_type": "markdown",
   "metadata": {
    "application/vnd.databricks.v1+cell": {
     "cellMetadata": {
      "byteLimit": 2048000,
      "rowLimit": 10000
     },
     "inputWidgets": {},
     "nuid": "b9226e44-7ff3-4ff2-a62d-1682dd36ca50",
     "showTitle": false,
     "title": ""
    },
    "collapsed": false,
    "pycharm": {
     "name": "#%% md\n"
    }
   },
   "source": [
    "## Payments Fact DF"
   ]
  },
  {
   "cell_type": "code",
   "execution_count": 0,
   "metadata": {
    "application/vnd.databricks.v1+cell": {
     "cellMetadata": {
      "byteLimit": 2048000,
      "rowLimit": 10000
     },
     "inputWidgets": {},
     "nuid": "74b5fded-b7d7-4055-afb3-76f632055cc8",
     "showTitle": false,
     "title": ""
    },
    "collapsed": false,
    "pycharm": {
     "name": "#%%\n"
    }
   },
   "outputs": [],
   "source": [
    "# Define the schema for the riders dimension table\n",
    "schema = StructType([\n",
    "    StructField(\"payment_id\", IntegerType(), True),\n",
    "    StructField(\"date_id\", TimestampType(), True),\n",
    "    StructField(\"rider_id\", IntegerType(), True),\n",
    "    StructField(\"amount\", IntegerType(), True)\n",
    "])\n",
    "\n",
    "# Create an empty DataFrame with the defined schema\n",
    "df_fact_payments = spark.createDataFrame([], schema)"
   ]
  },
  {
   "cell_type": "markdown",
   "metadata": {
    "application/vnd.databricks.v1+cell": {
     "cellMetadata": {
      "byteLimit": 2048000,
      "rowLimit": 10000
     },
     "inputWidgets": {},
     "nuid": "29255da4-c15d-4058-b6e8-62041ef9c929",
     "showTitle": false,
     "title": ""
    },
    "collapsed": false,
    "pycharm": {
     "name": "#%% md\n"
    }
   },
   "source": [
    "### Merge df_silver_payments with calendar_df"
   ]
  },
  {
   "cell_type": "code",
   "execution_count": 0,
   "metadata": {
    "application/vnd.databricks.v1+cell": {
     "cellMetadata": {
      "byteLimit": 2048000,
      "rowLimit": 10000
     },
     "inputWidgets": {},
     "nuid": "3ce717aa-5ed3-439a-b694-2218bd7b7f0e",
     "showTitle": false,
     "title": ""
    },
    "collapsed": false,
    "pycharm": {
     "name": "#%%\n"
    }
   },
   "outputs": [],
   "source": [
    "df_fact_payments_batch = df_silver_payments \\\n",
    "    .join(calendar_df, df_silver_payments.date == calendar_df.DateTime, \"inner\") \\\n",
    "    .select('payment_id', 'DateTime', 'rider_id', 'amount' )"
   ]
  },
  {
   "cell_type": "code",
   "execution_count": 0,
   "metadata": {
    "application/vnd.databricks.v1+cell": {
     "cellMetadata": {
      "byteLimit": 2048000,
      "rowLimit": 10000
     },
     "inputWidgets": {},
     "nuid": "c2570aeb-561e-43fb-8bdf-89f07c14bb0d",
     "showTitle": false,
     "title": ""
    },
    "pycharm": {
     "name": "#%%\n"
    }
   },
   "outputs": [
    {
     "output_type": "display_data",
     "data": {
      "text/html": [
       "<style scoped>\n  .table-result-container {\n    max-height: 300px;\n    overflow: auto;\n  }\n  table, th, td {\n    border: 1px solid black;\n    border-collapse: collapse;\n  }\n  th, td {\n    padding: 5px;\n  }\n  th {\n    text-align: left;\n  }\n</style><div class='table-result-container'><table class='table-result'><thead style='background-color: white'><tr><th>payment_id</th><th>DateTime</th><th>rider_id</th><th>amount</th></tr></thead><tbody><tr><td>71226</td><td>2013-02-01T00:00:00.000+0000</td><td>3958</td><td>7.24</td></tr><tr><td>221075</td><td>2013-03-01T00:00:00.000+0000</td><td>9517</td><td>9.00</td></tr><tr><td>163370</td><td>2013-03-01T00:00:00.000+0000</td><td>7263</td><td>9.00</td></tr><tr><td>162760</td><td>2013-03-01T00:00:00.000+0000</td><td>7243</td><td>9.00</td></tr><tr><td>128879</td><td>2013-03-01T00:00:00.000+0000</td><td>6050</td><td>9.00</td></tr><tr><td>105007</td><td>2013-03-01T00:00:00.000+0000</td><td>5168</td><td>9.00</td></tr><tr><td>77091</td><td>2013-03-01T00:00:00.000+0000</td><td>4160</td><td>9.00</td></tr><tr><td>72973</td><td>2013-03-01T00:00:00.000+0000</td><td>4023</td><td>9.00</td></tr><tr><td>71227</td><td>2013-03-01T00:00:00.000+0000</td><td>3958</td><td>7.24</td></tr><tr><td>47127</td><td>2013-03-01T00:00:00.000+0000</td><td>3066</td><td>9.00</td></tr><tr><td>37319</td><td>2013-03-01T00:00:00.000+0000</td><td>2737</td><td>9.00</td></tr><tr><td>1985</td><td>2013-03-01T00:00:00.000+0000</td><td>1527</td><td>9.00</td></tr><tr><td>224204</td><td>2013-04-01T00:00:00.000+0000</td><td>1241</td><td>9.00</td></tr><tr><td>221076</td><td>2013-04-01T00:00:00.000+0000</td><td>9517</td><td>9.00</td></tr><tr><td>216828</td><td>2013-04-01T00:00:00.000+0000</td><td>9332</td><td>9.00</td></tr><tr><td>201063</td><td>2013-04-01T00:00:00.000+0000</td><td>8746</td><td>9.00</td></tr><tr><td>195808</td><td>2013-04-01T00:00:00.000+0000</td><td>8544</td><td>9.00</td></tr><tr><td>182253</td><td>2013-04-01T00:00:00.000+0000</td><td>7981</td><td>8.77</td></tr><tr><td>171235</td><td>2013-04-01T00:00:00.000+0000</td><td>7574</td><td>9.00</td></tr><tr><td>163371</td><td>2013-04-01T00:00:00.000+0000</td><td>7263</td><td>9.00</td></tr><tr><td>162761</td><td>2013-04-01T00:00:00.000+0000</td><td>7243</td><td>9.00</td></tr><tr><td>158746</td><td>2013-04-01T00:00:00.000+0000</td><td>7098</td><td>19.40</td></tr><tr><td>146057</td><td>2013-04-01T00:00:00.000+0000</td><td>6657</td><td>10.00</td></tr><tr><td>128880</td><td>2013-04-01T00:00:00.000+0000</td><td>6050</td><td>9.00</td></tr><tr><td>123308</td><td>2013-04-01T00:00:00.000+0000</td><td>5854</td><td>9.00</td></tr><tr><td>107118</td><td>2013-04-01T00:00:00.000+0000</td><td>5235</td><td>9.00</td></tr><tr><td>105008</td><td>2013-04-01T00:00:00.000+0000</td><td>5168</td><td>9.00</td></tr><tr><td>103355</td><td>2013-04-01T00:00:00.000+0000</td><td>5106</td><td>9.00</td></tr><tr><td>101512</td><td>2013-04-01T00:00:00.000+0000</td><td>5044</td><td>9.00</td></tr><tr><td>87091</td><td>2013-04-01T00:00:00.000+0000</td><td>4521</td><td>9.00</td></tr><tr><td>77092</td><td>2013-04-01T00:00:00.000+0000</td><td>4160</td><td>9.00</td></tr><tr><td>72974</td><td>2013-04-01T00:00:00.000+0000</td><td>4023</td><td>9.00</td></tr><tr><td>71228</td><td>2013-04-01T00:00:00.000+0000</td><td>3958</td><td>7.24</td></tr><tr><td>60781</td><td>2013-04-01T00:00:00.000+0000</td><td>3559</td><td>9.00</td></tr><tr><td>47128</td><td>2013-04-01T00:00:00.000+0000</td><td>3066</td><td>9.00</td></tr><tr><td>37320</td><td>2013-04-01T00:00:00.000+0000</td><td>2737</td><td>9.00</td></tr><tr><td>6172</td><td>2013-04-01T00:00:00.000+0000</td><td>1661</td><td>9.00</td></tr><tr><td>2660</td><td>2013-04-01T00:00:00.000+0000</td><td>1548</td><td>23.08</td></tr><tr><td>1986</td><td>2013-04-01T00:00:00.000+0000</td><td>1527</td><td>9.00</td></tr><tr><td>224205</td><td>2013-05-01T00:00:00.000+0000</td><td>1241</td><td>9.00</td></tr><tr><td>221077</td><td>2013-05-01T00:00:00.000+0000</td><td>9517</td><td>9.00</td></tr><tr><td>216829</td><td>2013-05-01T00:00:00.000+0000</td><td>9332</td><td>9.00</td></tr><tr><td>206804</td><td>2013-05-01T00:00:00.000+0000</td><td>8953</td><td>9.00</td></tr><tr><td>201293</td><td>2013-05-01T00:00:00.000+0000</td><td>8753</td><td>9.00</td></tr><tr><td>201064</td><td>2013-05-01T00:00:00.000+0000</td><td>8746</td><td>9.00</td></tr><tr><td>195809</td><td>2013-05-01T00:00:00.000+0000</td><td>8544</td><td>9.00</td></tr><tr><td>182254</td><td>2013-05-01T00:00:00.000+0000</td><td>7981</td><td>8.77</td></tr><tr><td>181850</td><td>2013-05-01T00:00:00.000+0000</td><td>7970</td><td>9.00</td></tr><tr><td>171236</td><td>2013-05-01T00:00:00.000+0000</td><td>7574</td><td>9.00</td></tr><tr><td>163372</td><td>2013-05-01T00:00:00.000+0000</td><td>7263</td><td>9.00</td></tr><tr><td>162762</td><td>2013-05-01T00:00:00.000+0000</td><td>7243</td><td>9.00</td></tr><tr><td>158747</td><td>2013-05-01T00:00:00.000+0000</td><td>7098</td><td>19.40</td></tr><tr><td>146058</td><td>2013-05-01T00:00:00.000+0000</td><td>6657</td><td>10.00</td></tr><tr><td>138264</td><td>2013-05-01T00:00:00.000+0000</td><td>6367</td><td>9.00</td></tr><tr><td>135940</td><td>2013-05-01T00:00:00.000+0000</td><td>6290</td><td>9.00</td></tr><tr><td>128881</td><td>2013-05-01T00:00:00.000+0000</td><td>6050</td><td>9.00</td></tr><tr><td>124192</td><td>2013-05-01T00:00:00.000+0000</td><td>5881</td><td>9.00</td></tr><tr><td>123309</td><td>2013-05-01T00:00:00.000+0000</td><td>5854</td><td>9.00</td></tr><tr><td>107119</td><td>2013-05-01T00:00:00.000+0000</td><td>5235</td><td>9.00</td></tr><tr><td>105009</td><td>2013-05-01T00:00:00.000+0000</td><td>5168</td><td>9.00</td></tr><tr><td>103356</td><td>2013-05-01T00:00:00.000+0000</td><td>5106</td><td>9.00</td></tr><tr><td>101513</td><td>2013-05-01T00:00:00.000+0000</td><td>5044</td><td>9.00</td></tr><tr><td>87092</td><td>2013-05-01T00:00:00.000+0000</td><td>4521</td><td>9.00</td></tr><tr><td>77093</td><td>2013-05-01T00:00:00.000+0000</td><td>4160</td><td>9.00</td></tr><tr><td>72975</td><td>2013-05-01T00:00:00.000+0000</td><td>4023</td><td>9.00</td></tr><tr><td>71229</td><td>2013-05-01T00:00:00.000+0000</td><td>3958</td><td>7.24</td></tr><tr><td>60782</td><td>2013-05-01T00:00:00.000+0000</td><td>3559</td><td>9.00</td></tr><tr><td>47129</td><td>2013-05-01T00:00:00.000+0000</td><td>3066</td><td>9.00</td></tr><tr><td>37321</td><td>2013-05-01T00:00:00.000+0000</td><td>2737</td><td>9.00</td></tr><tr><td>6173</td><td>2013-05-01T00:00:00.000+0000</td><td>1661</td><td>9.00</td></tr><tr><td>2661</td><td>2013-05-01T00:00:00.000+0000</td><td>1548</td><td>23.08</td></tr><tr><td>1987</td><td>2013-05-01T00:00:00.000+0000</td><td>1527</td><td>9.00</td></tr><tr><td>224206</td><td>2013-06-01T00:00:00.000+0000</td><td>1241</td><td>9.00</td></tr><tr><td>221078</td><td>2013-06-01T00:00:00.000+0000</td><td>9517</td><td>9.00</td></tr><tr><td>220841</td><td>2013-06-01T00:00:00.000+0000</td><td>9509</td><td>9.00</td></tr><tr><td>218925</td><td>2013-06-01T00:00:00.000+0000</td><td>9416</td><td>9.00</td></tr><tr><td>217901</td><td>2013-06-01T00:00:00.000+0000</td><td>9380</td><td>12.77</td></tr><tr><td>216830</td><td>2013-06-01T00:00:00.000+0000</td><td>9332</td><td>9.00</td></tr><tr><td>206805</td><td>2013-06-01T00:00:00.000+0000</td><td>8953</td><td>9.00</td></tr><tr><td>201294</td><td>2013-06-01T00:00:00.000+0000</td><td>8753</td><td>9.00</td></tr><tr><td>201065</td><td>2013-06-01T00:00:00.000+0000</td><td>8746</td><td>9.00</td></tr><tr><td>195879</td><td>2013-06-01T00:00:00.000+0000</td><td>8546</td><td>23.15</td></tr><tr><td>195810</td><td>2013-06-01T00:00:00.000+0000</td><td>8544</td><td>9.00</td></tr><tr><td>188867</td><td>2013-06-01T00:00:00.000+0000</td><td>8252</td><td>9.00</td></tr><tr><td>182255</td><td>2013-06-01T00:00:00.000+0000</td><td>7981</td><td>8.77</td></tr><tr><td>181851</td><td>2013-06-01T00:00:00.000+0000</td><td>7970</td><td>9.00</td></tr><tr><td>171237</td><td>2013-06-01T00:00:00.000+0000</td><td>7574</td><td>9.00</td></tr><tr><td>163701</td><td>2013-06-01T00:00:00.000+0000</td><td>7274</td><td>19.85</td></tr><tr><td>163373</td><td>2013-06-01T00:00:00.000+0000</td><td>7263</td><td>9.00</td></tr><tr><td>162763</td><td>2013-06-01T00:00:00.000+0000</td><td>7243</td><td>9.00</td></tr><tr><td>160586</td><td>2013-06-01T00:00:00.000+0000</td><td>7155</td><td>9.00</td></tr><tr><td>158748</td><td>2013-06-01T00:00:00.000+0000</td><td>7098</td><td>19.40</td></tr><tr><td>155938</td><td>2013-06-01T00:00:00.000+0000</td><td>6995</td><td>9.00</td></tr><tr><td>146059</td><td>2013-06-01T00:00:00.000+0000</td><td>6657</td><td>10.00</td></tr><tr><td>139138</td><td>2013-06-01T00:00:00.000+0000</td><td>6397</td><td>9.00</td></tr><tr><td>138265</td><td>2013-06-01T00:00:00.000+0000</td><td>6367</td><td>9.00</td></tr><tr><td>135941</td><td>2013-06-01T00:00:00.000+0000</td><td>6290</td><td>9.00</td></tr><tr><td>128882</td><td>2013-06-01T00:00:00.000+0000</td><td>6050</td><td>9.00</td></tr><tr><td>124193</td><td>2013-06-01T00:00:00.000+0000</td><td>5881</td><td>9.00</td></tr><tr><td>123310</td><td>2013-06-01T00:00:00.000+0000</td><td>5854</td><td>9.00</td></tr><tr><td>112634</td><td>2013-06-01T00:00:00.000+0000</td><td>5441</td><td>9.00</td></tr><tr><td>107120</td><td>2013-06-01T00:00:00.000+0000</td><td>5235</td><td>9.00</td></tr><tr><td>105010</td><td>2013-06-01T00:00:00.000+0000</td><td>5168</td><td>9.00</td></tr><tr><td>103357</td><td>2013-06-01T00:00:00.000+0000</td><td>5106</td><td>9.00</td></tr><tr><td>101514</td><td>2013-06-01T00:00:00.000+0000</td><td>5044</td><td>9.00</td></tr><tr><td>87093</td><td>2013-06-01T00:00:00.000+0000</td><td>4521</td><td>9.00</td></tr><tr><td>77094</td><td>2013-06-01T00:00:00.000+0000</td><td>4160</td><td>9.00</td></tr><tr><td>72976</td><td>2013-06-01T00:00:00.000+0000</td><td>4023</td><td>9.00</td></tr><tr><td>72099</td><td>2013-06-01T00:00:00.000+0000</td><td>1244</td><td>9.00</td></tr><tr><td>71230</td><td>2013-06-01T00:00:00.000+0000</td><td>3958</td><td>7.24</td></tr><tr><td>60783</td><td>2013-06-01T00:00:00.000+0000</td><td>3559</td><td>9.00</td></tr><tr><td>54517</td><td>2013-06-01T00:00:00.000+0000</td><td>3328</td><td>9.00</td></tr><tr><td>47130</td><td>2013-06-01T00:00:00.000+0000</td><td>3066</td><td>9.00</td></tr><tr><td>42723</td><td>2013-06-01T00:00:00.000+0000</td><td>2932</td><td>9.00</td></tr><tr><td>37322</td><td>2013-06-01T00:00:00.000+0000</td><td>2737</td><td>9.00</td></tr><tr><td>6174</td><td>2013-06-01T00:00:00.000+0000</td><td>1661</td><td>9.00</td></tr><tr><td>2662</td><td>2013-06-01T00:00:00.000+0000</td><td>1548</td><td>23.08</td></tr><tr><td>1988</td><td>2013-06-01T00:00:00.000+0000</td><td>1527</td><td>9.00</td></tr><tr><td>224207</td><td>2013-07-01T00:00:00.000+0000</td><td>1241</td><td>9.00</td></tr><tr><td>223766</td><td>2013-07-01T00:00:00.000+0000</td><td>9620</td><td>9.00</td></tr><tr><td>221079</td><td>2013-07-01T00:00:00.000+0000</td><td>9517</td><td>9.00</td></tr><tr><td>220842</td><td>2013-07-01T00:00:00.000+0000</td><td>9509</td><td>9.00</td></tr><tr><td>218926</td><td>2013-07-01T00:00:00.000+0000</td><td>9416</td><td>9.00</td></tr><tr><td>217902</td><td>2013-07-01T00:00:00.000+0000</td><td>9380</td><td>12.77</td></tr><tr><td>216831</td><td>2013-07-01T00:00:00.000+0000</td><td>9332</td><td>9.00</td></tr><tr><td>206806</td><td>2013-07-01T00:00:00.000+0000</td><td>8953</td><td>9.00</td></tr><tr><td>201295</td><td>2013-07-01T00:00:00.000+0000</td><td>8753</td><td>9.00</td></tr><tr><td>201066</td><td>2013-07-01T00:00:00.000+0000</td><td>8746</td><td>9.00</td></tr><tr><td>195880</td><td>2013-07-01T00:00:00.000+0000</td><td>8546</td><td>23.15</td></tr><tr><td>195811</td><td>2013-07-01T00:00:00.000+0000</td><td>8544</td><td>9.00</td></tr><tr><td>188868</td><td>2013-07-01T00:00:00.000+0000</td><td>8252</td><td>9.00</td></tr><tr><td>182256</td><td>2013-07-01T00:00:00.000+0000</td><td>7981</td><td>8.77</td></tr><tr><td>181852</td><td>2013-07-01T00:00:00.000+0000</td><td>7970</td><td>9.00</td></tr><tr><td>171238</td><td>2013-07-01T00:00:00.000+0000</td><td>7574</td><td>9.00</td></tr><tr><td>168516</td><td>2013-07-01T00:00:00.000+0000</td><td>7477</td><td>9.00</td></tr><tr><td>163702</td><td>2013-07-01T00:00:00.000+0000</td><td>7274</td><td>19.85</td></tr><tr><td>163374</td><td>2013-07-01T00:00:00.000+0000</td><td>7263</td><td>9.00</td></tr><tr><td>162764</td><td>2013-07-01T00:00:00.000+0000</td><td>7243</td><td>9.00</td></tr><tr><td>160587</td><td>2013-07-01T00:00:00.000+0000</td><td>7155</td><td>9.00</td></tr><tr><td>159733</td><td>2013-07-01T00:00:00.000+0000</td><td>7124</td><td>9.00</td></tr><tr><td>158749</td><td>2013-07-01T00:00:00.000+0000</td><td>7098</td><td>19.40</td></tr><tr><td>155939</td><td>2013-07-01T00:00:00.000+0000</td><td>6995</td><td>9.00</td></tr><tr><td>150353</td><td>2013-07-01T00:00:00.000+0000</td><td>6787</td><td>9.00</td></tr><tr><td>146060</td><td>2013-07-01T00:00:00.000+0000</td><td>6657</td><td>10.00</td></tr><tr><td>139139</td><td>2013-07-01T00:00:00.000+0000</td><td>6397</td><td>9.00</td></tr><tr><td>138266</td><td>2013-07-01T00:00:00.000+0000</td><td>6367</td><td>9.00</td></tr><tr><td>135942</td><td>2013-07-01T00:00:00.000+0000</td><td>6290</td><td>9.00</td></tr><tr><td>132864</td><td>2013-07-01T00:00:00.000+0000</td><td>6182</td><td>9.00</td></tr><tr><td>128883</td><td>2013-07-01T00:00:00.000+0000</td><td>6050</td><td>9.00</td></tr><tr><td>124194</td><td>2013-07-01T00:00:00.000+0000</td><td>5881</td><td>9.00</td></tr><tr><td>123311</td><td>2013-07-01T00:00:00.000+0000</td><td>5854</td><td>9.00</td></tr><tr><td>112635</td><td>2013-07-01T00:00:00.000+0000</td><td>5441</td><td>9.00</td></tr><tr><td>107121</td><td>2013-07-01T00:00:00.000+0000</td><td>5235</td><td>9.00</td></tr><tr><td>105011</td><td>2013-07-01T00:00:00.000+0000</td><td>5168</td><td>9.00</td></tr><tr><td>103358</td><td>2013-07-01T00:00:00.000+0000</td><td>5106</td><td>9.00</td></tr><tr><td>101515</td><td>2013-07-01T00:00:00.000+0000</td><td>5044</td><td>9.00</td></tr><tr><td>87094</td><td>2013-07-01T00:00:00.000+0000</td><td>4521</td><td>9.00</td></tr><tr><td>77095</td><td>2013-07-01T00:00:00.000+0000</td><td>4160</td><td>9.00</td></tr><tr><td>72977</td><td>2013-07-01T00:00:00.000+0000</td><td>4023</td><td>9.00</td></tr><tr><td>72100</td><td>2013-07-01T00:00:00.000+0000</td><td>1244</td><td>9.00</td></tr><tr><td>71231</td><td>2013-07-01T00:00:00.000+0000</td><td>3958</td><td>7.24</td></tr><tr><td>60784</td><td>2013-07-01T00:00:00.000+0000</td><td>3559</td><td>9.00</td></tr><tr><td>55420</td><td>2013-07-01T00:00:00.000+0000</td><td>3363</td><td>12.34</td></tr><tr><td>54518</td><td>2013-07-01T00:00:00.000+0000</td><td>3328</td><td>9.00</td></tr><tr><td>48752</td><td>2013-07-01T00:00:00.000+0000</td><td>1429</td><td>9.00</td></tr><tr><td>47131</td><td>2013-07-01T00:00:00.000+0000</td><td>3066</td><td>9.00</td></tr><tr><td>42724</td><td>2013-07-01T00:00:00.000+0000</td><td>2932</td><td>9.00</td></tr><tr><td>37323</td><td>2013-07-01T00:00:00.000+0000</td><td>2737</td><td>9.00</td></tr><tr><td>36935</td><td>2013-07-01T00:00:00.000+0000</td><td>2720</td><td>9.00</td></tr><tr><td>32410</td><td>2013-07-01T00:00:00.000+0000</td><td>2556</td><td>9.00</td></tr><tr><td>23067</td><td>2013-07-01T00:00:00.000+0000</td><td>2227</td><td>9.00</td></tr><tr><td>6175</td><td>2013-07-01T00:00:00.000+0000</td><td>1661</td><td>9.00</td></tr><tr><td>2663</td><td>2013-07-01T00:00:00.000+0000</td><td>1548</td><td>23.08</td></tr><tr><td>2478</td><td>2013-07-01T00:00:00.000+0000</td><td>1158</td><td>24.09</td></tr><tr><td>1989</td><td>2013-07-01T00:00:00.000+0000</td><td>1527</td><td>9.00</td></tr><tr><td>224208</td><td>2013-08-01T00:00:00.000+0000</td><td>1241</td><td>9.00</td></tr><tr><td>223767</td><td>2013-08-01T00:00:00.000+0000</td><td>9620</td><td>9.00</td></tr><tr><td>221080</td><td>2013-08-01T00:00:00.000+0000</td><td>9517</td><td>9.00</td></tr><tr><td>220843</td><td>2013-08-01T00:00:00.000+0000</td><td>9509</td><td>9.00</td></tr><tr><td>218927</td><td>2013-08-01T00:00:00.000+0000</td><td>9416</td><td>9.00</td></tr><tr><td>217903</td><td>2013-08-01T00:00:00.000+0000</td><td>9380</td><td>12.77</td></tr><tr><td>216832</td><td>2013-08-01T00:00:00.000+0000</td><td>9332</td><td>9.00</td></tr><tr><td>212270</td><td>2013-08-01T00:00:00.000+0000</td><td>9176</td><td>9.00</td></tr><tr><td>209709</td><td>2013-08-01T00:00:00.000+0000</td><td>9077</td><td>9.00</td></tr><tr><td>206807</td><td>2013-08-01T00:00:00.000+0000</td><td>8953</td><td>9.00</td></tr><tr><td>201296</td><td>2013-08-01T00:00:00.000+0000</td><td>8753</td><td>9.00</td></tr><tr><td>201067</td><td>2013-08-01T00:00:00.000+0000</td><td>8746</td><td>9.00</td></tr><tr><td>195881</td><td>2013-08-01T00:00:00.000+0000</td><td>8546</td><td>23.15</td></tr><tr><td>195812</td><td>2013-08-01T00:00:00.000+0000</td><td>8544</td><td>9.00</td></tr><tr><td>188869</td><td>2013-08-01T00:00:00.000+0000</td><td>8252</td><td>9.00</td></tr><tr><td>182257</td><td>2013-08-01T00:00:00.000+0000</td><td>7981</td><td>8.77</td></tr><tr><td>181853</td><td>2013-08-01T00:00:00.000+0000</td><td>7970</td><td>9.00</td></tr><tr><td>179973</td><td>2013-08-01T00:00:00.000+0000</td><td>7897</td><td>9.00</td></tr><tr><td>177412</td><td>2013-08-01T00:00:00.000+0000</td><td>7792</td><td>9.00</td></tr><tr><td>175058</td><td>2013-08-01T00:00:00.000+0000</td><td>7692</td><td>9.00</td></tr><tr><td>171239</td><td>2013-08-01T00:00:00.000+0000</td><td>7574</td><td>9.00</td></tr><tr><td>168517</td><td>2013-08-01T00:00:00.000+0000</td><td>7477</td><td>9.00</td></tr><tr><td>163703</td><td>2013-08-01T00:00:00.000+0000</td><td>7274</td><td>19.85</td></tr><tr><td>163375</td><td>2013-08-01T00:00:00.000+0000</td><td>7263</td><td>9.00</td></tr><tr><td>162765</td><td>2013-08-01T00:00:00.000+0000</td><td>7243</td><td>9.00</td></tr><tr><td>162629</td><td>2013-08-01T00:00:00.000+0000</td><td>7240</td><td>9.00</td></tr><tr><td>160588</td><td>2013-08-01T00:00:00.000+0000</td><td>7155</td><td>9.00</td></tr><tr><td>159734</td><td>2013-08-01T00:00:00.000+0000</td><td>7124</td><td>9.00</td></tr><tr><td>158750</td><td>2013-08-01T00:00:00.000+0000</td><td>7098</td><td>19.40</td></tr><tr><td>155940</td><td>2013-08-01T00:00:00.000+0000</td><td>6995</td><td>9.00</td></tr><tr><td>150354</td><td>2013-08-01T00:00:00.000+0000</td><td>6787</td><td>9.00</td></tr><tr><td>147802</td><td>2013-08-01T00:00:00.000+0000</td><td>6709</td><td>9.00</td></tr><tr><td>146061</td><td>2013-08-01T00:00:00.000+0000</td><td>6657</td><td>10.00</td></tr><tr><td>139140</td><td>2013-08-01T00:00:00.000+0000</td><td>6397</td><td>9.00</td></tr><tr><td>138267</td><td>2013-08-01T00:00:00.000+0000</td><td>6367</td><td>9.00</td></tr><tr><td>135943</td><td>2013-08-01T00:00:00.000+0000</td><td>6290</td><td>9.00</td></tr><tr><td>132865</td><td>2013-08-01T00:00:00.000+0000</td><td>6182</td><td>9.00</td></tr><tr><td>128884</td><td>2013-08-01T00:00:00.000+0000</td><td>6050</td><td>9.00</td></tr><tr><td>124195</td><td>2013-08-01T00:00:00.000+0000</td><td>5881</td><td>9.00</td></tr><tr><td>123312</td><td>2013-08-01T00:00:00.000+0000</td><td>5854</td><td>9.00</td></tr><tr><td>112636</td><td>2013-08-01T00:00:00.000+0000</td><td>5441</td><td>9.00</td></tr><tr><td>107122</td><td>2013-08-01T00:00:00.000+0000</td><td>5235</td><td>9.00</td></tr><tr><td>105012</td><td>2013-08-01T00:00:00.000+0000</td><td>5168</td><td>9.00</td></tr><tr><td>103359</td><td>2013-08-01T00:00:00.000+0000</td><td>5106</td><td>9.00</td></tr><tr><td>101516</td><td>2013-08-01T00:00:00.000+0000</td><td>5044</td><td>9.00</td></tr><tr><td>87095</td><td>2013-08-01T00:00:00.000+0000</td><td>4521</td><td>9.00</td></tr><tr><td>77096</td><td>2013-08-01T00:00:00.000+0000</td><td>4160</td><td>9.00</td></tr><tr><td>72978</td><td>2013-08-01T00:00:00.000+0000</td><td>4023</td><td>9.00</td></tr><tr><td>72928</td><td>2013-08-01T00:00:00.000+0000</td><td>4021</td><td>9.00</td></tr><tr><td>72101</td><td>2013-08-01T00:00:00.000+0000</td><td>1244</td><td>9.00</td></tr><tr><td>71232</td><td>2013-08-01T00:00:00.000+0000</td><td>3958</td><td>7.24</td></tr><tr><td>65032</td><td>2013-08-01T00:00:00.000+0000</td><td>3727</td><td>9.00</td></tr><tr><td>60785</td><td>2013-08-01T00:00:00.000+0000</td><td>3559</td><td>9.00</td></tr><tr><td>60312</td><td>2013-08-01T00:00:00.000+0000</td><td>1021</td><td>9.00</td></tr><tr><td>59372</td><td>2013-08-01T00:00:00.000+0000</td><td>3501</td><td>9.00</td></tr><tr><td>56937</td><td>2013-08-01T00:00:00.000+0000</td><td>3413</td><td>9.00</td></tr><tr><td>55421</td><td>2013-08-01T00:00:00.000+0000</td><td>3363</td><td>12.34</td></tr><tr><td>54519</td><td>2013-08-01T00:00:00.000+0000</td><td>3328</td><td>9.00</td></tr><tr><td>48753</td><td>2013-08-01T00:00:00.000+0000</td><td>1429</td><td>9.00</td></tr><tr><td>47132</td><td>2013-08-01T00:00:00.000+0000</td><td>3066</td><td>9.00</td></tr><tr><td>42725</td><td>2013-08-01T00:00:00.000+0000</td><td>2932</td><td>9.00</td></tr><tr><td>37324</td><td>2013-08-01T00:00:00.000+0000</td><td>2737</td><td>9.00</td></tr><tr><td>36936</td><td>2013-08-01T00:00:00.000+0000</td><td>2720</td><td>9.00</td></tr><tr><td>32411</td><td>2013-08-01T00:00:00.000+0000</td><td>2556</td><td>9.00</td></tr><tr><td>30515</td><td>2013-08-01T00:00:00.000+0000</td><td>2492</td><td>9.00</td></tr><tr><td>23068</td><td>2013-08-01T00:00:00.000+0000</td><td>2227</td><td>9.00</td></tr><tr><td>6293</td><td>2013-08-01T00:00:00.000+0000</td><td>1663</td><td>9.00</td></tr><tr><td>6176</td><td>2013-08-01T00:00:00.000+0000</td><td>1661</td><td>9.00</td></tr><tr><td>2664</td><td>2013-08-01T00:00:00.000+0000</td><td>1548</td><td>23.08</td></tr><tr><td>2479</td><td>2013-08-01T00:00:00.000+0000</td><td>1158</td><td>24.09</td></tr><tr><td>1990</td><td>2013-08-01T00:00:00.000+0000</td><td>1527</td><td>9.00</td></tr><tr><td>224209</td><td>2013-09-01T00:00:00.000+0000</td><td>1241</td><td>9.00</td></tr><tr><td>223768</td><td>2013-09-01T00:00:00.000+0000</td><td>9620</td><td>9.00</td></tr><tr><td>221081</td><td>2013-09-01T00:00:00.000+0000</td><td>9517</td><td>9.00</td></tr><tr><td>220844</td><td>2013-09-01T00:00:00.000+0000</td><td>9509</td><td>9.00</td></tr><tr><td>218928</td><td>2013-09-01T00:00:00.000+0000</td><td>9416</td><td>9.00</td></tr><tr><td>217904</td><td>2013-09-01T00:00:00.000+0000</td><td>9380</td><td>12.77</td></tr><tr><td>216833</td><td>2013-09-01T00:00:00.000+0000</td><td>9332</td><td>9.00</td></tr><tr><td>212271</td><td>2013-09-01T00:00:00.000+0000</td><td>9176</td><td>9.00</td></tr><tr><td>209710</td><td>2013-09-01T00:00:00.000+0000</td><td>9077</td><td>9.00</td></tr><tr><td>206808</td><td>2013-09-01T00:00:00.000+0000</td><td>8953</td><td>9.00</td></tr><tr><td>201297</td><td>2013-09-01T00:00:00.000+0000</td><td>8753</td><td>9.00</td></tr><tr><td>201068</td><td>2013-09-01T00:00:00.000+0000</td><td>8746</td><td>9.00</td></tr><tr><td>195882</td><td>2013-09-01T00:00:00.000+0000</td><td>8546</td><td>23.15</td></tr><tr><td>195813</td><td>2013-09-01T00:00:00.000+0000</td><td>8544</td><td>9.00</td></tr><tr><td>188870</td><td>2013-09-01T00:00:00.000+0000</td><td>8252</td><td>9.00</td></tr><tr><td>182258</td><td>2013-09-01T00:00:00.000+0000</td><td>7981</td><td>8.77</td></tr><tr><td>181854</td><td>2013-09-01T00:00:00.000+0000</td><td>7970</td><td>9.00</td></tr><tr><td>179974</td><td>2013-09-01T00:00:00.000+0000</td><td>7897</td><td>9.00</td></tr><tr><td>177413</td><td>2013-09-01T00:00:00.000+0000</td><td>7792</td><td>9.00</td></tr><tr><td>175059</td><td>2013-09-01T00:00:00.000+0000</td><td>7692</td><td>9.00</td></tr><tr><td>171240</td><td>2013-09-01T00:00:00.000+0000</td><td>7574</td><td>9.00</td></tr><tr><td>168518</td><td>2013-09-01T00:00:00.000+0000</td><td>7477</td><td>9.00</td></tr><tr><td>163704</td><td>2013-09-01T00:00:00.000+0000</td><td>7274</td><td>19.85</td></tr><tr><td>163376</td><td>2013-09-01T00:00:00.000+0000</td><td>7263</td><td>9.00</td></tr><tr><td>162766</td><td>2013-09-01T00:00:00.000+0000</td><td>7243</td><td>9.00</td></tr><tr><td>162630</td><td>2013-09-01T00:00:00.000+0000</td><td>7240</td><td>9.00</td></tr><tr><td>160589</td><td>2013-09-01T00:00:00.000+0000</td><td>7155</td><td>9.00</td></tr><tr><td>159735</td><td>2013-09-01T00:00:00.000+0000</td><td>7124</td><td>9.00</td></tr><tr><td>158751</td><td>2013-09-01T00:00:00.000+0000</td><td>7098</td><td>19.40</td></tr><tr><td>155941</td><td>2013-09-01T00:00:00.000+0000</td><td>6995</td><td>9.00</td></tr><tr><td>150355</td><td>2013-09-01T00:00:00.000+0000</td><td>6787</td><td>9.00</td></tr><tr><td>147803</td><td>2013-09-01T00:00:00.000+0000</td><td>6709</td><td>9.00</td></tr><tr><td>146062</td><td>2013-09-01T00:00:00.000+0000</td><td>6657</td><td>10.00</td></tr><tr><td>139141</td><td>2013-09-01T00:00:00.000+0000</td><td>6397</td><td>9.00</td></tr><tr><td>138268</td><td>2013-09-01T00:00:00.000+0000</td><td>6367</td><td>9.00</td></tr><tr><td>135944</td><td>2013-09-01T00:00:00.000+0000</td><td>6290</td><td>9.00</td></tr><tr><td>132866</td><td>2013-09-01T00:00:00.000+0000</td><td>6182</td><td>9.00</td></tr><tr><td>128885</td><td>2013-09-01T00:00:00.000+0000</td><td>6050</td><td>9.00</td></tr><tr><td>124196</td><td>2013-09-01T00:00:00.000+0000</td><td>5881</td><td>9.00</td></tr><tr><td>123313</td><td>2013-09-01T00:00:00.000+0000</td><td>5854</td><td>9.00</td></tr><tr><td>120263</td><td>2013-09-01T00:00:00.000+0000</td><td>5731</td><td>9.00</td></tr><tr><td>117938</td><td>2013-09-01T00:00:00.000+0000</td><td>5635</td><td>9.00</td></tr><tr><td>112637</td><td>2013-09-01T00:00:00.000+0000</td><td>5441</td><td>9.00</td></tr><tr><td>107123</td><td>2013-09-01T00:00:00.000+0000</td><td>5235</td><td>9.00</td></tr><tr><td>105013</td><td>2013-09-01T00:00:00.000+0000</td><td>5168</td><td>9.00</td></tr><tr><td>103360</td><td>2013-09-01T00:00:00.000+0000</td><td>5106</td><td>9.00</td></tr><tr><td>101517</td><td>2013-09-01T00:00:00.000+0000</td><td>5044</td><td>9.00</td></tr><tr><td>87096</td><td>2013-09-01T00:00:00.000+0000</td><td>4521</td><td>9.00</td></tr><tr><td>77097</td><td>2013-09-01T00:00:00.000+0000</td><td>4160</td><td>9.00</td></tr><tr><td>72979</td><td>2013-09-01T00:00:00.000+0000</td><td>4023</td><td>9.00</td></tr><tr><td>72929</td><td>2013-09-01T00:00:00.000+0000</td><td>4021</td><td>9.00</td></tr><tr><td>72102</td><td>2013-09-01T00:00:00.000+0000</td><td>1244</td><td>9.00</td></tr><tr><td>71233</td><td>2013-09-01T00:00:00.000+0000</td><td>3958</td><td>7.24</td></tr><tr><td>65033</td><td>2013-09-01T00:00:00.000+0000</td><td>3727</td><td>9.00</td></tr><tr><td>60786</td><td>2013-09-01T00:00:00.000+0000</td><td>3559</td><td>9.00</td></tr><tr><td>60313</td><td>2013-09-01T00:00:00.000+0000</td><td>1021</td><td>9.00</td></tr><tr><td>59373</td><td>2013-09-01T00:00:00.000+0000</td><td>3501</td><td>9.00</td></tr><tr><td>56938</td><td>2013-09-01T00:00:00.000+0000</td><td>3413</td><td>9.00</td></tr><tr><td>55422</td><td>2013-09-01T00:00:00.000+0000</td><td>3363</td><td>12.34</td></tr><tr><td>54520</td><td>2013-09-01T00:00:00.000+0000</td><td>3328</td><td>9.00</td></tr><tr><td>48754</td><td>2013-09-01T00:00:00.000+0000</td><td>1429</td><td>9.00</td></tr><tr><td>47133</td><td>2013-09-01T00:00:00.000+0000</td><td>3066</td><td>9.00</td></tr><tr><td>42726</td><td>2013-09-01T00:00:00.000+0000</td><td>2932</td><td>9.00</td></tr><tr><td>37325</td><td>2013-09-01T00:00:00.000+0000</td><td>2737</td><td>9.00</td></tr><tr><td>36937</td><td>2013-09-01T00:00:00.000+0000</td><td>2720</td><td>9.00</td></tr><tr><td>32412</td><td>2013-09-01T00:00:00.000+0000</td><td>2556</td><td>9.00</td></tr><tr><td>30516</td><td>2013-09-01T00:00:00.000+0000</td><td>2492</td><td>9.00</td></tr><tr><td>23069</td><td>2013-09-01T00:00:00.000+0000</td><td>2227</td><td>9.00</td></tr><tr><td>21344</td><td>2013-09-01T00:00:00.000+0000</td><td>2178</td><td>9.00</td></tr><tr><td>6294</td><td>2013-09-01T00:00:00.000+0000</td><td>1663</td><td>9.00</td></tr><tr><td>6177</td><td>2013-09-01T00:00:00.000+0000</td><td>1661</td><td>9.00</td></tr><tr><td>2665</td><td>2013-09-01T00:00:00.000+0000</td><td>1548</td><td>23.08</td></tr><tr><td>2480</td><td>2013-09-01T00:00:00.000+0000</td><td>1158</td><td>24.09</td></tr><tr><td>1991</td><td>2013-09-01T00:00:00.000+0000</td><td>1527</td><td>9.00</td></tr><tr><td>224210</td><td>2013-10-01T00:00:00.000+0000</td><td>1241</td><td>9.00</td></tr><tr><td>223769</td><td>2013-10-01T00:00:00.000+0000</td><td>9620</td><td>9.00</td></tr><tr><td>221082</td><td>2013-10-01T00:00:00.000+0000</td><td>9517</td><td>9.00</td></tr><tr><td>220845</td><td>2013-10-01T00:00:00.000+0000</td><td>9509</td><td>9.00</td></tr><tr><td>219738</td><td>2013-10-01T00:00:00.000+0000</td><td>9456</td><td>10.38</td></tr><tr><td>218929</td><td>2013-10-01T00:00:00.000+0000</td><td>9416</td><td>9.00</td></tr><tr><td>218367</td><td>2013-10-01T00:00:00.000+0000</td><td>9396</td><td>9.00</td></tr><tr><td>217905</td><td>2013-10-01T00:00:00.000+0000</td><td>9380</td><td>12.77</td></tr><tr><td>216834</td><td>2013-10-01T00:00:00.000+0000</td><td>9332</td><td>9.00</td></tr><tr><td>212272</td><td>2013-10-01T00:00:00.000+0000</td><td>9176</td><td>9.00</td></tr><tr><td>209711</td><td>2013-10-01T00:00:00.000+0000</td><td>9077</td><td>9.00</td></tr><tr><td>206809</td><td>2013-10-01T00:00:00.000+0000</td><td>8953</td><td>9.00</td></tr><tr><td>204211</td><td>2013-10-01T00:00:00.000+0000</td><td>8861</td><td>9.00</td></tr><tr><td>201298</td><td>2013-10-01T00:00:00.000+0000</td><td>8753</td><td>9.00</td></tr><tr><td>201069</td><td>2013-10-01T00:00:00.000+0000</td><td>8746</td><td>9.00</td></tr><tr><td>195883</td><td>2013-10-01T00:00:00.000+0000</td><td>8546</td><td>23.15</td></tr><tr><td>195814</td><td>2013-10-01T00:00:00.000+0000</td><td>8544</td><td>9.00</td></tr><tr><td>193965</td><td>2013-10-01T00:00:00.000+0000</td><td>8472</td><td>9.00</td></tr><tr><td>188871</td><td>2013-10-01T00:00:00.000+0000</td><td>8252</td><td>9.00</td></tr><tr><td>182259</td><td>2013-10-01T00:00:00.000+0000</td><td>7981</td><td>8.77</td></tr><tr><td>181855</td><td>2013-10-01T00:00:00.000+0000</td><td>7970</td><td>9.00</td></tr><tr><td>181465</td><td>2013-10-01T00:00:00.000+0000</td><td>7957</td><td>9.00</td></tr><tr><td>181227</td><td>2013-10-01T00:00:00.000+0000</td><td>7946</td><td>23.65</td></tr><tr><td>179975</td><td>2013-10-01T00:00:00.000+0000</td><td>7897</td><td>9.00</td></tr><tr><td>177607</td><td>2013-10-01T00:00:00.000+0000</td><td>7795</td><td>9.00</td></tr><tr><td>177414</td><td>2013-10-01T00:00:00.000+0000</td><td>7792</td><td>9.00</td></tr><tr><td>175060</td><td>2013-10-01T00:00:00.000+0000</td><td>7692</td><td>9.00</td></tr><tr><td>174622</td><td>2013-10-01T00:00:00.000+0000</td><td>7681</td><td>9.00</td></tr><tr><td>171241</td><td>2013-10-01T00:00:00.000+0000</td><td>7574</td><td>9.00</td></tr><tr><td>168519</td><td>2013-10-01T00:00:00.000+0000</td><td>7477</td><td>9.00</td></tr><tr><td>163705</td><td>2013-10-01T00:00:00.000+0000</td><td>7274</td><td>19.85</td></tr><tr><td>163377</td><td>2013-10-01T00:00:00.000+0000</td><td>7263</td><td>9.00</td></tr><tr><td>162767</td><td>2013-10-01T00:00:00.000+0000</td><td>7243</td><td>9.00</td></tr><tr><td>162631</td><td>2013-10-01T00:00:00.000+0000</td><td>7240</td><td>9.00</td></tr><tr><td>160590</td><td>2013-10-01T00:00:00.000+0000</td><td>7155</td><td>9.00</td></tr><tr><td>159736</td><td>2013-10-01T00:00:00.000+0000</td><td>7124</td><td>9.00</td></tr><tr><td>158752</td><td>2013-10-01T00:00:00.000+0000</td><td>7098</td><td>19.40</td></tr><tr><td>155942</td><td>2013-10-01T00:00:00.000+0000</td><td>6995</td><td>9.00</td></tr><tr><td>150356</td><td>2013-10-01T00:00:00.000+0000</td><td>6787</td><td>9.00</td></tr><tr><td>147804</td><td>2013-10-01T00:00:00.000+0000</td><td>6709</td><td>9.00</td></tr><tr><td>146063</td><td>2013-10-01T00:00:00.000+0000</td><td>6657</td><td>10.00</td></tr><tr><td>139142</td><td>2013-10-01T00:00:00.000+0000</td><td>6397</td><td>9.00</td></tr><tr><td>138269</td><td>2013-10-01T00:00:00.000+0000</td><td>6367</td><td>9.00</td></tr><tr><td>135945</td><td>2013-10-01T00:00:00.000+0000</td><td>6290</td><td>9.00</td></tr><tr><td>132867</td><td>2013-10-01T00:00:00.000+0000</td><td>6182</td><td>9.00</td></tr><tr><td>128886</td><td>2013-10-01T00:00:00.000+0000</td><td>6050</td><td>9.00</td></tr><tr><td>124197</td><td>2013-10-01T00:00:00.000+0000</td><td>5881</td><td>9.00</td></tr><tr><td>123314</td><td>2013-10-01T00:00:00.000+0000</td><td>5854</td><td>9.00</td></tr><tr><td>120264</td><td>2013-10-01T00:00:00.000+0000</td><td>5731</td><td>9.00</td></tr><tr><td>117939</td><td>2013-10-01T00:00:00.000+0000</td><td>5635</td><td>9.00</td></tr><tr><td>112638</td><td>2013-10-01T00:00:00.000+0000</td><td>5441</td><td>9.00</td></tr><tr><td>109136</td><td>2013-10-01T00:00:00.000+0000</td><td>5316</td><td>9.00</td></tr><tr><td>107124</td><td>2013-10-01T00:00:00.000+0000</td><td>5235</td><td>9.00</td></tr><tr><td>105469</td><td>2013-10-01T00:00:00.000+0000</td><td>5183</td><td>9.00</td></tr><tr><td>105014</td><td>2013-10-01T00:00:00.000+0000</td><td>5168</td><td>9.00</td></tr><tr><td>103361</td><td>2013-10-01T00:00:00.000+0000</td><td>5106</td><td>9.00</td></tr><tr><td>101518</td><td>2013-10-01T00:00:00.000+0000</td><td>5044</td><td>9.00</td></tr><tr><td>87097</td><td>2013-10-01T00:00:00.000+0000</td><td>4521</td><td>9.00</td></tr><tr><td>82108</td><td>2013-10-01T00:00:00.000+0000</td><td>4340</td><td>20.90</td></tr><tr><td>77098</td><td>2013-10-01T00:00:00.000+0000</td><td>4160</td><td>9.00</td></tr><tr><td>76929</td><td>2013-10-01T00:00:00.000+0000</td><td>4156</td><td>9.00</td></tr><tr><td>74642</td><td>2013-10-01T00:00:00.000+0000</td><td>4080</td><td>9.00</td></tr><tr><td>73956</td><td>2013-10-01T00:00:00.000+0000</td><td>4055</td><td>9.00</td></tr><tr><td>72980</td><td>2013-10-01T00:00:00.000+0000</td><td>4023</td><td>9.00</td></tr><tr><td>72930</td><td>2013-10-01T00:00:00.000+0000</td><td>4021</td><td>9.00</td></tr><tr><td>72103</td><td>2013-10-01T00:00:00.000+0000</td><td>1244</td><td>9.00</td></tr><tr><td>71234</td><td>2013-10-01T00:00:00.000+0000</td><td>3958</td><td>7.24</td></tr><tr><td>70093</td><td>2013-10-01T00:00:00.000+0000</td><td>3924</td><td>9.00</td></tr><tr><td>65034</td><td>2013-10-01T00:00:00.000+0000</td><td>3727</td><td>9.00</td></tr><tr><td>60787</td><td>2013-10-01T00:00:00.000+0000</td><td>3559</td><td>9.00</td></tr><tr><td>60314</td><td>2013-10-01T00:00:00.000+0000</td><td>1021</td><td>9.00</td></tr><tr><td>59374</td><td>2013-10-01T00:00:00.000+0000</td><td>3501</td><td>9.00</td></tr><tr><td>56939</td><td>2013-10-01T00:00:00.000+0000</td><td>3413</td><td>9.00</td></tr><tr><td>55423</td><td>2013-10-01T00:00:00.000+0000</td><td>3363</td><td>12.34</td></tr><tr><td>54521</td><td>2013-10-01T00:00:00.000+0000</td><td>3328</td><td>9.00</td></tr><tr><td>52539</td><td>2013-10-01T00:00:00.000+0000</td><td>3262</td><td>9.00</td></tr><tr><td>48755</td><td>2013-10-01T00:00:00.000+0000</td><td>1429</td><td>9.00</td></tr><tr><td>47134</td><td>2013-10-01T00:00:00.000+0000</td><td>3066</td><td>9.00</td></tr><tr><td>45514</td><td>2013-10-01T00:00:00.000+0000</td><td>3018</td><td>21.94</td></tr><tr><td>42727</td><td>2013-10-01T00:00:00.000+0000</td><td>2932</td><td>9.00</td></tr><tr><td>37326</td><td>2013-10-01T00:00:00.000+0000</td><td>2737</td><td>9.00</td></tr><tr><td>36938</td><td>2013-10-01T00:00:00.000+0000</td><td>2720</td><td>9.00</td></tr><tr><td>32413</td><td>2013-10-01T00:00:00.000+0000</td><td>2556</td><td>9.00</td></tr><tr><td>30517</td><td>2013-10-01T00:00:00.000+0000</td><td>2492</td><td>9.00</td></tr><tr><td>23070</td><td>2013-10-01T00:00:00.000+0000</td><td>2227</td><td>9.00</td></tr><tr><td>21345</td><td>2013-10-01T00:00:00.000+0000</td><td>2178</td><td>9.00</td></tr><tr><td>6295</td><td>2013-10-01T00:00:00.000+0000</td><td>1663</td><td>9.00</td></tr><tr><td>6178</td><td>2013-10-01T00:00:00.000+0000</td><td>1661</td><td>9.00</td></tr><tr><td>2666</td><td>2013-10-01T00:00:00.000+0000</td><td>1548</td><td>23.08</td></tr><tr><td>2481</td><td>2013-10-01T00:00:00.000+0000</td><td>1158</td><td>24.09</td></tr><tr><td>1992</td><td>2013-10-01T00:00:00.000+0000</td><td>1527</td><td>9.00</td></tr><tr><td>231952</td><td>2013-11-01T00:00:00.000+0000</td><td>9921</td><td>21.93</td></tr><tr><td>224211</td><td>2013-11-01T00:00:00.000+0000</td><td>1241</td><td>9.00</td></tr><tr><td>223770</td><td>2013-11-01T00:00:00.000+0000</td><td>9620</td><td>9.00</td></tr><tr><td>221083</td><td>2013-11-01T00:00:00.000+0000</td><td>9517</td><td>9.00</td></tr><tr><td>220846</td><td>2013-11-01T00:00:00.000+0000</td><td>9509</td><td>9.00</td></tr><tr><td>219739</td><td>2013-11-01T00:00:00.000+0000</td><td>9456</td><td>10.38</td></tr><tr><td>218930</td><td>2013-11-01T00:00:00.000+0000</td><td>9416</td><td>9.00</td></tr><tr><td>218368</td><td>2013-11-01T00:00:00.000+0000</td><td>9396</td><td>9.00</td></tr><tr><td>217906</td><td>2013-11-01T00:00:00.000+0000</td><td>9380</td><td>12.77</td></tr><tr><td>216835</td><td>2013-11-01T00:00:00.000+0000</td><td>9332</td><td>9.00</td></tr><tr><td>212273</td><td>2013-11-01T00:00:00.000+0000</td><td>9176</td><td>9.00</td></tr><tr><td>209712</td><td>2013-11-01T00:00:00.000+0000</td><td>9077</td><td>9.00</td></tr><tr><td>206810</td><td>2013-11-01T00:00:00.000+0000</td><td>8953</td><td>9.00</td></tr><tr><td>205932</td><td>2013-11-01T00:00:00.000+0000</td><td>8924</td><td>9.00</td></tr><tr><td>204212</td><td>2013-11-01T00:00:00.000+0000</td><td>8861</td><td>9.00</td></tr><tr><td>201299</td><td>2013-11-01T00:00:00.000+0000</td><td>8753</td><td>9.00</td></tr><tr><td>201070</td><td>2013-11-01T00:00:00.000+0000</td><td>8746</td><td>9.00</td></tr><tr><td>196808</td><td>2013-11-01T00:00:00.000+0000</td><td>8583</td><td>9.00</td></tr><tr><td>195884</td><td>2013-11-01T00:00:00.000+0000</td><td>8546</td><td>23.15</td></tr><tr><td>195815</td><td>2013-11-01T00:00:00.000+0000</td><td>8544</td><td>9.00</td></tr><tr><td>193966</td><td>2013-11-01T00:00:00.000+0000</td><td>8472</td><td>9.00</td></tr><tr><td>188872</td><td>2013-11-01T00:00:00.000+0000</td><td>8252</td><td>9.00</td></tr><tr><td>182260</td><td>2013-11-01T00:00:00.000+0000</td><td>7981</td><td>8.77</td></tr><tr><td>181856</td><td>2013-11-01T00:00:00.000+0000</td><td>7970</td><td>9.00</td></tr><tr><td>181466</td><td>2013-11-01T00:00:00.000+0000</td><td>7957</td><td>9.00</td></tr><tr><td>181228</td><td>2013-11-01T00:00:00.000+0000</td><td>7946</td><td>23.65</td></tr><tr><td>179976</td><td>2013-11-01T00:00:00.000+0000</td><td>7897</td><td>9.00</td></tr><tr><td>177608</td><td>2013-11-01T00:00:00.000+0000</td><td>7795</td><td>9.00</td></tr><tr><td>177415</td><td>2013-11-01T00:00:00.000+0000</td><td>7792</td><td>9.00</td></tr><tr><td>175061</td><td>2013-11-01T00:00:00.000+0000</td><td>7692</td><td>9.00</td></tr><tr><td>174623</td><td>2013-11-01T00:00:00.000+0000</td><td>7681</td><td>9.00</td></tr><tr><td>171242</td><td>2013-11-01T00:00:00.000+0000</td><td>7574</td><td>9.00</td></tr><tr><td>170469</td><td>2013-11-01T00:00:00.000+0000</td><td>7542</td><td>9.00</td></tr><tr><td>168803</td><td>2013-11-01T00:00:00.000+0000</td><td>7491</td><td>9.00</td></tr><tr><td>168520</td><td>2013-11-01T00:00:00.000+0000</td><td>7477</td><td>9.00</td></tr><tr><td>163706</td><td>2013-11-01T00:00:00.000+0000</td><td>7274</td><td>19.85</td></tr><tr><td>163378</td><td>2013-11-01T00:00:00.000+0000</td><td>7263</td><td>9.00</td></tr><tr><td>162768</td><td>2013-11-01T00:00:00.000+0000</td><td>7243</td><td>9.00</td></tr><tr><td>162632</td><td>2013-11-01T00:00:00.000+0000</td><td>7240</td><td>9.00</td></tr><tr><td>161329</td><td>2013-11-01T00:00:00.000+0000</td><td>7181</td><td>9.00</td></tr><tr><td>160591</td><td>2013-11-01T00:00:00.000+0000</td><td>7155</td><td>9.00</td></tr><tr><td>159737</td><td>2013-11-01T00:00:00.000+0000</td><td>7124</td><td>9.00</td></tr><tr><td>158753</td><td>2013-11-01T00:00:00.000+0000</td><td>7098</td><td>19.40</td></tr><tr><td>155943</td><td>2013-11-01T00:00:00.000+0000</td><td>6995</td><td>9.00</td></tr><tr><td>153238</td><td>2013-11-01T00:00:00.000+0000</td><td>6893</td><td>9.00</td></tr><tr><td>153013</td><td>2013-11-01T00:00:00.000+0000</td><td>6888</td><td>9.00</td></tr><tr><td>150357</td><td>2013-11-01T00:00:00.000+0000</td><td>6787</td><td>9.00</td></tr><tr><td>149934</td><td>2013-11-01T00:00:00.000+0000</td><td>6776</td><td>9.00</td></tr><tr><td>147805</td><td>2013-11-01T00:00:00.000+0000</td><td>6709</td><td>9.00</td></tr><tr><td>146064</td><td>2013-11-01T00:00:00.000+0000</td><td>6657</td><td>10.00</td></tr><tr><td>139143</td><td>2013-11-01T00:00:00.000+0000</td><td>6397</td><td>9.00</td></tr><tr><td>138270</td><td>2013-11-01T00:00:00.000+0000</td><td>6367</td><td>9.00</td></tr><tr><td>135946</td><td>2013-11-01T00:00:00.000+0000</td><td>6290</td><td>9.00</td></tr><tr><td>132868</td><td>2013-11-01T00:00:00.000+0000</td><td>6182</td><td>9.00</td></tr><tr><td>128887</td><td>2013-11-01T00:00:00.000+0000</td><td>6050</td><td>9.00</td></tr><tr><td>124198</td><td>2013-11-01T00:00:00.000+0000</td><td>5881</td><td>9.00</td></tr><tr><td>123315</td><td>2013-11-01T00:00:00.000+0000</td><td>5854</td><td>9.00</td></tr><tr><td>120265</td><td>2013-11-01T00:00:00.000+0000</td><td>5731</td><td>9.00</td></tr><tr><td>117940</td><td>2013-11-01T00:00:00.000+0000</td><td>5635</td><td>9.00</td></tr><tr><td>112639</td><td>2013-11-01T00:00:00.000+0000</td><td>5441</td><td>9.00</td></tr><tr><td>109137</td><td>2013-11-01T00:00:00.000+0000</td><td>5316</td><td>9.00</td></tr><tr><td>107533</td><td>2013-11-01T00:00:00.000+0000</td><td>5248</td><td>9.00</td></tr><tr><td>107125</td><td>2013-11-01T00:00:00.000+0000</td><td>5235</td><td>9.00</td></tr><tr><td>105470</td><td>2013-11-01T00:00:00.000+0000</td><td>5183</td><td>9.00</td></tr><tr><td>105015</td><td>2013-11-01T00:00:00.000+0000</td><td>5168</td><td>9.00</td></tr><tr><td>103362</td><td>2013-11-01T00:00:00.000+0000</td><td>5106</td><td>9.00</td></tr><tr><td>101519</td><td>2013-11-01T00:00:00.000+0000</td><td>5044</td><td>9.00</td></tr><tr><td>92627</td><td>2013-11-01T00:00:00.000+0000</td><td>4720</td><td>9.00</td></tr><tr><td>87098</td><td>2013-11-01T00:00:00.000+0000</td><td>4521</td><td>9.00</td></tr><tr><td>82109</td><td>2013-11-01T00:00:00.000+0000</td><td>4340</td><td>20.90</td></tr><tr><td>77099</td><td>2013-11-01T00:00:00.000+0000</td><td>4160</td><td>9.00</td></tr><tr><td>76930</td><td>2013-11-01T00:00:00.000+0000</td><td>4156</td><td>9.00</td></tr><tr><td>74643</td><td>2013-11-01T00:00:00.000+0000</td><td>4080</td><td>9.00</td></tr><tr><td>73957</td><td>2013-11-01T00:00:00.000+0000</td><td>4055</td><td>9.00</td></tr><tr><td>72981</td><td>2013-11-01T00:00:00.000+0000</td><td>4023</td><td>9.00</td></tr><tr><td>72931</td><td>2013-11-01T00:00:00.000+0000</td><td>4021</td><td>9.00</td></tr><tr><td>72254</td><td>2013-11-01T00:00:00.000+0000</td><td>1228</td><td>9.00</td></tr><tr><td>72104</td><td>2013-11-01T00:00:00.000+0000</td><td>1244</td><td>9.00</td></tr><tr><td>71235</td><td>2013-11-01T00:00:00.000+0000</td><td>3958</td><td>7.24</td></tr><tr><td>70094</td><td>2013-11-01T00:00:00.000+0000</td><td>3924</td><td>9.00</td></tr><tr><td>65035</td><td>2013-11-01T00:00:00.000+0000</td><td>3727</td><td>9.00</td></tr><tr><td>60788</td><td>2013-11-01T00:00:00.000+0000</td><td>3559</td><td>9.00</td></tr><tr><td>60315</td><td>2013-11-01T00:00:00.000+0000</td><td>1021</td><td>9.00</td></tr><tr><td>59375</td><td>2013-11-01T00:00:00.000+0000</td><td>3501</td><td>9.00</td></tr><tr><td>56940</td><td>2013-11-01T00:00:00.000+0000</td><td>3413</td><td>9.00</td></tr><tr><td>55424</td><td>2013-11-01T00:00:00.000+0000</td><td>3363</td><td>12.34</td></tr><tr><td>54522</td><td>2013-11-01T00:00:00.000+0000</td><td>3328</td><td>9.00</td></tr><tr><td>52540</td><td>2013-11-01T00:00:00.000+0000</td><td>3262</td><td>9.00</td></tr><tr><td>48756</td><td>2013-11-01T00:00:00.000+0000</td><td>1429</td><td>9.00</td></tr><tr><td>47135</td><td>2013-11-01T00:00:00.000+0000</td><td>3066</td><td>9.00</td></tr><tr><td>45515</td><td>2013-11-01T00:00:00.000+0000</td><td>3018</td><td>21.94</td></tr><tr><td>42728</td><td>2013-11-01T00:00:00.000+0000</td><td>2932</td><td>9.00</td></tr><tr><td>37327</td><td>2013-11-01T00:00:00.000+0000</td><td>2737</td><td>9.00</td></tr><tr><td>36939</td><td>2013-11-01T00:00:00.000+0000</td><td>2720</td><td>9.00</td></tr><tr><td>32414</td><td>2013-11-01T00:00:00.000+0000</td><td>2556</td><td>9.00</td></tr><tr><td>32100</td><td>2013-11-01T00:00:00.000+0000</td><td>2549</td><td>9.00</td></tr><tr><td>30518</td><td>2013-11-01T00:00:00.000+0000</td><td>2492</td><td>9.00</td></tr><tr><td>23071</td><td>2013-11-01T00:00:00.000+0000</td><td>2227</td><td>9.00</td></tr><tr><td>21346</td><td>2013-11-01T00:00:00.000+0000</td><td>2178</td><td>9.00</td></tr><tr><td>10519</td><td>2013-11-01T00:00:00.000+0000</td><td>1819</td><td>9.00</td></tr><tr><td>6296</td><td>2013-11-01T00:00:00.000+0000</td><td>1663</td><td>9.00</td></tr><tr><td>6179</td><td>2013-11-01T00:00:00.000+0000</td><td>1661</td><td>9.00</td></tr><tr><td>5663</td><td>2013-11-01T00:00:00.000+0000</td><td>1647</td><td>9.00</td></tr><tr><td>2667</td><td>2013-11-01T00:00:00.000+0000</td><td>1548</td><td>23.08</td></tr><tr><td>2482</td><td>2013-11-01T00:00:00.000+0000</td><td>1158</td><td>24.09</td></tr><tr><td>1993</td><td>2013-11-01T00:00:00.000+0000</td><td>1527</td><td>9.00</td></tr><tr><td>231953</td><td>2013-12-01T00:00:00.000+0000</td><td>9921</td><td>21.93</td></tr><tr><td>224212</td><td>2013-12-01T00:00:00.000+0000</td><td>1241</td><td>9.00</td></tr><tr><td>223771</td><td>2013-12-01T00:00:00.000+0000</td><td>9620</td><td>9.00</td></tr><tr><td>221084</td><td>2013-12-01T00:00:00.000+0000</td><td>9517</td><td>9.00</td></tr><tr><td>220847</td><td>2013-12-01T00:00:00.000+0000</td><td>9509</td><td>9.00</td></tr><tr><td>219740</td><td>2013-12-01T00:00:00.000+0000</td><td>9456</td><td>10.38</td></tr><tr><td>219142</td><td>2013-12-01T00:00:00.000+0000</td><td>9423</td><td>9.00</td></tr><tr><td>218931</td><td>2013-12-01T00:00:00.000+0000</td><td>9416</td><td>9.00</td></tr><tr><td>218369</td><td>2013-12-01T00:00:00.000+0000</td><td>9396</td><td>9.00</td></tr><tr><td>217907</td><td>2013-12-01T00:00:00.000+0000</td><td>9380</td><td>12.77</td></tr><tr><td>216836</td><td>2013-12-01T00:00:00.000+0000</td><td>9332</td><td>9.00</td></tr><tr><td>216565</td><td>2013-12-01T00:00:00.000+0000</td><td>9326</td><td>9.00</td></tr><tr><td>212274</td><td>2013-12-01T00:00:00.000+0000</td><td>9176</td><td>9.00</td></tr><tr><td>209713</td><td>2013-12-01T00:00:00.000+0000</td><td>9077</td><td>9.00</td></tr><tr><td>206811</td><td>2013-12-01T00:00:00.000+0000</td><td>8953</td><td>9.00</td></tr><tr><td>205933</td><td>2013-12-01T00:00:00.000+0000</td><td>8924</td><td>9.00</td></tr><tr><td>204213</td><td>2013-12-01T00:00:00.000+0000</td><td>8861</td><td>9.00</td></tr><tr><td>201300</td><td>2013-12-01T00:00:00.000+0000</td><td>8753</td><td>9.00</td></tr><tr><td>201071</td><td>2013-12-01T00:00:00.000+0000</td><td>8746</td><td>9.00</td></tr><tr><td>197609</td><td>2013-12-01T00:00:00.000+0000</td><td>8620</td><td>9.00</td></tr><tr><td>196809</td><td>2013-12-01T00:00:00.000+0000</td><td>8583</td><td>9.00</td></tr><tr><td>195885</td><td>2013-12-01T00:00:00.000+0000</td><td>8546</td><td>23.15</td></tr><tr><td>195816</td><td>2013-12-01T00:00:00.000+0000</td><td>8544</td><td>9.00</td></tr><tr><td>193967</td><td>2013-12-01T00:00:00.000+0000</td><td>8472</td><td>9.00</td></tr><tr><td>188873</td><td>2013-12-01T00:00:00.000+0000</td><td>8252</td><td>9.00</td></tr><tr><td>186430</td><td>2013-12-01T00:00:00.000+0000</td><td>8145</td><td>9.00</td></tr><tr><td>183742</td><td>2013-12-01T00:00:00.000+0000</td><td>8038</td><td>9.00</td></tr><tr><td>182261</td><td>2013-12-01T00:00:00.000+0000</td><td>7981</td><td>8.77</td></tr><tr><td>181857</td><td>2013-12-01T00:00:00.000+0000</td><td>7970</td><td>9.00</td></tr><tr><td>181467</td><td>2013-12-01T00:00:00.000+0000</td><td>7957</td><td>9.00</td></tr><tr><td>181229</td><td>2013-12-01T00:00:00.000+0000</td><td>7946</td><td>23.65</td></tr><tr><td>179977</td><td>2013-12-01T00:00:00.000+0000</td><td>7897</td><td>9.00</td></tr><tr><td>177609</td><td>2013-12-01T00:00:00.000+0000</td><td>7795</td><td>9.00</td></tr><tr><td>177416</td><td>2013-12-01T00:00:00.000+0000</td><td>7792</td><td>9.00</td></tr><tr><td>175062</td><td>2013-12-01T00:00:00.000+0000</td><td>7692</td><td>9.00</td></tr><tr><td>174624</td><td>2013-12-01T00:00:00.000+0000</td><td>7681</td><td>9.00</td></tr><tr><td>171243</td><td>2013-12-01T00:00:00.000+0000</td><td>7574</td><td>9.00</td></tr><tr><td>170470</td><td>2013-12-01T00:00:00.000+0000</td><td>7542</td><td>9.00</td></tr><tr><td>168804</td><td>2013-12-01T00:00:00.000+0000</td><td>7491</td><td>9.00</td></tr><tr><td>168521</td><td>2013-12-01T00:00:00.000+0000</td><td>7477</td><td>9.00</td></tr><tr><td>163707</td><td>2013-12-01T00:00:00.000+0000</td><td>7274</td><td>19.85</td></tr><tr><td>163379</td><td>2013-12-01T00:00:00.000+0000</td><td>7263</td><td>9.00</td></tr><tr><td>162769</td><td>2013-12-01T00:00:00.000+0000</td><td>7243</td><td>9.00</td></tr><tr><td>162633</td><td>2013-12-01T00:00:00.000+0000</td><td>7240</td><td>9.00</td></tr><tr><td>161330</td><td>2013-12-01T00:00:00.000+0000</td><td>7181</td><td>9.00</td></tr><tr><td>160592</td><td>2013-12-01T00:00:00.000+0000</td><td>7155</td><td>9.00</td></tr><tr><td>159738</td><td>2013-12-01T00:00:00.000+0000</td><td>7124</td><td>9.00</td></tr><tr><td>158754</td><td>2013-12-01T00:00:00.000+0000</td><td>7098</td><td>19.40</td></tr><tr><td>155944</td><td>2013-12-01T00:00:00.000+0000</td><td>6995</td><td>9.00</td></tr><tr><td>153239</td><td>2013-12-01T00:00:00.000+0000</td><td>6893</td><td>9.00</td></tr><tr><td>153014</td><td>2013-12-01T00:00:00.000+0000</td><td>6888</td><td>9.00</td></tr><tr><td>150358</td><td>2013-12-01T00:00:00.000+0000</td><td>6787</td><td>9.00</td></tr><tr><td>149935</td><td>2013-12-01T00:00:00.000+0000</td><td>6776</td><td>9.00</td></tr><tr><td>147806</td><td>2013-12-01T00:00:00.000+0000</td><td>6709</td><td>9.00</td></tr><tr><td>146611</td><td>2013-12-01T00:00:00.000+0000</td><td>6679</td><td>9.00</td></tr><tr><td>146065</td><td>2013-12-01T00:00:00.000+0000</td><td>6657</td><td>10.00</td></tr><tr><td>139144</td><td>2013-12-01T00:00:00.000+0000</td><td>6397</td><td>9.00</td></tr><tr><td>138271</td><td>2013-12-01T00:00:00.000+0000</td><td>6367</td><td>9.00</td></tr><tr><td>135947</td><td>2013-12-01T00:00:00.000+0000</td><td>6290</td><td>9.00</td></tr><tr><td>132869</td><td>2013-12-01T00:00:00.000+0000</td><td>6182</td><td>9.00</td></tr><tr><td>132081</td><td>2013-12-01T00:00:00.000+0000</td><td>6152</td><td>9.00</td></tr><tr><td>128888</td><td>2013-12-01T00:00:00.000+0000</td><td>6050</td><td>9.00</td></tr><tr><td>128540</td><td>2013-12-01T00:00:00.000+0000</td><td>6038</td><td>9.00</td></tr><tr><td>124199</td><td>2013-12-01T00:00:00.000+0000</td><td>5881</td><td>9.00</td></tr><tr><td>123316</td><td>2013-12-01T00:00:00.000+0000</td><td>5854</td><td>9.00</td></tr><tr><td>121257</td><td>2013-12-01T00:00:00.000+0000</td><td>1297</td><td>24.66</td></tr><tr><td>120266</td><td>2013-12-01T00:00:00.000+0000</td><td>5731</td><td>9.00</td></tr><tr><td>117941</td><td>2013-12-01T00:00:00.000+0000</td><td>5635</td><td>9.00</td></tr><tr><td>115715</td><td>2013-12-01T00:00:00.000+0000</td><td>5545</td><td>9.00</td></tr><tr><td>112640</td><td>2013-12-01T00:00:00.000+0000</td><td>5441</td><td>9.00</td></tr><tr><td>109138</td><td>2013-12-01T00:00:00.000+0000</td><td>5316</td><td>9.00</td></tr><tr><td>108305</td><td>2013-12-01T00:00:00.000+0000</td><td>5278</td><td>9.00</td></tr><tr><td>107534</td><td>2013-12-01T00:00:00.000+0000</td><td>5248</td><td>9.00</td></tr><tr><td>107126</td><td>2013-12-01T00:00:00.000+0000</td><td>5235</td><td>9.00</td></tr><tr><td>105471</td><td>2013-12-01T00:00:00.000+0000</td><td>5183</td><td>9.00</td></tr><tr><td>105016</td><td>2013-12-01T00:00:00.000+0000</td><td>5168</td><td>9.00</td></tr><tr><td>103363</td><td>2013-12-01T00:00:00.000+0000</td><td>5106</td><td>9.00</td></tr><tr><td>101520</td><td>2013-12-01T00:00:00.000+0000</td><td>5044</td><td>9.00</td></tr><tr><td>98253</td><td>2013-12-01T00:00:00.000+0000</td><td>4930</td><td>5.31</td></tr><tr><td>92628</td><td>2013-12-01T00:00:00.000+0000</td><td>4720</td><td>9.00</td></tr><tr><td>91263</td><td>2013-12-01T00:00:00.000+0000</td><td>4665</td><td>9.00</td></tr><tr><td>89786</td><td>2013-12-01T00:00:00.000+0000</td><td>4611</td><td>9.00</td></tr><tr><td>87099</td><td>2013-12-01T00:00:00.000+0000</td><td>4521</td><td>9.00</td></tr><tr><td>82110</td><td>2013-12-01T00:00:00.000+0000</td><td>4340</td><td>20.90</td></tr><tr><td>77100</td><td>2013-12-01T00:00:00.000+0000</td><td>4160</td><td>9.00</td></tr><tr><td>76931</td><td>2013-12-01T00:00:00.000+0000</td><td>4156</td><td>9.00</td></tr><tr><td>74644</td><td>2013-12-01T00:00:00.000+0000</td><td>4080</td><td>9.00</td></tr><tr><td>73958</td><td>2013-12-01T00:00:00.000+0000</td><td>4055</td><td>9.00</td></tr><tr><td>72982</td><td>2013-12-01T00:00:00.000+0000</td><td>4023</td><td>9.00</td></tr><tr><td>72932</td><td>2013-12-01T00:00:00.000+0000</td><td>4021</td><td>9.00</td></tr><tr><td>72255</td><td>2013-12-01T00:00:00.000+0000</td><td>1228</td><td>9.00</td></tr><tr><td>72105</td><td>2013-12-01T00:00:00.000+0000</td><td>1244</td><td>9.00</td></tr><tr><td>71236</td><td>2013-12-01T00:00:00.000+0000</td><td>3958</td><td>7.24</td></tr><tr><td>70095</td><td>2013-12-01T00:00:00.000+0000</td><td>3924</td><td>9.00</td></tr><tr><td>65317</td><td>2013-12-01T00:00:00.000+0000</td><td>3735</td><td>18.10</td></tr><tr><td>65036</td><td>2013-12-01T00:00:00.000+0000</td><td>3727</td><td>9.00</td></tr><tr><td>60789</td><td>2013-12-01T00:00:00.000+0000</td><td>3559</td><td>9.00</td></tr><tr><td>60316</td><td>2013-12-01T00:00:00.000+0000</td><td>1021</td><td>9.00</td></tr><tr><td>59376</td><td>2013-12-01T00:00:00.000+0000</td><td>3501</td><td>9.00</td></tr><tr><td>56941</td><td>2013-12-01T00:00:00.000+0000</td><td>3413</td><td>9.00</td></tr><tr><td>55425</td><td>2013-12-01T00:00:00.000+0000</td><td>3363</td><td>12.34</td></tr><tr><td>54523</td><td>2013-12-01T00:00:00.000+0000</td><td>3328</td><td>9.00</td></tr><tr><td>53329</td><td>2013-12-01T00:00:00.000+0000</td><td>3289</td><td>9.00</td></tr><tr><td>52541</td><td>2013-12-01T00:00:00.000+0000</td><td>3262</td><td>9.00</td></tr><tr><td>48757</td><td>2013-12-01T00:00:00.000+0000</td><td>1429</td><td>9.00</td></tr><tr><td>47136</td><td>2013-12-01T00:00:00.000+0000</td><td>3066</td><td>9.00</td></tr><tr><td>45516</td><td>2013-12-01T00:00:00.000+0000</td><td>3018</td><td>21.94</td></tr><tr><td>42729</td><td>2013-12-01T00:00:00.000+0000</td><td>2932</td><td>9.00</td></tr><tr><td>37328</td><td>2013-12-01T00:00:00.000+0000</td><td>2737</td><td>9.00</td></tr><tr><td>36940</td><td>2013-12-01T00:00:00.000+0000</td><td>2720</td><td>9.00</td></tr><tr><td>36814</td><td>2013-12-01T00:00:00.000+0000</td><td>2718</td><td>9.00</td></tr><tr><td>32415</td><td>2013-12-01T00:00:00.000+0000</td><td>2556</td><td>9.00</td></tr><tr><td>32101</td><td>2013-12-01T00:00:00.000+0000</td><td>2549</td><td>9.00</td></tr><tr><td>30519</td><td>2013-12-01T00:00:00.000+0000</td><td>2492</td><td>9.00</td></tr><tr><td>23072</td><td>2013-12-01T00:00:00.000+0000</td><td>2227</td><td>9.00</td></tr><tr><td>21347</td><td>2013-12-01T00:00:00.000+0000</td><td>2178</td><td>9.00</td></tr><tr><td>19256</td><td>2013-12-01T00:00:00.000+0000</td><td>1359</td><td>9.00</td></tr><tr><td>10520</td><td>2013-12-01T00:00:00.000+0000</td><td>1819</td><td>9.00</td></tr><tr><td>6297</td><td>2013-12-01T00:00:00.000+0000</td><td>1663</td><td>9.00</td></tr><tr><td>6180</td><td>2013-12-01T00:00:00.000+0000</td><td>1661</td><td>9.00</td></tr><tr><td>5664</td><td>2013-12-01T00:00:00.000+0000</td><td>1647</td><td>9.00</td></tr><tr><td>2668</td><td>2013-12-01T00:00:00.000+0000</td><td>1548</td><td>23.08</td></tr><tr><td>2483</td><td>2013-12-01T00:00:00.000+0000</td><td>1158</td><td>24.09</td></tr><tr><td>1994</td><td>2013-12-01T00:00:00.000+0000</td><td>1527</td><td>9.00</td></tr></tbody></table></div>"
      ]
     },
     "metadata": {
      "application/vnd.databricks.v1+output": {
       "addedWidgets": {},
       "aggData": [],
       "aggError": "",
       "aggOverflow": false,
       "aggSchema": [],
       "aggSeriesLimitReached": false,
       "aggType": "",
       "arguments": {},
       "columnCustomDisplayInfos": {},
       "data": [
        [
         71226,
         "2013-02-01T00:00:00.000+0000",
         3958,
         "7.24"
        ],
        [
         221075,
         "2013-03-01T00:00:00.000+0000",
         9517,
         "9.00"
        ],
        [
         163370,
         "2013-03-01T00:00:00.000+0000",
         7263,
         "9.00"
        ],
        [
         162760,
         "2013-03-01T00:00:00.000+0000",
         7243,
         "9.00"
        ],
        [
         128879,
         "2013-03-01T00:00:00.000+0000",
         6050,
         "9.00"
        ],
        [
         105007,
         "2013-03-01T00:00:00.000+0000",
         5168,
         "9.00"
        ],
        [
         77091,
         "2013-03-01T00:00:00.000+0000",
         4160,
         "9.00"
        ],
        [
         72973,
         "2013-03-01T00:00:00.000+0000",
         4023,
         "9.00"
        ],
        [
         71227,
         "2013-03-01T00:00:00.000+0000",
         3958,
         "7.24"
        ],
        [
         47127,
         "2013-03-01T00:00:00.000+0000",
         3066,
         "9.00"
        ],
        [
         37319,
         "2013-03-01T00:00:00.000+0000",
         2737,
         "9.00"
        ],
        [
         1985,
         "2013-03-01T00:00:00.000+0000",
         1527,
         "9.00"
        ],
        [
         224204,
         "2013-04-01T00:00:00.000+0000",
         1241,
         "9.00"
        ],
        [
         221076,
         "2013-04-01T00:00:00.000+0000",
         9517,
         "9.00"
        ],
        [
         216828,
         "2013-04-01T00:00:00.000+0000",
         9332,
         "9.00"
        ],
        [
         201063,
         "2013-04-01T00:00:00.000+0000",
         8746,
         "9.00"
        ],
        [
         195808,
         "2013-04-01T00:00:00.000+0000",
         8544,
         "9.00"
        ],
        [
         182253,
         "2013-04-01T00:00:00.000+0000",
         7981,
         "8.77"
        ],
        [
         171235,
         "2013-04-01T00:00:00.000+0000",
         7574,
         "9.00"
        ],
        [
         163371,
         "2013-04-01T00:00:00.000+0000",
         7263,
         "9.00"
        ],
        [
         162761,
         "2013-04-01T00:00:00.000+0000",
         7243,
         "9.00"
        ],
        [
         158746,
         "2013-04-01T00:00:00.000+0000",
         7098,
         "19.40"
        ],
        [
         146057,
         "2013-04-01T00:00:00.000+0000",
         6657,
         "10.00"
        ],
        [
         128880,
         "2013-04-01T00:00:00.000+0000",
         6050,
         "9.00"
        ],
        [
         123308,
         "2013-04-01T00:00:00.000+0000",
         5854,
         "9.00"
        ],
        [
         107118,
         "2013-04-01T00:00:00.000+0000",
         5235,
         "9.00"
        ],
        [
         105008,
         "2013-04-01T00:00:00.000+0000",
         5168,
         "9.00"
        ],
        [
         103355,
         "2013-04-01T00:00:00.000+0000",
         5106,
         "9.00"
        ],
        [
         101512,
         "2013-04-01T00:00:00.000+0000",
         5044,
         "9.00"
        ],
        [
         87091,
         "2013-04-01T00:00:00.000+0000",
         4521,
         "9.00"
        ],
        [
         77092,
         "2013-04-01T00:00:00.000+0000",
         4160,
         "9.00"
        ],
        [
         72974,
         "2013-04-01T00:00:00.000+0000",
         4023,
         "9.00"
        ],
        [
         71228,
         "2013-04-01T00:00:00.000+0000",
         3958,
         "7.24"
        ],
        [
         60781,
         "2013-04-01T00:00:00.000+0000",
         3559,
         "9.00"
        ],
        [
         47128,
         "2013-04-01T00:00:00.000+0000",
         3066,
         "9.00"
        ],
        [
         37320,
         "2013-04-01T00:00:00.000+0000",
         2737,
         "9.00"
        ],
        [
         6172,
         "2013-04-01T00:00:00.000+0000",
         1661,
         "9.00"
        ],
        [
         2660,
         "2013-04-01T00:00:00.000+0000",
         1548,
         "23.08"
        ],
        [
         1986,
         "2013-04-01T00:00:00.000+0000",
         1527,
         "9.00"
        ],
        [
         224205,
         "2013-05-01T00:00:00.000+0000",
         1241,
         "9.00"
        ],
        [
         221077,
         "2013-05-01T00:00:00.000+0000",
         9517,
         "9.00"
        ],
        [
         216829,
         "2013-05-01T00:00:00.000+0000",
         9332,
         "9.00"
        ],
        [
         206804,
         "2013-05-01T00:00:00.000+0000",
         8953,
         "9.00"
        ],
        [
         201293,
         "2013-05-01T00:00:00.000+0000",
         8753,
         "9.00"
        ],
        [
         201064,
         "2013-05-01T00:00:00.000+0000",
         8746,
         "9.00"
        ],
        [
         195809,
         "2013-05-01T00:00:00.000+0000",
         8544,
         "9.00"
        ],
        [
         182254,
         "2013-05-01T00:00:00.000+0000",
         7981,
         "8.77"
        ],
        [
         181850,
         "2013-05-01T00:00:00.000+0000",
         7970,
         "9.00"
        ],
        [
         171236,
         "2013-05-01T00:00:00.000+0000",
         7574,
         "9.00"
        ],
        [
         163372,
         "2013-05-01T00:00:00.000+0000",
         7263,
         "9.00"
        ],
        [
         162762,
         "2013-05-01T00:00:00.000+0000",
         7243,
         "9.00"
        ],
        [
         158747,
         "2013-05-01T00:00:00.000+0000",
         7098,
         "19.40"
        ],
        [
         146058,
         "2013-05-01T00:00:00.000+0000",
         6657,
         "10.00"
        ],
        [
         138264,
         "2013-05-01T00:00:00.000+0000",
         6367,
         "9.00"
        ],
        [
         135940,
         "2013-05-01T00:00:00.000+0000",
         6290,
         "9.00"
        ],
        [
         128881,
         "2013-05-01T00:00:00.000+0000",
         6050,
         "9.00"
        ],
        [
         124192,
         "2013-05-01T00:00:00.000+0000",
         5881,
         "9.00"
        ],
        [
         123309,
         "2013-05-01T00:00:00.000+0000",
         5854,
         "9.00"
        ],
        [
         107119,
         "2013-05-01T00:00:00.000+0000",
         5235,
         "9.00"
        ],
        [
         105009,
         "2013-05-01T00:00:00.000+0000",
         5168,
         "9.00"
        ],
        [
         103356,
         "2013-05-01T00:00:00.000+0000",
         5106,
         "9.00"
        ],
        [
         101513,
         "2013-05-01T00:00:00.000+0000",
         5044,
         "9.00"
        ],
        [
         87092,
         "2013-05-01T00:00:00.000+0000",
         4521,
         "9.00"
        ],
        [
         77093,
         "2013-05-01T00:00:00.000+0000",
         4160,
         "9.00"
        ],
        [
         72975,
         "2013-05-01T00:00:00.000+0000",
         4023,
         "9.00"
        ],
        [
         71229,
         "2013-05-01T00:00:00.000+0000",
         3958,
         "7.24"
        ],
        [
         60782,
         "2013-05-01T00:00:00.000+0000",
         3559,
         "9.00"
        ],
        [
         47129,
         "2013-05-01T00:00:00.000+0000",
         3066,
         "9.00"
        ],
        [
         37321,
         "2013-05-01T00:00:00.000+0000",
         2737,
         "9.00"
        ],
        [
         6173,
         "2013-05-01T00:00:00.000+0000",
         1661,
         "9.00"
        ],
        [
         2661,
         "2013-05-01T00:00:00.000+0000",
         1548,
         "23.08"
        ],
        [
         1987,
         "2013-05-01T00:00:00.000+0000",
         1527,
         "9.00"
        ],
        [
         224206,
         "2013-06-01T00:00:00.000+0000",
         1241,
         "9.00"
        ],
        [
         221078,
         "2013-06-01T00:00:00.000+0000",
         9517,
         "9.00"
        ],
        [
         220841,
         "2013-06-01T00:00:00.000+0000",
         9509,
         "9.00"
        ],
        [
         218925,
         "2013-06-01T00:00:00.000+0000",
         9416,
         "9.00"
        ],
        [
         217901,
         "2013-06-01T00:00:00.000+0000",
         9380,
         "12.77"
        ],
        [
         216830,
         "2013-06-01T00:00:00.000+0000",
         9332,
         "9.00"
        ],
        [
         206805,
         "2013-06-01T00:00:00.000+0000",
         8953,
         "9.00"
        ],
        [
         201294,
         "2013-06-01T00:00:00.000+0000",
         8753,
         "9.00"
        ],
        [
         201065,
         "2013-06-01T00:00:00.000+0000",
         8746,
         "9.00"
        ],
        [
         195879,
         "2013-06-01T00:00:00.000+0000",
         8546,
         "23.15"
        ],
        [
         195810,
         "2013-06-01T00:00:00.000+0000",
         8544,
         "9.00"
        ],
        [
         188867,
         "2013-06-01T00:00:00.000+0000",
         8252,
         "9.00"
        ],
        [
         182255,
         "2013-06-01T00:00:00.000+0000",
         7981,
         "8.77"
        ],
        [
         181851,
         "2013-06-01T00:00:00.000+0000",
         7970,
         "9.00"
        ],
        [
         171237,
         "2013-06-01T00:00:00.000+0000",
         7574,
         "9.00"
        ],
        [
         163701,
         "2013-06-01T00:00:00.000+0000",
         7274,
         "19.85"
        ],
        [
         163373,
         "2013-06-01T00:00:00.000+0000",
         7263,
         "9.00"
        ],
        [
         162763,
         "2013-06-01T00:00:00.000+0000",
         7243,
         "9.00"
        ],
        [
         160586,
         "2013-06-01T00:00:00.000+0000",
         7155,
         "9.00"
        ],
        [
         158748,
         "2013-06-01T00:00:00.000+0000",
         7098,
         "19.40"
        ],
        [
         155938,
         "2013-06-01T00:00:00.000+0000",
         6995,
         "9.00"
        ],
        [
         146059,
         "2013-06-01T00:00:00.000+0000",
         6657,
         "10.00"
        ],
        [
         139138,
         "2013-06-01T00:00:00.000+0000",
         6397,
         "9.00"
        ],
        [
         138265,
         "2013-06-01T00:00:00.000+0000",
         6367,
         "9.00"
        ],
        [
         135941,
         "2013-06-01T00:00:00.000+0000",
         6290,
         "9.00"
        ],
        [
         128882,
         "2013-06-01T00:00:00.000+0000",
         6050,
         "9.00"
        ],
        [
         124193,
         "2013-06-01T00:00:00.000+0000",
         5881,
         "9.00"
        ],
        [
         123310,
         "2013-06-01T00:00:00.000+0000",
         5854,
         "9.00"
        ],
        [
         112634,
         "2013-06-01T00:00:00.000+0000",
         5441,
         "9.00"
        ],
        [
         107120,
         "2013-06-01T00:00:00.000+0000",
         5235,
         "9.00"
        ],
        [
         105010,
         "2013-06-01T00:00:00.000+0000",
         5168,
         "9.00"
        ],
        [
         103357,
         "2013-06-01T00:00:00.000+0000",
         5106,
         "9.00"
        ],
        [
         101514,
         "2013-06-01T00:00:00.000+0000",
         5044,
         "9.00"
        ],
        [
         87093,
         "2013-06-01T00:00:00.000+0000",
         4521,
         "9.00"
        ],
        [
         77094,
         "2013-06-01T00:00:00.000+0000",
         4160,
         "9.00"
        ],
        [
         72976,
         "2013-06-01T00:00:00.000+0000",
         4023,
         "9.00"
        ],
        [
         72099,
         "2013-06-01T00:00:00.000+0000",
         1244,
         "9.00"
        ],
        [
         71230,
         "2013-06-01T00:00:00.000+0000",
         3958,
         "7.24"
        ],
        [
         60783,
         "2013-06-01T00:00:00.000+0000",
         3559,
         "9.00"
        ],
        [
         54517,
         "2013-06-01T00:00:00.000+0000",
         3328,
         "9.00"
        ],
        [
         47130,
         "2013-06-01T00:00:00.000+0000",
         3066,
         "9.00"
        ],
        [
         42723,
         "2013-06-01T00:00:00.000+0000",
         2932,
         "9.00"
        ],
        [
         37322,
         "2013-06-01T00:00:00.000+0000",
         2737,
         "9.00"
        ],
        [
         6174,
         "2013-06-01T00:00:00.000+0000",
         1661,
         "9.00"
        ],
        [
         2662,
         "2013-06-01T00:00:00.000+0000",
         1548,
         "23.08"
        ],
        [
         1988,
         "2013-06-01T00:00:00.000+0000",
         1527,
         "9.00"
        ],
        [
         224207,
         "2013-07-01T00:00:00.000+0000",
         1241,
         "9.00"
        ],
        [
         223766,
         "2013-07-01T00:00:00.000+0000",
         9620,
         "9.00"
        ],
        [
         221079,
         "2013-07-01T00:00:00.000+0000",
         9517,
         "9.00"
        ],
        [
         220842,
         "2013-07-01T00:00:00.000+0000",
         9509,
         "9.00"
        ],
        [
         218926,
         "2013-07-01T00:00:00.000+0000",
         9416,
         "9.00"
        ],
        [
         217902,
         "2013-07-01T00:00:00.000+0000",
         9380,
         "12.77"
        ],
        [
         216831,
         "2013-07-01T00:00:00.000+0000",
         9332,
         "9.00"
        ],
        [
         206806,
         "2013-07-01T00:00:00.000+0000",
         8953,
         "9.00"
        ],
        [
         201295,
         "2013-07-01T00:00:00.000+0000",
         8753,
         "9.00"
        ],
        [
         201066,
         "2013-07-01T00:00:00.000+0000",
         8746,
         "9.00"
        ],
        [
         195880,
         "2013-07-01T00:00:00.000+0000",
         8546,
         "23.15"
        ],
        [
         195811,
         "2013-07-01T00:00:00.000+0000",
         8544,
         "9.00"
        ],
        [
         188868,
         "2013-07-01T00:00:00.000+0000",
         8252,
         "9.00"
        ],
        [
         182256,
         "2013-07-01T00:00:00.000+0000",
         7981,
         "8.77"
        ],
        [
         181852,
         "2013-07-01T00:00:00.000+0000",
         7970,
         "9.00"
        ],
        [
         171238,
         "2013-07-01T00:00:00.000+0000",
         7574,
         "9.00"
        ],
        [
         168516,
         "2013-07-01T00:00:00.000+0000",
         7477,
         "9.00"
        ],
        [
         163702,
         "2013-07-01T00:00:00.000+0000",
         7274,
         "19.85"
        ],
        [
         163374,
         "2013-07-01T00:00:00.000+0000",
         7263,
         "9.00"
        ],
        [
         162764,
         "2013-07-01T00:00:00.000+0000",
         7243,
         "9.00"
        ],
        [
         160587,
         "2013-07-01T00:00:00.000+0000",
         7155,
         "9.00"
        ],
        [
         159733,
         "2013-07-01T00:00:00.000+0000",
         7124,
         "9.00"
        ],
        [
         158749,
         "2013-07-01T00:00:00.000+0000",
         7098,
         "19.40"
        ],
        [
         155939,
         "2013-07-01T00:00:00.000+0000",
         6995,
         "9.00"
        ],
        [
         150353,
         "2013-07-01T00:00:00.000+0000",
         6787,
         "9.00"
        ],
        [
         146060,
         "2013-07-01T00:00:00.000+0000",
         6657,
         "10.00"
        ],
        [
         139139,
         "2013-07-01T00:00:00.000+0000",
         6397,
         "9.00"
        ],
        [
         138266,
         "2013-07-01T00:00:00.000+0000",
         6367,
         "9.00"
        ],
        [
         135942,
         "2013-07-01T00:00:00.000+0000",
         6290,
         "9.00"
        ],
        [
         132864,
         "2013-07-01T00:00:00.000+0000",
         6182,
         "9.00"
        ],
        [
         128883,
         "2013-07-01T00:00:00.000+0000",
         6050,
         "9.00"
        ],
        [
         124194,
         "2013-07-01T00:00:00.000+0000",
         5881,
         "9.00"
        ],
        [
         123311,
         "2013-07-01T00:00:00.000+0000",
         5854,
         "9.00"
        ],
        [
         112635,
         "2013-07-01T00:00:00.000+0000",
         5441,
         "9.00"
        ],
        [
         107121,
         "2013-07-01T00:00:00.000+0000",
         5235,
         "9.00"
        ],
        [
         105011,
         "2013-07-01T00:00:00.000+0000",
         5168,
         "9.00"
        ],
        [
         103358,
         "2013-07-01T00:00:00.000+0000",
         5106,
         "9.00"
        ],
        [
         101515,
         "2013-07-01T00:00:00.000+0000",
         5044,
         "9.00"
        ],
        [
         87094,
         "2013-07-01T00:00:00.000+0000",
         4521,
         "9.00"
        ],
        [
         77095,
         "2013-07-01T00:00:00.000+0000",
         4160,
         "9.00"
        ],
        [
         72977,
         "2013-07-01T00:00:00.000+0000",
         4023,
         "9.00"
        ],
        [
         72100,
         "2013-07-01T00:00:00.000+0000",
         1244,
         "9.00"
        ],
        [
         71231,
         "2013-07-01T00:00:00.000+0000",
         3958,
         "7.24"
        ],
        [
         60784,
         "2013-07-01T00:00:00.000+0000",
         3559,
         "9.00"
        ],
        [
         55420,
         "2013-07-01T00:00:00.000+0000",
         3363,
         "12.34"
        ],
        [
         54518,
         "2013-07-01T00:00:00.000+0000",
         3328,
         "9.00"
        ],
        [
         48752,
         "2013-07-01T00:00:00.000+0000",
         1429,
         "9.00"
        ],
        [
         47131,
         "2013-07-01T00:00:00.000+0000",
         3066,
         "9.00"
        ],
        [
         42724,
         "2013-07-01T00:00:00.000+0000",
         2932,
         "9.00"
        ],
        [
         37323,
         "2013-07-01T00:00:00.000+0000",
         2737,
         "9.00"
        ],
        [
         36935,
         "2013-07-01T00:00:00.000+0000",
         2720,
         "9.00"
        ],
        [
         32410,
         "2013-07-01T00:00:00.000+0000",
         2556,
         "9.00"
        ],
        [
         23067,
         "2013-07-01T00:00:00.000+0000",
         2227,
         "9.00"
        ],
        [
         6175,
         "2013-07-01T00:00:00.000+0000",
         1661,
         "9.00"
        ],
        [
         2663,
         "2013-07-01T00:00:00.000+0000",
         1548,
         "23.08"
        ],
        [
         2478,
         "2013-07-01T00:00:00.000+0000",
         1158,
         "24.09"
        ],
        [
         1989,
         "2013-07-01T00:00:00.000+0000",
         1527,
         "9.00"
        ],
        [
         224208,
         "2013-08-01T00:00:00.000+0000",
         1241,
         "9.00"
        ],
        [
         223767,
         "2013-08-01T00:00:00.000+0000",
         9620,
         "9.00"
        ],
        [
         221080,
         "2013-08-01T00:00:00.000+0000",
         9517,
         "9.00"
        ],
        [
         220843,
         "2013-08-01T00:00:00.000+0000",
         9509,
         "9.00"
        ],
        [
         218927,
         "2013-08-01T00:00:00.000+0000",
         9416,
         "9.00"
        ],
        [
         217903,
         "2013-08-01T00:00:00.000+0000",
         9380,
         "12.77"
        ],
        [
         216832,
         "2013-08-01T00:00:00.000+0000",
         9332,
         "9.00"
        ],
        [
         212270,
         "2013-08-01T00:00:00.000+0000",
         9176,
         "9.00"
        ],
        [
         209709,
         "2013-08-01T00:00:00.000+0000",
         9077,
         "9.00"
        ],
        [
         206807,
         "2013-08-01T00:00:00.000+0000",
         8953,
         "9.00"
        ],
        [
         201296,
         "2013-08-01T00:00:00.000+0000",
         8753,
         "9.00"
        ],
        [
         201067,
         "2013-08-01T00:00:00.000+0000",
         8746,
         "9.00"
        ],
        [
         195881,
         "2013-08-01T00:00:00.000+0000",
         8546,
         "23.15"
        ],
        [
         195812,
         "2013-08-01T00:00:00.000+0000",
         8544,
         "9.00"
        ],
        [
         188869,
         "2013-08-01T00:00:00.000+0000",
         8252,
         "9.00"
        ],
        [
         182257,
         "2013-08-01T00:00:00.000+0000",
         7981,
         "8.77"
        ],
        [
         181853,
         "2013-08-01T00:00:00.000+0000",
         7970,
         "9.00"
        ],
        [
         179973,
         "2013-08-01T00:00:00.000+0000",
         7897,
         "9.00"
        ],
        [
         177412,
         "2013-08-01T00:00:00.000+0000",
         7792,
         "9.00"
        ],
        [
         175058,
         "2013-08-01T00:00:00.000+0000",
         7692,
         "9.00"
        ],
        [
         171239,
         "2013-08-01T00:00:00.000+0000",
         7574,
         "9.00"
        ],
        [
         168517,
         "2013-08-01T00:00:00.000+0000",
         7477,
         "9.00"
        ],
        [
         163703,
         "2013-08-01T00:00:00.000+0000",
         7274,
         "19.85"
        ],
        [
         163375,
         "2013-08-01T00:00:00.000+0000",
         7263,
         "9.00"
        ],
        [
         162765,
         "2013-08-01T00:00:00.000+0000",
         7243,
         "9.00"
        ],
        [
         162629,
         "2013-08-01T00:00:00.000+0000",
         7240,
         "9.00"
        ],
        [
         160588,
         "2013-08-01T00:00:00.000+0000",
         7155,
         "9.00"
        ],
        [
         159734,
         "2013-08-01T00:00:00.000+0000",
         7124,
         "9.00"
        ],
        [
         158750,
         "2013-08-01T00:00:00.000+0000",
         7098,
         "19.40"
        ],
        [
         155940,
         "2013-08-01T00:00:00.000+0000",
         6995,
         "9.00"
        ],
        [
         150354,
         "2013-08-01T00:00:00.000+0000",
         6787,
         "9.00"
        ],
        [
         147802,
         "2013-08-01T00:00:00.000+0000",
         6709,
         "9.00"
        ],
        [
         146061,
         "2013-08-01T00:00:00.000+0000",
         6657,
         "10.00"
        ],
        [
         139140,
         "2013-08-01T00:00:00.000+0000",
         6397,
         "9.00"
        ],
        [
         138267,
         "2013-08-01T00:00:00.000+0000",
         6367,
         "9.00"
        ],
        [
         135943,
         "2013-08-01T00:00:00.000+0000",
         6290,
         "9.00"
        ],
        [
         132865,
         "2013-08-01T00:00:00.000+0000",
         6182,
         "9.00"
        ],
        [
         128884,
         "2013-08-01T00:00:00.000+0000",
         6050,
         "9.00"
        ],
        [
         124195,
         "2013-08-01T00:00:00.000+0000",
         5881,
         "9.00"
        ],
        [
         123312,
         "2013-08-01T00:00:00.000+0000",
         5854,
         "9.00"
        ],
        [
         112636,
         "2013-08-01T00:00:00.000+0000",
         5441,
         "9.00"
        ],
        [
         107122,
         "2013-08-01T00:00:00.000+0000",
         5235,
         "9.00"
        ],
        [
         105012,
         "2013-08-01T00:00:00.000+0000",
         5168,
         "9.00"
        ],
        [
         103359,
         "2013-08-01T00:00:00.000+0000",
         5106,
         "9.00"
        ],
        [
         101516,
         "2013-08-01T00:00:00.000+0000",
         5044,
         "9.00"
        ],
        [
         87095,
         "2013-08-01T00:00:00.000+0000",
         4521,
         "9.00"
        ],
        [
         77096,
         "2013-08-01T00:00:00.000+0000",
         4160,
         "9.00"
        ],
        [
         72978,
         "2013-08-01T00:00:00.000+0000",
         4023,
         "9.00"
        ],
        [
         72928,
         "2013-08-01T00:00:00.000+0000",
         4021,
         "9.00"
        ],
        [
         72101,
         "2013-08-01T00:00:00.000+0000",
         1244,
         "9.00"
        ],
        [
         71232,
         "2013-08-01T00:00:00.000+0000",
         3958,
         "7.24"
        ],
        [
         65032,
         "2013-08-01T00:00:00.000+0000",
         3727,
         "9.00"
        ],
        [
         60785,
         "2013-08-01T00:00:00.000+0000",
         3559,
         "9.00"
        ],
        [
         60312,
         "2013-08-01T00:00:00.000+0000",
         1021,
         "9.00"
        ],
        [
         59372,
         "2013-08-01T00:00:00.000+0000",
         3501,
         "9.00"
        ],
        [
         56937,
         "2013-08-01T00:00:00.000+0000",
         3413,
         "9.00"
        ],
        [
         55421,
         "2013-08-01T00:00:00.000+0000",
         3363,
         "12.34"
        ],
        [
         54519,
         "2013-08-01T00:00:00.000+0000",
         3328,
         "9.00"
        ],
        [
         48753,
         "2013-08-01T00:00:00.000+0000",
         1429,
         "9.00"
        ],
        [
         47132,
         "2013-08-01T00:00:00.000+0000",
         3066,
         "9.00"
        ],
        [
         42725,
         "2013-08-01T00:00:00.000+0000",
         2932,
         "9.00"
        ],
        [
         37324,
         "2013-08-01T00:00:00.000+0000",
         2737,
         "9.00"
        ],
        [
         36936,
         "2013-08-01T00:00:00.000+0000",
         2720,
         "9.00"
        ],
        [
         32411,
         "2013-08-01T00:00:00.000+0000",
         2556,
         "9.00"
        ],
        [
         30515,
         "2013-08-01T00:00:00.000+0000",
         2492,
         "9.00"
        ],
        [
         23068,
         "2013-08-01T00:00:00.000+0000",
         2227,
         "9.00"
        ],
        [
         6293,
         "2013-08-01T00:00:00.000+0000",
         1663,
         "9.00"
        ],
        [
         6176,
         "2013-08-01T00:00:00.000+0000",
         1661,
         "9.00"
        ],
        [
         2664,
         "2013-08-01T00:00:00.000+0000",
         1548,
         "23.08"
        ],
        [
         2479,
         "2013-08-01T00:00:00.000+0000",
         1158,
         "24.09"
        ],
        [
         1990,
         "2013-08-01T00:00:00.000+0000",
         1527,
         "9.00"
        ],
        [
         224209,
         "2013-09-01T00:00:00.000+0000",
         1241,
         "9.00"
        ],
        [
         223768,
         "2013-09-01T00:00:00.000+0000",
         9620,
         "9.00"
        ],
        [
         221081,
         "2013-09-01T00:00:00.000+0000",
         9517,
         "9.00"
        ],
        [
         220844,
         "2013-09-01T00:00:00.000+0000",
         9509,
         "9.00"
        ],
        [
         218928,
         "2013-09-01T00:00:00.000+0000",
         9416,
         "9.00"
        ],
        [
         217904,
         "2013-09-01T00:00:00.000+0000",
         9380,
         "12.77"
        ],
        [
         216833,
         "2013-09-01T00:00:00.000+0000",
         9332,
         "9.00"
        ],
        [
         212271,
         "2013-09-01T00:00:00.000+0000",
         9176,
         "9.00"
        ],
        [
         209710,
         "2013-09-01T00:00:00.000+0000",
         9077,
         "9.00"
        ],
        [
         206808,
         "2013-09-01T00:00:00.000+0000",
         8953,
         "9.00"
        ],
        [
         201297,
         "2013-09-01T00:00:00.000+0000",
         8753,
         "9.00"
        ],
        [
         201068,
         "2013-09-01T00:00:00.000+0000",
         8746,
         "9.00"
        ],
        [
         195882,
         "2013-09-01T00:00:00.000+0000",
         8546,
         "23.15"
        ],
        [
         195813,
         "2013-09-01T00:00:00.000+0000",
         8544,
         "9.00"
        ],
        [
         188870,
         "2013-09-01T00:00:00.000+0000",
         8252,
         "9.00"
        ],
        [
         182258,
         "2013-09-01T00:00:00.000+0000",
         7981,
         "8.77"
        ],
        [
         181854,
         "2013-09-01T00:00:00.000+0000",
         7970,
         "9.00"
        ],
        [
         179974,
         "2013-09-01T00:00:00.000+0000",
         7897,
         "9.00"
        ],
        [
         177413,
         "2013-09-01T00:00:00.000+0000",
         7792,
         "9.00"
        ],
        [
         175059,
         "2013-09-01T00:00:00.000+0000",
         7692,
         "9.00"
        ],
        [
         171240,
         "2013-09-01T00:00:00.000+0000",
         7574,
         "9.00"
        ],
        [
         168518,
         "2013-09-01T00:00:00.000+0000",
         7477,
         "9.00"
        ],
        [
         163704,
         "2013-09-01T00:00:00.000+0000",
         7274,
         "19.85"
        ],
        [
         163376,
         "2013-09-01T00:00:00.000+0000",
         7263,
         "9.00"
        ],
        [
         162766,
         "2013-09-01T00:00:00.000+0000",
         7243,
         "9.00"
        ],
        [
         162630,
         "2013-09-01T00:00:00.000+0000",
         7240,
         "9.00"
        ],
        [
         160589,
         "2013-09-01T00:00:00.000+0000",
         7155,
         "9.00"
        ],
        [
         159735,
         "2013-09-01T00:00:00.000+0000",
         7124,
         "9.00"
        ],
        [
         158751,
         "2013-09-01T00:00:00.000+0000",
         7098,
         "19.40"
        ],
        [
         155941,
         "2013-09-01T00:00:00.000+0000",
         6995,
         "9.00"
        ],
        [
         150355,
         "2013-09-01T00:00:00.000+0000",
         6787,
         "9.00"
        ],
        [
         147803,
         "2013-09-01T00:00:00.000+0000",
         6709,
         "9.00"
        ],
        [
         146062,
         "2013-09-01T00:00:00.000+0000",
         6657,
         "10.00"
        ],
        [
         139141,
         "2013-09-01T00:00:00.000+0000",
         6397,
         "9.00"
        ],
        [
         138268,
         "2013-09-01T00:00:00.000+0000",
         6367,
         "9.00"
        ],
        [
         135944,
         "2013-09-01T00:00:00.000+0000",
         6290,
         "9.00"
        ],
        [
         132866,
         "2013-09-01T00:00:00.000+0000",
         6182,
         "9.00"
        ],
        [
         128885,
         "2013-09-01T00:00:00.000+0000",
         6050,
         "9.00"
        ],
        [
         124196,
         "2013-09-01T00:00:00.000+0000",
         5881,
         "9.00"
        ],
        [
         123313,
         "2013-09-01T00:00:00.000+0000",
         5854,
         "9.00"
        ],
        [
         120263,
         "2013-09-01T00:00:00.000+0000",
         5731,
         "9.00"
        ],
        [
         117938,
         "2013-09-01T00:00:00.000+0000",
         5635,
         "9.00"
        ],
        [
         112637,
         "2013-09-01T00:00:00.000+0000",
         5441,
         "9.00"
        ],
        [
         107123,
         "2013-09-01T00:00:00.000+0000",
         5235,
         "9.00"
        ],
        [
         105013,
         "2013-09-01T00:00:00.000+0000",
         5168,
         "9.00"
        ],
        [
         103360,
         "2013-09-01T00:00:00.000+0000",
         5106,
         "9.00"
        ],
        [
         101517,
         "2013-09-01T00:00:00.000+0000",
         5044,
         "9.00"
        ],
        [
         87096,
         "2013-09-01T00:00:00.000+0000",
         4521,
         "9.00"
        ],
        [
         77097,
         "2013-09-01T00:00:00.000+0000",
         4160,
         "9.00"
        ],
        [
         72979,
         "2013-09-01T00:00:00.000+0000",
         4023,
         "9.00"
        ],
        [
         72929,
         "2013-09-01T00:00:00.000+0000",
         4021,
         "9.00"
        ],
        [
         72102,
         "2013-09-01T00:00:00.000+0000",
         1244,
         "9.00"
        ],
        [
         71233,
         "2013-09-01T00:00:00.000+0000",
         3958,
         "7.24"
        ],
        [
         65033,
         "2013-09-01T00:00:00.000+0000",
         3727,
         "9.00"
        ],
        [
         60786,
         "2013-09-01T00:00:00.000+0000",
         3559,
         "9.00"
        ],
        [
         60313,
         "2013-09-01T00:00:00.000+0000",
         1021,
         "9.00"
        ],
        [
         59373,
         "2013-09-01T00:00:00.000+0000",
         3501,
         "9.00"
        ],
        [
         56938,
         "2013-09-01T00:00:00.000+0000",
         3413,
         "9.00"
        ],
        [
         55422,
         "2013-09-01T00:00:00.000+0000",
         3363,
         "12.34"
        ],
        [
         54520,
         "2013-09-01T00:00:00.000+0000",
         3328,
         "9.00"
        ],
        [
         48754,
         "2013-09-01T00:00:00.000+0000",
         1429,
         "9.00"
        ],
        [
         47133,
         "2013-09-01T00:00:00.000+0000",
         3066,
         "9.00"
        ],
        [
         42726,
         "2013-09-01T00:00:00.000+0000",
         2932,
         "9.00"
        ],
        [
         37325,
         "2013-09-01T00:00:00.000+0000",
         2737,
         "9.00"
        ],
        [
         36937,
         "2013-09-01T00:00:00.000+0000",
         2720,
         "9.00"
        ],
        [
         32412,
         "2013-09-01T00:00:00.000+0000",
         2556,
         "9.00"
        ],
        [
         30516,
         "2013-09-01T00:00:00.000+0000",
         2492,
         "9.00"
        ],
        [
         23069,
         "2013-09-01T00:00:00.000+0000",
         2227,
         "9.00"
        ],
        [
         21344,
         "2013-09-01T00:00:00.000+0000",
         2178,
         "9.00"
        ],
        [
         6294,
         "2013-09-01T00:00:00.000+0000",
         1663,
         "9.00"
        ],
        [
         6177,
         "2013-09-01T00:00:00.000+0000",
         1661,
         "9.00"
        ],
        [
         2665,
         "2013-09-01T00:00:00.000+0000",
         1548,
         "23.08"
        ],
        [
         2480,
         "2013-09-01T00:00:00.000+0000",
         1158,
         "24.09"
        ],
        [
         1991,
         "2013-09-01T00:00:00.000+0000",
         1527,
         "9.00"
        ],
        [
         224210,
         "2013-10-01T00:00:00.000+0000",
         1241,
         "9.00"
        ],
        [
         223769,
         "2013-10-01T00:00:00.000+0000",
         9620,
         "9.00"
        ],
        [
         221082,
         "2013-10-01T00:00:00.000+0000",
         9517,
         "9.00"
        ],
        [
         220845,
         "2013-10-01T00:00:00.000+0000",
         9509,
         "9.00"
        ],
        [
         219738,
         "2013-10-01T00:00:00.000+0000",
         9456,
         "10.38"
        ],
        [
         218929,
         "2013-10-01T00:00:00.000+0000",
         9416,
         "9.00"
        ],
        [
         218367,
         "2013-10-01T00:00:00.000+0000",
         9396,
         "9.00"
        ],
        [
         217905,
         "2013-10-01T00:00:00.000+0000",
         9380,
         "12.77"
        ],
        [
         216834,
         "2013-10-01T00:00:00.000+0000",
         9332,
         "9.00"
        ],
        [
         212272,
         "2013-10-01T00:00:00.000+0000",
         9176,
         "9.00"
        ],
        [
         209711,
         "2013-10-01T00:00:00.000+0000",
         9077,
         "9.00"
        ],
        [
         206809,
         "2013-10-01T00:00:00.000+0000",
         8953,
         "9.00"
        ],
        [
         204211,
         "2013-10-01T00:00:00.000+0000",
         8861,
         "9.00"
        ],
        [
         201298,
         "2013-10-01T00:00:00.000+0000",
         8753,
         "9.00"
        ],
        [
         201069,
         "2013-10-01T00:00:00.000+0000",
         8746,
         "9.00"
        ],
        [
         195883,
         "2013-10-01T00:00:00.000+0000",
         8546,
         "23.15"
        ],
        [
         195814,
         "2013-10-01T00:00:00.000+0000",
         8544,
         "9.00"
        ],
        [
         193965,
         "2013-10-01T00:00:00.000+0000",
         8472,
         "9.00"
        ],
        [
         188871,
         "2013-10-01T00:00:00.000+0000",
         8252,
         "9.00"
        ],
        [
         182259,
         "2013-10-01T00:00:00.000+0000",
         7981,
         "8.77"
        ],
        [
         181855,
         "2013-10-01T00:00:00.000+0000",
         7970,
         "9.00"
        ],
        [
         181465,
         "2013-10-01T00:00:00.000+0000",
         7957,
         "9.00"
        ],
        [
         181227,
         "2013-10-01T00:00:00.000+0000",
         7946,
         "23.65"
        ],
        [
         179975,
         "2013-10-01T00:00:00.000+0000",
         7897,
         "9.00"
        ],
        [
         177607,
         "2013-10-01T00:00:00.000+0000",
         7795,
         "9.00"
        ],
        [
         177414,
         "2013-10-01T00:00:00.000+0000",
         7792,
         "9.00"
        ],
        [
         175060,
         "2013-10-01T00:00:00.000+0000",
         7692,
         "9.00"
        ],
        [
         174622,
         "2013-10-01T00:00:00.000+0000",
         7681,
         "9.00"
        ],
        [
         171241,
         "2013-10-01T00:00:00.000+0000",
         7574,
         "9.00"
        ],
        [
         168519,
         "2013-10-01T00:00:00.000+0000",
         7477,
         "9.00"
        ],
        [
         163705,
         "2013-10-01T00:00:00.000+0000",
         7274,
         "19.85"
        ],
        [
         163377,
         "2013-10-01T00:00:00.000+0000",
         7263,
         "9.00"
        ],
        [
         162767,
         "2013-10-01T00:00:00.000+0000",
         7243,
         "9.00"
        ],
        [
         162631,
         "2013-10-01T00:00:00.000+0000",
         7240,
         "9.00"
        ],
        [
         160590,
         "2013-10-01T00:00:00.000+0000",
         7155,
         "9.00"
        ],
        [
         159736,
         "2013-10-01T00:00:00.000+0000",
         7124,
         "9.00"
        ],
        [
         158752,
         "2013-10-01T00:00:00.000+0000",
         7098,
         "19.40"
        ],
        [
         155942,
         "2013-10-01T00:00:00.000+0000",
         6995,
         "9.00"
        ],
        [
         150356,
         "2013-10-01T00:00:00.000+0000",
         6787,
         "9.00"
        ],
        [
         147804,
         "2013-10-01T00:00:00.000+0000",
         6709,
         "9.00"
        ],
        [
         146063,
         "2013-10-01T00:00:00.000+0000",
         6657,
         "10.00"
        ],
        [
         139142,
         "2013-10-01T00:00:00.000+0000",
         6397,
         "9.00"
        ],
        [
         138269,
         "2013-10-01T00:00:00.000+0000",
         6367,
         "9.00"
        ],
        [
         135945,
         "2013-10-01T00:00:00.000+0000",
         6290,
         "9.00"
        ],
        [
         132867,
         "2013-10-01T00:00:00.000+0000",
         6182,
         "9.00"
        ],
        [
         128886,
         "2013-10-01T00:00:00.000+0000",
         6050,
         "9.00"
        ],
        [
         124197,
         "2013-10-01T00:00:00.000+0000",
         5881,
         "9.00"
        ],
        [
         123314,
         "2013-10-01T00:00:00.000+0000",
         5854,
         "9.00"
        ],
        [
         120264,
         "2013-10-01T00:00:00.000+0000",
         5731,
         "9.00"
        ],
        [
         117939,
         "2013-10-01T00:00:00.000+0000",
         5635,
         "9.00"
        ],
        [
         112638,
         "2013-10-01T00:00:00.000+0000",
         5441,
         "9.00"
        ],
        [
         109136,
         "2013-10-01T00:00:00.000+0000",
         5316,
         "9.00"
        ],
        [
         107124,
         "2013-10-01T00:00:00.000+0000",
         5235,
         "9.00"
        ],
        [
         105469,
         "2013-10-01T00:00:00.000+0000",
         5183,
         "9.00"
        ],
        [
         105014,
         "2013-10-01T00:00:00.000+0000",
         5168,
         "9.00"
        ],
        [
         103361,
         "2013-10-01T00:00:00.000+0000",
         5106,
         "9.00"
        ],
        [
         101518,
         "2013-10-01T00:00:00.000+0000",
         5044,
         "9.00"
        ],
        [
         87097,
         "2013-10-01T00:00:00.000+0000",
         4521,
         "9.00"
        ],
        [
         82108,
         "2013-10-01T00:00:00.000+0000",
         4340,
         "20.90"
        ],
        [
         77098,
         "2013-10-01T00:00:00.000+0000",
         4160,
         "9.00"
        ],
        [
         76929,
         "2013-10-01T00:00:00.000+0000",
         4156,
         "9.00"
        ],
        [
         74642,
         "2013-10-01T00:00:00.000+0000",
         4080,
         "9.00"
        ],
        [
         73956,
         "2013-10-01T00:00:00.000+0000",
         4055,
         "9.00"
        ],
        [
         72980,
         "2013-10-01T00:00:00.000+0000",
         4023,
         "9.00"
        ],
        [
         72930,
         "2013-10-01T00:00:00.000+0000",
         4021,
         "9.00"
        ],
        [
         72103,
         "2013-10-01T00:00:00.000+0000",
         1244,
         "9.00"
        ],
        [
         71234,
         "2013-10-01T00:00:00.000+0000",
         3958,
         "7.24"
        ],
        [
         70093,
         "2013-10-01T00:00:00.000+0000",
         3924,
         "9.00"
        ],
        [
         65034,
         "2013-10-01T00:00:00.000+0000",
         3727,
         "9.00"
        ],
        [
         60787,
         "2013-10-01T00:00:00.000+0000",
         3559,
         "9.00"
        ],
        [
         60314,
         "2013-10-01T00:00:00.000+0000",
         1021,
         "9.00"
        ],
        [
         59374,
         "2013-10-01T00:00:00.000+0000",
         3501,
         "9.00"
        ],
        [
         56939,
         "2013-10-01T00:00:00.000+0000",
         3413,
         "9.00"
        ],
        [
         55423,
         "2013-10-01T00:00:00.000+0000",
         3363,
         "12.34"
        ],
        [
         54521,
         "2013-10-01T00:00:00.000+0000",
         3328,
         "9.00"
        ],
        [
         52539,
         "2013-10-01T00:00:00.000+0000",
         3262,
         "9.00"
        ],
        [
         48755,
         "2013-10-01T00:00:00.000+0000",
         1429,
         "9.00"
        ],
        [
         47134,
         "2013-10-01T00:00:00.000+0000",
         3066,
         "9.00"
        ],
        [
         45514,
         "2013-10-01T00:00:00.000+0000",
         3018,
         "21.94"
        ],
        [
         42727,
         "2013-10-01T00:00:00.000+0000",
         2932,
         "9.00"
        ],
        [
         37326,
         "2013-10-01T00:00:00.000+0000",
         2737,
         "9.00"
        ],
        [
         36938,
         "2013-10-01T00:00:00.000+0000",
         2720,
         "9.00"
        ],
        [
         32413,
         "2013-10-01T00:00:00.000+0000",
         2556,
         "9.00"
        ],
        [
         30517,
         "2013-10-01T00:00:00.000+0000",
         2492,
         "9.00"
        ],
        [
         23070,
         "2013-10-01T00:00:00.000+0000",
         2227,
         "9.00"
        ],
        [
         21345,
         "2013-10-01T00:00:00.000+0000",
         2178,
         "9.00"
        ],
        [
         6295,
         "2013-10-01T00:00:00.000+0000",
         1663,
         "9.00"
        ],
        [
         6178,
         "2013-10-01T00:00:00.000+0000",
         1661,
         "9.00"
        ],
        [
         2666,
         "2013-10-01T00:00:00.000+0000",
         1548,
         "23.08"
        ],
        [
         2481,
         "2013-10-01T00:00:00.000+0000",
         1158,
         "24.09"
        ],
        [
         1992,
         "2013-10-01T00:00:00.000+0000",
         1527,
         "9.00"
        ],
        [
         231952,
         "2013-11-01T00:00:00.000+0000",
         9921,
         "21.93"
        ],
        [
         224211,
         "2013-11-01T00:00:00.000+0000",
         1241,
         "9.00"
        ],
        [
         223770,
         "2013-11-01T00:00:00.000+0000",
         9620,
         "9.00"
        ],
        [
         221083,
         "2013-11-01T00:00:00.000+0000",
         9517,
         "9.00"
        ],
        [
         220846,
         "2013-11-01T00:00:00.000+0000",
         9509,
         "9.00"
        ],
        [
         219739,
         "2013-11-01T00:00:00.000+0000",
         9456,
         "10.38"
        ],
        [
         218930,
         "2013-11-01T00:00:00.000+0000",
         9416,
         "9.00"
        ],
        [
         218368,
         "2013-11-01T00:00:00.000+0000",
         9396,
         "9.00"
        ],
        [
         217906,
         "2013-11-01T00:00:00.000+0000",
         9380,
         "12.77"
        ],
        [
         216835,
         "2013-11-01T00:00:00.000+0000",
         9332,
         "9.00"
        ],
        [
         212273,
         "2013-11-01T00:00:00.000+0000",
         9176,
         "9.00"
        ],
        [
         209712,
         "2013-11-01T00:00:00.000+0000",
         9077,
         "9.00"
        ],
        [
         206810,
         "2013-11-01T00:00:00.000+0000",
         8953,
         "9.00"
        ],
        [
         205932,
         "2013-11-01T00:00:00.000+0000",
         8924,
         "9.00"
        ],
        [
         204212,
         "2013-11-01T00:00:00.000+0000",
         8861,
         "9.00"
        ],
        [
         201299,
         "2013-11-01T00:00:00.000+0000",
         8753,
         "9.00"
        ],
        [
         201070,
         "2013-11-01T00:00:00.000+0000",
         8746,
         "9.00"
        ],
        [
         196808,
         "2013-11-01T00:00:00.000+0000",
         8583,
         "9.00"
        ],
        [
         195884,
         "2013-11-01T00:00:00.000+0000",
         8546,
         "23.15"
        ],
        [
         195815,
         "2013-11-01T00:00:00.000+0000",
         8544,
         "9.00"
        ],
        [
         193966,
         "2013-11-01T00:00:00.000+0000",
         8472,
         "9.00"
        ],
        [
         188872,
         "2013-11-01T00:00:00.000+0000",
         8252,
         "9.00"
        ],
        [
         182260,
         "2013-11-01T00:00:00.000+0000",
         7981,
         "8.77"
        ],
        [
         181856,
         "2013-11-01T00:00:00.000+0000",
         7970,
         "9.00"
        ],
        [
         181466,
         "2013-11-01T00:00:00.000+0000",
         7957,
         "9.00"
        ],
        [
         181228,
         "2013-11-01T00:00:00.000+0000",
         7946,
         "23.65"
        ],
        [
         179976,
         "2013-11-01T00:00:00.000+0000",
         7897,
         "9.00"
        ],
        [
         177608,
         "2013-11-01T00:00:00.000+0000",
         7795,
         "9.00"
        ],
        [
         177415,
         "2013-11-01T00:00:00.000+0000",
         7792,
         "9.00"
        ],
        [
         175061,
         "2013-11-01T00:00:00.000+0000",
         7692,
         "9.00"
        ],
        [
         174623,
         "2013-11-01T00:00:00.000+0000",
         7681,
         "9.00"
        ],
        [
         171242,
         "2013-11-01T00:00:00.000+0000",
         7574,
         "9.00"
        ],
        [
         170469,
         "2013-11-01T00:00:00.000+0000",
         7542,
         "9.00"
        ],
        [
         168803,
         "2013-11-01T00:00:00.000+0000",
         7491,
         "9.00"
        ],
        [
         168520,
         "2013-11-01T00:00:00.000+0000",
         7477,
         "9.00"
        ],
        [
         163706,
         "2013-11-01T00:00:00.000+0000",
         7274,
         "19.85"
        ],
        [
         163378,
         "2013-11-01T00:00:00.000+0000",
         7263,
         "9.00"
        ],
        [
         162768,
         "2013-11-01T00:00:00.000+0000",
         7243,
         "9.00"
        ],
        [
         162632,
         "2013-11-01T00:00:00.000+0000",
         7240,
         "9.00"
        ],
        [
         161329,
         "2013-11-01T00:00:00.000+0000",
         7181,
         "9.00"
        ],
        [
         160591,
         "2013-11-01T00:00:00.000+0000",
         7155,
         "9.00"
        ],
        [
         159737,
         "2013-11-01T00:00:00.000+0000",
         7124,
         "9.00"
        ],
        [
         158753,
         "2013-11-01T00:00:00.000+0000",
         7098,
         "19.40"
        ],
        [
         155943,
         "2013-11-01T00:00:00.000+0000",
         6995,
         "9.00"
        ],
        [
         153238,
         "2013-11-01T00:00:00.000+0000",
         6893,
         "9.00"
        ],
        [
         153013,
         "2013-11-01T00:00:00.000+0000",
         6888,
         "9.00"
        ],
        [
         150357,
         "2013-11-01T00:00:00.000+0000",
         6787,
         "9.00"
        ],
        [
         149934,
         "2013-11-01T00:00:00.000+0000",
         6776,
         "9.00"
        ],
        [
         147805,
         "2013-11-01T00:00:00.000+0000",
         6709,
         "9.00"
        ],
        [
         146064,
         "2013-11-01T00:00:00.000+0000",
         6657,
         "10.00"
        ],
        [
         139143,
         "2013-11-01T00:00:00.000+0000",
         6397,
         "9.00"
        ],
        [
         138270,
         "2013-11-01T00:00:00.000+0000",
         6367,
         "9.00"
        ],
        [
         135946,
         "2013-11-01T00:00:00.000+0000",
         6290,
         "9.00"
        ],
        [
         132868,
         "2013-11-01T00:00:00.000+0000",
         6182,
         "9.00"
        ],
        [
         128887,
         "2013-11-01T00:00:00.000+0000",
         6050,
         "9.00"
        ],
        [
         124198,
         "2013-11-01T00:00:00.000+0000",
         5881,
         "9.00"
        ],
        [
         123315,
         "2013-11-01T00:00:00.000+0000",
         5854,
         "9.00"
        ],
        [
         120265,
         "2013-11-01T00:00:00.000+0000",
         5731,
         "9.00"
        ],
        [
         117940,
         "2013-11-01T00:00:00.000+0000",
         5635,
         "9.00"
        ],
        [
         112639,
         "2013-11-01T00:00:00.000+0000",
         5441,
         "9.00"
        ],
        [
         109137,
         "2013-11-01T00:00:00.000+0000",
         5316,
         "9.00"
        ],
        [
         107533,
         "2013-11-01T00:00:00.000+0000",
         5248,
         "9.00"
        ],
        [
         107125,
         "2013-11-01T00:00:00.000+0000",
         5235,
         "9.00"
        ],
        [
         105470,
         "2013-11-01T00:00:00.000+0000",
         5183,
         "9.00"
        ],
        [
         105015,
         "2013-11-01T00:00:00.000+0000",
         5168,
         "9.00"
        ],
        [
         103362,
         "2013-11-01T00:00:00.000+0000",
         5106,
         "9.00"
        ],
        [
         101519,
         "2013-11-01T00:00:00.000+0000",
         5044,
         "9.00"
        ],
        [
         92627,
         "2013-11-01T00:00:00.000+0000",
         4720,
         "9.00"
        ],
        [
         87098,
         "2013-11-01T00:00:00.000+0000",
         4521,
         "9.00"
        ],
        [
         82109,
         "2013-11-01T00:00:00.000+0000",
         4340,
         "20.90"
        ],
        [
         77099,
         "2013-11-01T00:00:00.000+0000",
         4160,
         "9.00"
        ],
        [
         76930,
         "2013-11-01T00:00:00.000+0000",
         4156,
         "9.00"
        ],
        [
         74643,
         "2013-11-01T00:00:00.000+0000",
         4080,
         "9.00"
        ],
        [
         73957,
         "2013-11-01T00:00:00.000+0000",
         4055,
         "9.00"
        ],
        [
         72981,
         "2013-11-01T00:00:00.000+0000",
         4023,
         "9.00"
        ],
        [
         72931,
         "2013-11-01T00:00:00.000+0000",
         4021,
         "9.00"
        ],
        [
         72254,
         "2013-11-01T00:00:00.000+0000",
         1228,
         "9.00"
        ],
        [
         72104,
         "2013-11-01T00:00:00.000+0000",
         1244,
         "9.00"
        ],
        [
         71235,
         "2013-11-01T00:00:00.000+0000",
         3958,
         "7.24"
        ],
        [
         70094,
         "2013-11-01T00:00:00.000+0000",
         3924,
         "9.00"
        ],
        [
         65035,
         "2013-11-01T00:00:00.000+0000",
         3727,
         "9.00"
        ],
        [
         60788,
         "2013-11-01T00:00:00.000+0000",
         3559,
         "9.00"
        ],
        [
         60315,
         "2013-11-01T00:00:00.000+0000",
         1021,
         "9.00"
        ],
        [
         59375,
         "2013-11-01T00:00:00.000+0000",
         3501,
         "9.00"
        ],
        [
         56940,
         "2013-11-01T00:00:00.000+0000",
         3413,
         "9.00"
        ],
        [
         55424,
         "2013-11-01T00:00:00.000+0000",
         3363,
         "12.34"
        ],
        [
         54522,
         "2013-11-01T00:00:00.000+0000",
         3328,
         "9.00"
        ],
        [
         52540,
         "2013-11-01T00:00:00.000+0000",
         3262,
         "9.00"
        ],
        [
         48756,
         "2013-11-01T00:00:00.000+0000",
         1429,
         "9.00"
        ],
        [
         47135,
         "2013-11-01T00:00:00.000+0000",
         3066,
         "9.00"
        ],
        [
         45515,
         "2013-11-01T00:00:00.000+0000",
         3018,
         "21.94"
        ],
        [
         42728,
         "2013-11-01T00:00:00.000+0000",
         2932,
         "9.00"
        ],
        [
         37327,
         "2013-11-01T00:00:00.000+0000",
         2737,
         "9.00"
        ],
        [
         36939,
         "2013-11-01T00:00:00.000+0000",
         2720,
         "9.00"
        ],
        [
         32414,
         "2013-11-01T00:00:00.000+0000",
         2556,
         "9.00"
        ],
        [
         32100,
         "2013-11-01T00:00:00.000+0000",
         2549,
         "9.00"
        ],
        [
         30518,
         "2013-11-01T00:00:00.000+0000",
         2492,
         "9.00"
        ],
        [
         23071,
         "2013-11-01T00:00:00.000+0000",
         2227,
         "9.00"
        ],
        [
         21346,
         "2013-11-01T00:00:00.000+0000",
         2178,
         "9.00"
        ],
        [
         10519,
         "2013-11-01T00:00:00.000+0000",
         1819,
         "9.00"
        ],
        [
         6296,
         "2013-11-01T00:00:00.000+0000",
         1663,
         "9.00"
        ],
        [
         6179,
         "2013-11-01T00:00:00.000+0000",
         1661,
         "9.00"
        ],
        [
         5663,
         "2013-11-01T00:00:00.000+0000",
         1647,
         "9.00"
        ],
        [
         2667,
         "2013-11-01T00:00:00.000+0000",
         1548,
         "23.08"
        ],
        [
         2482,
         "2013-11-01T00:00:00.000+0000",
         1158,
         "24.09"
        ],
        [
         1993,
         "2013-11-01T00:00:00.000+0000",
         1527,
         "9.00"
        ],
        [
         231953,
         "2013-12-01T00:00:00.000+0000",
         9921,
         "21.93"
        ],
        [
         224212,
         "2013-12-01T00:00:00.000+0000",
         1241,
         "9.00"
        ],
        [
         223771,
         "2013-12-01T00:00:00.000+0000",
         9620,
         "9.00"
        ],
        [
         221084,
         "2013-12-01T00:00:00.000+0000",
         9517,
         "9.00"
        ],
        [
         220847,
         "2013-12-01T00:00:00.000+0000",
         9509,
         "9.00"
        ],
        [
         219740,
         "2013-12-01T00:00:00.000+0000",
         9456,
         "10.38"
        ],
        [
         219142,
         "2013-12-01T00:00:00.000+0000",
         9423,
         "9.00"
        ],
        [
         218931,
         "2013-12-01T00:00:00.000+0000",
         9416,
         "9.00"
        ],
        [
         218369,
         "2013-12-01T00:00:00.000+0000",
         9396,
         "9.00"
        ],
        [
         217907,
         "2013-12-01T00:00:00.000+0000",
         9380,
         "12.77"
        ],
        [
         216836,
         "2013-12-01T00:00:00.000+0000",
         9332,
         "9.00"
        ],
        [
         216565,
         "2013-12-01T00:00:00.000+0000",
         9326,
         "9.00"
        ],
        [
         212274,
         "2013-12-01T00:00:00.000+0000",
         9176,
         "9.00"
        ],
        [
         209713,
         "2013-12-01T00:00:00.000+0000",
         9077,
         "9.00"
        ],
        [
         206811,
         "2013-12-01T00:00:00.000+0000",
         8953,
         "9.00"
        ],
        [
         205933,
         "2013-12-01T00:00:00.000+0000",
         8924,
         "9.00"
        ],
        [
         204213,
         "2013-12-01T00:00:00.000+0000",
         8861,
         "9.00"
        ],
        [
         201300,
         "2013-12-01T00:00:00.000+0000",
         8753,
         "9.00"
        ],
        [
         201071,
         "2013-12-01T00:00:00.000+0000",
         8746,
         "9.00"
        ],
        [
         197609,
         "2013-12-01T00:00:00.000+0000",
         8620,
         "9.00"
        ],
        [
         196809,
         "2013-12-01T00:00:00.000+0000",
         8583,
         "9.00"
        ],
        [
         195885,
         "2013-12-01T00:00:00.000+0000",
         8546,
         "23.15"
        ],
        [
         195816,
         "2013-12-01T00:00:00.000+0000",
         8544,
         "9.00"
        ],
        [
         193967,
         "2013-12-01T00:00:00.000+0000",
         8472,
         "9.00"
        ],
        [
         188873,
         "2013-12-01T00:00:00.000+0000",
         8252,
         "9.00"
        ],
        [
         186430,
         "2013-12-01T00:00:00.000+0000",
         8145,
         "9.00"
        ],
        [
         183742,
         "2013-12-01T00:00:00.000+0000",
         8038,
         "9.00"
        ],
        [
         182261,
         "2013-12-01T00:00:00.000+0000",
         7981,
         "8.77"
        ],
        [
         181857,
         "2013-12-01T00:00:00.000+0000",
         7970,
         "9.00"
        ],
        [
         181467,
         "2013-12-01T00:00:00.000+0000",
         7957,
         "9.00"
        ],
        [
         181229,
         "2013-12-01T00:00:00.000+0000",
         7946,
         "23.65"
        ],
        [
         179977,
         "2013-12-01T00:00:00.000+0000",
         7897,
         "9.00"
        ],
        [
         177609,
         "2013-12-01T00:00:00.000+0000",
         7795,
         "9.00"
        ],
        [
         177416,
         "2013-12-01T00:00:00.000+0000",
         7792,
         "9.00"
        ],
        [
         175062,
         "2013-12-01T00:00:00.000+0000",
         7692,
         "9.00"
        ],
        [
         174624,
         "2013-12-01T00:00:00.000+0000",
         7681,
         "9.00"
        ],
        [
         171243,
         "2013-12-01T00:00:00.000+0000",
         7574,
         "9.00"
        ],
        [
         170470,
         "2013-12-01T00:00:00.000+0000",
         7542,
         "9.00"
        ],
        [
         168804,
         "2013-12-01T00:00:00.000+0000",
         7491,
         "9.00"
        ],
        [
         168521,
         "2013-12-01T00:00:00.000+0000",
         7477,
         "9.00"
        ],
        [
         163707,
         "2013-12-01T00:00:00.000+0000",
         7274,
         "19.85"
        ],
        [
         163379,
         "2013-12-01T00:00:00.000+0000",
         7263,
         "9.00"
        ],
        [
         162769,
         "2013-12-01T00:00:00.000+0000",
         7243,
         "9.00"
        ],
        [
         162633,
         "2013-12-01T00:00:00.000+0000",
         7240,
         "9.00"
        ],
        [
         161330,
         "2013-12-01T00:00:00.000+0000",
         7181,
         "9.00"
        ],
        [
         160592,
         "2013-12-01T00:00:00.000+0000",
         7155,
         "9.00"
        ],
        [
         159738,
         "2013-12-01T00:00:00.000+0000",
         7124,
         "9.00"
        ],
        [
         158754,
         "2013-12-01T00:00:00.000+0000",
         7098,
         "19.40"
        ],
        [
         155944,
         "2013-12-01T00:00:00.000+0000",
         6995,
         "9.00"
        ],
        [
         153239,
         "2013-12-01T00:00:00.000+0000",
         6893,
         "9.00"
        ],
        [
         153014,
         "2013-12-01T00:00:00.000+0000",
         6888,
         "9.00"
        ],
        [
         150358,
         "2013-12-01T00:00:00.000+0000",
         6787,
         "9.00"
        ],
        [
         149935,
         "2013-12-01T00:00:00.000+0000",
         6776,
         "9.00"
        ],
        [
         147806,
         "2013-12-01T00:00:00.000+0000",
         6709,
         "9.00"
        ],
        [
         146611,
         "2013-12-01T00:00:00.000+0000",
         6679,
         "9.00"
        ],
        [
         146065,
         "2013-12-01T00:00:00.000+0000",
         6657,
         "10.00"
        ],
        [
         139144,
         "2013-12-01T00:00:00.000+0000",
         6397,
         "9.00"
        ],
        [
         138271,
         "2013-12-01T00:00:00.000+0000",
         6367,
         "9.00"
        ],
        [
         135947,
         "2013-12-01T00:00:00.000+0000",
         6290,
         "9.00"
        ],
        [
         132869,
         "2013-12-01T00:00:00.000+0000",
         6182,
         "9.00"
        ],
        [
         132081,
         "2013-12-01T00:00:00.000+0000",
         6152,
         "9.00"
        ],
        [
         128888,
         "2013-12-01T00:00:00.000+0000",
         6050,
         "9.00"
        ],
        [
         128540,
         "2013-12-01T00:00:00.000+0000",
         6038,
         "9.00"
        ],
        [
         124199,
         "2013-12-01T00:00:00.000+0000",
         5881,
         "9.00"
        ],
        [
         123316,
         "2013-12-01T00:00:00.000+0000",
         5854,
         "9.00"
        ],
        [
         121257,
         "2013-12-01T00:00:00.000+0000",
         1297,
         "24.66"
        ],
        [
         120266,
         "2013-12-01T00:00:00.000+0000",
         5731,
         "9.00"
        ],
        [
         117941,
         "2013-12-01T00:00:00.000+0000",
         5635,
         "9.00"
        ],
        [
         115715,
         "2013-12-01T00:00:00.000+0000",
         5545,
         "9.00"
        ],
        [
         112640,
         "2013-12-01T00:00:00.000+0000",
         5441,
         "9.00"
        ],
        [
         109138,
         "2013-12-01T00:00:00.000+0000",
         5316,
         "9.00"
        ],
        [
         108305,
         "2013-12-01T00:00:00.000+0000",
         5278,
         "9.00"
        ],
        [
         107534,
         "2013-12-01T00:00:00.000+0000",
         5248,
         "9.00"
        ],
        [
         107126,
         "2013-12-01T00:00:00.000+0000",
         5235,
         "9.00"
        ],
        [
         105471,
         "2013-12-01T00:00:00.000+0000",
         5183,
         "9.00"
        ],
        [
         105016,
         "2013-12-01T00:00:00.000+0000",
         5168,
         "9.00"
        ],
        [
         103363,
         "2013-12-01T00:00:00.000+0000",
         5106,
         "9.00"
        ],
        [
         101520,
         "2013-12-01T00:00:00.000+0000",
         5044,
         "9.00"
        ],
        [
         98253,
         "2013-12-01T00:00:00.000+0000",
         4930,
         "5.31"
        ],
        [
         92628,
         "2013-12-01T00:00:00.000+0000",
         4720,
         "9.00"
        ],
        [
         91263,
         "2013-12-01T00:00:00.000+0000",
         4665,
         "9.00"
        ],
        [
         89786,
         "2013-12-01T00:00:00.000+0000",
         4611,
         "9.00"
        ],
        [
         87099,
         "2013-12-01T00:00:00.000+0000",
         4521,
         "9.00"
        ],
        [
         82110,
         "2013-12-01T00:00:00.000+0000",
         4340,
         "20.90"
        ],
        [
         77100,
         "2013-12-01T00:00:00.000+0000",
         4160,
         "9.00"
        ],
        [
         76931,
         "2013-12-01T00:00:00.000+0000",
         4156,
         "9.00"
        ],
        [
         74644,
         "2013-12-01T00:00:00.000+0000",
         4080,
         "9.00"
        ],
        [
         73958,
         "2013-12-01T00:00:00.000+0000",
         4055,
         "9.00"
        ],
        [
         72982,
         "2013-12-01T00:00:00.000+0000",
         4023,
         "9.00"
        ],
        [
         72932,
         "2013-12-01T00:00:00.000+0000",
         4021,
         "9.00"
        ],
        [
         72255,
         "2013-12-01T00:00:00.000+0000",
         1228,
         "9.00"
        ],
        [
         72105,
         "2013-12-01T00:00:00.000+0000",
         1244,
         "9.00"
        ],
        [
         71236,
         "2013-12-01T00:00:00.000+0000",
         3958,
         "7.24"
        ],
        [
         70095,
         "2013-12-01T00:00:00.000+0000",
         3924,
         "9.00"
        ],
        [
         65317,
         "2013-12-01T00:00:00.000+0000",
         3735,
         "18.10"
        ],
        [
         65036,
         "2013-12-01T00:00:00.000+0000",
         3727,
         "9.00"
        ],
        [
         60789,
         "2013-12-01T00:00:00.000+0000",
         3559,
         "9.00"
        ],
        [
         60316,
         "2013-12-01T00:00:00.000+0000",
         1021,
         "9.00"
        ],
        [
         59376,
         "2013-12-01T00:00:00.000+0000",
         3501,
         "9.00"
        ],
        [
         56941,
         "2013-12-01T00:00:00.000+0000",
         3413,
         "9.00"
        ],
        [
         55425,
         "2013-12-01T00:00:00.000+0000",
         3363,
         "12.34"
        ],
        [
         54523,
         "2013-12-01T00:00:00.000+0000",
         3328,
         "9.00"
        ],
        [
         53329,
         "2013-12-01T00:00:00.000+0000",
         3289,
         "9.00"
        ],
        [
         52541,
         "2013-12-01T00:00:00.000+0000",
         3262,
         "9.00"
        ],
        [
         48757,
         "2013-12-01T00:00:00.000+0000",
         1429,
         "9.00"
        ],
        [
         47136,
         "2013-12-01T00:00:00.000+0000",
         3066,
         "9.00"
        ],
        [
         45516,
         "2013-12-01T00:00:00.000+0000",
         3018,
         "21.94"
        ],
        [
         42729,
         "2013-12-01T00:00:00.000+0000",
         2932,
         "9.00"
        ],
        [
         37328,
         "2013-12-01T00:00:00.000+0000",
         2737,
         "9.00"
        ],
        [
         36940,
         "2013-12-01T00:00:00.000+0000",
         2720,
         "9.00"
        ],
        [
         36814,
         "2013-12-01T00:00:00.000+0000",
         2718,
         "9.00"
        ],
        [
         32415,
         "2013-12-01T00:00:00.000+0000",
         2556,
         "9.00"
        ],
        [
         32101,
         "2013-12-01T00:00:00.000+0000",
         2549,
         "9.00"
        ],
        [
         30519,
         "2013-12-01T00:00:00.000+0000",
         2492,
         "9.00"
        ],
        [
         23072,
         "2013-12-01T00:00:00.000+0000",
         2227,
         "9.00"
        ],
        [
         21347,
         "2013-12-01T00:00:00.000+0000",
         2178,
         "9.00"
        ],
        [
         19256,
         "2013-12-01T00:00:00.000+0000",
         1359,
         "9.00"
        ],
        [
         10520,
         "2013-12-01T00:00:00.000+0000",
         1819,
         "9.00"
        ],
        [
         6297,
         "2013-12-01T00:00:00.000+0000",
         1663,
         "9.00"
        ],
        [
         6180,
         "2013-12-01T00:00:00.000+0000",
         1661,
         "9.00"
        ],
        [
         5664,
         "2013-12-01T00:00:00.000+0000",
         1647,
         "9.00"
        ],
        [
         2668,
         "2013-12-01T00:00:00.000+0000",
         1548,
         "23.08"
        ],
        [
         2483,
         "2013-12-01T00:00:00.000+0000",
         1158,
         "24.09"
        ],
        [
         1994,
         "2013-12-01T00:00:00.000+0000",
         1527,
         "9.00"
        ]
       ],
       "datasetInfos": [],
       "dbfsResultPath": null,
       "isJsonSchema": true,
       "metadata": {},
       "overflow": false,
       "plotOptions": {
        "customPlotOptions": {},
        "displayType": "table",
        "pivotAggregation": null,
        "pivotColumns": null,
        "xColumns": null,
        "yColumns": null
       },
       "removedWidgets": [],
       "schema": [
        {
         "metadata": "{}",
         "name": "payment_id",
         "type": "\"integer\""
        },
        {
         "metadata": "{}",
         "name": "DateTime",
         "type": "\"timestamp\""
        },
        {
         "metadata": "{}",
         "name": "rider_id",
         "type": "\"integer\""
        },
        {
         "metadata": "{}",
         "name": "amount",
         "type": "\"decimal(10,2)\""
        }
       ],
       "type": "table"
      }
     }
    },
    {
     "output_type": "stream",
     "name": "stdout",
     "text": [
      "root\n |-- payment_id: integer (nullable = true)\n |-- DateTime: timestamp (nullable = true)\n |-- rider_id: integer (nullable = true)\n |-- amount: decimal(10,2) (nullable = true)\n\n"
     ]
    }
   ],
   "source": [
    "df_fact_payments_batch.display()\n",
    "df_fact_payments_batch.printSchema()"
   ]
  },
  {
   "cell_type": "code",
   "execution_count": 0,
   "metadata": {
    "application/vnd.databricks.v1+cell": {
     "cellMetadata": {
      "byteLimit": 2048000,
      "rowLimit": 10000
     },
     "inputWidgets": {},
     "nuid": "c57da7e0-4361-404a-8594-8da9ad30b6a6",
     "showTitle": false,
     "title": ""
    },
    "pycharm": {
     "name": "#%%\n"
    }
   },
   "outputs": [],
   "source": [
    "df_fact_payments_batch = df_fact_payments_batch.withColumnRenamed('DateTime', 'date_id')\n",
    "multiply_by_100 = udf(lambda x: int(x * 100))\n",
    "df_fact_payments_batch = df_fact_payments_batch.withColumn(\"amount\", multiply_by_100(\"amount\"))\n",
    "df_fact_payments_batch = df_fact_payments_batch.withColumn(\"amount\", col(\"amount\").cast(\"integer\"))"
   ]
  },
  {
   "cell_type": "markdown",
   "metadata": {
    "application/vnd.databricks.v1+cell": {
     "cellMetadata": {
      "byteLimit": 2048000,
      "rowLimit": 10000
     },
     "inputWidgets": {},
     "nuid": "56cf1ed9-4942-4d78-bab1-8ae86e1dd703",
     "showTitle": false,
     "title": ""
    },
    "collapsed": false,
    "pycharm": {
     "name": "#%% md\n"
    }
   },
   "source": [
    "### Concatenate df_fact_payments_batch with df_fact_payments"
   ]
  },
  {
   "cell_type": "code",
   "execution_count": 0,
   "metadata": {
    "application/vnd.databricks.v1+cell": {
     "cellMetadata": {
      "byteLimit": 2048000,
      "rowLimit": 10000
     },
     "inputWidgets": {},
     "nuid": "35b7c929-9da2-4647-a777-2875dbc73282",
     "showTitle": false,
     "title": ""
    },
    "collapsed": false,
    "pycharm": {
     "name": "#%%\n"
    }
   },
   "outputs": [],
   "source": [
    "df_fact_payments = df_fact_payments.union(df_fact_payments_batch)"
   ]
  },
  {
   "cell_type": "code",
   "execution_count": 0,
   "metadata": {
    "application/vnd.databricks.v1+cell": {
     "cellMetadata": {
      "byteLimit": 2048000,
      "rowLimit": 10000
     },
     "inputWidgets": {},
     "nuid": "a19a7733-ee54-4f4c-b1f3-7ab816ae1e0d",
     "showTitle": false,
     "title": ""
    },
    "pycharm": {
     "name": "#%%\n"
    }
   },
   "outputs": [],
   "source": [
    "# Set the station_key column as the DataFrame index\n",
    "df_fact_payments = df_fact_payments.orderBy('payment_id')\n",
    "df_fact_payments = df_fact_payments.dropDuplicates(['payment_id'])\n",
    "df_fact_payments = df_fact_payments.repartition('payment_id')"
   ]
  },
  {
   "cell_type": "markdown",
   "metadata": {
    "application/vnd.databricks.v1+cell": {
     "cellMetadata": {},
     "inputWidgets": {},
     "nuid": "944794e4-52ea-4f5e-b65d-98dc4865d267",
     "showTitle": false,
     "title": ""
    },
    "pycharm": {
     "name": "#%% md\n"
    }
   },
   "source": [
    "### Write To Table"
   ]
  },
  {
   "cell_type": "code",
   "execution_count": 0,
   "metadata": {
    "application/vnd.databricks.v1+cell": {
     "cellMetadata": {
      "byteLimit": 2048000,
      "rowLimit": 10000
     },
     "inputWidgets": {},
     "nuid": "5bdbcfe3-9c2d-43d6-92a5-2ecb5e5b0fd7",
     "showTitle": false,
     "title": ""
    },
    "pycharm": {
     "name": "#%%\n"
    }
   },
   "outputs": [],
   "source": [
    "df_fact_payments.write.format(\"delta\") \\\n",
    "    .mode(\"overwrite\") \\\n",
    "    .saveAsTable(\"gold_factPayments\")"
   ]
  },
  {
   "cell_type": "markdown",
   "metadata": {
    "application/vnd.databricks.v1+cell": {
     "cellMetadata": {
      "byteLimit": 2048000,
      "rowLimit": 10000
     },
     "inputWidgets": {},
     "nuid": "87c7058b-5ffc-4e69-977e-a6f8c9d8f268",
     "showTitle": false,
     "title": ""
    },
    "collapsed": false,
    "pycharm": {
     "name": "#%% md\n"
    }
   },
   "source": []
  }
 ],
 "metadata": {
  "application/vnd.databricks.v1+notebook": {
   "dashboards": [],
   "language": "python",
   "notebookMetadata": {
    "pythonIndentUnit": 4
   },
   "notebookName": "gold_stage",
   "notebookOrigID": 1835104092881222,
   "widgets": {}
  },
  "kernelspec": {
   "display_name": "Python 3",
   "language": "python",
   "name": "python3"
  },
  "language_info": {
   "codemirror_mode": {
    "name": "ipython",
    "version": 2
   },
   "file_extension": ".py",
   "mimetype": "text/x-python",
   "name": "python",
   "nbconvert_exporter": "python",
   "pygments_lexer": "ipython2",
   "version": "2.7.6"
  }
 },
 "nbformat": 4,
 "nbformat_minor": 0
}