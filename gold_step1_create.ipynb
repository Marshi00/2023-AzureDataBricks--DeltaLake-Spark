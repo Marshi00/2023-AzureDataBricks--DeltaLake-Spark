{
 "cells": [
  {
   "cell_type": "markdown",
   "source": [
    "# Gold Stage ! Step 1 - Star  + Calendar Table Range"
   ],
   "metadata": {
    "collapsed": false,
    "pycharm": {
     "name": "#%% md\n"
    }
   }
  },
  {
   "cell_type": "code",
   "execution_count": 1,
   "outputs": [],
   "source": [
    "import pandas as pd\n",
    "import numpy as np"
   ],
   "metadata": {
    "collapsed": false,
    "pycharm": {
     "name": "#%%\n"
    }
   }
  },
  {
   "cell_type": "markdown",
   "source": [
    "# Calendar Table DIM DF"
   ],
   "metadata": {
    "collapsed": false,
    "pycharm": {
     "name": "#%% md\n"
    }
   }
  },
  {
   "cell_type": "markdown",
   "source": [
    "## Range of Calendar Table"
   ],
   "metadata": {
    "collapsed": false,
    "pycharm": {
     "name": "#%% md\n"
    }
   }
  },
  {
   "cell_type": "code",
   "execution_count": null,
   "outputs": [],
   "source": [
    "# Get min and max for our Calendar Table\n",
    "\"\"\"\n",
    "print (data_frame_payments.date.min())\n",
    "print (data_frame_payments.date.max())\n",
    "print (data_frame_trips.start_at.min())\n",
    "print (data_frame_trips.ended_at.max())\n",
    "\n",
    "\"\"\""
   ],
   "metadata": {
    "collapsed": false,
    "pycharm": {
     "name": "#%%\n"
    }
   }
  },
  {
   "cell_type": "code",
   "execution_count": 2,
   "outputs": [],
   "source": [
    "#function to Produce the Dimension Calendar Table\n",
    "def dimension_datetime_frame(start='2023-01-01', end='2023-12-31'):\n",
    "    \"\"\" Return a ready  Dimension Calendar Table frame with precision of seconds\"\"\"\n",
    "    df = pd.DataFrame({\"DateTime\": pd.date_range(start=start, end=end, freq=\"S\")})\n",
    "    df[\"second\"] = df.DateTime.dt.second\n",
    "    df[\"minute\"] = df.DateTime.dt.minute\n",
    "    df[\"hour\"] = df.DateTime.dt.hour\n",
    "    df[\"day\"] = df.DateTime.dt.day\n",
    "    df[\"dayofweek\"] = df.DateTime.dt.dayofweek\n",
    "    df[\"is_weekend\"]= df.DateTime.dt.dayofweek > 4\n",
    "    df[\"month\"] = df.DateTime.dt.month\n",
    "    df[\"Quarter\"] = df.DateTime.dt.quarter\n",
    "    df[\"Year\"] = df.DateTime.dt.year\n",
    "    return df"
   ],
   "metadata": {
    "collapsed": false,
    "pycharm": {
     "name": "#%%\n"
    }
   }
  },
  {
   "cell_type": "code",
   "execution_count": 3,
   "outputs": [],
   "source": [
    "calendar_df = dimension_datetime_frame()"
   ],
   "metadata": {
    "collapsed": false,
    "pycharm": {
     "name": "#%%\n"
    }
   }
  },
  {
   "cell_type": "code",
   "execution_count": 5,
   "outputs": [
    {
     "name": "stdout",
     "output_type": "stream",
     "text": [
      "<class 'pandas.core.frame.DataFrame'>\n",
      "RangeIndex: 31449601 entries, 0 to 31449600\n",
      "Data columns (total 10 columns):\n",
      " #   Column      Dtype         \n",
      "---  ------      -----         \n",
      " 0   DateTime    datetime64[ns]\n",
      " 1   second      int64         \n",
      " 2   minute      int64         \n",
      " 3   hour        int64         \n",
      " 4   day         int64         \n",
      " 5   dayofweek   int64         \n",
      " 6   is_weekend  bool          \n",
      " 7   month       int64         \n",
      " 8   Quarter     int64         \n",
      " 9   Year        int64         \n",
      "dtypes: bool(1), datetime64[ns](1), int64(8)\n",
      "memory usage: 2.1 GB\n"
     ]
    }
   ],
   "source": [
    "calendar_df.info()"
   ],
   "metadata": {
    "collapsed": false,
    "pycharm": {
     "name": "#%%\n"
    }
   }
  },
  {
   "cell_type": "markdown",
   "source": [
    "## Riders dim DF"
   ],
   "metadata": {
    "collapsed": false,
    "pycharm": {
     "name": "#%% md\n"
    }
   }
  },
  {
   "cell_type": "code",
   "execution_count": null,
   "outputs": [],
   "source": [
    "data_dim_riders = {\n",
    "    'rider_key': np.array([], dtype='int32'),\n",
    "    'first_name': np.array([], dtype='str'),\n",
    "    'last_name': np.array([], dtype='str'),\n",
    "    'address': np.array([], dtype='str'),\n",
    "    'birthday': np.array([], dtype='datetime64'),\n",
    "    'account_start_date': np.array([], dtype='datetime64'),\n",
    "    'account_end_date': np.array([], dtype='datetime64'),\n",
    "    'is_member': np.array([], dtype='bool')\n",
    "}\n",
    "\n",
    "df_dim_riders = pd.DataFrame(data_dim_riders).set_index('rider_key')\n",
    "\n"
   ],
   "metadata": {
    "collapsed": false,
    "pycharm": {
     "name": "#%%\n"
    }
   }
  },
  {
   "cell_type": "markdown",
   "source": [
    "### Load Silver data from Source"
   ],
   "metadata": {
    "collapsed": false,
    "pycharm": {
     "name": "#%% md\n"
    }
   }
  },
  {
   "cell_type": "code",
   "execution_count": null,
   "outputs": [],
   "source": [
    "df_silver_rider = spark.read.format(\"delta\")\n",
    ".load(\"delta/silver_rider\")"
   ],
   "metadata": {
    "collapsed": false,
    "pycharm": {
     "name": "#%%\n"
    }
   }
  },
  {
   "cell_type": "markdown",
   "source": [
    "### Concat"
   ],
   "metadata": {
    "collapsed": false,
    "pycharm": {
     "name": "#%% md\n"
    }
   }
  },
  {
   "cell_type": "code",
   "execution_count": null,
   "outputs": [],
   "source": [
    "df_dim_riders = pd.concat([df_dim_riders, df_silver_rider], ignore_index=True)"
   ],
   "metadata": {
    "collapsed": false,
    "pycharm": {
     "name": "#%%\n"
    }
   }
  },
  {
   "cell_type": "markdown",
   "source": [
    "### Set index back"
   ],
   "metadata": {
    "collapsed": false,
    "pycharm": {
     "name": "#%% md\n"
    }
   }
  },
  {
   "cell_type": "code",
   "execution_count": null,
   "outputs": [],
   "source": [
    "df_dim_riders = df_dim_riders.set_index('rider_key')"
   ],
   "metadata": {
    "collapsed": false,
    "pycharm": {
     "name": "#%%\n"
    }
   }
  },
  {
   "cell_type": "markdown",
   "source": [
    "## Station dim DF"
   ],
   "metadata": {
    "collapsed": false,
    "pycharm": {
     "name": "#%% md\n"
    }
   }
  },
  {
   "cell_type": "code",
   "execution_count": null,
   "outputs": [],
   "source": [
    "\n",
    "data_dim_station = {\n",
    "    'station_key': np.array([], dtype='str'),\n",
    "    'station_name': np.array([], dtype='str'),\n",
    "    'latitude': np.array([], dtype='float64'),\n",
    "    'longitude': np.array([], dtype='float64')\n",
    "}\n",
    "\n",
    "df_dim_station = pd.DataFrame(data_dim_station).set_index('station_key')\n"
   ],
   "metadata": {
    "collapsed": false,
    "pycharm": {
     "name": "#%%\n"
    }
   }
  },
  {
   "cell_type": "markdown",
   "source": [
    "### Load Silver Data Source\n"
   ],
   "metadata": {
    "collapsed": false,
    "pycharm": {
     "name": "#%% md\n"
    }
   }
  },
  {
   "cell_type": "code",
   "execution_count": null,
   "outputs": [],
   "source": [
    "df_silver_station = spark.read.format(\"delta\")\n",
    ".load(\"delta/silver_station\")"
   ],
   "metadata": {
    "collapsed": false,
    "pycharm": {
     "name": "#%%\n"
    }
   }
  },
  {
   "cell_type": "markdown",
   "source": [
    "### Concatenate df_silver_station_batch with df_dim_station"
   ],
   "metadata": {
    "collapsed": false,
    "pycharm": {
     "name": "#%% md\n"
    }
   }
  },
  {
   "cell_type": "code",
   "execution_count": null,
   "outputs": [],
   "source": [
    "data_dim_station = pd.concat([data_dim_station, df_silver_station], ignore_index=True)"
   ],
   "metadata": {
    "collapsed": false,
    "pycharm": {
     "name": "#%%\n"
    }
   }
  },
  {
   "cell_type": "markdown",
   "source": [
    "### Set the index back"
   ],
   "metadata": {
    "collapsed": false,
    "pycharm": {
     "name": "#%% md\n"
    }
   }
  },
  {
   "cell_type": "code",
   "execution_count": null,
   "outputs": [],
   "source": [
    "data_dim_station = data_dim_station.set_index('station_key')"
   ],
   "metadata": {
    "collapsed": false,
    "pycharm": {
     "name": "#%%\n"
    }
   }
  },
  {
   "cell_type": "markdown",
   "source": [
    "## Trip Fact DF"
   ],
   "metadata": {
    "collapsed": false,
    "pycharm": {
     "name": "#%% md\n"
    }
   }
  },
  {
   "cell_type": "code",
   "execution_count": null,
   "outputs": [],
   "source": [
    "data_fact_trip = {\n",
    "    'trip_key': np.array([], dtype='str'),\n",
    "    'rideable_type': np.array([], dtype='str'),\n",
    "    'start_date_id': np.array([], dtype='datetime64'),\n",
    "    'ended_date_id': np.array([], dtype='datetime64'),\n",
    "    'start_station_id': np.array([], dtype='str'),\n",
    "    'end_station_id': np.array([], dtype='str'),\n",
    "    'rider_id': np.array([], dtype='int64'),\n",
    "    'age': np.array([], dtype='datetime64'),\n",
    "    'trip_duration': np.array([], dtype='datetime64')\n",
    "}\n",
    "\n",
    "df_fact_trip = pd.DataFrame(data_fact_trip).set_index('trip_key')"
   ],
   "metadata": {
    "collapsed": false,
    "pycharm": {
     "name": "#%%\n"
    }
   }
  },
  {
   "cell_type": "markdown",
   "source": [
    "### Load Silver Data"
   ],
   "metadata": {
    "collapsed": false,
    "pycharm": {
     "name": "#%% md\n"
    }
   }
  },
  {
   "cell_type": "code",
   "execution_count": null,
   "outputs": [],
   "source": [
    "df_silver_trip = spark.read.format(\"delta\")\n",
    ".load(\"delta/silver_trip\")"
   ],
   "metadata": {
    "collapsed": false,
    "pycharm": {
     "name": "#%%\n"
    }
   }
  },
  {
   "cell_type": "markdown",
   "source": [
    "### Merge the trip, dimDate (twice), and dimRiders data frames based on the required columns\n"
   ],
   "metadata": {
    "collapsed": false,
    "pycharm": {
     "name": "#%% md\n"
    }
   }
  },
  {
   "cell_type": "code",
   "execution_count": null,
   "outputs": [],
   "source": [
    "df_fact_trip_batch = pd.merge(df_silver_trip[['trip_id', 'rideable_type', 'start_at', 'ended_at', 'start_station_id', 'end_station_id', 'rider_id']],\n",
    "                              calendar_df[['DateTime']],\n",
    "                     left_on='start_at', right_on='DateTime', how='inner')\n",
    "df_fact_trip_batch = pd.merge(df_fact_trip_batch, calendar_df[['DateTime']],\n",
    "                     left_on='ended_at', right_on='DateTime', how='inner')\n",
    "df_fact_trip_batch = pd.merge(df_fact_trip_batch, df_dim_riders[['rider_key', 'birthday']],\n",
    "                     left_on='rider_id', right_on='rider_key', how='inner')"
   ],
   "metadata": {
    "collapsed": false,
    "pycharm": {
     "name": "#%%\n"
    }
   }
  },
  {
   "cell_type": "markdown",
   "source": [
    "### Create Age Column"
   ],
   "metadata": {
    "collapsed": false,
    "pycharm": {
     "name": "#%% md\n"
    }
   }
  },
  {
   "cell_type": "code",
   "execution_count": null,
   "outputs": [],
   "source": [
    "# Method 1 , wrong ! gives wrong data for trips under 1 year, ### FIX ME\n",
    "\"\"\"\n",
    "df_fact_trip_batch['age'] = (df_fact_trip_batch['start_at'] - df_fact_trip_batch['birthday']).astype('<m8[Y]')\n",
    "\"\"\"\n",
    "# Method 2\n",
    "# Define a UDF to calculate age from birth year\n",
    "def calculate_age(birthday, start_at):\n",
    "    anniversary_date = datetime(start_at.year, birthday.month, birthday.day)\n",
    "    age = start_at.year - birthday.year - ((start_at < anniversary_date))\n",
    "    return age\n",
    "\n",
    "# Register the UDF\n",
    "calculate_age_udf = udf(lambda birthday, start_at: calculate_age(birthday, start_at), IntegerType())\n",
    "\n",
    "# Apply the UDF to the dob column and store the result in a new column called age\n",
    "df_fact_trip_batch = df_fact_trip_batch.withColumn('age', calculate_age_udf(df_fact_trip_batch.birthday, df_fact_trip_batch.start_at))"
   ],
   "metadata": {
    "collapsed": false,
    "pycharm": {
     "name": "#%%\n"
    }
   }
  },
  {
   "cell_type": "markdown",
   "source": [
    "### Create Trip Duration Column"
   ],
   "metadata": {
    "collapsed": false,
    "pycharm": {
     "name": "#%% md\n"
    }
   }
  },
  {
   "cell_type": "code",
   "execution_count": null,
   "outputs": [],
   "source": [
    "df_fact_trip_batch['trip_duration'] = df_fact_trip_batch['ended_at'] - df_fact_trip_batch['start_at']"
   ],
   "metadata": {
    "collapsed": false,
    "pycharm": {
     "name": "#%%\n"
    }
   }
  },
  {
   "cell_type": "markdown",
   "source": [
    "### Rename the 'DateTime' columns to 'start_date_id' and 'ended_date_id', and select the required columns:\n"
   ],
   "metadata": {
    "collapsed": false,
    "pycharm": {
     "name": "#%% md\n"
    }
   }
  },
  {
   "cell_type": "code",
   "execution_count": null,
   "outputs": [],
   "source": [
    "df_fact_trip_batch = df_fact_trip_batch.rename(columns={'DateTime_x': 'start_date_id', 'DateTime_y': 'ended_date_id'})\n",
    "df_fact_trip_batch = df_fact_trip_batch[['trip_id', 'rideable_type', 'start_date_id', 'ended_date_id', 'start_station_id', 'end_station_id', 'rider_id', 'age', 'trip_duration']]"
   ],
   "metadata": {
    "collapsed": false,
    "pycharm": {
     "name": "#%%\n"
    }
   }
  },
  {
   "cell_type": "markdown",
   "source": [
    "### Concat"
   ],
   "metadata": {
    "collapsed": false,
    "pycharm": {
     "name": "#%% md\n"
    }
   }
  },
  {
   "cell_type": "code",
   "execution_count": null,
   "outputs": [],
   "source": [
    "df_fact_trip = pd.concat([df_fact_trip, df_fact_trip_batch], ignore_index=True)"
   ],
   "metadata": {
    "collapsed": false,
    "pycharm": {
     "name": "#%%\n"
    }
   }
  },
  {
   "cell_type": "markdown",
   "source": [
    "### Set index back"
   ],
   "metadata": {
    "collapsed": false,
    "pycharm": {
     "name": "#%% md\n"
    }
   }
  },
  {
   "cell_type": "code",
   "execution_count": null,
   "outputs": [],
   "source": [
    "df_fact_trip = df_fact_trip.set_index('trip_key')"
   ],
   "metadata": {
    "collapsed": false,
    "pycharm": {
     "name": "#%%\n"
    }
   }
  },
  {
   "cell_type": "markdown",
   "source": [
    "## Payments Fact DF"
   ],
   "metadata": {
    "collapsed": false,
    "pycharm": {
     "name": "#%% md\n"
    }
   }
  },
  {
   "cell_type": "code",
   "execution_count": null,
   "outputs": [],
   "source": [
    "data_fact_payments = {\n",
    "    'payment_id': np.array([], dtype='int64'),\n",
    "    'date_id': np.array([], dtype='datetime64'),\n",
    "    'rider_id': np.array([], dtype='int64'),\n",
    "    'amount': np.array([], dtype='int64')\n",
    "}\n",
    "\n",
    "df_fact_payments = pd.DataFrame(data_fact_payments).set_index('payment_id')"
   ],
   "metadata": {
    "collapsed": false,
    "pycharm": {
     "name": "#%%\n"
    }
   }
  },
  {
   "cell_type": "markdown",
   "source": [
    "### Load Silver Data Source"
   ],
   "metadata": {
    "collapsed": false,
    "pycharm": {
     "name": "#%% md\n"
    }
   }
  },
  {
   "cell_type": "code",
   "execution_count": null,
   "outputs": [],
   "source": [
    "df_silver_payments = spark.read.format(\"delta\")\n",
    ".load(\"delta/silver_payments\")"
   ],
   "metadata": {
    "collapsed": false,
    "pycharm": {
     "name": "#%%\n"
    }
   }
  },
  {
   "cell_type": "markdown",
   "source": [
    "### Merge df_silver_payments with calendar_df"
   ],
   "metadata": {
    "collapsed": false,
    "pycharm": {
     "name": "#%% md\n"
    }
   }
  },
  {
   "cell_type": "code",
   "execution_count": null,
   "outputs": [],
   "source": [
    "df_fact_payments_batch = pd.merge(df_silver_payments[['payment_id', 'date', 'rider_id', 'amount']],\n",
    "                            calendar_df[['DateTime']],\n",
    "                            left_on='date', right_on='DateTime', how='inner')\n",
    "df_fact_payments_batch = df_fact_payments_batch[['payment_id', 'date', 'rider_id', 'amount', 'DateTime']]"
   ],
   "metadata": {
    "collapsed": false,
    "pycharm": {
     "name": "#%%\n"
    }
   }
  },
  {
   "cell_type": "markdown",
   "source": [
    "### Concatenate df_fact_payments_batch with df_fact_payments"
   ],
   "metadata": {
    "collapsed": false,
    "pycharm": {
     "name": "#%% md\n"
    }
   }
  },
  {
   "cell_type": "code",
   "execution_count": null,
   "outputs": [],
   "source": [
    "df_fact_payments = pd.concat([df_fact_payments, df_fact_payments_batch], ignore_index=True)"
   ],
   "metadata": {
    "collapsed": false,
    "pycharm": {
     "name": "#%%\n"
    }
   }
  },
  {
   "cell_type": "markdown",
   "source": [
    "### Set the index back"
   ],
   "metadata": {
    "collapsed": false,
    "pycharm": {
     "name": "#%% md\n"
    }
   }
  },
  {
   "cell_type": "code",
   "execution_count": null,
   "outputs": [],
   "source": [
    "df_fact_payments = df_fact_payments.set_index('payment_id')"
   ],
   "metadata": {
    "collapsed": false,
    "pycharm": {
     "name": "#%%\n"
    }
   }
  },
  {
   "cell_type": "markdown",
   "source": [],
   "metadata": {
    "collapsed": false,
    "pycharm": {
     "name": "#%% md\n"
    }
   }
  }
 ],
 "metadata": {
  "kernelspec": {
   "display_name": "Python 3",
   "language": "python",
   "name": "python3"
  },
  "language_info": {
   "codemirror_mode": {
    "name": "ipython",
    "version": 2
   },
   "file_extension": ".py",
   "mimetype": "text/x-python",
   "name": "python",
   "nbconvert_exporter": "python",
   "pygments_lexer": "ipython2",
   "version": "2.7.6"
  }
 },
 "nbformat": 4,
 "nbformat_minor": 0
}