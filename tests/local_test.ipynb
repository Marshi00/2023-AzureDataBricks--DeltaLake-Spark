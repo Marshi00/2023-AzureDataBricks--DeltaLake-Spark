{
 "cells": [
  {
   "cell_type": "markdown",
   "source": [
    "# Create Table"
   ],
   "metadata": {
    "collapsed": false,
    "pycharm": {
     "name": "#%% md\n"
    }
   }
  },
  {
   "cell_type": "code",
   "execution_count": null,
   "outputs": [],
   "source": [
    "#1\n",
    "df.write.format(\"delta\")\n",
    "    .mode(\"overwrite\")\n",
    "    .saveAsTable(\"LoanData\")\n",
    "#2\n",
    "spark.sql(\"CREATE TABLE LoanData(\"\n",
    "          \"loan_id BIGINT, \" +\n",
    "          \"paid_amnt DOUBLE\"\n",
    "          )\n",
    "#3\n",
    "spark.sql(\"CREATE TABLE LoanData USING DELTA LOCATION '/delta/data' \")"
   ],
   "metadata": {
    "collapsed": false,
    "pycharm": {
     "name": "#%%\n"
    }
   }
  },
  {
   "cell_type": "markdown",
   "source": [
    "# Read Data"
   ],
   "metadata": {
    "collapsed": false,
    "pycharm": {
     "name": "#%% md\n"
    }
   }
  },
  {
   "cell_type": "code",
   "execution_count": null,
   "outputs": [],
   "source": [
    "#csv\n",
    "df = spark.read.format(\"csv\")\n",
    "    .option(\"inferSchema\", \"false\") \\\n",
    "    .option(\"header\", \"true\") \\\n",
    "    .option(\"sep\", \",\") \\\n",
    "    .load(\"/data.csv\")\n",
    "#delta\n",
    "df = spark.read.format(\"delta\") \\\n",
    "    .load(\"data\")\n",
    "\n",
    "#Table\n",
    "#1\n",
    "spark.table(\"default.tablename\")\n",
    "#2\n",
    "spark.read.format(\"delta\").load(\"/delta/tablename\")"
   ],
   "metadata": {
    "collapsed": false,
    "pycharm": {
     "name": "#%%\n"
    }
   }
  },
  {
   "cell_type": "markdown",
   "source": [
    "# Write Data"
   ],
   "metadata": {
    "collapsed": false,
    "pycharm": {
     "name": "#%% md\n"
    }
   }
  },
  {
   "cell_type": "code",
   "execution_count": null,
   "outputs": [],
   "source": [
    "#Table\n",
    "df.write.format(\"delta\").mode(\"append\") \\\n",
    "    .saveAsTable(\"default.tablename\")\n",
    "\n",
    "#Delta file\n",
    "df.write.format(\"delta\").mode(\"append\")\n",
    "    .save(\"delta/tablename\")\n"
   ],
   "metadata": {
    "collapsed": false,
    "pycharm": {
     "name": "#%%\n"
    }
   }
  }
 ],
 "metadata": {
  "kernelspec": {
   "display_name": "Python 3",
   "language": "python",
   "name": "python3"
  },
  "language_info": {
   "codemirror_mode": {
    "name": "ipython",
    "version": 2
   },
   "file_extension": ".py",
   "mimetype": "text/x-python",
   "name": "python",
   "nbconvert_exporter": "python",
   "pygments_lexer": "ipython2",
   "version": "2.7.6"
  }
 },
 "nbformat": 4,
 "nbformat_minor": 0
}